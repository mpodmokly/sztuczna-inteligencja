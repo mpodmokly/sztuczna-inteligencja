{
   "cells": [
      {
         "cell_type": "markdown",
         "metadata": {
            "pycharm": {
               "name": "#%% md\n"
            }
         },
         "source": [
            "# Klasyfikacja niezbalansowana, klasyfikatory zespołowe i wyjaśnialna AI"
         ],
         "outputs": []
      },
      {
         "cell_type": "markdown",
         "metadata": {
            "pycharm": {
               "name": "#%% md\n"
            }
         },
         "source": [
            "## Wykorzystanie Google Colab\n",
            "\n",
            "Jeśli korzystasz z Google Colab skopiuj plik `feature_names.json` do katalogu głównego projektu.\n",
            "\n",
            "[![Open in Colab](https://colab.research.google.com/assets/colab-badge.svg)](https://colab.research.google.com/github/apohllo/sztuczna-inteligencja/blob/master/lab2/lab_2.ipynb)"
         ],
         "outputs": []
      },
      {
         "cell_type": "markdown",
         "metadata": {
            "editable": true,
            "pycharm": {
               "name": "#%% md\n"
            },
            "slideshow": {
               "slide_type": ""
            },
            "tags": []
         },
         "source": [
            "## Ładowanie i eksploracja danych"
         ],
         "outputs": []
      },
      {
         "cell_type": "markdown",
         "metadata": {
            "editable": true,
            "pycharm": {
               "name": "#%% md\n"
            },
            "slideshow": {
               "slide_type": ""
            },
            "tags": []
         },
         "source": [
            "W trakcie tych zajęć laboratoryjnych wykorzystamy zbiór danych [Polish companies bankruptcy](https://archive.ics.uci.edu/ml/datasets/Polish+companies+bankruptcy+data). Dotyczy on klasyfikacji, na podstawie danych z raportów finansowych, czy firma zbankrutuje w ciągu najbliższych kilku lat. Jest to zadanie szczególnie istotne dla banków, funduszy inwestycyjnych, firm ubezpieczeniowych itp. Zbiór zawiera 64 cechy obliczonych przez ekonomistów. Są one opisane na wspomnianej wcześniej stronie. Dotyczą one zysków firm, posiadanych zasobów, długów itp.\n",
            "\n",
            "Ściągnij i rozpakuj dane (`Data Folder` -> `data.zip`) do katalogu `data` obok tego notebooka. Znajduje się tam 5 plików w formacie `.arff`, wykorzystywanym głównie przez oprogramowanie Weka. Jest to program do wyposażony w graficzny interfejs użytkownika, który był często używany przez mniej techincznie obeznanych użytkowników. W Pythonie dane w tym formacie ładuje się  za pomocą bibliotek SciPy i Pandas.\n"
         ],
         "outputs": []
      },
      {
         "cell_type": "markdown",
         "metadata": {},
         "source": [
            "Jeśli korzystasz z Linuksa możesz skorzystać z poniższych poleceń do pobrania i rozpakowania tych plików."
         ],
         "outputs": []
      },
      {
         "cell_type": "code",
         "execution_count": null,
         "metadata": {
            "ExecuteTime": {
               "end_time": "2023-10-17T12:09:50.173669Z",
               "start_time": "2023-10-17T12:09:24.311939Z"
            },
            "editable": true,
            "slideshow": {
               "slide_type": ""
            },
            "tags": []
         },
         "outputs": [],
         "source": [
            "!mkdir -p data\n",
            "!wget https://archive.ics.uci.edu/static/public/365/polish+companies+bankruptcy+data.zip -O data/data.zip"
         ]
      },
      {
         "cell_type": "code",
         "execution_count": null,
         "metadata": {
            "ExecuteTime": {
               "end_time": "2023-10-17T12:10:04.017260Z",
               "start_time": "2023-10-17T12:09:57.831756Z"
            },
            "editable": true,
            "slideshow": {
               "slide_type": ""
            },
            "tags": []
         },
         "outputs": [],
         "source": [
            "!unzip data/data.zip -d data"
         ]
      },
      {
         "cell_type": "markdown",
         "metadata": {
            "editable": true,
            "slideshow": {
               "slide_type": ""
            },
            "tags": []
         },
         "source": [
            "\n",
            "W dalszej części laboratorium wykorzystamy plik `3year.arff`, w którym na podstawie danych finansowych firmy po 3 latach monitorowania chcemy przewidywać, czy firma zbankrutuje w ciągu najbliższych 3 lat. Jest to dość realistyczny horyzont czasowy.\n",
            "\n",
            "Dodatkowo w pliku `feature_names.json` znajdują się nazwy cech. Nazwy są bardzo długie, więc póki co nie będziemy z nich korzystać."
         ],
         "outputs": []
      },
      {
         "cell_type": "code",
         "execution_count": null,
         "metadata": {
            "editable": true,
            "pycharm": {
               "name": "#%%\n"
            },
            "slideshow": {
               "slide_type": ""
            },
            "tags": []
         },
         "outputs": [],
         "source": [
            "import json\n",
            "import os\n",
            "\n",
            "from scipy.io import arff\n",
            "import pandas as pd\n",
            "\n",
            "data = arff.loadarff(os.path.join(\"data\", \"3year.arff\"))\n",
            "\n",
            "with open(\"feature_names.json\") as file:\n",
            "    feature_names = json.load(file)\n",
            "\n",
            "X = pd.DataFrame(data[0])"
         ]
      },
      {
         "cell_type": "markdown",
         "metadata": {
            "pycharm": {
               "name": "#%% md\n"
            }
         },
         "source": [
            "Przyjrzyjmy się teraz naszym danym."
         ],
         "outputs": []
      },
      {
         "cell_type": "code",
         "execution_count": null,
         "metadata": {
            "editable": true,
            "pycharm": {
               "name": "#%%\n"
            },
            "slideshow": {
               "slide_type": ""
            },
            "tags": []
         },
         "outputs": [],
         "source": [
            "X.head()"
         ]
      },
      {
         "cell_type": "code",
         "execution_count": null,
         "metadata": {
            "editable": true,
            "pycharm": {
               "name": "#%%\n"
            },
            "slideshow": {
               "slide_type": ""
            },
            "tags": []
         },
         "outputs": [],
         "source": [
            "X.dtypes"
         ]
      },
      {
         "cell_type": "code",
         "execution_count": null,
         "metadata": {
            "pycharm": {
               "name": "#%%\n"
            }
         },
         "outputs": [],
         "source": [
            "X.describe()"
         ]
      },
      {
         "cell_type": "code",
         "execution_count": null,
         "metadata": {
            "editable": true,
            "slideshow": {
               "slide_type": ""
            },
            "tags": []
         },
         "outputs": [],
         "source": [
            "feature_names"
         ]
      },
      {
         "cell_type": "markdown",
         "metadata": {
            "editable": true,
            "pycharm": {
               "name": "#%% md\n"
            },
            "slideshow": {
               "slide_type": ""
            },
            "tags": []
         },
         "source": [
            "DataFrame zawiera 64 atrybuty numeryczne o zróżnicowanych rozkładach wartości oraz kolumnę `\"class\"` typu `bytes` z klasami 0 i 1. Wiemy, że mamy do czynienia z klasyfikacją binarną - klasa 0 to brak bankructwa, klasa 1 to bankructwo w ciągu najbliższych 3 lat. Przyjrzyjmy się dokładniej naszym danym."
         ],
         "outputs": []
      },
      {
         "cell_type": "markdown",
         "metadata": {
            "editable": true,
            "slideshow": {
               "slide_type": ""
            },
            "tags": [
               "ex"
            ]
         },
         "source": [
            "### Zadanie 1 (0.5 punktu)"
         ],
         "outputs": []
      },
      {
         "cell_type": "markdown",
         "metadata": {
            "editable": true,
            "slideshow": {
               "slide_type": ""
            },
            "tags": [
               "ex"
            ]
         },
         "source": [
            "1. Wyodrębnij klasy jako osobną zmienną typu `pd.Series`, usuwając je z macierzy `X`. Przekonwertuj je na liczby całkowite.\n",
            "2. Narysuj wykres słupkowy częstotliwości obu klas w całym zbiorze. Upewnij się, że na osi X są numery lub nazwy klas, a oś Y ma wartości w procentach.\n",
            "\n",
            "**Uwaga:** sugerowane jest użycie `if` w podpunkcie 1, żeby można było tę komórkę bezpiecznie odpalić kilka razy."
         ],
         "outputs": []
      },
      {
         "cell_type": "code",
         "execution_count": null,
         "metadata": {
            "editable": true,
            "pycharm": {
               "name": "#%%\n"
            },
            "slideshow": {
               "slide_type": ""
            },
            "tags": [
               "ex"
            ]
         },
         "outputs": [],
         "source": [
            "# your_code\n"
         ]
      },
      {
         "cell_type": "code",
         "execution_count": null,
         "metadata": {
            "editable": true,
            "slideshow": {
               "slide_type": ""
            },
            "tags": [
               "ex"
            ]
         },
         "outputs": [],
         "source": [
            "assert \"class\" not in X.columns\n",
            "\n",
            "print(\"Solution is correct!\")"
         ]
      },
      {
         "cell_type": "markdown",
         "metadata": {
            "editable": true,
            "pycharm": {
               "name": "#%% md\n"
            },
            "slideshow": {
               "slide_type": ""
            },
            "tags": []
         },
         "source": [
            "Jak widać, klasa pozytywna jest w znacznej mniejszości, stanowi poniżej 5% zbioru. Taki problem nazywamy **klasyfikacją niezbalansowaną (imbalanced classification)**. Mamy tu **klasę dominującą (majority class)** oraz **klasę mniejszościową (minority class)**. Pechowo prawie zawsze interesuje nas ta druga, bo klasa większościowa nie niesie najczęściej żadnych interesujących informacji. Przykładowo, 99% badanych jest zdrowych, a 1% ma niewykryty nowotwór - z oczywistych przyczyn chcemy wykrywać właśnie sytuację rzadką (problem diagnozy jako klasyfikacji jest zasadniczo zawsze niezbalansowany). W dalszej części laboratorium poznamy szereg konsekwencji tego zjawiska i metody na radzenie sobie z nim.\n",
            "\n",
            "Mamy sporo cech w naszym zbiorze, wszystkie są numeryczne. Ciekawe, czy mają wartości brakujące, a jeśli tak, to ile? Policzymy to z pomocą biblioteki Pandas i metody `.isna()`. Domyślnie operuje ona na kolumnach, jak większość metod w tej bibliotece. Sumę wartości per kolumna zwróci nam metoda `.sum()`. Jeżeli podzielimy to przez liczbę wierszy `len(X)`, to otrzymamy ułamek wartości brakujących w każdej kolumnie.\n",
            "\n",
            "Biblioteka Pandas potrafi też stworzyć wykres, z pomocą funkcji np. `.plot.hist()` czy `.plot.bar()`. Przyjmują one opcje formatowania wykresu z których korzysta biblioteka `matplotlib`."
         ],
         "outputs": []
      },
      {
         "cell_type": "code",
         "execution_count": null,
         "metadata": {
            "editable": true,
            "pycharm": {
               "name": "#%%\n"
            },
            "slideshow": {
               "slide_type": ""
            },
            "tags": []
         },
         "outputs": [],
         "source": [
            "na_perc = X.isna().sum() / len(X)\n",
            "na_perc.plot.bar(title=\"Fraction of missing values per column\", figsize=(15, 5))"
         ]
      },
      {
         "cell_type": "markdown",
         "metadata": {
            "editable": true,
            "pycharm": {
               "name": "#%% md\n"
            },
            "slideshow": {
               "slide_type": ""
            },
            "tags": [
               "ex"
            ]
         },
         "source": [
            "Jak widać, cecha 37 ma bardzo dużo wartości brakujących, podczas gdy pozostałe cechy mają raczej niewielką ich liczbę. W takiej sytuacji najlepiej usunąć tę cechę, a pozostałe wartości brakujące **uzupełnić** (co realizowaliśmy już poprzednio). Pamiętaj, że imputacji dokonuje się dopiero po podziale na zbiór treningowy i testowy! W przeciwnym wypadku wykorzystywalibyśmy dane ze zbioru testowego, co sztucznie zawyżyłoby wyniki. Jest to błąd metodologiczny - **wyciek danych (data leakage)**.\n",
            "\n",
            "Podział na zbiór treningowy i testowy to pierwszy moment, kiedy niezbalansowanie danych nam przeszkadza. Jeżeli zrobimy to czysto losowo, to jest spora szansa, że w zbiorze testowym będzie tylko klasa negatywna - w końcu jest jej aż >95%. Dlatego wykorzystuje się **próbkowanie ze stratyfikacją (stratified sampling)**, dzięki któremu proporcje klas w zbiorze przed podziałem oraz obu zbiorach po podziale są takie same."
         ],
         "outputs": []
      },
      {
         "cell_type": "markdown",
         "metadata": {
            "editable": true,
            "slideshow": {
               "slide_type": ""
            },
            "tags": [
               "ex"
            ]
         },
         "source": [
            "### Zadanie 2 (0.75 punktu)"
         ],
         "outputs": []
      },
      {
         "cell_type": "markdown",
         "metadata": {
            "editable": true,
            "slideshow": {
               "slide_type": ""
            },
            "tags": [
               "ex"
            ]
         },
         "source": [
            "1. Usuń kolumnę `\"Attr37\"` ze zbioru danych.\n",
            "2. Dokonaj podziału zbioru na treningowy i testowy w proporcjach 80%-20%, z przemieszaniem (`shuffle`), ze stratyfikacją, wykorzystując funkcję `train_test_split` ze Scikit-learn'a.\n",
            "3. Uzupełnij wartości brakujące średnią wartością cechy z pomocą klasy `SimpleImputer`.\n",
            "\n",
            "**Uwaga:**\n",
            "- jak wcześniej, sugerowane jest użycie `if` w podpunkcie 1,\n",
            "- pamiętaj o uwzględnieniu stałego ziarna `random_state=0`, aby wyniki były **reprodukowalne (reproducible)**,\n",
            "- `stratify` oczekuje wektora klas,\n",
            "- wartości do imputacji trzeba wyestymować na zbiorze treningowym (`.fit()`), a potem zastosować te nauczone wartości na obu podzbiorach (treningowym i testowym)."
         ],
         "outputs": []
      },
      {
         "cell_type": "code",
         "execution_count": null,
         "metadata": {
            "editable": true,
            "pycharm": {
               "name": "#%%\n"
            },
            "slideshow": {
               "slide_type": ""
            },
            "tags": [
               "ex"
            ]
         },
         "outputs": [],
         "source": [
            "# your_code\n"
         ]
      },
      {
         "cell_type": "code",
         "execution_count": null,
         "metadata": {
            "editable": true,
            "slideshow": {
               "slide_type": ""
            },
            "tags": [
               "ex"
            ]
         },
         "outputs": [],
         "source": [
            "import numpy as np\n",
            "\n",
            "assert \"Attr37\" not in X.columns\n",
            "assert not np.any(np.isnan(X_train))\n",
            "assert not np.any(np.isnan(X_test))\n",
            "\n",
            "print(\"Solution is correct!\")"
         ]
      },
      {
         "cell_type": "markdown",
         "metadata": {
            "editable": true,
            "pycharm": {
               "name": "#%% md\n"
            },
            "slideshow": {
               "slide_type": ""
            },
            "tags": []
         },
         "source": [
            "## Prosta klasyfikacja"
         ],
         "outputs": []
      },
      {
         "cell_type": "markdown",
         "metadata": {
            "editable": true,
            "pycharm": {
               "name": "#%% md\n"
            },
            "slideshow": {
               "slide_type": ""
            },
            "tags": []
         },
         "source": [
            "Zanim przejdzie się do modeli bardziej złożonych, trzeba najpierw wypróbować coś prostego, żeby mieć punkt odniesienia. Tworzy się dlatego **modele bazowe (baselines)**.\n",
            "\n",
            "W naszym przypadku będzie to **drzewo decyzyjne (decision tree)**. Jest to drzewo binarne z decyzjami if-else, prowadzącymi do klasyfikacji danego przykładu w liściu. Każdy podział w drzewie to pytanie postaci \"Czy wartość cechy X jest większa lub równa Y?\". Trening takiego drzewa to prosty algorytm zachłanny, bardzo przypomina budowę zwykłego drzewa binarnego. Ma on następujące kroki dla każdego węzła tego drzewa:\n",
            "1. Sprawdź po kolei wszystkie możliwe punkty podziału, czyli każdą (unikalną) wartość każdej cechy, po kolei.\n",
            "2. Dla każdego przypadku podziel zbiór na 2 części: niespełniający warunku (lewy potomek) i spełniający warunek (prawy potomek).\n",
            "3. Oblicz jakość podziału według wybranej funkcji jakości. Im lepiej warunek rozdziela klasy od siebie (imbardziej zunifikowane są węzły-dzieci), tym wyższa jakość podziału. Innymi słowy, chcemy, żeby do jednego dziecka trafiła jedna klasa, a do drugiego druga.\n",
            "4. Wybierz podział o najwyższej jakości.\n",
            "\n",
            "Taki algorytm wykonuje się rekurencyjnie, aż otrzymamy węzeł czysty (pure leaf), czyli taki, w którym są przykłady z tylko jednej klasy. Typowo wykorzystywaną funkcją jakości (kryterium podziału) jest entropia Shannona - im niższa entropia, tym bardziej jednolite są klasy w węźle (czyli wybieramy podział o najniższej entropii).\n",
            "\n",
            "Powyższe wytłumaczenie algorytmu jest oczywiście nieformalne i dość skrótowe. Doskonałe tłumaczenie, z interaktywnymi wizualizacjami, dostępne jest [tutaj](https://mlu-explain.github.io/decision-tree/). W formie filmów - [tutaj](https://www.youtube.com/watch?v=ZVR2Way4nwQ) oraz [tutaj](https://www.youtube.com/watch?v=_L39rN6gz7Y). Dla drzew do regresji - [ten film](https://www.youtube.com/watch?v=g9c66TUylZ4).\n",
            "\n",
            "<img src = https://miro.medium.com/max/1838/1*WyTsLwcAXivFCgNtF0OPqA.png width = \"642\" height = \"451\" >\n",
            "\n",
            "Warto zauważyć, że taka konstrukcja prowadzi zawsze do overfittingu. Otrzymanie liści czystych oznacza, że mamy 100% dokładności na zbiorze treningowym, czyli perfekcyjnie przeuczony klasyfikator. W związku z tym nasze predykcje mają bardzo niski bias, ale bardzo dużą wariancję. Pomimo tego drzewa potrafią dać bardzo przyzwoite wyniki, a w celu ich poprawy można je regularyzować, aby mieć mniej \"rozrośnięte\" drzewo. [Film dla zainteresowanych](https://www.youtube.com/watch?v=D0efHEJsfHo).\n"
         ],
         "outputs": []
      },
      {
         "cell_type": "markdown",
         "metadata": {
            "editable": true,
            "slideshow": {
               "slide_type": ""
            },
            "tags": []
         },
         "source": [
            "Mając wytrenowany klasyfikator, trzeba oczywiście sprawdzić, jak dobrze on sobie radzi. Tu natrafiamy na kolejny problem z klasyfikacją niezbalansowaną - zwykła celność (accuracy) na pewno nie zadziała! Typowo wykorzystuje się AUC, nazywane też AUROC (Area Under Receiver Operating Characteristic), bo metryka ta uwzględnia niezbalansowanie klas. \n",
            "\n",
            "Bardzo dobre i bardziej szczegółowe wytłumaczenie, z interktywnymi wizualizacjami, można znaleźć [tutaj](https://mlu-explain.github.io/roc-auc/). Dla preferujących filmy - [tutaj](https://www.youtube.com/watch?v=4jRBRDbJemM).\n",
            "\n",
            "Co ważne, z definicji AUROC, trzeba w niej użyć **prawdopodobieństw klasy pozytywnej** (klasy 1). W Scikit-learn'ie zwraca je metoda `.predict_proba()`, która w kolejnych kolumnach zwraca prawdopodobieństwa poszczególnych klas."
         ],
         "outputs": []
      },
      {
         "cell_type": "markdown",
         "metadata": {
            "editable": true,
            "slideshow": {
               "slide_type": ""
            },
            "tags": [
               "ex"
            ]
         },
         "source": [
            "### Zadanie 3 (0.75 punktu)"
         ],
         "outputs": []
      },
      {
         "cell_type": "markdown",
         "metadata": {
            "editable": true,
            "slideshow": {
               "slide_type": ""
            },
            "tags": [
               "ex"
            ]
         },
         "source": [
            "1. Wytrenuj klasyfikator drzewa decyzyjnego (klasa `DecisionTreeClassifier`). Użyj entropii jako kryterium podziału.\n",
            "2. Oblicz i wypisz AUROC na zbiorze testowym dla drzewa decyzyjnego (funkcja `roc_auc_score`).\n",
            "3. Skomentuj wynik - czy twoim zdaniem osiągnięty AUROC to dużo czy mało, biorąc pod uwagę możliwy zakres wartości tej metryki?\n",
            "\n",
            "**Uwaga:**\n",
            "- pamiętaj o użyciu stałego ziarna `random_state=0`,\n",
            "- jeżeli drzewo nie wyświetli się samo, użyj `plt.show()` z Matplotliba,\n",
            "- pamiętaj o tym, żeby przekazać do metryki AUROC **prawdopodobieństwa klasy pozytywnej**, a nie binarne predykcje!"
         ],
         "outputs": []
      },
      {
         "cell_type": "code",
         "execution_count": null,
         "metadata": {
            "editable": true,
            "pycharm": {
               "name": "#%%\n"
            },
            "slideshow": {
               "slide_type": ""
            },
            "tags": [
               "ex"
            ]
         },
         "outputs": [],
         "source": [
            "# your_code\n"
         ]
      },
      {
         "cell_type": "code",
         "execution_count": null,
         "metadata": {
            "editable": true,
            "slideshow": {
               "slide_type": ""
            },
            "tags": [
               "ex"
            ]
         },
         "outputs": [],
         "source": [
            "assert auroc > 0.7\n",
            "\n",
            "print(\"Solution is correct!\")"
         ]
      },
      {
         "cell_type": "markdown",
         "metadata": {
            "editable": true,
            "pycharm": {
               "name": "#%% md\n"
            },
            "slideshow": {
               "slide_type": ""
            },
            "tags": [
               "ex"
            ]
         },
         "source": [
            "// skomentuj tutaj"
         ],
         "outputs": []
      },
      {
         "cell_type": "markdown",
         "metadata": {
            "editable": true,
            "pycharm": {
               "name": "#%% md\n"
            },
            "slideshow": {
               "slide_type": ""
            },
            "tags": []
         },
         "source": [
            "## Uczenie zespołowe, bagging, lasy losowe"
         ],
         "outputs": []
      },
      {
         "cell_type": "markdown",
         "metadata": {
            "editable": true,
            "pycharm": {
               "name": "#%% md\n"
            },
            "slideshow": {
               "slide_type": ""
            },
            "tags": []
         },
         "source": [
            "Bardzo często wiele klasyfikatorów działających razem daje lepsze wyniki niż pojedynczy klasyfikator. Takie podejście nazywa się **uczeniem zespołowym (ensemble learning)**. Istnieje wiele różnych podejść do tworzenia takich klasyfikatorów złożonych (ensemble classifiers).\n",
            "\n",
            "Podstawową metodą jest **bagging**:\n",
            "1. Wylosuj N (np. 100, 500, ...) próbek bootstrapowych (bootstrap sample) ze zbioru treningowego. Próbka bootstrapowa to po prostu losowanie ze zwracaniem, gdzie dla wejściowego zbioru z M wierszami losujemy M próbek (czyli tyle ile było w początkowym zbiorze), spośród N wylosowanych próbek. Będą tam powtórzenia, średnio nawet 1/3, ale się tym nie przejmujemy.\n",
            "2. Wytrenuj klasyfikator bazowy (base classifier) na każdej z próbek bootstrapowych.\n",
            "3. Stwórz klasyfikator złożony poprzez uśrednienie predykcji każdego z klasyfikatorów bazowych.\n",
            "\n",
            "<img src = https://upload.wikimedia.org/wikipedia/commons/thumb/c/c8/Ensemble_Bagging.svg/440px-Ensemble_Bagging.svg.png width = \"440\" height = \"248\" >\n",
            "\n",
            "Typowo klasyfikatory bazowe są bardzo proste, żeby można było szybko wytrenować ich dużą liczbę. Prawie zawsze używa się do tego drzew decyzyjnych. Dla klasyfikacji uśrednienie wyników polega na głosowaniu - dla nowej próbki każdy klasyfikator bazowy ją klasyfikuje, sumuje się głosy na każdą klasę i zwraca najbardziej popularną decyzję.\n",
            "\n",
            "Taki sposób uczenia zmniejsza wariancję klasyfikatora. Intuicyjnie, skoro coś uśredniamy, to siłą rzeczy będzie mniej rozrzucone, bo dużo ciężej będzie osiągnąć jakąś skrajność. Redukuje to też overfitting.\n",
            "\n",
            "**Lasy losowe (Random Forests)** to ulepszenie baggingu. Zaobserwowano, że pomimo losowania próbek bootstrapowych, w baggingu poszczególne drzewa są do siebie bardzo podobne (są skorelowane), używają podobnych cech ze zbioru. My natomiast chcemy zróżnicowania, żeby mieć niski bias - redukcją wariancji zajmuje się uśrednianie. Dlatego używa się metody losowej podprzestrzeni (random subspace method) - przy każdym podziale drzewa losuje się tylko pewien podzbiór cech, których możemy użyć do tego podziału. Typowo jest to pierwiastek kwadratowy z ogólnej liczby cech.\n",
            "\n",
            "Zarówno bagging, jak i lasy losowe mają dodatkowo bardzo przyjemną własność - są mało czułe na hiperparametry, szczególnie na liczbę drzew. W praktyce wystarczy ustawić 500 czy 1000 drzew i klasyfikator będzie dobrze działać. Dalsze dostrajanie hiperparametrów może jeszcze trochę poprawić wyniki, ale nie tak bardzo, jak przy innych klasyfikatorach. Jest to zatem doskonały wybór domyślny, kiedy nie wiemy, jakiego klasyfikatora użyć.\n",
            "\n",
            "Dodatkowo jest to problem **embarassingly parallel** - drzewa można trenować w 100% równolegle, dzięki czemu jest to dodatkowo wydajna obliczeniowo metoda.\n",
            "\n",
            "Głębsze wytłumaczenie, z interaktywnymi wizualizacjami, można znaleźć [tutaj](https://mlu-explain.github.io/random-forest/). Dobrze tłumaczy je też [ta seria filmów](https://www.youtube.com/watch?v=J4Wdy0Wc_xQ&t=480s)."
         ],
         "outputs": []
      },
      {
         "cell_type": "markdown",
         "metadata": {
            "editable": true,
            "slideshow": {
               "slide_type": ""
            },
            "tags": [
               "ex"
            ]
         },
         "source": [
            "### Zadanie 4 (0.5 punktu)"
         ],
         "outputs": []
      },
      {
         "cell_type": "markdown",
         "metadata": {
            "editable": true,
            "slideshow": {
               "slide_type": ""
            },
            "tags": [
               "ex"
            ]
         },
         "source": [
            "1. Wytrenuj klasyfikator Random Forest (klasa `RandomForestClassifier`). Użyj 500 drzew i entropii jako kryterium podziału.\n",
            "2. Sprawdź AUROC na zbiorze testowym.\n",
            "3. Skomentuj wynik w odniesieniu do drzewa decyzyjnego.\n",
            "\n",
            "**Uwaga:** pamiętaj o ustawieniu `random_state=0`. Dla przyspieszenia ustaw `n_jobs=-1` (użyje tylu procesów, ile masz dostępnych rdzeni procesora). Pamiętaj też o przekazaniu prawdopodobieństw do metryki AUROC."
         ],
         "outputs": []
      },
      {
         "cell_type": "code",
         "execution_count": null,
         "metadata": {
            "editable": true,
            "pycharm": {
               "name": "#%%\n"
            },
            "slideshow": {
               "slide_type": ""
            },
            "tags": [
               "ex"
            ]
         },
         "outputs": [],
         "source": [
            "# your_code\n"
         ]
      },
      {
         "cell_type": "code",
         "execution_count": null,
         "metadata": {
            "editable": true,
            "slideshow": {
               "slide_type": ""
            },
            "tags": [
               "ex"
            ]
         },
         "outputs": [],
         "source": [
            "assert auroc > 0.85\n",
            "\n",
            "print(\"Solution is correct!\")"
         ]
      },
      {
         "cell_type": "markdown",
         "metadata": {
            "editable": true,
            "pycharm": {
               "name": "#%% md\n"
            },
            "slideshow": {
               "slide_type": ""
            },
            "tags": [
               "ex"
            ]
         },
         "source": [
            "// skomentuj tutaj"
         ],
         "outputs": []
      },
      {
         "cell_type": "markdown",
         "metadata": {
            "editable": true,
            "pycharm": {
               "name": "#%% md\n"
            },
            "slideshow": {
               "slide_type": ""
            },
            "tags": []
         },
         "source": [
            "Jak zobaczymy poniżej, wynik ten możemy jednak jeszcze ulepszyć!"
         ],
         "outputs": []
      },
      {
         "cell_type": "markdown",
         "metadata": {
            "editable": true,
            "pycharm": {
               "name": "#%% md\n"
            },
            "slideshow": {
               "slide_type": ""
            },
            "tags": []
         },
         "source": [
            "## Oversampling, SMOTE"
         ],
         "outputs": []
      },
      {
         "cell_type": "markdown",
         "metadata": {
            "editable": true,
            "pycharm": {
               "name": "#%% md\n"
            },
            "slideshow": {
               "slide_type": ""
            },
            "tags": []
         },
         "source": [
            "W przypadku zbiorów niezbalansowanych można dokonać **balansowania (balancing)** zbioru. Są tutaj 2 metody:\n",
            "- **undersampling**: usunięcie przykładów z klasy dominującej\n",
            "- **oversampling**: wygenerowanie dodatkowych przykładów z klasy mniejszościowej\n",
            "\n",
            "Undersampling działa dobrze, kiedy niezbalansowanie jest niewielkie, a zbiór jest duży (możemy sobie pozwolić na usunięcie jego części). Oversampling typowo daje lepsze wyniki, istnieją dla niego bardzo efektywne algorytmy. W przypadku bardzo dużego niezbalansowania można zrobić oba.\n",
            "\n",
            "Typowym algorytmem oversamplingu jest **SMOTE (Synthetic Minority Oversampling TEchnique)**. Działa on następująco:\n",
            "1. Idź po kolei po przykładach z klasy mniejszościowej.\n",
            "2. Znajdź `k` najbliższych przykładów dla próbki, typowo `k=5`.\n",
            "3. Wylosuj tylu sąsiadów, ile trzeba do oversamplingu, np. jeżeli chcemy zwiększyć klasę mniejszościową 3 razy (o 200%), to wylosuj 2 z 5 sąsiadów.\n",
            "4. Dla każdego z wylosowanych sąsiadów wylosuj punkt na linii prostej między próbką a tym sąsiadem. Dodaj ten punkt jako nową próbkę do zbioru.\n",
            "\n",
            "<img src = https://miro.medium.com/max/734/1*yRumRhn89acByodBz0H7oA.png >\n",
            "\n",
            "Taka technika generuje przykłady bardzo podobne do prawdziwych, więc nie zaburza zbioru, a jednocześnie pomaga klasyfikatorom, bo \"zagęszcza\" przestrzeń, w której znajduje się klasa pozytywna.\n",
            "\n",
            "Algorytm SMOTE, jego warianty i inne algorytmy dla problemów niezbalansowanych implementuje biblioteka Imbalanced-learn."
         ],
         "outputs": []
      },
      {
         "cell_type": "markdown",
         "metadata": {
            "editable": true,
            "execution": {
               "iopub.execute_input": "2024-10-07T13:36:43.138444Z",
               "iopub.status.busy": "2024-10-07T13:36:43.137348Z",
               "iopub.status.idle": "2024-10-07T13:36:43.147546Z",
               "shell.execute_reply": "2024-10-07T13:36:43.144776Z",
               "shell.execute_reply.started": "2024-10-07T13:36:43.138374Z"
            },
            "slideshow": {
               "slide_type": ""
            },
            "tags": [
               "ex"
            ]
         },
         "source": [
            "### Zadanie 5 (1 punkt)"
         ],
         "outputs": []
      },
      {
         "cell_type": "markdown",
         "metadata": {
            "editable": true,
            "slideshow": {
               "slide_type": ""
            },
            "tags": [
               "ex"
            ]
         },
         "source": [
            "Użyj SMOTE do zbalansowania zbioru treningowego (nie używa się go na zbiorze testowym!). Implementuje to klasa `SMOTE`. Wytrenuj drzewo decyzyjne oraz las losowy na zbalansowanym zbiorze, użyj tych samych argumentów co wcześniej. Pamiętaj o użyciu wszędzie stałego ziarna `random_state=0` oraz przekazaniu prawdopodobieństw do AUROC. Skomentuj wynik.\n",
            "\n",
            "Wartość ROC drzewa decyzyjnego przypisz do zmiennej `tree_roc`, a lasu do `forest_roc`."
         ],
         "outputs": []
      },
      {
         "cell_type": "code",
         "execution_count": null,
         "metadata": {
            "editable": true,
            "pycharm": {
               "name": "#%%\n"
            },
            "slideshow": {
               "slide_type": ""
            },
            "tags": [
               "ex"
            ]
         },
         "outputs": [],
         "source": [
            "# your_code\n"
         ]
      },
      {
         "cell_type": "code",
         "execution_count": null,
         "metadata": {
            "editable": true,
            "slideshow": {
               "slide_type": ""
            },
            "tags": [
               "ex"
            ]
         },
         "outputs": [],
         "source": [
            "assert 0.6 < tree_roc < 0.8\n",
            "assert 0.8 < forest_roc < 0.95\n",
            "\n",
            "print(\"Solution is correct!\")"
         ]
      },
      {
         "cell_type": "markdown",
         "metadata": {
            "editable": true,
            "pycharm": {
               "name": "#%% md\n"
            },
            "slideshow": {
               "slide_type": ""
            },
            "tags": [
               "ex"
            ]
         },
         "source": [
            "// skomentuj tutaj"
         ],
         "outputs": []
      },
      {
         "cell_type": "markdown",
         "metadata": {
            "editable": true,
            "pycharm": {
               "name": "#%% md\n"
            },
            "slideshow": {
               "slide_type": ""
            },
            "tags": []
         },
         "source": [
            "W dalszej części laboratorium używaj zbioru po zastosowaniu SMOTE do treningu klasyfikatorów."
         ],
         "outputs": []
      },
      {
         "cell_type": "markdown",
         "metadata": {
            "editable": true,
            "pycharm": {
               "name": "#%% md\n"
            },
            "slideshow": {
               "slide_type": ""
            },
            "tags": []
         },
         "source": [
            "## Dostrajanie (tuning) hiperparametrów"
         ],
         "outputs": []
      },
      {
         "cell_type": "markdown",
         "metadata": {
            "editable": true,
            "pycharm": {
               "name": "#%% md\n"
            },
            "slideshow": {
               "slide_type": ""
            },
            "tags": []
         },
         "source": [
            "Lasy losowe są stosunkowo mało czułe na dobór hiperparametrów - i dobrze, bo mają ich dość dużo. Można zawsze jednak spróbować to zrobić, a w szczególności najważniejszy jest parametr `max_features`, oznaczający, ile cech losować przy każdym podziale drzewa. Typowo sprawdza się wartości z zakresu `[0.1, 0.5]`.\n",
            "\n",
            "W kwestii szybkości, kiedy dostrajamy hiperparametry, to mniej oczywiste jest, jakiego `n_jobs` użyć. Z jednej strony klasyfikator może być trenowany na wielu procesach, a z drugiej można trenować wiele klasyfikatorów na różnych zestawach hiperparametrów równolegle. Jeżeli nasz klasyfikator bardzo dobrze się uwspółbieżnia (jak Random Forest), to można dać mu nawet wszystkie rdzenie, a za to wypróbowywać kolejne zestawy hiperparametrów sekwencyjnie. Warto ustawić parametr `verbose` na 2 lub więcej, żeby dostać logi podczas długiego treningu i mierzyć czas wykonania. W praktyce ustawia się to metodą prób i błędów."
         ],
         "outputs": []
      },
      {
         "cell_type": "markdown",
         "metadata": {
            "editable": true,
            "slideshow": {
               "slide_type": ""
            },
            "tags": [
               "ex"
            ]
         },
         "source": [
            "### Zadanie 6 (1 punkt)"
         ],
         "outputs": []
      },
      {
         "cell_type": "markdown",
         "metadata": {
            "editable": true,
            "slideshow": {
               "slide_type": ""
            },
            "tags": [
               "ex"
            ]
         },
         "source": [
            "1. Dobierz wartość hiperparametru `max_features`:\n",
            "   - użyj grid search z 5 foldami,\n",
            "   - wypróbuj wartości `[0.1, 0.2, 0.3, 0.4, 0.5]`,\n",
            "   - wybierz model o najwyższym AUROC (argument `scoring`).\n",
            "2. Sprawdź, jaka była optymalna wartość `max_features`. Jest to atrybut wytrenowanego `GridSearchCV`.\n",
            "3. Skomentuj wynik. Czy warto było poświęcić czas i zasoby na tę procedurę?\n",
            "4. Wynik przypisz do zmiennej `auroc`.\n",
            "\n",
            "**Uwaga:**\n",
            "- pamiętaj, żeby jako estymatora przekazanego do grid search'a użyć instancji Random Forest, która ma już ustawione `random_state=0` i `n_jobs`"
         ],
         "outputs": []
      },
      {
         "cell_type": "code",
         "execution_count": null,
         "metadata": {
            "editable": true,
            "pycharm": {
               "is_executing": true,
               "name": "#%%\n"
            },
            "slideshow": {
               "slide_type": ""
            },
            "tags": [
               "ex"
            ]
         },
         "outputs": [],
         "source": [
            "# your_code\n"
         ]
      },
      {
         "cell_type": "code",
         "execution_count": null,
         "metadata": {
            "editable": true,
            "slideshow": {
               "slide_type": ""
            },
            "tags": [
               "ex"
            ]
         },
         "outputs": [],
         "source": [
            "assert 0.9 <= auroc <= 0.95\n",
            "\n",
            "print(\"Solution is correct!\")"
         ]
      },
      {
         "cell_type": "markdown",
         "metadata": {
            "editable": true,
            "pycharm": {
               "name": "#%% md\n"
            },
            "slideshow": {
               "slide_type": ""
            },
            "tags": [
               "ex"
            ]
         },
         "source": [
            "// skomentuj tutaj"
         ],
         "outputs": []
      },
      {
         "cell_type": "markdown",
         "metadata": {
            "editable": true,
            "pycharm": {
               "name": "#%% md\n"
            },
            "slideshow": {
               "slide_type": ""
            },
            "tags": []
         },
         "source": [
            "W praktycznych zastosowaniach osoba trenująca model wedle własnego uznana, doświadczenia, dostępnego czasu i zasobów wybiera, czy dostrajać hiperparametry i w jak szerokim zakresie. Dla Random Forest na szczęście często może nie być znaczącej potrzeby i za to go lubimy :)"
         ],
         "outputs": []
      },
      {
         "cell_type": "markdown",
         "metadata": {
            "editable": true,
            "pycharm": {
               "name": "#%% md\n"
            },
            "slideshow": {
               "slide_type": ""
            },
            "tags": []
         },
         "source": [
            "**Random Forest - podsumowanie**\n",
            "\n",
            "1. Model oparty o uczenie zespołowe.\n",
            "2. Kluczowe elementy:\n",
            "   - bagging: uczenie wielu klasyfikatorów na próbkach bootstrapowych,\n",
            "   - metoda losowej podprzestrzeni: losujemy podzbiór cech do każdego podziału drzewa,\n",
            "   - uśredniamy głosy klasyfikatorów.\n",
            "3. Dość odporny na overfitting, zmniejsza wariancję błędu dzięki uśrednianiu.\n",
            "4. Mało czuły na hiperparametry.\n",
            "5. Przeciętnie daje bardzo dobre wyniki, doskonały wybór domyślny przy wybieraniu algorytmu klasyfikacji."
         ],
         "outputs": []
      },
      {
         "cell_type": "markdown",
         "metadata": {
            "editable": true,
            "pycharm": {
               "name": "#%% md\n"
            },
            "slideshow": {
               "slide_type": ""
            },
            "tags": []
         },
         "source": [
            "## Boosting"
         ],
         "outputs": []
      },
      {
         "cell_type": "markdown",
         "metadata": {
            "editable": true,
            "pycharm": {
               "name": "#%% md\n"
            },
            "slideshow": {
               "slide_type": ""
            },
            "tags": []
         },
         "source": [
            "Drugą bardzo ważną grupą algorytmów ensemblingu jest **boosting**, też oparty o drzewa decyzyjne. O ile Random Forest trenował wszystkie klasyfikatory bazowe równolegle i je uśredniał, o tyle boosting robi to sekwencyjnie. Drzewa te uczą się na całym zbiorze, nie na próbkach bootstrapowych. Idea jest następująca: trenujemy drzewo decyzyjne, radzi sobie przeciętnie i popełnia błędy na częsci przykładów treningowych. Dokładamy kolejne, ale znające błędy swojego poprzednika, dzięki czemu może to uwzględnić i je poprawić. W związku z tym \"boostuje\" się dzięki wiedzy od poprzednika. Dokładamy kolejne drzewa zgodnie z tą samą zasadą.\n",
            "\n",
            "Jak uczyć się na błędach poprzednika? Jest to pewna **funkcja kosztu** (błędu), którą chcemy zminimalizować. Zakłada się jakąś jej konkretną postać, np. squared error dla regresji, albo logistic loss dla klasyfikacji. Później wykorzystuje się spadek wzdłuż gradientu (gradient descent), aby nauczyć się, w jakim kierunku powinny optymalizować kolejne drzewa, żeby zminimalizować błędy poprzednika. Jest to konkretnie **gradient boosting**, absolutnie najpopularniejsza forma boostingu, i jeden z najpopularniejszych i osiągających najlepsze wyniki algorytmów ML.\n",
            "\n",
            "Tyle co do intuicji. Ogólny algorytm gradient boostingu jest trochę bardziej skomplikowany. Bardzo dobrze i krok po kroku tłumaczy go [ta seria filmów na YT](https://www.youtube.com/watch?v=3CC4N4z3GJc). Szczególnie ważne implementacje gradient boostingu to **XGBoost (Extreme Gradient Boosting)** oraz **LightGBM (Light Gradient Boosting Machine)**. XGBoost był prawdziwym przełomem w ML, uzyskując doskonałe wyniki i bardzo dobrze się skalując - był wykorzystany w CERNie do wykrywania cząstki Higgsa w zbiorze z pomiarów LHC mającym 10 milionów próbek. Jego implementacja jest dość złożona, ale dobrze tłumaczy ją [inna seria filmików na YT](https://www.youtube.com/watch?v=OtD8wVaFm6E).\n",
            "\n",
            "![](xgboost.png)\n",
            "\n",
            "Obecnie najczęściej wykorzystuje się LightGBM. Został stworzony przez Microsoft na podstawie doświadczeń z XGBoostem. Został jeszcze bardziej ulepszony i przyspieszony, ale różnice są głównie implementacyjne. Różnice dobrze tłumaczy [ta prezentacja z konferencji PyData](https://www.youtube.com/watch?v=5CWwwtEM2TA) oraz [prezentacja Microsoftu](https://www.youtube.com/watch?v=5nKSMXBFhes). Dla zainteresowanych - [praktyczne aspekty LightGBM](https://www.kaggle.com/code/prashant111/lightgbm-classifier-in-python/notebook)."
         ],
         "outputs": []
      },
      {
         "cell_type": "markdown",
         "metadata": {
            "editable": true,
            "slideshow": {
               "slide_type": ""
            },
            "tags": [
               "ex"
            ]
         },
         "source": [
            "### Zadanie 7 (0.5 punktu)"
         ],
         "outputs": []
      },
      {
         "cell_type": "markdown",
         "metadata": {
            "editable": true,
            "slideshow": {
               "slide_type": ""
            },
            "tags": [
               "ex"
            ]
         },
         "source": [
            "1. Wytrenuj klasyfikator LightGBM (klasa `LGBMClassifier`). Przekaż `importance_type=\"gain\"` - przyda nam się to za chwilę.\n",
            "2. Sprawdź AUROC na zbiorze testowym.\n",
            "3. Skomentuj wynik w odniesieniu do wcześniejszych algorytmów.\n",
            "\n",
            "Pamiętaj o `random_state`, `n_jobs` i prawdopodobieństwach dla AUROC."
         ],
         "outputs": []
      },
      {
         "cell_type": "code",
         "execution_count": null,
         "metadata": {
            "editable": true,
            "pycharm": {
               "is_executing": true,
               "name": "#%%\n"
            },
            "slideshow": {
               "slide_type": ""
            },
            "tags": [
               "ex"
            ]
         },
         "outputs": [],
         "source": [
            "# your_code\n"
         ]
      },
      {
         "cell_type": "code",
         "execution_count": null,
         "metadata": {
            "editable": true,
            "slideshow": {
               "slide_type": ""
            },
            "tags": [
               "ex"
            ]
         },
         "outputs": [],
         "source": [
            "assert 0.9 <= auroc <= 0.97\n",
            "\n",
            "print(\"Solution is correct!\")"
         ]
      },
      {
         "cell_type": "markdown",
         "metadata": {
            "editable": true,
            "pycharm": {
               "name": "#%% md\n"
            },
            "slideshow": {
               "slide_type": ""
            },
            "tags": [
               "ex"
            ]
         },
         "source": [
            "// skomentuj tutaj"
         ],
         "outputs": []
      },
      {
         "cell_type": "markdown",
         "metadata": {
            "editable": true,
            "pycharm": {
               "name": "#%% md\n"
            },
            "slideshow": {
               "slide_type": ""
            },
            "tags": []
         },
         "source": [
            "Boosting dzięki uczeniu na poprzednich drzewach redukuje nie tylko wariancję, ale też bias w błędzie, dzięki czemu może w wielu przypadkach osiągnąć lepsze rezultaty od lasu losowego. Do tego dzięki znakomitej implementacji LightGBM jest szybszy.\n",
            "\n",
            "Boosting jest jednak o wiele bardziej czuły na hiperparametry niż Random Forest. W szczególności bardzo łatwo go przeuczyć, a większość hiperparametrów, których jest dużo, wiąże się z regularyzacją modelu. To, że teraz poszło nam lepiej z domyślnymi, jest rzadkim przypadkiem.\n",
            "\n",
            "W związku z tym, że przestrzeń hiperparametrów jest duża, przeszukanie wszystkich kombinacji nie wchodzi w grę. Zamiast tego można wylosować zadaną liczbę zestawów hiperparametrów i tylko je sprawdzić - chociaż im więcej, tym lepsze wyniki powinniśmy dostać. Służy do tego `RandomizedSearchCV`. Co więcej, klasa ta potrafi próbkować rozkłady prawdopodobieństwa, a nie tylko sztywne listy wartości, co jest bardzo przydatne przy parametrach ciągłych.\n",
            "\n",
            "Hiperparametry LightGBMa są dobrze opisane w oficjalnej dokumentacji: [wersja krótsza](https://lightgbm.readthedocs.io/en/latest/pythonapi/lightgbm.LGBMClassifier.html#lightgbm.LGBMClassifier) i [wersja dłuższa](https://lightgbm.readthedocs.io/en/latest/Parameters.html). Jest ich dużo, więc nie będziemy ich tutaj omawiać. Jeżeli chodzi o ich dostrajanie w praktyce, to przydatny jest [oficjalny przewodnik](https://lightgbm.readthedocs.io/en/latest/Parameters-Tuning.html) oraz dyskusje na Kaggle."
         ],
         "outputs": []
      },
      {
         "cell_type": "markdown",
         "metadata": {
            "editable": true,
            "slideshow": {
               "slide_type": ""
            },
            "tags": [
               "ex"
            ]
         },
         "source": [
            "### Zadanie 8 (1.5 punktu)"
         ],
         "outputs": []
      },
      {
         "cell_type": "markdown",
         "metadata": {
            "editable": true,
            "slideshow": {
               "slide_type": ""
            },
            "tags": [
               "ex"
            ]
         },
         "source": [
            "1. Zaimplementuj random search dla LightGBMa (klasa `RandomizedSearchCV`):\n",
            "   - użyj tylu prób, na ile pozwalają twoje zasoby obliczeniowe, ale przynajmniej 30,\n",
            "   - przeszukaj przestrzeń hiperparametrów:\n",
            "    ```\n",
            "    param_grid = {\n",
            "        \"n_estimators\": [100, 250, 500],\n",
            "        \"learning_rate\": [0.05, 0.1, 0.2],\n",
            "        \"num_leaves\": [31, 48, 64],\n",
            "        \"colsample_bytree\": [0.8, 0.9, 1.0],\n",
            "        \"subsample\": [0.8, 0.9, 1.0],\n",
            "    }\n",
            "    ```\n",
            "2. Wypisz znalezione optymalne hiperparametry.\n",
            "3. Wypisz raporty z klasyfikacji (funkcja `classification_report`), dla modelu LightGBM bez i z dostrajaniem hiperparametrów.\n",
            "4. Skomentuj różnicę precyzji (precision) i czułości (recall) między modelami bez i z dostrajaniem hiperparametrów. Czy jest to pożądane zjawisko w tym przypadku?\n",
            "5. Wartość ROC przypisz do zmiennej `auroc`.\n",
            "\n",
            "**Uwaga:** \n",
            "- koniecznie ustaw `verbose=-1` przy tworzeniu `LGBMClassifier`, żeby uniknąć kolosalnej ilości logów, która potrafi też wyłączyć Jupytera\n",
            "- pamiętaj o ustawieniu `importance_type`, `random_state=0` i `n_jobs`, oraz ewentualnie `verbose` w `RandomizedSearchCV` dla śledzenia przebiegu\n",
            "- istnieje możliwość, że ustawienie `n_jobs` dla grid searcha będzie szybsze niż dla samego LightGBM; odpowiada to tuningowi wielu klasyfikatorów równolegle, przy wolniejszym treningu pojedynczych klasyfikatorów\n",
            "- nie ustawiaj wszędzie `n_jobs=-1`, bo wtedy stworzysz więcej procesów niż rdzeni i spowodujesz thread contention"
         ],
         "outputs": []
      },
      {
         "cell_type": "code",
         "execution_count": null,
         "metadata": {
            "editable": true,
            "pycharm": {
               "is_executing": true,
               "name": "#%%\n"
            },
            "slideshow": {
               "slide_type": ""
            },
            "tags": [
               "ex"
            ]
         },
         "outputs": [],
         "source": [
            "# your_code\n"
         ]
      },
      {
         "cell_type": "code",
         "execution_count": null,
         "metadata": {
            "editable": true,
            "slideshow": {
               "slide_type": ""
            },
            "tags": [
               "ex"
            ]
         },
         "outputs": [],
         "source": [
            "assert 0.9 <= auroc <= 0.99\n",
            "\n",
            "print(\"Solution is correct!\")"
         ]
      },
      {
         "cell_type": "markdown",
         "metadata": {
            "editable": true,
            "pycharm": {
               "name": "#%% md\n"
            },
            "slideshow": {
               "slide_type": ""
            },
            "tags": [
               "ex"
            ]
         },
         "source": [
            "// skomentuj tutaj"
         ],
         "outputs": []
      },
      {
         "cell_type": "markdown",
         "metadata": {
            "editable": true,
            "pycharm": {
               "name": "#%% md\n"
            },
            "slideshow": {
               "slide_type": ""
            },
            "tags": []
         },
         "source": [
            "**Boosting - podsumowanie**\n",
            "\n",
            "1. Model oparty o uczenie zespołowe.\n",
            "2. Kolejne modele są dodawane sekwencyjnie i uczą się na błędach poprzedników.\n",
            "3. Nauka typowo jest oparta o minimalizację funkcji kosztu (błędu), z użyciem spadku wzdłuż gradientu.\n",
            "4. Wiodący model klasyfikacji dla danych tabelarycznych, z 2 głównymi implementacjami: XGBoost i LightGBM.\n",
            "5. Liczne hiperparametry, wymagające odpowiednich metod dostrajania."
         ],
         "outputs": []
      },
      {
         "cell_type": "markdown",
         "metadata": {
            "editable": true,
            "pycharm": {
               "name": "#%% md\n"
            },
            "slideshow": {
               "slide_type": ""
            },
            "tags": []
         },
         "source": [
            "## Wyjaśnialna AI"
         ],
         "outputs": []
      },
      {
         "cell_type": "markdown",
         "metadata": {
            "editable": true,
            "pycharm": {
               "name": "#%% md\n"
            },
            "slideshow": {
               "slide_type": ""
            },
            "tags": []
         },
         "source": [
            "W ostatnich latach zaczęto zwracać coraz większą uwagę na wpływ sztucznej inteligencji na społeczeństwo, a na niektórych czołowych konferencjach ML nawet obowiązkowa jest sekcja \"Social impact\" w artykułach naukowych. Typowo im lepszy model, tym bardziej złożony, a najpopularniejsze modele boostingu są z natury skomplikowane. Kiedy mają podejmować krytyczne decyzje, to musimy wiedzieć, czemu predykcja jest taka, a nie inna. Jest to poddziedzina uczenia maszynowego - **wyjaśnialna AI (explainable AI, XAI)**.\n",
            "\n",
            "Taka informacja jest cenna, bo dzięki temu lepiej wiemy, co robi model. Jest to ważne z kilku powodów:\n",
            "1. Wymogi prawne - wdrażanie algorytmów w ekonomii, prawie etc. ma coraz częściej konkretne wymagania prawne co do wyjaśnialności predykcji.\n",
            "2. Dodatkowa wiedza dla użytkowników - często dodatkowe obserwacje co do próbek są ciekawe same w sobie i dają wiedzę użytkownikowi (często posiadającemu specjalistyczną wiedzę z dziedziny), czasem nawet bardziej niż sam model predykcyjny.\n",
            "3. Analiza modelu - dodatkowa wiedza o wewnętrznym działaniu algorytmu pozwala go lepiej zrozumieć i ulepszyć wyniki, np. przez lepszy preprocessing danych.\n",
            "\n",
            "W szczególności można ją podzielić na **globalną** oraz **lokalną interpretowalność (global / local interpretability)**. Ta pierwsza próbuje wyjaśnić, czemu ogólnie model działa tak, jak działa. Analizuje strukturę modelu oraz trendy w jego predykcjach, aby podsumować w prostszy sposób jego tok myślenia. Interpretowalność lokalna z kolei dotyczy predykcji dla konkretnych próbek - czemu dla danego przykładu model podejmuje dla niego taką, a nie inną decyzję o klasyfikacji.\n",
            "\n",
            "W szczególności podstawowym sposobem interpretowalności jest **ważność cech (feature importance)**. Wyznacza ona, jak ważne są poszczególne cechy:\n",
            "- w wariancie globalnym, jak mocno model opiera się na poszczególnych cechach,\n",
            "- w wariancie lokalnym, jak mocno konkretne wartości cech wpłynęły na predykcję, i w jaki sposób.\n",
            "\n",
            "Teraz będzie nas interesować globalna ważność cech. Dla modeli drzewiastych definiuje się ją bardzo prosto. Każdy podział w drzewie decyzyjnym wykorzystuje jakąś cechę i redukuje z pomocą podziału funkcję kosztu (np. entropię) o określoną ilość. Dla drzewa decyzyjnego ważność to sumaryczna redukcja entropii, jaką udało się uzyskać za pomocą danej cechy. Dla lasów losowych i boostingu sumujemy te wartości dla wszystkich drzew. Alternatywnie można też użyć liczby splitów, w jakiej została użyta dana cecha, ale jest to mniej standardowe.\n",
            "\n",
            "Warto zauważyć, że taka ważność cech jest **względna**:\n",
            "- nie mówimy, jak bardzo ogólnie ważna jest jakaś cecha, tylko jak bardzo przydatna była dla naszego modelu w celu jego wytrenowania,\n",
            "- ważność cech można tylko porównywać ze sobą, np. jedna jest 2 razy ważniejsza od drugiej; nie ma ogólnych progów ważności.\n",
            "\n",
            "Ze względu na powyższe, ważności cech normalizuje się często do zakresu [0, 1] dla łatwiejszego porównywania."
         ],
         "outputs": []
      },
      {
         "cell_type": "markdown",
         "metadata": {
            "editable": true,
            "slideshow": {
               "slide_type": ""
            },
            "tags": [
               "ex"
            ]
         },
         "source": [
            "### Zadanie 9 (0.5 punktu)"
         ],
         "outputs": []
      },
      {
         "cell_type": "markdown",
         "metadata": {
            "editable": true,
            "slideshow": {
               "slide_type": ""
            },
            "tags": [
               "ex"
            ]
         },
         "source": [
            "1. Wybierz 5 najważniejszych cech dla drzewa decyzyjnego. Przedstaw wyniki na poziomym wykresie słupkowym. Użyj czytelnych nazw cech ze zmiennej `feature_names`.\n",
            "2. Powtórz powyższe dla lasu losowego, oraz dla boostingu (tutaj znormalizuj wyniki - patrz uwaga niżej). Wybierz te hiperparametry, które dały wcześniej najlepsze wyniki.\n",
            "3. Skomentuj, czy wybrane cechy twoim zdaniem mają sens jako najważniejsze cechy.\n",
            "\n",
            "**Uwaga:** Scikit-learn normalizuje ważności do zakresu [0, 1], natomiast LightGBM nie. Musisz to znormalizować samodzielnie, dzieląc przez sumę."
         ],
         "outputs": []
      },
      {
         "cell_type": "code",
         "execution_count": null,
         "metadata": {
            "editable": true,
            "slideshow": {
               "slide_type": ""
            },
            "tags": [
               "ex"
            ]
         },
         "outputs": [],
         "source": [
            "# your_code\n"
         ]
      },
      {
         "cell_type": "markdown",
         "metadata": {
            "editable": true,
            "slideshow": {
               "slide_type": ""
            },
            "tags": [
               "ex"
            ]
         },
         "source": [
            "// skomentuj tutaj"
         ],
         "outputs": []
      },
      {
         "cell_type": "markdown",
         "metadata": {},
         "source": [
            "### Dla zainteresowanych\n",
            "\n",
            "Najpopularniejszym podejściem do interpretowalności lokalnych jest **SHAP (SHapley Additive exPlanations)**, metoda oparta o kooperatywną teorię gier. Traktuje się cechy modelu jak zbiór graczy, podzielonych na dwie drużyny (koalicje): jedna chce zaklasyfikować próbkę jako negatywną, a druga jako pozytywną. O ostatecznej decyzji decyduje model, który wykorzystuje te wartości cech. Powstaje pytanie - w jakim stopniu wartości cech przyczyniły się do wyniku swojej drużyny? Można to obliczyć jako wartości Shapleya (Shapley values), które dla modeli ML oblicza algorytm SHAP. Ma on bardzo znaczące, udowodnione matematycznie zalety, a dodatkowo posiada wyjątkowo efektywną implementację dla modeli drzewiastych oraz dobre wizualizacje.\n",
            "\n",
            "Bardzo intuicyjnie, na prostym przykładzie, SHAPa wyjaśnia [pierwsza część tego artykułu](https://iancovert.com/blog/understanding-shap-sage/). Dobrze i dość szczegółówo SHAPa wyjaśnia jego autor [w tym filmie](https://www.youtube.com/watch?v=-taOhqkiuIo)."
         ],
         "outputs": []
      },
      {
         "cell_type": "markdown",
         "metadata": {
            "pycharm": {
               "name": "#%% md\n"
            }
         },
         "source": [
            "**Wyjaśnialna AI - podsumowanie**\n",
            "\n",
            "1. Problem zrozumienia, jak wnioskuje model i czemu podejmuje określone decyzje.\n",
            "2. Ważne zarówno z perspektywy badaczy danych, jak i użytkowników systemu.\n",
            "3. Można wyjaśniać model lokalnie (konkretne predykcje) lub globalnie (wpływ poszczególnych cech)."
         ],
         "outputs": []
      },
      {
         "cell_type": "markdown",
         "metadata": {
            "editable": true,
            "slideshow": {
               "slide_type": ""
            },
            "tags": [
               "ex"
            ]
         },
         "source": [
            "## Zadanie 10 dla chętnych (3 punkty)"
         ],
         "outputs": []
      },
      {
         "cell_type": "markdown",
         "metadata": {
            "editable": true,
            "pycharm": {
               "name": "#%% md\n"
            },
            "slideshow": {
               "slide_type": ""
            },
            "tags": [
               "ex"
            ]
         },
         "source": [
            "Dokonaj selekcji cech, usuwając 20% najsłabszych cech. Może się tu przydać klasa `SelectPercentile`. Czy Random Forest i LightGBM (bez dostrajania hiperparametrów, dla uproszczenia) wytrenowane bez najsłabszych cech dają lepszy wynik (AUROC lub innej metryki)?\n",
            "\n",
            "Wykorzystaj po 1 algorytmie z 3 grup algorytmów selekcji cech:\n",
            "1. Filter methods - mierzymy ważność każdej cechy niezależnie, za pomocą pewnej miary (typowo ze statystyki lub teorii informacji), a potem odrzucamy (filtrujemy) te o najniższej ważności. Są to np. `chi2` i `mutual_info_classif` z pakietu `sklearn.feature_selection`.\n",
            "2. Embedded methods - klasyfikator sam zwraca ważność cech, jest jego wbudowaną cechą (stąd nazwa). Jest to w szczególności właściwość wszystkich zespołowych klasyfikatorów drzewiastych. Mają po wytrenowaniu atrybut `feature_importances_`.\n",
            "2. Wrapper methods - algorytmy wykorzystujące w środku używany model (stąd nazwa), mierzące ważność cech za pomocą ich wpływu na jakość klasyfikatora. Jest to np. recursive feature elimination (klasa `RFE`). W tym algorytmie trenujemy klasyfikator na wszystkich cechach, wyrzucamy najsłabszą, trenujemy znowu i tak dalej.\n",
            "\n",
            "Typowo metody filter są najszybsze, ale dają najsłabszy wynik, natomiast metody wrapper są najwolniejsze i dają najlepszy wynik. Metody embedded są gdzieś pośrodku.\n",
            "\n",
            "Dla zainteresowanych, inne znane i bardzo dobre algorytmy:\n",
            "- Relief (filter method) oraz warianty, szczególnie ReliefF, SURF i MultiSURF (biblioteka `ReBATE`): [Wikipedia](https://en.wikipedia.org/wiki/Relief_(feature_selection)), [artykuł \"Benchmarking Relief-Based Feature Selection Methods\"](https://www.researchgate.net/publication/321307194_Benchmarking_Relief-Based_Feature_Selection_Methods)\n",
            "- Boruta (wrapper method), stworzony na Uniwersytecie Warszawskim, łączący Random Forest oraz testy statystyczne (biblioteka `boruta_py`): [link 1](https://towardsdatascience.com/boruta-explained-the-way-i-wish-someone-explained-it-to-me-4489d70e154a), [link 2](https://danielhomola.com/feature%20selection/phd/borutapy-an-all-relevant-feature-selection-method/)"
         ],
         "outputs": []
      },
      {
         "cell_type": "code",
         "execution_count": null,
         "metadata": {
            "editable": true,
            "pycharm": {
               "name": "#%%\n"
            },
            "slideshow": {
               "slide_type": ""
            },
            "tags": [
               "ex"
            ]
         },
         "outputs": [],
         "source": []
      }
   ],
   "metadata": {
    "pycharm": {
     "name": "#%% md\n"
    }
   },
   "source": [
    "# Klasyfikacja niezbalansowana, klasyfikatory zespołowe i wyjaśnialna AI"
   ]
  },
  {
   "cell_type": "markdown",
   "metadata": {
    "pycharm": {
     "name": "#%% md\n"
    }
   },
   "source": [
    "## Wykorzystanie Google Colab\n",
    "\n",
    "Jeśli korzystasz z Google Colab skopiuj plik `feature_names.json` do katalogu głównego projektu.\n",
    "\n",
    "[![Open in Colab](https://colab.research.google.com/assets/colab-badge.svg)](https://colab.research.google.com/github/apohllo/sztuczna-inteligencja/blob/master/lab2/lab_2.ipynb)"
   ]
  },
  {
   "cell_type": "markdown",
   "metadata": {
    "editable": true,
    "pycharm": {
     "name": "#%% md\n"
    },
    "slideshow": {
     "slide_type": ""
    },
    "tags": []
   },
   "source": [
    "## Ładowanie i eksploracja danych"
   ]
  },
  {
   "cell_type": "markdown",
   "metadata": {
    "editable": true,
    "pycharm": {
     "name": "#%% md\n"
    },
    "slideshow": {
     "slide_type": ""
    },
    "tags": []
   },
   "source": [
    "W trakcie tych zajęć laboratoryjnych wykorzystamy zbiór danych [Polish companies bankruptcy](https://archive.ics.uci.edu/ml/datasets/Polish+companies+bankruptcy+data). Dotyczy on klasyfikacji, na podstawie danych z raportów finansowych, czy firma zbankrutuje w ciągu najbliższych kilku lat. Jest to zadanie szczególnie istotne dla banków, funduszy inwestycyjnych, firm ubezpieczeniowych itp. Zbiór zawiera 64 cechy obliczonych przez ekonomistów. Są one opisane na wspomnianej wcześniej stronie. Dotyczą one zysków firm, posiadanych zasobów, długów itp.\n",
    "\n",
    "Ściągnij i rozpakuj dane (`Data Folder` -> `data.zip`) do katalogu `data` obok tego notebooka. Znajduje się tam 5 plików w formacie `.arff`, wykorzystywanym głównie przez oprogramowanie Weka. Jest to program do wyposażony w graficzny interfejs użytkownika, który był często używany przez mniej techincznie obeznanych użytkowników. W Pythonie dane w tym formacie ładuje się  za pomocą bibliotek SciPy i Pandas.\n"
   ]
  },
  {
   "cell_type": "markdown",
   "metadata": {},
   "source": [
    "Jeśli korzystasz z Linuksa możesz skorzystać z poniższych poleceń do pobrania i rozpakowania tych plików."
   ]
  },
  {
   "cell_type": "code",
   "execution_count": 1,
   "metadata": {
    "ExecuteTime": {
     "end_time": "2023-10-17T12:09:50.173669Z",
     "start_time": "2023-10-17T12:09:24.311939Z"
    },
    "editable": true,
    "slideshow": {
     "slide_type": ""
    },
    "tags": []
   },
   "outputs": [],
   "source": [
    "#!mkdir -p data\n",
    "#!wget https://archive.ics.uci.edu/static/public/365/polish+companies+bankruptcy+data.zip -O data/data.zip"
   ]
  },
  {
   "cell_type": "code",
   "execution_count": 2,
   "metadata": {
    "ExecuteTime": {
     "end_time": "2023-10-17T12:10:04.017260Z",
     "start_time": "2023-10-17T12:09:57.831756Z"
    },
    "editable": true,
    "slideshow": {
     "slide_type": ""
    },
    "tags": []
   },
   "outputs": [],
   "source": [
    "#!unzip data/data.zip -d data"
   ]
  },
  {
   "cell_type": "markdown",
   "metadata": {
    "editable": true,
    "slideshow": {
     "slide_type": ""
    },
    "tags": []
   },
   "source": [
    "\n",
    "W dalszej części laboratorium wykorzystamy plik `3year.arff`, w którym na podstawie danych finansowych firmy po 3 latach monitorowania chcemy przewidywać, czy firma zbankrutuje w ciągu najbliższych 3 lat. Jest to dość realistyczny horyzont czasowy.\n",
    "\n",
    "Dodatkowo w pliku `feature_names.json` znajdują się nazwy cech. Nazwy są bardzo długie, więc póki co nie będziemy z nich korzystać."
   ]
  },
  {
   "cell_type": "code",
   "execution_count": 3,
   "metadata": {
    "editable": true,
    "pycharm": {
     "name": "#%%\n"
    },
    "slideshow": {
     "slide_type": ""
    },
    "tags": []
   },
   "outputs": [],
   "source": [
    "import json\n",
    "import os\n",
    "\n",
    "from scipy.io import arff\n",
    "import pandas as pd\n",
    "\n",
    "data = arff.loadarff(os.path.join(\"data\", \"3year.arff\"))\n",
    "\n",
    "with open(\"feature_names.json\") as file:\n",
    "    feature_names = json.load(file)\n",
    "\n",
    "X = pd.DataFrame(data[0])"
   ]
  },
  {
   "cell_type": "markdown",
   "metadata": {
    "pycharm": {
     "name": "#%% md\n"
    }
   },
   "source": [
    "Przyjrzyjmy się teraz naszym danym."
   ]
  },
  {
   "cell_type": "code",
   "execution_count": 4,
   "metadata": {
    "editable": true,
    "pycharm": {
     "name": "#%%\n"
    },
    "slideshow": {
     "slide_type": ""
    },
    "tags": []
   },
   "outputs": [
    {
     "data": {
      "text/html": [
       "<div>\n",
       "<style scoped>\n",
       "    .dataframe tbody tr th:only-of-type {\n",
       "        vertical-align: middle;\n",
       "    }\n",
       "\n",
       "    .dataframe tbody tr th {\n",
       "        vertical-align: top;\n",
       "    }\n",
       "\n",
       "    .dataframe thead th {\n",
       "        text-align: right;\n",
       "    }\n",
       "</style>\n",
       "<table border=\"1\" class=\"dataframe\">\n",
       "  <thead>\n",
       "    <tr style=\"text-align: right;\">\n",
       "      <th></th>\n",
       "      <th>Attr1</th>\n",
       "      <th>Attr2</th>\n",
       "      <th>Attr3</th>\n",
       "      <th>Attr4</th>\n",
       "      <th>Attr5</th>\n",
       "      <th>Attr6</th>\n",
       "      <th>Attr7</th>\n",
       "      <th>Attr8</th>\n",
       "      <th>Attr9</th>\n",
       "      <th>Attr10</th>\n",
       "      <th>...</th>\n",
       "      <th>Attr56</th>\n",
       "      <th>Attr57</th>\n",
       "      <th>Attr58</th>\n",
       "      <th>Attr59</th>\n",
       "      <th>Attr60</th>\n",
       "      <th>Attr61</th>\n",
       "      <th>Attr62</th>\n",
       "      <th>Attr63</th>\n",
       "      <th>Attr64</th>\n",
       "      <th>class</th>\n",
       "    </tr>\n",
       "  </thead>\n",
       "  <tbody>\n",
       "    <tr>\n",
       "      <th>0</th>\n",
       "      <td>0.174190</td>\n",
       "      <td>0.41299</td>\n",
       "      <td>0.14371</td>\n",
       "      <td>1.3480</td>\n",
       "      <td>-28.9820</td>\n",
       "      <td>0.60383</td>\n",
       "      <td>0.219460</td>\n",
       "      <td>1.1225</td>\n",
       "      <td>1.1961</td>\n",
       "      <td>0.46359</td>\n",
       "      <td>...</td>\n",
       "      <td>0.163960</td>\n",
       "      <td>0.375740</td>\n",
       "      <td>0.83604</td>\n",
       "      <td>0.000007</td>\n",
       "      <td>9.7145</td>\n",
       "      <td>6.2813</td>\n",
       "      <td>84.291</td>\n",
       "      <td>4.3303</td>\n",
       "      <td>4.0341</td>\n",
       "      <td>b'0'</td>\n",
       "    </tr>\n",
       "    <tr>\n",
       "      <th>1</th>\n",
       "      <td>0.146240</td>\n",
       "      <td>0.46038</td>\n",
       "      <td>0.28230</td>\n",
       "      <td>1.6294</td>\n",
       "      <td>2.5952</td>\n",
       "      <td>0.00000</td>\n",
       "      <td>0.171850</td>\n",
       "      <td>1.1721</td>\n",
       "      <td>1.6018</td>\n",
       "      <td>0.53962</td>\n",
       "      <td>...</td>\n",
       "      <td>0.027516</td>\n",
       "      <td>0.271000</td>\n",
       "      <td>0.90108</td>\n",
       "      <td>0.000000</td>\n",
       "      <td>5.9882</td>\n",
       "      <td>4.1103</td>\n",
       "      <td>102.190</td>\n",
       "      <td>3.5716</td>\n",
       "      <td>5.9500</td>\n",
       "      <td>b'0'</td>\n",
       "    </tr>\n",
       "    <tr>\n",
       "      <th>2</th>\n",
       "      <td>0.000595</td>\n",
       "      <td>0.22612</td>\n",
       "      <td>0.48839</td>\n",
       "      <td>3.1599</td>\n",
       "      <td>84.8740</td>\n",
       "      <td>0.19114</td>\n",
       "      <td>0.004572</td>\n",
       "      <td>2.9881</td>\n",
       "      <td>1.0077</td>\n",
       "      <td>0.67566</td>\n",
       "      <td>...</td>\n",
       "      <td>0.007639</td>\n",
       "      <td>0.000881</td>\n",
       "      <td>0.99236</td>\n",
       "      <td>0.000000</td>\n",
       "      <td>6.7742</td>\n",
       "      <td>3.7922</td>\n",
       "      <td>64.846</td>\n",
       "      <td>5.6287</td>\n",
       "      <td>4.4581</td>\n",
       "      <td>b'0'</td>\n",
       "    </tr>\n",
       "    <tr>\n",
       "      <th>3</th>\n",
       "      <td>0.024526</td>\n",
       "      <td>0.43236</td>\n",
       "      <td>0.27546</td>\n",
       "      <td>1.7833</td>\n",
       "      <td>-10.1050</td>\n",
       "      <td>0.56944</td>\n",
       "      <td>0.024526</td>\n",
       "      <td>1.3057</td>\n",
       "      <td>1.0509</td>\n",
       "      <td>0.56453</td>\n",
       "      <td>...</td>\n",
       "      <td>0.048398</td>\n",
       "      <td>0.043445</td>\n",
       "      <td>0.95160</td>\n",
       "      <td>0.142980</td>\n",
       "      <td>4.2286</td>\n",
       "      <td>5.0528</td>\n",
       "      <td>98.783</td>\n",
       "      <td>3.6950</td>\n",
       "      <td>3.4844</td>\n",
       "      <td>b'0'</td>\n",
       "    </tr>\n",
       "    <tr>\n",
       "      <th>4</th>\n",
       "      <td>0.188290</td>\n",
       "      <td>0.41504</td>\n",
       "      <td>0.34231</td>\n",
       "      <td>1.9279</td>\n",
       "      <td>-58.2740</td>\n",
       "      <td>0.00000</td>\n",
       "      <td>0.233580</td>\n",
       "      <td>1.4094</td>\n",
       "      <td>1.3393</td>\n",
       "      <td>0.58496</td>\n",
       "      <td>...</td>\n",
       "      <td>0.176480</td>\n",
       "      <td>0.321880</td>\n",
       "      <td>0.82635</td>\n",
       "      <td>0.073039</td>\n",
       "      <td>2.5912</td>\n",
       "      <td>7.0756</td>\n",
       "      <td>100.540</td>\n",
       "      <td>3.6303</td>\n",
       "      <td>4.6375</td>\n",
       "      <td>b'0'</td>\n",
       "    </tr>\n",
       "  </tbody>\n",
       "</table>\n",
       "<p>5 rows × 65 columns</p>\n",
       "</div>"
      ],
      "text/plain": [
       "      Attr1    Attr2    Attr3   Attr4    Attr5    Attr6     Attr7   Attr8  \\\n",
       "0  0.174190  0.41299  0.14371  1.3480 -28.9820  0.60383  0.219460  1.1225   \n",
       "1  0.146240  0.46038  0.28230  1.6294   2.5952  0.00000  0.171850  1.1721   \n",
       "2  0.000595  0.22612  0.48839  3.1599  84.8740  0.19114  0.004572  2.9881   \n",
       "3  0.024526  0.43236  0.27546  1.7833 -10.1050  0.56944  0.024526  1.3057   \n",
       "4  0.188290  0.41504  0.34231  1.9279 -58.2740  0.00000  0.233580  1.4094   \n",
       "\n",
       "    Attr9   Attr10  ...    Attr56    Attr57   Attr58    Attr59  Attr60  \\\n",
       "0  1.1961  0.46359  ...  0.163960  0.375740  0.83604  0.000007  9.7145   \n",
       "1  1.6018  0.53962  ...  0.027516  0.271000  0.90108  0.000000  5.9882   \n",
       "2  1.0077  0.67566  ...  0.007639  0.000881  0.99236  0.000000  6.7742   \n",
       "3  1.0509  0.56453  ...  0.048398  0.043445  0.95160  0.142980  4.2286   \n",
       "4  1.3393  0.58496  ...  0.176480  0.321880  0.82635  0.073039  2.5912   \n",
       "\n",
       "   Attr61   Attr62  Attr63  Attr64  class  \n",
       "0  6.2813   84.291  4.3303  4.0341   b'0'  \n",
       "1  4.1103  102.190  3.5716  5.9500   b'0'  \n",
       "2  3.7922   64.846  5.6287  4.4581   b'0'  \n",
       "3  5.0528   98.783  3.6950  3.4844   b'0'  \n",
       "4  7.0756  100.540  3.6303  4.6375   b'0'  \n",
       "\n",
       "[5 rows x 65 columns]"
      ]
     },
     "execution_count": 4,
     "metadata": {},
     "output_type": "execute_result"
    }
   ],
   "source": [
    "X.head()"
   ]
  },
  {
   "cell_type": "code",
   "execution_count": 5,
   "metadata": {
    "editable": true,
    "pycharm": {
     "name": "#%%\n"
    },
    "slideshow": {
     "slide_type": ""
    },
    "tags": []
   },
   "outputs": [
    {
     "data": {
      "text/plain": [
       "Attr1     float64\n",
       "Attr2     float64\n",
       "Attr3     float64\n",
       "Attr4     float64\n",
       "Attr5     float64\n",
       "           ...   \n",
       "Attr61    float64\n",
       "Attr62    float64\n",
       "Attr63    float64\n",
       "Attr64    float64\n",
       "class      object\n",
       "Length: 65, dtype: object"
      ]
     },
     "execution_count": 5,
     "metadata": {},
     "output_type": "execute_result"
    }
   ],
   "source": [
    "X.dtypes"
   ]
  },
  {
   "cell_type": "code",
   "execution_count": 6,
   "metadata": {
    "pycharm": {
     "name": "#%%\n"
    }
   },
   "outputs": [
    {
     "data": {
      "text/html": [
       "<div>\n",
       "<style scoped>\n",
       "    .dataframe tbody tr th:only-of-type {\n",
       "        vertical-align: middle;\n",
       "    }\n",
       "\n",
       "    .dataframe tbody tr th {\n",
       "        vertical-align: top;\n",
       "    }\n",
       "\n",
       "    .dataframe thead th {\n",
       "        text-align: right;\n",
       "    }\n",
       "</style>\n",
       "<table border=\"1\" class=\"dataframe\">\n",
       "  <thead>\n",
       "    <tr style=\"text-align: right;\">\n",
       "      <th></th>\n",
       "      <th>Attr1</th>\n",
       "      <th>Attr2</th>\n",
       "      <th>Attr3</th>\n",
       "      <th>Attr4</th>\n",
       "      <th>Attr5</th>\n",
       "      <th>Attr6</th>\n",
       "      <th>Attr7</th>\n",
       "      <th>Attr8</th>\n",
       "      <th>Attr9</th>\n",
       "      <th>Attr10</th>\n",
       "      <th>...</th>\n",
       "      <th>Attr55</th>\n",
       "      <th>Attr56</th>\n",
       "      <th>Attr57</th>\n",
       "      <th>Attr58</th>\n",
       "      <th>Attr59</th>\n",
       "      <th>Attr60</th>\n",
       "      <th>Attr61</th>\n",
       "      <th>Attr62</th>\n",
       "      <th>Attr63</th>\n",
       "      <th>Attr64</th>\n",
       "    </tr>\n",
       "  </thead>\n",
       "  <tbody>\n",
       "    <tr>\n",
       "      <th>count</th>\n",
       "      <td>10503.000000</td>\n",
       "      <td>10503.000000</td>\n",
       "      <td>10503.000000</td>\n",
       "      <td>10485.000000</td>\n",
       "      <td>1.047800e+04</td>\n",
       "      <td>10503.000000</td>\n",
       "      <td>10503.000000</td>\n",
       "      <td>10489.000000</td>\n",
       "      <td>10500.000000</td>\n",
       "      <td>10503.000000</td>\n",
       "      <td>...</td>\n",
       "      <td>1.050300e+04</td>\n",
       "      <td>10460.000000</td>\n",
       "      <td>10503.000000</td>\n",
       "      <td>10474.000000</td>\n",
       "      <td>10503.000000</td>\n",
       "      <td>9.911000e+03</td>\n",
       "      <td>10486.000000</td>\n",
       "      <td>1.046000e+04</td>\n",
       "      <td>10485.000000</td>\n",
       "      <td>10275.000000</td>\n",
       "    </tr>\n",
       "    <tr>\n",
       "      <th>mean</th>\n",
       "      <td>0.052844</td>\n",
       "      <td>0.619911</td>\n",
       "      <td>0.095490</td>\n",
       "      <td>9.980499</td>\n",
       "      <td>-1.347662e+03</td>\n",
       "      <td>-0.121159</td>\n",
       "      <td>0.065624</td>\n",
       "      <td>19.140113</td>\n",
       "      <td>1.819254</td>\n",
       "      <td>0.366093</td>\n",
       "      <td>...</td>\n",
       "      <td>6.638549e+03</td>\n",
       "      <td>-0.530082</td>\n",
       "      <td>-0.014817</td>\n",
       "      <td>3.848794</td>\n",
       "      <td>1.429319</td>\n",
       "      <td>5.713363e+02</td>\n",
       "      <td>13.935361</td>\n",
       "      <td>1.355370e+02</td>\n",
       "      <td>9.095149</td>\n",
       "      <td>35.766800</td>\n",
       "    </tr>\n",
       "    <tr>\n",
       "      <th>std</th>\n",
       "      <td>0.647797</td>\n",
       "      <td>6.427041</td>\n",
       "      <td>6.420056</td>\n",
       "      <td>523.691951</td>\n",
       "      <td>1.185806e+05</td>\n",
       "      <td>6.970625</td>\n",
       "      <td>0.651152</td>\n",
       "      <td>717.756745</td>\n",
       "      <td>7.581659</td>\n",
       "      <td>6.428603</td>\n",
       "      <td>...</td>\n",
       "      <td>5.989196e+04</td>\n",
       "      <td>55.978608</td>\n",
       "      <td>18.684047</td>\n",
       "      <td>190.201224</td>\n",
       "      <td>77.273270</td>\n",
       "      <td>3.715967e+04</td>\n",
       "      <td>83.704103</td>\n",
       "      <td>2.599116e+04</td>\n",
       "      <td>31.419096</td>\n",
       "      <td>428.298315</td>\n",
       "    </tr>\n",
       "    <tr>\n",
       "      <th>min</th>\n",
       "      <td>-17.692000</td>\n",
       "      <td>0.000000</td>\n",
       "      <td>-479.730000</td>\n",
       "      <td>0.002080</td>\n",
       "      <td>-1.190300e+07</td>\n",
       "      <td>-508.120000</td>\n",
       "      <td>-17.692000</td>\n",
       "      <td>-2.081800</td>\n",
       "      <td>-1.215700</td>\n",
       "      <td>-479.730000</td>\n",
       "      <td>...</td>\n",
       "      <td>-7.513800e+05</td>\n",
       "      <td>-5691.700000</td>\n",
       "      <td>-1667.300000</td>\n",
       "      <td>-198.690000</td>\n",
       "      <td>-172.070000</td>\n",
       "      <td>0.000000e+00</td>\n",
       "      <td>-6.590300</td>\n",
       "      <td>-2.336500e+06</td>\n",
       "      <td>-0.000156</td>\n",
       "      <td>-0.000102</td>\n",
       "    </tr>\n",
       "    <tr>\n",
       "      <th>25%</th>\n",
       "      <td>0.000686</td>\n",
       "      <td>0.253955</td>\n",
       "      <td>0.017461</td>\n",
       "      <td>1.040100</td>\n",
       "      <td>-5.207075e+01</td>\n",
       "      <td>0.000000</td>\n",
       "      <td>0.002118</td>\n",
       "      <td>0.431270</td>\n",
       "      <td>1.011275</td>\n",
       "      <td>0.297340</td>\n",
       "      <td>...</td>\n",
       "      <td>1.462100e+01</td>\n",
       "      <td>0.005137</td>\n",
       "      <td>0.006796</td>\n",
       "      <td>0.875560</td>\n",
       "      <td>0.000000</td>\n",
       "      <td>5.533150e+00</td>\n",
       "      <td>4.486075</td>\n",
       "      <td>4.073700e+01</td>\n",
       "      <td>3.062800</td>\n",
       "      <td>2.023350</td>\n",
       "    </tr>\n",
       "    <tr>\n",
       "      <th>50%</th>\n",
       "      <td>0.043034</td>\n",
       "      <td>0.464140</td>\n",
       "      <td>0.198560</td>\n",
       "      <td>1.605600</td>\n",
       "      <td>1.579300e+00</td>\n",
       "      <td>0.000000</td>\n",
       "      <td>0.050945</td>\n",
       "      <td>1.111000</td>\n",
       "      <td>1.199000</td>\n",
       "      <td>0.515500</td>\n",
       "      <td>...</td>\n",
       "      <td>8.822900e+02</td>\n",
       "      <td>0.051765</td>\n",
       "      <td>0.106880</td>\n",
       "      <td>0.953060</td>\n",
       "      <td>0.002976</td>\n",
       "      <td>9.952100e+00</td>\n",
       "      <td>6.677300</td>\n",
       "      <td>7.066400e+01</td>\n",
       "      <td>5.139200</td>\n",
       "      <td>4.059300</td>\n",
       "    </tr>\n",
       "    <tr>\n",
       "      <th>75%</th>\n",
       "      <td>0.123805</td>\n",
       "      <td>0.689330</td>\n",
       "      <td>0.419545</td>\n",
       "      <td>2.959500</td>\n",
       "      <td>5.608400e+01</td>\n",
       "      <td>0.072584</td>\n",
       "      <td>0.142275</td>\n",
       "      <td>2.857100</td>\n",
       "      <td>2.059100</td>\n",
       "      <td>0.725635</td>\n",
       "      <td>...</td>\n",
       "      <td>4.348900e+03</td>\n",
       "      <td>0.130010</td>\n",
       "      <td>0.271310</td>\n",
       "      <td>0.995927</td>\n",
       "      <td>0.240320</td>\n",
       "      <td>2.093600e+01</td>\n",
       "      <td>10.587500</td>\n",
       "      <td>1.182200e+02</td>\n",
       "      <td>8.882600</td>\n",
       "      <td>9.682750</td>\n",
       "    </tr>\n",
       "    <tr>\n",
       "      <th>max</th>\n",
       "      <td>52.652000</td>\n",
       "      <td>480.730000</td>\n",
       "      <td>17.708000</td>\n",
       "      <td>53433.000000</td>\n",
       "      <td>6.854400e+05</td>\n",
       "      <td>45.533000</td>\n",
       "      <td>52.652000</td>\n",
       "      <td>53432.000000</td>\n",
       "      <td>740.440000</td>\n",
       "      <td>11.837000</td>\n",
       "      <td>...</td>\n",
       "      <td>3.380500e+06</td>\n",
       "      <td>293.150000</td>\n",
       "      <td>552.640000</td>\n",
       "      <td>18118.000000</td>\n",
       "      <td>7617.300000</td>\n",
       "      <td>3.660200e+06</td>\n",
       "      <td>4470.400000</td>\n",
       "      <td>1.073500e+06</td>\n",
       "      <td>1974.500000</td>\n",
       "      <td>21499.000000</td>\n",
       "    </tr>\n",
       "  </tbody>\n",
       "</table>\n",
       "<p>8 rows × 64 columns</p>\n",
       "</div>"
      ],
      "text/plain": [
       "              Attr1         Attr2         Attr3         Attr4         Attr5  \\\n",
       "count  10503.000000  10503.000000  10503.000000  10485.000000  1.047800e+04   \n",
       "mean       0.052844      0.619911      0.095490      9.980499 -1.347662e+03   \n",
       "std        0.647797      6.427041      6.420056    523.691951  1.185806e+05   \n",
       "min      -17.692000      0.000000   -479.730000      0.002080 -1.190300e+07   \n",
       "25%        0.000686      0.253955      0.017461      1.040100 -5.207075e+01   \n",
       "50%        0.043034      0.464140      0.198560      1.605600  1.579300e+00   \n",
       "75%        0.123805      0.689330      0.419545      2.959500  5.608400e+01   \n",
       "max       52.652000    480.730000     17.708000  53433.000000  6.854400e+05   \n",
       "\n",
       "              Attr6         Attr7         Attr8         Attr9        Attr10  \\\n",
       "count  10503.000000  10503.000000  10489.000000  10500.000000  10503.000000   \n",
       "mean      -0.121159      0.065624     19.140113      1.819254      0.366093   \n",
       "std        6.970625      0.651152    717.756745      7.581659      6.428603   \n",
       "min     -508.120000    -17.692000     -2.081800     -1.215700   -479.730000   \n",
       "25%        0.000000      0.002118      0.431270      1.011275      0.297340   \n",
       "50%        0.000000      0.050945      1.111000      1.199000      0.515500   \n",
       "75%        0.072584      0.142275      2.857100      2.059100      0.725635   \n",
       "max       45.533000     52.652000  53432.000000    740.440000     11.837000   \n",
       "\n",
       "       ...        Attr55        Attr56        Attr57        Attr58  \\\n",
       "count  ...  1.050300e+04  10460.000000  10503.000000  10474.000000   \n",
       "mean   ...  6.638549e+03     -0.530082     -0.014817      3.848794   \n",
       "std    ...  5.989196e+04     55.978608     18.684047    190.201224   \n",
       "min    ... -7.513800e+05  -5691.700000  -1667.300000   -198.690000   \n",
       "25%    ...  1.462100e+01      0.005137      0.006796      0.875560   \n",
       "50%    ...  8.822900e+02      0.051765      0.106880      0.953060   \n",
       "75%    ...  4.348900e+03      0.130010      0.271310      0.995927   \n",
       "max    ...  3.380500e+06    293.150000    552.640000  18118.000000   \n",
       "\n",
       "             Attr59        Attr60        Attr61        Attr62        Attr63  \\\n",
       "count  10503.000000  9.911000e+03  10486.000000  1.046000e+04  10485.000000   \n",
       "mean       1.429319  5.713363e+02     13.935361  1.355370e+02      9.095149   \n",
       "std       77.273270  3.715967e+04     83.704103  2.599116e+04     31.419096   \n",
       "min     -172.070000  0.000000e+00     -6.590300 -2.336500e+06     -0.000156   \n",
       "25%        0.000000  5.533150e+00      4.486075  4.073700e+01      3.062800   \n",
       "50%        0.002976  9.952100e+00      6.677300  7.066400e+01      5.139200   \n",
       "75%        0.240320  2.093600e+01     10.587500  1.182200e+02      8.882600   \n",
       "max     7617.300000  3.660200e+06   4470.400000  1.073500e+06   1974.500000   \n",
       "\n",
       "             Attr64  \n",
       "count  10275.000000  \n",
       "mean      35.766800  \n",
       "std      428.298315  \n",
       "min       -0.000102  \n",
       "25%        2.023350  \n",
       "50%        4.059300  \n",
       "75%        9.682750  \n",
       "max    21499.000000  \n",
       "\n",
       "[8 rows x 64 columns]"
      ]
     },
     "execution_count": 6,
     "metadata": {},
     "output_type": "execute_result"
    }
   ],
   "source": [
    "X.describe()"
   ]
  },
  {
   "cell_type": "code",
   "execution_count": 7,
   "metadata": {
    "editable": true,
    "slideshow": {
     "slide_type": ""
    },
    "tags": []
   },
   "outputs": [
    {
     "data": {
      "text/plain": [
       "['net profit / total assets',\n",
       " 'total liabilities / total assets',\n",
       " 'working capital / total assets',\n",
       " 'current assets / short-term liabilities',\n",
       " '[(cash + short-term securities + receivables - short-term liabilities) / (operating expenses - depreciation)] * 365',\n",
       " 'retained earnings / total assets',\n",
       " 'EBIT / total assets',\n",
       " 'book value of equity / total liabilities',\n",
       " 'sales / total assets',\n",
       " 'equity / total assets',\n",
       " '(gross profit + extraordinary items + financial expenses) / total assets',\n",
       " 'gross profit / short-term liabilities',\n",
       " '(gross profit + depreciation) / sales',\n",
       " '(gross profit + interest) / total assets',\n",
       " '(total liabilities * 365) / (gross profit + depreciation)',\n",
       " '(gross profit + depreciation) / total liabilities',\n",
       " 'total assets / total liabilities',\n",
       " 'gross profit / total assets',\n",
       " 'gross profit / sales',\n",
       " '(inventory * 365) / sales',\n",
       " 'sales (n) / sales (n-1)',\n",
       " 'profit on operating activities / total assets',\n",
       " 'net profit / sales',\n",
       " 'gross profit (in 3 years) / total assets',\n",
       " '(equity - share capital) / total assets',\n",
       " '(net profit + depreciation) / total liabilities',\n",
       " 'profit on operating activities / financial expenses',\n",
       " 'working capital / fixed assets',\n",
       " 'logarithm of total assets',\n",
       " '(total liabilities - cash) / sales',\n",
       " '(gross profit + interest) / sales',\n",
       " '(current liabilities * 365) / cost of products sold',\n",
       " 'operating expenses / short-term liabilities',\n",
       " 'operating expenses / total liabilities',\n",
       " 'profit on sales / total assets',\n",
       " 'total sales / total assets',\n",
       " 'constant capital / total assets',\n",
       " 'profit on sales / sales',\n",
       " '(current assets - inventory - receivables) / short-term liabilities',\n",
       " 'total liabilities / ((profit on operating activities + depreciation) * (12/365))',\n",
       " 'profit on operating activities / sales',\n",
       " 'rotation receivables + inventory turnover in days',\n",
       " '(receivables * 365) / sales',\n",
       " 'net profit / inventory',\n",
       " '(current assets - inventory) / short-term liabilities',\n",
       " '(inventory * 365) / cost of products sold',\n",
       " 'EBITDA (profit on operating activities - depreciation) / total assets',\n",
       " 'EBITDA (profit on operating activities - depreciation) / sales',\n",
       " 'current assets / total liabilities',\n",
       " 'short-term liabilities / total assets',\n",
       " '(short-term liabilities * 365) / cost of products sold)',\n",
       " 'equity / fixed assets',\n",
       " 'constant capital / fixed assets',\n",
       " 'working capital',\n",
       " '(sales - cost of products sold) / sales',\n",
       " '(current assets - inventory - short-term liabilities) / (sales - gross profit - depreciation)',\n",
       " 'total costs / total sales',\n",
       " 'long-term liabilities / equity',\n",
       " 'sales / inventory',\n",
       " 'sales / receivables',\n",
       " '(short-term liabilities * 365) / sales',\n",
       " 'sales / short-term liabilities',\n",
       " 'sales / fixed assets']"
      ]
     },
     "execution_count": 7,
     "metadata": {},
     "output_type": "execute_result"
    }
   ],
   "source": [
    "feature_names"
   ]
  },
  {
   "cell_type": "markdown",
   "metadata": {
    "editable": true,
    "pycharm": {
     "name": "#%% md\n"
    },
    "slideshow": {
     "slide_type": ""
    },
    "tags": []
   },
   "source": [
    "DataFrame zawiera 64 atrybuty numeryczne o zróżnicowanych rozkładach wartości oraz kolumnę `\"class\"` typu `bytes` z klasami 0 i 1. Wiemy, że mamy do czynienia z klasyfikacją binarną - klasa 0 to brak bankructwa, klasa 1 to bankructwo w ciągu najbliższych 3 lat. Przyjrzyjmy się dokładniej naszym danym."
   ]
  },
  {
   "cell_type": "markdown",
   "metadata": {
    "editable": true,
    "slideshow": {
     "slide_type": ""
    },
    "tags": [
     "ex"
    ]
   },
   "source": [
    "### Zadanie 1 (0.5 punktu)"
   ]
  },
  {
   "cell_type": "markdown",
   "metadata": {
    "editable": true,
    "slideshow": {
     "slide_type": ""
    },
    "tags": [
     "ex"
    ]
   },
   "source": [
    "1. Wyodrębnij klasy jako osobną zmienną typu `pd.Series`, usuwając je z macierzy `X`. Przekonwertuj je na liczby całkowite.\n",
    "2. Narysuj wykres słupkowy częstotliwości obu klas w całym zbiorze. Upewnij się, że na osi X są numery lub nazwy klas, a oś Y ma wartości w procentach.\n",
    "\n",
    "**Uwaga:** sugerowane jest użycie `if` w podpunkcie 1, żeby można było tę komórkę bezpiecznie odpalić kilka razy."
   ]
  },
  {
   "cell_type": "code",
   "execution_count": 8,
   "metadata": {
    "editable": true,
    "pycharm": {
     "name": "#%%\n"
    },
    "slideshow": {
     "slide_type": ""
    },
    "tags": [
     "ex"
    ]
   },
   "outputs": [],
   "source": [
    "# your_code\n",
    "y = X.pop(\"class\")"
   ]
  },
  {
   "cell_type": "code",
   "execution_count": 9,
   "metadata": {},
   "outputs": [
    {
     "data": {
      "image/png": "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",
      "text/plain": [
       "<Figure size 640x480 with 1 Axes>"
      ]
     },
     "metadata": {},
     "output_type": "display_data"
    }
   ],
   "source": [
    "import numpy as np\n",
    "import matplotlib.pyplot as plt\n",
    "\n",
    "y = y.astype(\"int32\")\n",
    "frequencies = y.value_counts()\n",
    "frequencies = np.round(frequencies / frequencies.sum() * 100, 0)\n",
    "ax = frequencies.plot(kind=\"bar\")\n",
    "\n",
    "ax.text(0, frequencies[0], str(int(frequencies[0])) + \"%\", ha=\"center\", va=\"bottom\")\n",
    "ax.text(1, frequencies[1], str(int(frequencies[1])) + \"%\", ha=\"center\", va=\"bottom\")\n",
    "ax.set_xticklabels([\"0\", \"1\"], rotation=0)\n",
    "ax.set_xlabel(\"Class\")\n",
    "ax.set_ylabel(\"Occurrences [%]\")\n",
    "ax.set_title(\"Class frequencies\")\n",
    "plt.show()"
   ]
  },
  {
   "cell_type": "code",
   "execution_count": 10,
   "metadata": {
    "editable": true,
    "slideshow": {
     "slide_type": ""
    },
    "tags": [
     "ex"
    ]
   },
   "outputs": [
    {
     "name": "stdout",
     "output_type": "stream",
     "text": [
      "Solution is correct!\n"
     ]
    }
   ],
   "source": [
    "assert \"class\" not in X.columns\n",
    "\n",
    "print(\"Solution is correct!\")"
   ]
  },
  {
   "cell_type": "markdown",
   "metadata": {
    "editable": true,
    "pycharm": {
     "name": "#%% md\n"
    },
    "slideshow": {
     "slide_type": ""
    },
    "tags": []
   },
   "source": [
    "Jak widać, klasa pozytywna jest w znacznej mniejszości, stanowi poniżej 5% zbioru. Taki problem nazywamy **klasyfikacją niezbalansowaną (imbalanced classification)**. Mamy tu **klasę dominującą (majority class)** oraz **klasę mniejszościową (minority class)**. Pechowo prawie zawsze interesuje nas ta druga, bo klasa większościowa nie niesie najczęściej żadnych interesujących informacji. Przykładowo, 99% badanych jest zdrowych, a 1% ma niewykryty nowotwór - z oczywistych przyczyn chcemy wykrywać właśnie sytuację rzadką (problem diagnozy jako klasyfikacji jest zasadniczo zawsze niezbalansowany). W dalszej części laboratorium poznamy szereg konsekwencji tego zjawiska i metody na radzenie sobie z nim.\n",
    "\n",
    "Mamy sporo cech w naszym zbiorze, wszystkie są numeryczne. Ciekawe, czy mają wartości brakujące, a jeśli tak, to ile? Policzymy to z pomocą biblioteki Pandas i metody `.isna()`. Domyślnie operuje ona na kolumnach, jak większość metod w w tej bibliotece. Sumę wartości per kolumna zwróci nam metoda `.sum()`. Jeżeli podzielimy to przez liczbę wierszy `len(X)`, to otrzymamy ułamek wartości brakujących w każdej kolumnie.\n",
    "\n",
    "Biblioteka Pandas potrafi też stworzyć wykres, z pomocą funkcji np. `.plot.hist()` czy `.plot.bar()`. Przyjmują one opcje formatowania wykresu z których korzysta biblioteka `matplotlib`."
   ]
  },
  {
   "cell_type": "code",
   "execution_count": 11,
   "metadata": {
    "editable": true,
    "pycharm": {
     "name": "#%%\n"
    },
    "slideshow": {
     "slide_type": ""
    },
    "tags": []
   },
   "outputs": [
    {
     "data": {
      "text/plain": [
       "<Axes: title={'center': 'Fraction of missing values per column'}>"
      ]
     },
     "execution_count": 11,
     "metadata": {},
     "output_type": "execute_result"
    },
    {
     "data": {
      "image/png": "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",
      "text/plain": [
       "<Figure size 1500x500 with 1 Axes>"
      ]
     },
     "metadata": {},
     "output_type": "display_data"
    }
   ],
   "source": [
    "na_perc = X.isna().sum() / len(X)\n",
    "na_perc.plot.bar(title=\"Fraction of missing values per column\", figsize=(15, 5))"
   ]
  },
  {
   "cell_type": "markdown",
   "metadata": {
    "editable": true,
    "pycharm": {
     "name": "#%% md\n"
    },
    "slideshow": {
     "slide_type": ""
    },
    "tags": [
     "ex"
    ]
   },
   "source": [
    "Jak widać, cecha 37 ma bardzo dużo wartości brakujących, podczas gdy pozostałe cechy mają raczej niewielką ich liczbę. W takiej sytuacji najlepiej usunąć tę cechę, a pozostałe wartości brakujące **uzupełnić** (co realizowaliśmy już poprzednio). Pamiętaj, że imputacji dokonuje się dopiero po podziale na zbiór treningowy i testowy! W przeciwnym wypadku wykorzystywalibyśmy dane ze zbioru testowego, co sztucznie zawyżyłoby wyniki. Jest to błąd metodologiczny - **wyciek danych (data leakage)**.\n",
    "\n",
    "Podział na zbiór treningowy i testowy to pierwszy moment, kiedy niezbalansowanie danych nam przeszkadza. Jeżeli zrobimy to czysto losowo, to jest spora szansa, że w zbiorze testowym będzie tylko klasa negatywna - w końcu jest jej aż >95%. Dlatego wykorzystuje się **próbkowanie ze stratyfikacją (stratified sampling)**, dzięki któremu proporcje klas w zbiorze przed podziałem oraz obu zbiorach po podziale są takie same."
   ]
  },
  {
   "cell_type": "markdown",
   "metadata": {
    "editable": true,
    "slideshow": {
     "slide_type": ""
    },
    "tags": [
     "ex"
    ]
   },
   "source": [
    "### Zadanie 2 (0.75 punktu)"
   ]
  },
  {
   "cell_type": "markdown",
   "metadata": {
    "editable": true,
    "slideshow": {
     "slide_type": ""
    },
    "tags": [
     "ex"
    ]
   },
   "source": [
    "1. Usuń kolumnę `\"Attr37\"` ze zbioru danych.\n",
    "2. Dokonaj podziału zbioru na treningowy i testowy w proporcjach 80%-20%, z przemieszaniem (`shuffle`), ze stratyfikacją, wykorzystując funkcję `train_test_split` ze Scikit-learn'a.\n",
    "3. Uzupełnij wartości brakujące średnią wartością cechy z pomocą klasy `SimpleImputer`.\n",
    "\n",
    "**Uwaga:**\n",
    "- jak wcześniej, sugerowane jest użycie `if` w podpunkcie 1,\n",
    "- pamiętaj o uwzględnieniu stałego ziarna `random_state=0`, aby wyniki były **reprodukowalne (reproducible)**,\n",
    "- `stratify` oczekuje wektora klas,\n",
    "- wartości do imputacji trzeba wyestymować na zbiorze treningowym (`.fit()`), a potem zastosować te nauczone wartości na obu podzbiorach (treningowym i testowym)."
   ]
  },
  {
   "cell_type": "code",
   "execution_count": 12,
   "metadata": {
    "editable": true,
    "pycharm": {
     "name": "#%%\n"
    },
    "slideshow": {
     "slide_type": ""
    },
    "tags": [
     "ex"
    ]
   },
   "outputs": [],
   "source": [
    "# your_code\n",
    "from sklearn.model_selection import train_test_split\n",
    "from sklearn.impute import SimpleImputer\n",
    "\n",
    "if \"Attr37\" in X:\n",
    "    X = X.drop(\"Attr37\", axis=1)\n",
    "\n",
    "X_train, X_test, y_train, y_test = train_test_split(X, y, test_size=0.2, stratify=y, shuffle=True, random_state=0)\n",
    "\n",
    "imputer = SimpleImputer(strategy=\"mean\")\n",
    "X_train = imputer.fit_transform(X_train)\n",
    "X_test = imputer.transform(X_test)"
   ]
  },
  {
   "cell_type": "code",
   "execution_count": 13,
   "metadata": {
    "editable": true,
    "slideshow": {
     "slide_type": ""
    },
    "tags": [
     "ex"
    ]
   },
   "outputs": [
    {
     "name": "stdout",
     "output_type": "stream",
     "text": [
      "Solution is correct!\n"
     ]
    }
   ],
   "source": [
    "import numpy as np\n",
    "\n",
    "assert \"Attr37\" not in X.columns\n",
    "assert not np.any(np.isnan(X_train))\n",
    "assert not np.any(np.isnan(X_test))\n",
    "\n",
    "print(\"Solution is correct!\")"
   ]
  },
  {
   "cell_type": "markdown",
   "metadata": {
    "editable": true,
    "pycharm": {
     "name": "#%% md\n"
    },
    "slideshow": {
     "slide_type": ""
    },
    "tags": []
   },
   "source": [
    "## Prosta klasyfikacja"
   ]
  },
  {
   "cell_type": "markdown",
   "metadata": {
    "editable": true,
    "pycharm": {
     "name": "#%% md\n"
    },
    "slideshow": {
     "slide_type": ""
    },
    "tags": []
   },
   "source": [
    "Zanim przejdzie się do modeli bardziej złożonych, trzeba najpierw wypróbować coś prostego, żeby mieć punkt odniesienia. Tworzy się dlatego **modele bazowe (baselines)**.\n",
    "\n",
    "W naszym przypadku będzie to **drzewo decyzyjne (decision tree)**. Jest to drzewo binarne z decyzjami if-else, prowadzącymi do klasyfikacji danego przykładu w liściu. Każdy podział w drzewie to pytanie postaci \"Czy wartość cechy X jest większa lub równa Y?\". Trening takiego drzewa to prosty algorytm zachłanny, bardzo przypomina budowę zwykłego drzewa binarnego. Ma on następujące kroki dla każdego węzła tego drzewa:\n",
    "1. Sprawdź po kolei wszystkie możliwe punkty podziału, czyli każdą (unikalną) wartość każdej cechy, po kolei.\n",
    "2. Dla każdego przypadku podziel zbiór na 2 części: niespełniający warunku (lewy potomek) i spełniający warunek (prawy potomek).\n",
    "3. Oblicz jakość podziału według wybranej funkcji jakości. Im lepiej warunek rozdziela klasy od siebie (im bardziej zunifikowane są węzły-dzieci), tym wyższa jakość podziału. Innymi słowy, chcemy, żeby do jednego dziecka trafiła jedna klasa, a do drugiego druga.\n",
    "4. Wybierz podział o najwyższej jakości.\n",
    "\n",
    "Taki algorytm wykonuje się rekurencyjnie, aż otrzymamy węzeł czysty (pure leaf), czyli taki, w którym są przykłady z tylko jednej klasy. Typowo wykorzystywaną funkcją jakości (kryterium podziału) jest entropia Shannona - im niższa entropia, tym bardziej jednolite są klasy w węźle (czyli wybieramy podział o najniższej entropii).\n",
    "\n",
    "Powyższe wytłumaczenie algorytmu jest oczywiście nieformalne i dość skrótowe. Doskonałe tłumaczenie, z interaktywnymi wizualizacjami, dostępne jest [tutaj](https://mlu-explain.github.io/decision-tree/). W formie filmów - [tutaj](https://www.youtube.com/watch?v=ZVR2Way4nwQ) oraz [tutaj](https://www.youtube.com/watch?v=_L39rN6gz7Y). Dla drzew do regresji - [ten film](https://www.youtube.com/watch?v=g9c66TUylZ4).\n",
    "\n",
    "<img src = https://miro.medium.com/max/1838/1*WyTsLwcAXivFCgNtF0OPqA.png width = \"642\" height = \"451\" >\n",
    "\n",
    "Warto zauważyć, że taka konstrukcja prowadzi zawsze do overfittingu. Otrzymanie liści czystych oznacza, że mamy 100% dokładności na zbiorze treningowym, czyli perfekcyjnie przeuczony klasyfikator. W związku z tym nasze predykcje mają bardzo niski bias, ale bardzo dużą wariancję. Pomimo tego drzewa potrafią dać bardzo przyzwoite wyniki, a w celu ich poprawy można je regularyzować, aby mieć mniej \"rozrośnięte\" drzewo. [Film dla zainteresowanych](https://www.youtube.com/watch?v=D0efHEJsfHo).\n"
   ]
  },
  {
   "cell_type": "markdown",
   "metadata": {
    "editable": true,
    "slideshow": {
     "slide_type": ""
    },
    "tags": []
   },
   "source": [
    "Mając wytrenowany klasyfikator, trzeba oczywiście sprawdzić, jak dobrze on sobie radzi. Tu natrafiamy na kolejny problem z klasyfikacją niezbalansowaną - zwykła celność (accuracy) na pewno nie zadziała! Typowo wykorzystuje się AUC, nazywane też AUROC (Area Under Receiver Operating Characteristic), bo metryka ta uwzględnia niezbalansowanie klas. \n",
    "\n",
    "Bardzo dobre i bardziej szczegółowe wytłumaczenie, z interktywnymi wizualizacjami, można znaleć [tutaj](https://mlu-explain.github.io/roc-auc/). Dla preferujących filmy - [tutaj](https://www.youtube.com/watch?v=4jRBRDbJemM).\n",
    "\n",
    "Co ważne, z definicji AUROC, trzeba w niej użyć **prawdopodobieństw klasy pozytywnej** (klasy 1). W Scikit-learn'ie zwraca je metoda `.predict_proba()`, która w kolejnych kolumnach zwraca prawdopodobieństwa poszczególnych klas."
   ]
  },
  {
   "cell_type": "markdown",
   "metadata": {
    "editable": true,
    "slideshow": {
     "slide_type": ""
    },
    "tags": [
     "ex"
    ]
   },
   "source": [
    "### Zadanie 3 (0.75 punktu)"
   ]
  },
  {
   "cell_type": "markdown",
   "metadata": {
    "editable": true,
    "slideshow": {
     "slide_type": ""
    },
    "tags": [
     "ex"
    ]
   },
   "source": [
    "1. Wytrenuj klasyfikator drzewa decyzyjnego (klasa `DecisionTreeClassifier`). Użyj entropii jako kryterium podziału.\n",
    "2. Oblicz i wypisz AUROC na zbiorze testowym dla drzewa decyzyjnego (funkcja `roc_auc_score`).\n",
    "3. Skomentuj wynik - czy twoim zdaniem osiągnięty AUROC to dużo czy mało, biorąc pod uwagę możliwy zakres wartości tej metryki?\n",
    "\n",
    "**Uwaga:**\n",
    "- pamiętaj o użyciu stałego ziarna `random_state=0`,\n",
    "- jeżeli drzewo nie wyświetli się samo, użyj `plt.show()` z Matplotliba,\n",
    "- pamiętaj o tym, żeby przekazać do metryki AUROC **prawdopodobieństwa klasy pozytywnej**, a nie binarne predykcje!"
   ]
  },
  {
   "cell_type": "code",
   "execution_count": 14,
   "metadata": {
    "editable": true,
    "pycharm": {
     "name": "#%%\n"
    },
    "slideshow": {
     "slide_type": ""
    },
    "tags": [
     "ex"
    ]
   },
   "outputs": [
    {
     "data": {
      "text/html": [
       "<style>#sk-container-id-1 {\n",
       "  /* Definition of color scheme common for light and dark mode */\n",
       "  --sklearn-color-text: black;\n",
       "  --sklearn-color-line: gray;\n",
       "  /* Definition of color scheme for unfitted estimators */\n",
       "  --sklearn-color-unfitted-level-0: #fff5e6;\n",
       "  --sklearn-color-unfitted-level-1: #f6e4d2;\n",
       "  --sklearn-color-unfitted-level-2: #ffe0b3;\n",
       "  --sklearn-color-unfitted-level-3: chocolate;\n",
       "  /* Definition of color scheme for fitted estimators */\n",
       "  --sklearn-color-fitted-level-0: #f0f8ff;\n",
       "  --sklearn-color-fitted-level-1: #d4ebff;\n",
       "  --sklearn-color-fitted-level-2: #b3dbfd;\n",
       "  --sklearn-color-fitted-level-3: cornflowerblue;\n",
       "\n",
       "  /* Specific color for light theme */\n",
       "  --sklearn-color-text-on-default-background: var(--sg-text-color, var(--theme-code-foreground, var(--jp-content-font-color1, black)));\n",
       "  --sklearn-color-background: var(--sg-background-color, var(--theme-background, var(--jp-layout-color0, white)));\n",
       "  --sklearn-color-border-box: var(--sg-text-color, var(--theme-code-foreground, var(--jp-content-font-color1, black)));\n",
       "  --sklearn-color-icon: #696969;\n",
       "\n",
       "  @media (prefers-color-scheme: dark) {\n",
       "    /* Redefinition of color scheme for dark theme */\n",
       "    --sklearn-color-text-on-default-background: var(--sg-text-color, var(--theme-code-foreground, var(--jp-content-font-color1, white)));\n",
       "    --sklearn-color-background: var(--sg-background-color, var(--theme-background, var(--jp-layout-color0, #111)));\n",
       "    --sklearn-color-border-box: var(--sg-text-color, var(--theme-code-foreground, var(--jp-content-font-color1, white)));\n",
       "    --sklearn-color-icon: #878787;\n",
       "  }\n",
       "}\n",
       "\n",
       "#sk-container-id-1 {\n",
       "  color: var(--sklearn-color-text);\n",
       "}\n",
       "\n",
       "#sk-container-id-1 pre {\n",
       "  padding: 0;\n",
       "}\n",
       "\n",
       "#sk-container-id-1 input.sk-hidden--visually {\n",
       "  border: 0;\n",
       "  clip: rect(1px 1px 1px 1px);\n",
       "  clip: rect(1px, 1px, 1px, 1px);\n",
       "  height: 1px;\n",
       "  margin: -1px;\n",
       "  overflow: hidden;\n",
       "  padding: 0;\n",
       "  position: absolute;\n",
       "  width: 1px;\n",
       "}\n",
       "\n",
       "#sk-container-id-1 div.sk-dashed-wrapped {\n",
       "  border: 1px dashed var(--sklearn-color-line);\n",
       "  margin: 0 0.4em 0.5em 0.4em;\n",
       "  box-sizing: border-box;\n",
       "  padding-bottom: 0.4em;\n",
       "  background-color: var(--sklearn-color-background);\n",
       "}\n",
       "\n",
       "#sk-container-id-1 div.sk-container {\n",
       "  /* jupyter's `normalize.less` sets `[hidden] { display: none; }`\n",
       "     but bootstrap.min.css set `[hidden] { display: none !important; }`\n",
       "     so we also need the `!important` here to be able to override the\n",
       "     default hidden behavior on the sphinx rendered scikit-learn.org.\n",
       "     See: https://github.com/scikit-learn/scikit-learn/issues/21755 */\n",
       "  display: inline-block !important;\n",
       "  position: relative;\n",
       "}\n",
       "\n",
       "#sk-container-id-1 div.sk-text-repr-fallback {\n",
       "  display: none;\n",
       "}\n",
       "\n",
       "div.sk-parallel-item,\n",
       "div.sk-serial,\n",
       "div.sk-item {\n",
       "  /* draw centered vertical line to link estimators */\n",
       "  background-image: linear-gradient(var(--sklearn-color-text-on-default-background), var(--sklearn-color-text-on-default-background));\n",
       "  background-size: 2px 100%;\n",
       "  background-repeat: no-repeat;\n",
       "  background-position: center center;\n",
       "}\n",
       "\n",
       "/* Parallel-specific style estimator block */\n",
       "\n",
       "#sk-container-id-1 div.sk-parallel-item::after {\n",
       "  content: \"\";\n",
       "  width: 100%;\n",
       "  border-bottom: 2px solid var(--sklearn-color-text-on-default-background);\n",
       "  flex-grow: 1;\n",
       "}\n",
       "\n",
       "#sk-container-id-1 div.sk-parallel {\n",
       "  display: flex;\n",
       "  align-items: stretch;\n",
       "  justify-content: center;\n",
       "  background-color: var(--sklearn-color-background);\n",
       "  position: relative;\n",
       "}\n",
       "\n",
       "#sk-container-id-1 div.sk-parallel-item {\n",
       "  display: flex;\n",
       "  flex-direction: column;\n",
       "}\n",
       "\n",
       "#sk-container-id-1 div.sk-parallel-item:first-child::after {\n",
       "  align-self: flex-end;\n",
       "  width: 50%;\n",
       "}\n",
       "\n",
       "#sk-container-id-1 div.sk-parallel-item:last-child::after {\n",
       "  align-self: flex-start;\n",
       "  width: 50%;\n",
       "}\n",
       "\n",
       "#sk-container-id-1 div.sk-parallel-item:only-child::after {\n",
       "  width: 0;\n",
       "}\n",
       "\n",
       "/* Serial-specific style estimator block */\n",
       "\n",
       "#sk-container-id-1 div.sk-serial {\n",
       "  display: flex;\n",
       "  flex-direction: column;\n",
       "  align-items: center;\n",
       "  background-color: var(--sklearn-color-background);\n",
       "  padding-right: 1em;\n",
       "  padding-left: 1em;\n",
       "}\n",
       "\n",
       "\n",
       "/* Toggleable style: style used for estimator/Pipeline/ColumnTransformer box that is\n",
       "clickable and can be expanded/collapsed.\n",
       "- Pipeline and ColumnTransformer use this feature and define the default style\n",
       "- Estimators will overwrite some part of the style using the `sk-estimator` class\n",
       "*/\n",
       "\n",
       "/* Pipeline and ColumnTransformer style (default) */\n",
       "\n",
       "#sk-container-id-1 div.sk-toggleable {\n",
       "  /* Default theme specific background. It is overwritten whether we have a\n",
       "  specific estimator or a Pipeline/ColumnTransformer */\n",
       "  background-color: var(--sklearn-color-background);\n",
       "}\n",
       "\n",
       "/* Toggleable label */\n",
       "#sk-container-id-1 label.sk-toggleable__label {\n",
       "  cursor: pointer;\n",
       "  display: block;\n",
       "  width: 100%;\n",
       "  margin-bottom: 0;\n",
       "  padding: 0.5em;\n",
       "  box-sizing: border-box;\n",
       "  text-align: center;\n",
       "}\n",
       "\n",
       "#sk-container-id-1 label.sk-toggleable__label-arrow:before {\n",
       "  /* Arrow on the left of the label */\n",
       "  content: \"▸\";\n",
       "  float: left;\n",
       "  margin-right: 0.25em;\n",
       "  color: var(--sklearn-color-icon);\n",
       "}\n",
       "\n",
       "#sk-container-id-1 label.sk-toggleable__label-arrow:hover:before {\n",
       "  color: var(--sklearn-color-text);\n",
       "}\n",
       "\n",
       "/* Toggleable content - dropdown */\n",
       "\n",
       "#sk-container-id-1 div.sk-toggleable__content {\n",
       "  max-height: 0;\n",
       "  max-width: 0;\n",
       "  overflow: hidden;\n",
       "  text-align: left;\n",
       "  /* unfitted */\n",
       "  background-color: var(--sklearn-color-unfitted-level-0);\n",
       "}\n",
       "\n",
       "#sk-container-id-1 div.sk-toggleable__content.fitted {\n",
       "  /* fitted */\n",
       "  background-color: var(--sklearn-color-fitted-level-0);\n",
       "}\n",
       "\n",
       "#sk-container-id-1 div.sk-toggleable__content pre {\n",
       "  margin: 0.2em;\n",
       "  border-radius: 0.25em;\n",
       "  color: var(--sklearn-color-text);\n",
       "  /* unfitted */\n",
       "  background-color: var(--sklearn-color-unfitted-level-0);\n",
       "}\n",
       "\n",
       "#sk-container-id-1 div.sk-toggleable__content.fitted pre {\n",
       "  /* unfitted */\n",
       "  background-color: var(--sklearn-color-fitted-level-0);\n",
       "}\n",
       "\n",
       "#sk-container-id-1 input.sk-toggleable__control:checked~div.sk-toggleable__content {\n",
       "  /* Expand drop-down */\n",
       "  max-height: 200px;\n",
       "  max-width: 100%;\n",
       "  overflow: auto;\n",
       "}\n",
       "\n",
       "#sk-container-id-1 input.sk-toggleable__control:checked~label.sk-toggleable__label-arrow:before {\n",
       "  content: \"▾\";\n",
       "}\n",
       "\n",
       "/* Pipeline/ColumnTransformer-specific style */\n",
       "\n",
       "#sk-container-id-1 div.sk-label input.sk-toggleable__control:checked~label.sk-toggleable__label {\n",
       "  color: var(--sklearn-color-text);\n",
       "  background-color: var(--sklearn-color-unfitted-level-2);\n",
       "}\n",
       "\n",
       "#sk-container-id-1 div.sk-label.fitted input.sk-toggleable__control:checked~label.sk-toggleable__label {\n",
       "  background-color: var(--sklearn-color-fitted-level-2);\n",
       "}\n",
       "\n",
       "/* Estimator-specific style */\n",
       "\n",
       "/* Colorize estimator box */\n",
       "#sk-container-id-1 div.sk-estimator input.sk-toggleable__control:checked~label.sk-toggleable__label {\n",
       "  /* unfitted */\n",
       "  background-color: var(--sklearn-color-unfitted-level-2);\n",
       "}\n",
       "\n",
       "#sk-container-id-1 div.sk-estimator.fitted input.sk-toggleable__control:checked~label.sk-toggleable__label {\n",
       "  /* fitted */\n",
       "  background-color: var(--sklearn-color-fitted-level-2);\n",
       "}\n",
       "\n",
       "#sk-container-id-1 div.sk-label label.sk-toggleable__label,\n",
       "#sk-container-id-1 div.sk-label label {\n",
       "  /* The background is the default theme color */\n",
       "  color: var(--sklearn-color-text-on-default-background);\n",
       "}\n",
       "\n",
       "/* On hover, darken the color of the background */\n",
       "#sk-container-id-1 div.sk-label:hover label.sk-toggleable__label {\n",
       "  color: var(--sklearn-color-text);\n",
       "  background-color: var(--sklearn-color-unfitted-level-2);\n",
       "}\n",
       "\n",
       "/* Label box, darken color on hover, fitted */\n",
       "#sk-container-id-1 div.sk-label.fitted:hover label.sk-toggleable__label.fitted {\n",
       "  color: var(--sklearn-color-text);\n",
       "  background-color: var(--sklearn-color-fitted-level-2);\n",
       "}\n",
       "\n",
       "/* Estimator label */\n",
       "\n",
       "#sk-container-id-1 div.sk-label label {\n",
       "  font-family: monospace;\n",
       "  font-weight: bold;\n",
       "  display: inline-block;\n",
       "  line-height: 1.2em;\n",
       "}\n",
       "\n",
       "#sk-container-id-1 div.sk-label-container {\n",
       "  text-align: center;\n",
       "}\n",
       "\n",
       "/* Estimator-specific */\n",
       "#sk-container-id-1 div.sk-estimator {\n",
       "  font-family: monospace;\n",
       "  border: 1px dotted var(--sklearn-color-border-box);\n",
       "  border-radius: 0.25em;\n",
       "  box-sizing: border-box;\n",
       "  margin-bottom: 0.5em;\n",
       "  /* unfitted */\n",
       "  background-color: var(--sklearn-color-unfitted-level-0);\n",
       "}\n",
       "\n",
       "#sk-container-id-1 div.sk-estimator.fitted {\n",
       "  /* fitted */\n",
       "  background-color: var(--sklearn-color-fitted-level-0);\n",
       "}\n",
       "\n",
       "/* on hover */\n",
       "#sk-container-id-1 div.sk-estimator:hover {\n",
       "  /* unfitted */\n",
       "  background-color: var(--sklearn-color-unfitted-level-2);\n",
       "}\n",
       "\n",
       "#sk-container-id-1 div.sk-estimator.fitted:hover {\n",
       "  /* fitted */\n",
       "  background-color: var(--sklearn-color-fitted-level-2);\n",
       "}\n",
       "\n",
       "/* Specification for estimator info (e.g. \"i\" and \"?\") */\n",
       "\n",
       "/* Common style for \"i\" and \"?\" */\n",
       "\n",
       ".sk-estimator-doc-link,\n",
       "a:link.sk-estimator-doc-link,\n",
       "a:visited.sk-estimator-doc-link {\n",
       "  float: right;\n",
       "  font-size: smaller;\n",
       "  line-height: 1em;\n",
       "  font-family: monospace;\n",
       "  background-color: var(--sklearn-color-background);\n",
       "  border-radius: 1em;\n",
       "  height: 1em;\n",
       "  width: 1em;\n",
       "  text-decoration: none !important;\n",
       "  margin-left: 1ex;\n",
       "  /* unfitted */\n",
       "  border: var(--sklearn-color-unfitted-level-1) 1pt solid;\n",
       "  color: var(--sklearn-color-unfitted-level-1);\n",
       "}\n",
       "\n",
       ".sk-estimator-doc-link.fitted,\n",
       "a:link.sk-estimator-doc-link.fitted,\n",
       "a:visited.sk-estimator-doc-link.fitted {\n",
       "  /* fitted */\n",
       "  border: var(--sklearn-color-fitted-level-1) 1pt solid;\n",
       "  color: var(--sklearn-color-fitted-level-1);\n",
       "}\n",
       "\n",
       "/* On hover */\n",
       "div.sk-estimator:hover .sk-estimator-doc-link:hover,\n",
       ".sk-estimator-doc-link:hover,\n",
       "div.sk-label-container:hover .sk-estimator-doc-link:hover,\n",
       ".sk-estimator-doc-link:hover {\n",
       "  /* unfitted */\n",
       "  background-color: var(--sklearn-color-unfitted-level-3);\n",
       "  color: var(--sklearn-color-background);\n",
       "  text-decoration: none;\n",
       "}\n",
       "\n",
       "div.sk-estimator.fitted:hover .sk-estimator-doc-link.fitted:hover,\n",
       ".sk-estimator-doc-link.fitted:hover,\n",
       "div.sk-label-container:hover .sk-estimator-doc-link.fitted:hover,\n",
       ".sk-estimator-doc-link.fitted:hover {\n",
       "  /* fitted */\n",
       "  background-color: var(--sklearn-color-fitted-level-3);\n",
       "  color: var(--sklearn-color-background);\n",
       "  text-decoration: none;\n",
       "}\n",
       "\n",
       "/* Span, style for the box shown on hovering the info icon */\n",
       ".sk-estimator-doc-link span {\n",
       "  display: none;\n",
       "  z-index: 9999;\n",
       "  position: relative;\n",
       "  font-weight: normal;\n",
       "  right: .2ex;\n",
       "  padding: .5ex;\n",
       "  margin: .5ex;\n",
       "  width: min-content;\n",
       "  min-width: 20ex;\n",
       "  max-width: 50ex;\n",
       "  color: var(--sklearn-color-text);\n",
       "  box-shadow: 2pt 2pt 4pt #999;\n",
       "  /* unfitted */\n",
       "  background: var(--sklearn-color-unfitted-level-0);\n",
       "  border: .5pt solid var(--sklearn-color-unfitted-level-3);\n",
       "}\n",
       "\n",
       ".sk-estimator-doc-link.fitted span {\n",
       "  /* fitted */\n",
       "  background: var(--sklearn-color-fitted-level-0);\n",
       "  border: var(--sklearn-color-fitted-level-3);\n",
       "}\n",
       "\n",
       ".sk-estimator-doc-link:hover span {\n",
       "  display: block;\n",
       "}\n",
       "\n",
       "/* \"?\"-specific style due to the `<a>` HTML tag */\n",
       "\n",
       "#sk-container-id-1 a.estimator_doc_link {\n",
       "  float: right;\n",
       "  font-size: 1rem;\n",
       "  line-height: 1em;\n",
       "  font-family: monospace;\n",
       "  background-color: var(--sklearn-color-background);\n",
       "  border-radius: 1rem;\n",
       "  height: 1rem;\n",
       "  width: 1rem;\n",
       "  text-decoration: none;\n",
       "  /* unfitted */\n",
       "  color: var(--sklearn-color-unfitted-level-1);\n",
       "  border: var(--sklearn-color-unfitted-level-1) 1pt solid;\n",
       "}\n",
       "\n",
       "#sk-container-id-1 a.estimator_doc_link.fitted {\n",
       "  /* fitted */\n",
       "  border: var(--sklearn-color-fitted-level-1) 1pt solid;\n",
       "  color: var(--sklearn-color-fitted-level-1);\n",
       "}\n",
       "\n",
       "/* On hover */\n",
       "#sk-container-id-1 a.estimator_doc_link:hover {\n",
       "  /* unfitted */\n",
       "  background-color: var(--sklearn-color-unfitted-level-3);\n",
       "  color: var(--sklearn-color-background);\n",
       "  text-decoration: none;\n",
       "}\n",
       "\n",
       "#sk-container-id-1 a.estimator_doc_link.fitted:hover {\n",
       "  /* fitted */\n",
       "  background-color: var(--sklearn-color-fitted-level-3);\n",
       "}\n",
       "</style><div id=\"sk-container-id-1\" class=\"sk-top-container\"><div class=\"sk-text-repr-fallback\"><pre>DecisionTreeClassifier(criterion=&#x27;entropy&#x27;, random_state=0)</pre><b>In a Jupyter environment, please rerun this cell to show the HTML representation or trust the notebook. <br />On GitHub, the HTML representation is unable to render, please try loading this page with nbviewer.org.</b></div><div class=\"sk-container\" hidden><div class=\"sk-item\"><div class=\"sk-estimator fitted sk-toggleable\"><input class=\"sk-toggleable__control sk-hidden--visually\" id=\"sk-estimator-id-1\" type=\"checkbox\" checked><label for=\"sk-estimator-id-1\" class=\"sk-toggleable__label fitted sk-toggleable__label-arrow fitted\">&nbsp;&nbsp;DecisionTreeClassifier<a class=\"sk-estimator-doc-link fitted\" rel=\"noreferrer\" target=\"_blank\" href=\"https://scikit-learn.org/1.5/modules/generated/sklearn.tree.DecisionTreeClassifier.html\">?<span>Documentation for DecisionTreeClassifier</span></a><span class=\"sk-estimator-doc-link fitted\">i<span>Fitted</span></span></label><div class=\"sk-toggleable__content fitted\"><pre>DecisionTreeClassifier(criterion=&#x27;entropy&#x27;, random_state=0)</pre></div> </div></div></div></div>"
      ],
      "text/plain": [
       "DecisionTreeClassifier(criterion='entropy', random_state=0)"
      ]
     },
     "execution_count": 14,
     "metadata": {},
     "output_type": "execute_result"
    }
   ],
   "source": [
    "# your_code\n",
    "from sklearn.tree import DecisionTreeClassifier, plot_tree\n",
    "from sklearn.metrics import roc_auc_score\n",
    "\n",
    "clf = DecisionTreeClassifier(criterion=\"entropy\", random_state=0)\n",
    "clf.fit(X_train, y_train)"
   ]
  },
  {
   "cell_type": "code",
   "execution_count": 15,
   "metadata": {},
   "outputs": [
    {
     "name": "stdout",
     "output_type": "stream",
     "text": [
      "0.7266899766899767\n"
     ]
    },
    {
     "data": {
      "image/png": "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",
      "text/plain": [
       "<Figure size 1200x800 with 1 Axes>"
      ]
     },
     "metadata": {},
     "output_type": "display_data"
    }
   ],
   "source": [
    "y_proba = clf.predict_proba(X_test)[:, 1]\n",
    "auroc = roc_auc_score(y_test, y_proba)\n",
    "print(auroc)\n",
    "\n",
    "plt.figure(figsize=(12, 8))\n",
    "plot_tree(clf)\n",
    "plt.show()"
   ]
  },
  {
   "cell_type": "code",
   "execution_count": 16,
   "metadata": {
    "editable": true,
    "slideshow": {
     "slide_type": ""
    },
    "tags": [
     "ex"
    ]
   },
   "outputs": [
    {
     "name": "stdout",
     "output_type": "stream",
     "text": [
      "Solution is correct!\n"
     ]
    }
   ],
   "source": [
    "assert auroc > 0.7\n",
    "\n",
    "print(\"Solution is correct!\")"
   ]
  },
  {
   "cell_type": "markdown",
   "metadata": {
    "editable": true,
    "pycharm": {
     "name": "#%% md\n"
    },
    "slideshow": {
     "slide_type": ""
    },
    "tags": [
     "ex"
    ]
   },
   "source": [
    "// skomentuj tutaj<br>\n",
    "AUROC w okolicy 0.7 wydaje się dobrym wynikiem, ponieważ ta metryka przyjmuje wartości [0, 1], a wartości z przedziału [0.5, 1] oznaczają dobrą wydajność (lepszą niż losowy klasyfikator)."
   ]
  },
  {
   "cell_type": "markdown",
   "metadata": {
    "editable": true,
    "pycharm": {
     "name": "#%% md\n"
    },
    "slideshow": {
     "slide_type": ""
    },
    "tags": []
   },
   "source": [
    "## Uczenie zespołowe, bagging, lasy losowe"
   ]
  },
  {
   "cell_type": "markdown",
   "metadata": {
    "editable": true,
    "pycharm": {
     "name": "#%% md\n"
    },
    "slideshow": {
     "slide_type": ""
    },
    "tags": []
   },
   "source": [
    "Bardzo często wiele klasyfikatorów działających razem daje lepsze wyniki niż pojedynczy klasyfikator. Takie podejście nazywa się **uczeniem zespołowym (ensemble learning)**. Istnieje wiele różnych podejść do tworzenia takich klasyfikatorów złożonych (ensemble classifiers).\n",
    "\n",
    "Podstawową metodą jest **bagging**:\n",
    "1. Wylosuj N (np. 100, 500, ...) próbek boostrapowych (boostrap sample) ze zbioru treningowego. Próbka boostrapowa to po prostu losowanie ze zwracaniem, gdzie dla wejściowego zbioru z M wierszami losujemy M próbek (czyli tyle ile było w początkowym zbiorze), spośród N wylosowanych próbek. Będą tam powtórzenia, średnio nawet 1/3, ale się tym nie przejmujemy.\n",
    "2. Wytrenuj klasyfikator bazowy (base classifier) na każdej z próbek boostrapowych.\n",
    "3. Stwórz klasyfikator złożony poprzez uśrednienie predykcji każdego z klasyfikatorów bazowych.\n",
    "\n",
    "<img src = https://upload.wikimedia.org/wikipedia/commons/thumb/c/c8/Ensemble_Bagging.svg/440px-Ensemble_Bagging.svg.png width = \"440\" height = \"248\" >\n",
    "\n",
    "Typowo klasyfikatory bazowe są bardzo proste, żeby można było szybko wytrenować ich dużą liczbę. Prawie zawsze używa się do tego drzew decyzyjnych. Dla klasyfikacji uśrednienie wyników polega na głosowaniu - dla nowej próbki każdy klasyfikator bazowy ją klasyfikuje, sumuje się głosy na każdą klasę i zwraca najbardziej popularną decyzję.\n",
    "\n",
    "Taki sposób uczenia zmniejsza wariancję klasyfikatora. Intuicyjnie, skoro coś uśredniamy, to siłą rzeczy będzie mniej rozrzucone, bo dużo ciężej będzie osiągnąć jakąś skrajność. Redukuje to też overfitting.\n",
    "\n",
    "**Lasy losowe (Random Forests)** to ulepszenie baggingu. Zaobserwowano, że pomimo losowania próbek boostrapowych, w baggingu poszczególne drzewa są do siebie bardzo podobne (są skorelowane), używają podobnych cech ze zbioru. My natomiast chcemy zróżnicowania, żeby mieć niski bias - redukcją wariancji zajmuje się uśrednianie. Dlatego używa się metody losowej podprzestrzeni (random subspace method) - przy każdym podziale drzewa losuje się tylko pewien podzbiór cech, których możemy użyć do tego podziału. Typowo jest to pierwiastek kwadratowy z ogólnej liczby cech.\n",
    "\n",
    "Zarówno bagging, jak i lasy losowe mają dodatkowo bardzo przyjemną własność - są mało czułe na hiperparametry, szczególnie na liczbę drzew. W praktyce wystarczy ustawić 500 czy 1000 drzew i klasyfikator będzie dobrze działać. Dalsze dostrajanie hiperparametrów może jeszcze trochę poprawić wyniki, ale nie tak bardzo, jak przy innych klasyfikatorach. Jest to zatem doskonały wybór domyślny, kiedy nie wiemy, jakiego klasyfikatora użyć.\n",
    "\n",
    "Dodatkowo jest to problem **embarassingly parallel** - drzewa można trenować w 100% równolegle, dzięki czemu jest to dodatkowo wydajna obliczeniowo metoda.\n",
    "\n",
    "Głębsze wytłumaczenie, z interaktywnymi wizualizacjami, można znaleźć [tutaj](https://mlu-explain.github.io/random-forest/). Dobrze tłumaczy je też [ta seria filmów](https://www.youtube.com/watch?v=J4Wdy0Wc_xQ&t=480s)."
   ]
  },
  {
   "cell_type": "markdown",
   "metadata": {
    "editable": true,
    "slideshow": {
     "slide_type": ""
    },
    "tags": [
     "ex"
    ]
   },
   "source": [
    "### Zadanie 4 (0.5 punktu)"
   ]
  },
  {
   "cell_type": "markdown",
   "metadata": {
    "editable": true,
    "slideshow": {
     "slide_type": ""
    },
    "tags": [
     "ex"
    ]
   },
   "source": [
    "1. Wytrenuj klasyfikator Random Forest (klasa `RandomForestClassifier`). Użyj 500 drzew i entropii jako kryterium podziału.\n",
    "2. Sprawdź AUROC na zbiorze testowym.\n",
    "3. Skomentuj wynik w odniesieniu do drzewa decyzyjnego.\n",
    "\n",
    "**Uwaga:** pamiętaj o ustawieniu `random_state=0`. Dla przyspieszenia ustaw `n_jobs=-1` (użyje tylu procesów, ile masz dostępnych rdzeni procesora). Pamiętaj też o przekazaniu prawdopodobieństw do metryki AUROC."
   ]
  },
  {
   "cell_type": "code",
   "execution_count": 17,
   "metadata": {
    "editable": true,
    "pycharm": {
     "name": "#%%\n"
    },
    "slideshow": {
     "slide_type": ""
    },
    "tags": [
     "ex"
    ]
   },
   "outputs": [
    {
     "data": {
      "text/html": [
       "<style>#sk-container-id-2 {\n",
       "  /* Definition of color scheme common for light and dark mode */\n",
       "  --sklearn-color-text: black;\n",
       "  --sklearn-color-line: gray;\n",
       "  /* Definition of color scheme for unfitted estimators */\n",
       "  --sklearn-color-unfitted-level-0: #fff5e6;\n",
       "  --sklearn-color-unfitted-level-1: #f6e4d2;\n",
       "  --sklearn-color-unfitted-level-2: #ffe0b3;\n",
       "  --sklearn-color-unfitted-level-3: chocolate;\n",
       "  /* Definition of color scheme for fitted estimators */\n",
       "  --sklearn-color-fitted-level-0: #f0f8ff;\n",
       "  --sklearn-color-fitted-level-1: #d4ebff;\n",
       "  --sklearn-color-fitted-level-2: #b3dbfd;\n",
       "  --sklearn-color-fitted-level-3: cornflowerblue;\n",
       "\n",
       "  /* Specific color for light theme */\n",
       "  --sklearn-color-text-on-default-background: var(--sg-text-color, var(--theme-code-foreground, var(--jp-content-font-color1, black)));\n",
       "  --sklearn-color-background: var(--sg-background-color, var(--theme-background, var(--jp-layout-color0, white)));\n",
       "  --sklearn-color-border-box: var(--sg-text-color, var(--theme-code-foreground, var(--jp-content-font-color1, black)));\n",
       "  --sklearn-color-icon: #696969;\n",
       "\n",
       "  @media (prefers-color-scheme: dark) {\n",
       "    /* Redefinition of color scheme for dark theme */\n",
       "    --sklearn-color-text-on-default-background: var(--sg-text-color, var(--theme-code-foreground, var(--jp-content-font-color1, white)));\n",
       "    --sklearn-color-background: var(--sg-background-color, var(--theme-background, var(--jp-layout-color0, #111)));\n",
       "    --sklearn-color-border-box: var(--sg-text-color, var(--theme-code-foreground, var(--jp-content-font-color1, white)));\n",
       "    --sklearn-color-icon: #878787;\n",
       "  }\n",
       "}\n",
       "\n",
       "#sk-container-id-2 {\n",
       "  color: var(--sklearn-color-text);\n",
       "}\n",
       "\n",
       "#sk-container-id-2 pre {\n",
       "  padding: 0;\n",
       "}\n",
       "\n",
       "#sk-container-id-2 input.sk-hidden--visually {\n",
       "  border: 0;\n",
       "  clip: rect(1px 1px 1px 1px);\n",
       "  clip: rect(1px, 1px, 1px, 1px);\n",
       "  height: 1px;\n",
       "  margin: -1px;\n",
       "  overflow: hidden;\n",
       "  padding: 0;\n",
       "  position: absolute;\n",
       "  width: 1px;\n",
       "}\n",
       "\n",
       "#sk-container-id-2 div.sk-dashed-wrapped {\n",
       "  border: 1px dashed var(--sklearn-color-line);\n",
       "  margin: 0 0.4em 0.5em 0.4em;\n",
       "  box-sizing: border-box;\n",
       "  padding-bottom: 0.4em;\n",
       "  background-color: var(--sklearn-color-background);\n",
       "}\n",
       "\n",
       "#sk-container-id-2 div.sk-container {\n",
       "  /* jupyter's `normalize.less` sets `[hidden] { display: none; }`\n",
       "     but bootstrap.min.css set `[hidden] { display: none !important; }`\n",
       "     so we also need the `!important` here to be able to override the\n",
       "     default hidden behavior on the sphinx rendered scikit-learn.org.\n",
       "     See: https://github.com/scikit-learn/scikit-learn/issues/21755 */\n",
       "  display: inline-block !important;\n",
       "  position: relative;\n",
       "}\n",
       "\n",
       "#sk-container-id-2 div.sk-text-repr-fallback {\n",
       "  display: none;\n",
       "}\n",
       "\n",
       "div.sk-parallel-item,\n",
       "div.sk-serial,\n",
       "div.sk-item {\n",
       "  /* draw centered vertical line to link estimators */\n",
       "  background-image: linear-gradient(var(--sklearn-color-text-on-default-background), var(--sklearn-color-text-on-default-background));\n",
       "  background-size: 2px 100%;\n",
       "  background-repeat: no-repeat;\n",
       "  background-position: center center;\n",
       "}\n",
       "\n",
       "/* Parallel-specific style estimator block */\n",
       "\n",
       "#sk-container-id-2 div.sk-parallel-item::after {\n",
       "  content: \"\";\n",
       "  width: 100%;\n",
       "  border-bottom: 2px solid var(--sklearn-color-text-on-default-background);\n",
       "  flex-grow: 1;\n",
       "}\n",
       "\n",
       "#sk-container-id-2 div.sk-parallel {\n",
       "  display: flex;\n",
       "  align-items: stretch;\n",
       "  justify-content: center;\n",
       "  background-color: var(--sklearn-color-background);\n",
       "  position: relative;\n",
       "}\n",
       "\n",
       "#sk-container-id-2 div.sk-parallel-item {\n",
       "  display: flex;\n",
       "  flex-direction: column;\n",
       "}\n",
       "\n",
       "#sk-container-id-2 div.sk-parallel-item:first-child::after {\n",
       "  align-self: flex-end;\n",
       "  width: 50%;\n",
       "}\n",
       "\n",
       "#sk-container-id-2 div.sk-parallel-item:last-child::after {\n",
       "  align-self: flex-start;\n",
       "  width: 50%;\n",
       "}\n",
       "\n",
       "#sk-container-id-2 div.sk-parallel-item:only-child::after {\n",
       "  width: 0;\n",
       "}\n",
       "\n",
       "/* Serial-specific style estimator block */\n",
       "\n",
       "#sk-container-id-2 div.sk-serial {\n",
       "  display: flex;\n",
       "  flex-direction: column;\n",
       "  align-items: center;\n",
       "  background-color: var(--sklearn-color-background);\n",
       "  padding-right: 1em;\n",
       "  padding-left: 1em;\n",
       "}\n",
       "\n",
       "\n",
       "/* Toggleable style: style used for estimator/Pipeline/ColumnTransformer box that is\n",
       "clickable and can be expanded/collapsed.\n",
       "- Pipeline and ColumnTransformer use this feature and define the default style\n",
       "- Estimators will overwrite some part of the style using the `sk-estimator` class\n",
       "*/\n",
       "\n",
       "/* Pipeline and ColumnTransformer style (default) */\n",
       "\n",
       "#sk-container-id-2 div.sk-toggleable {\n",
       "  /* Default theme specific background. It is overwritten whether we have a\n",
       "  specific estimator or a Pipeline/ColumnTransformer */\n",
       "  background-color: var(--sklearn-color-background);\n",
       "}\n",
       "\n",
       "/* Toggleable label */\n",
       "#sk-container-id-2 label.sk-toggleable__label {\n",
       "  cursor: pointer;\n",
       "  display: block;\n",
       "  width: 100%;\n",
       "  margin-bottom: 0;\n",
       "  padding: 0.5em;\n",
       "  box-sizing: border-box;\n",
       "  text-align: center;\n",
       "}\n",
       "\n",
       "#sk-container-id-2 label.sk-toggleable__label-arrow:before {\n",
       "  /* Arrow on the left of the label */\n",
       "  content: \"▸\";\n",
       "  float: left;\n",
       "  margin-right: 0.25em;\n",
       "  color: var(--sklearn-color-icon);\n",
       "}\n",
       "\n",
       "#sk-container-id-2 label.sk-toggleable__label-arrow:hover:before {\n",
       "  color: var(--sklearn-color-text);\n",
       "}\n",
       "\n",
       "/* Toggleable content - dropdown */\n",
       "\n",
       "#sk-container-id-2 div.sk-toggleable__content {\n",
       "  max-height: 0;\n",
       "  max-width: 0;\n",
       "  overflow: hidden;\n",
       "  text-align: left;\n",
       "  /* unfitted */\n",
       "  background-color: var(--sklearn-color-unfitted-level-0);\n",
       "}\n",
       "\n",
       "#sk-container-id-2 div.sk-toggleable__content.fitted {\n",
       "  /* fitted */\n",
       "  background-color: var(--sklearn-color-fitted-level-0);\n",
       "}\n",
       "\n",
       "#sk-container-id-2 div.sk-toggleable__content pre {\n",
       "  margin: 0.2em;\n",
       "  border-radius: 0.25em;\n",
       "  color: var(--sklearn-color-text);\n",
       "  /* unfitted */\n",
       "  background-color: var(--sklearn-color-unfitted-level-0);\n",
       "}\n",
       "\n",
       "#sk-container-id-2 div.sk-toggleable__content.fitted pre {\n",
       "  /* unfitted */\n",
       "  background-color: var(--sklearn-color-fitted-level-0);\n",
       "}\n",
       "\n",
       "#sk-container-id-2 input.sk-toggleable__control:checked~div.sk-toggleable__content {\n",
       "  /* Expand drop-down */\n",
       "  max-height: 200px;\n",
       "  max-width: 100%;\n",
       "  overflow: auto;\n",
       "}\n",
       "\n",
       "#sk-container-id-2 input.sk-toggleable__control:checked~label.sk-toggleable__label-arrow:before {\n",
       "  content: \"▾\";\n",
       "}\n",
       "\n",
       "/* Pipeline/ColumnTransformer-specific style */\n",
       "\n",
       "#sk-container-id-2 div.sk-label input.sk-toggleable__control:checked~label.sk-toggleable__label {\n",
       "  color: var(--sklearn-color-text);\n",
       "  background-color: var(--sklearn-color-unfitted-level-2);\n",
       "}\n",
       "\n",
       "#sk-container-id-2 div.sk-label.fitted input.sk-toggleable__control:checked~label.sk-toggleable__label {\n",
       "  background-color: var(--sklearn-color-fitted-level-2);\n",
       "}\n",
       "\n",
       "/* Estimator-specific style */\n",
       "\n",
       "/* Colorize estimator box */\n",
       "#sk-container-id-2 div.sk-estimator input.sk-toggleable__control:checked~label.sk-toggleable__label {\n",
       "  /* unfitted */\n",
       "  background-color: var(--sklearn-color-unfitted-level-2);\n",
       "}\n",
       "\n",
       "#sk-container-id-2 div.sk-estimator.fitted input.sk-toggleable__control:checked~label.sk-toggleable__label {\n",
       "  /* fitted */\n",
       "  background-color: var(--sklearn-color-fitted-level-2);\n",
       "}\n",
       "\n",
       "#sk-container-id-2 div.sk-label label.sk-toggleable__label,\n",
       "#sk-container-id-2 div.sk-label label {\n",
       "  /* The background is the default theme color */\n",
       "  color: var(--sklearn-color-text-on-default-background);\n",
       "}\n",
       "\n",
       "/* On hover, darken the color of the background */\n",
       "#sk-container-id-2 div.sk-label:hover label.sk-toggleable__label {\n",
       "  color: var(--sklearn-color-text);\n",
       "  background-color: var(--sklearn-color-unfitted-level-2);\n",
       "}\n",
       "\n",
       "/* Label box, darken color on hover, fitted */\n",
       "#sk-container-id-2 div.sk-label.fitted:hover label.sk-toggleable__label.fitted {\n",
       "  color: var(--sklearn-color-text);\n",
       "  background-color: var(--sklearn-color-fitted-level-2);\n",
       "}\n",
       "\n",
       "/* Estimator label */\n",
       "\n",
       "#sk-container-id-2 div.sk-label label {\n",
       "  font-family: monospace;\n",
       "  font-weight: bold;\n",
       "  display: inline-block;\n",
       "  line-height: 1.2em;\n",
       "}\n",
       "\n",
       "#sk-container-id-2 div.sk-label-container {\n",
       "  text-align: center;\n",
       "}\n",
       "\n",
       "/* Estimator-specific */\n",
       "#sk-container-id-2 div.sk-estimator {\n",
       "  font-family: monospace;\n",
       "  border: 1px dotted var(--sklearn-color-border-box);\n",
       "  border-radius: 0.25em;\n",
       "  box-sizing: border-box;\n",
       "  margin-bottom: 0.5em;\n",
       "  /* unfitted */\n",
       "  background-color: var(--sklearn-color-unfitted-level-0);\n",
       "}\n",
       "\n",
       "#sk-container-id-2 div.sk-estimator.fitted {\n",
       "  /* fitted */\n",
       "  background-color: var(--sklearn-color-fitted-level-0);\n",
       "}\n",
       "\n",
       "/* on hover */\n",
       "#sk-container-id-2 div.sk-estimator:hover {\n",
       "  /* unfitted */\n",
       "  background-color: var(--sklearn-color-unfitted-level-2);\n",
       "}\n",
       "\n",
       "#sk-container-id-2 div.sk-estimator.fitted:hover {\n",
       "  /* fitted */\n",
       "  background-color: var(--sklearn-color-fitted-level-2);\n",
       "}\n",
       "\n",
       "/* Specification for estimator info (e.g. \"i\" and \"?\") */\n",
       "\n",
       "/* Common style for \"i\" and \"?\" */\n",
       "\n",
       ".sk-estimator-doc-link,\n",
       "a:link.sk-estimator-doc-link,\n",
       "a:visited.sk-estimator-doc-link {\n",
       "  float: right;\n",
       "  font-size: smaller;\n",
       "  line-height: 1em;\n",
       "  font-family: monospace;\n",
       "  background-color: var(--sklearn-color-background);\n",
       "  border-radius: 1em;\n",
       "  height: 1em;\n",
       "  width: 1em;\n",
       "  text-decoration: none !important;\n",
       "  margin-left: 1ex;\n",
       "  /* unfitted */\n",
       "  border: var(--sklearn-color-unfitted-level-1) 1pt solid;\n",
       "  color: var(--sklearn-color-unfitted-level-1);\n",
       "}\n",
       "\n",
       ".sk-estimator-doc-link.fitted,\n",
       "a:link.sk-estimator-doc-link.fitted,\n",
       "a:visited.sk-estimator-doc-link.fitted {\n",
       "  /* fitted */\n",
       "  border: var(--sklearn-color-fitted-level-1) 1pt solid;\n",
       "  color: var(--sklearn-color-fitted-level-1);\n",
       "}\n",
       "\n",
       "/* On hover */\n",
       "div.sk-estimator:hover .sk-estimator-doc-link:hover,\n",
       ".sk-estimator-doc-link:hover,\n",
       "div.sk-label-container:hover .sk-estimator-doc-link:hover,\n",
       ".sk-estimator-doc-link:hover {\n",
       "  /* unfitted */\n",
       "  background-color: var(--sklearn-color-unfitted-level-3);\n",
       "  color: var(--sklearn-color-background);\n",
       "  text-decoration: none;\n",
       "}\n",
       "\n",
       "div.sk-estimator.fitted:hover .sk-estimator-doc-link.fitted:hover,\n",
       ".sk-estimator-doc-link.fitted:hover,\n",
       "div.sk-label-container:hover .sk-estimator-doc-link.fitted:hover,\n",
       ".sk-estimator-doc-link.fitted:hover {\n",
       "  /* fitted */\n",
       "  background-color: var(--sklearn-color-fitted-level-3);\n",
       "  color: var(--sklearn-color-background);\n",
       "  text-decoration: none;\n",
       "}\n",
       "\n",
       "/* Span, style for the box shown on hovering the info icon */\n",
       ".sk-estimator-doc-link span {\n",
       "  display: none;\n",
       "  z-index: 9999;\n",
       "  position: relative;\n",
       "  font-weight: normal;\n",
       "  right: .2ex;\n",
       "  padding: .5ex;\n",
       "  margin: .5ex;\n",
       "  width: min-content;\n",
       "  min-width: 20ex;\n",
       "  max-width: 50ex;\n",
       "  color: var(--sklearn-color-text);\n",
       "  box-shadow: 2pt 2pt 4pt #999;\n",
       "  /* unfitted */\n",
       "  background: var(--sklearn-color-unfitted-level-0);\n",
       "  border: .5pt solid var(--sklearn-color-unfitted-level-3);\n",
       "}\n",
       "\n",
       ".sk-estimator-doc-link.fitted span {\n",
       "  /* fitted */\n",
       "  background: var(--sklearn-color-fitted-level-0);\n",
       "  border: var(--sklearn-color-fitted-level-3);\n",
       "}\n",
       "\n",
       ".sk-estimator-doc-link:hover span {\n",
       "  display: block;\n",
       "}\n",
       "\n",
       "/* \"?\"-specific style due to the `<a>` HTML tag */\n",
       "\n",
       "#sk-container-id-2 a.estimator_doc_link {\n",
       "  float: right;\n",
       "  font-size: 1rem;\n",
       "  line-height: 1em;\n",
       "  font-family: monospace;\n",
       "  background-color: var(--sklearn-color-background);\n",
       "  border-radius: 1rem;\n",
       "  height: 1rem;\n",
       "  width: 1rem;\n",
       "  text-decoration: none;\n",
       "  /* unfitted */\n",
       "  color: var(--sklearn-color-unfitted-level-1);\n",
       "  border: var(--sklearn-color-unfitted-level-1) 1pt solid;\n",
       "}\n",
       "\n",
       "#sk-container-id-2 a.estimator_doc_link.fitted {\n",
       "  /* fitted */\n",
       "  border: var(--sklearn-color-fitted-level-1) 1pt solid;\n",
       "  color: var(--sklearn-color-fitted-level-1);\n",
       "}\n",
       "\n",
       "/* On hover */\n",
       "#sk-container-id-2 a.estimator_doc_link:hover {\n",
       "  /* unfitted */\n",
       "  background-color: var(--sklearn-color-unfitted-level-3);\n",
       "  color: var(--sklearn-color-background);\n",
       "  text-decoration: none;\n",
       "}\n",
       "\n",
       "#sk-container-id-2 a.estimator_doc_link.fitted:hover {\n",
       "  /* fitted */\n",
       "  background-color: var(--sklearn-color-fitted-level-3);\n",
       "}\n",
       "</style><div id=\"sk-container-id-2\" class=\"sk-top-container\"><div class=\"sk-text-repr-fallback\"><pre>RandomForestClassifier(criterion=&#x27;entropy&#x27;, n_estimators=500, n_jobs=-1,\n",
       "                       random_state=0)</pre><b>In a Jupyter environment, please rerun this cell to show the HTML representation or trust the notebook. <br />On GitHub, the HTML representation is unable to render, please try loading this page with nbviewer.org.</b></div><div class=\"sk-container\" hidden><div class=\"sk-item\"><div class=\"sk-estimator fitted sk-toggleable\"><input class=\"sk-toggleable__control sk-hidden--visually\" id=\"sk-estimator-id-2\" type=\"checkbox\" checked><label for=\"sk-estimator-id-2\" class=\"sk-toggleable__label fitted sk-toggleable__label-arrow fitted\">&nbsp;&nbsp;RandomForestClassifier<a class=\"sk-estimator-doc-link fitted\" rel=\"noreferrer\" target=\"_blank\" href=\"https://scikit-learn.org/1.5/modules/generated/sklearn.ensemble.RandomForestClassifier.html\">?<span>Documentation for RandomForestClassifier</span></a><span class=\"sk-estimator-doc-link fitted\">i<span>Fitted</span></span></label><div class=\"sk-toggleable__content fitted\"><pre>RandomForestClassifier(criterion=&#x27;entropy&#x27;, n_estimators=500, n_jobs=-1,\n",
       "                       random_state=0)</pre></div> </div></div></div></div>"
      ],
      "text/plain": [
       "RandomForestClassifier(criterion='entropy', n_estimators=500, n_jobs=-1,\n",
       "                       random_state=0)"
      ]
     },
     "execution_count": 17,
     "metadata": {},
     "output_type": "execute_result"
    }
   ],
   "source": [
    "# your_code\n",
    "from sklearn.ensemble import RandomForestClassifier\n",
    "\n",
    "clf = RandomForestClassifier(n_estimators=500, criterion=\"entropy\", random_state=0, n_jobs=-1)\n",
    "clf.fit(X_train, y_train)"
   ]
  },
  {
   "cell_type": "code",
   "execution_count": 18,
   "metadata": {},
   "outputs": [
    {
     "name": "stdout",
     "output_type": "stream",
     "text": [
      "0.8994111948657404\n"
     ]
    }
   ],
   "source": [
    "y_proba = clf.predict_proba(X_test)[:, 1]\n",
    "auroc = roc_auc_score(y_test, y_proba)\n",
    "print(auroc)"
   ]
  },
  {
   "cell_type": "code",
   "execution_count": 19,
   "metadata": {
    "editable": true,
    "slideshow": {
     "slide_type": ""
    },
    "tags": [
     "ex"
    ]
   },
   "outputs": [
    {
     "name": "stdout",
     "output_type": "stream",
     "text": [
      "Solution is correct!\n"
     ]
    }
   ],
   "source": [
    "assert auroc > 0.85\n",
    "\n",
    "print(\"Solution is correct!\")"
   ]
  },
  {
   "cell_type": "markdown",
   "metadata": {
    "editable": true,
    "pycharm": {
     "name": "#%% md\n"
    },
    "slideshow": {
     "slide_type": ""
    },
    "tags": [
     "ex"
    ]
   },
   "source": [
    "// skomentuj tutaj<br>\n",
    "po zastosowaniu Random Forest wynik metryki AUROC znacznie się polepszył"
   ]
  },
  {
   "cell_type": "markdown",
   "metadata": {
    "editable": true,
    "pycharm": {
     "name": "#%% md\n"
    },
    "slideshow": {
     "slide_type": ""
    },
    "tags": []
   },
   "source": [
    "Jak zobaczymy poniżej, wynik ten możemy jednak jeszcze ulepszyć!"
   ]
  },
  {
   "cell_type": "markdown",
   "metadata": {
    "editable": true,
    "pycharm": {
     "name": "#%% md\n"
    },
    "slideshow": {
     "slide_type": ""
    },
    "tags": []
   },
   "source": [
    "## Oversampling, SMOTE"
   ]
  },
  {
   "cell_type": "markdown",
   "metadata": {
    "editable": true,
    "pycharm": {
     "name": "#%% md\n"
    },
    "slideshow": {
     "slide_type": ""
    },
    "tags": []
   },
   "source": [
    "W przypadku zbiorów niezbalansowanych można dokonać **balansowania (balancing)** zbioru. Są tutaj 2 metody:\n",
    "- **undersampling**: usunięcie przykładów z klasy dominującej\n",
    "- **oversampling**: wygenerowanie dodatkowych przykładów z klasy mniejszościowej\n",
    "\n",
    "Undersampling działa dobrze, kiedy niezbalansowanie jest niewielkie, a zbiór jest duży (możemy sobie pozwolić na usunięcie jego części). Oversampling typowo daje lepsze wyniki, istnieją dla niego bardzo efektywne algorytmy. W przypadku bardzo dużego niezbalansowania można zrobić oba.\n",
    "\n",
    "Typowym algorytmem oversamplingu jest **SMOTE (Synthetic Minority Oversampling TEchnique)**. Działa on następująco:\n",
    "1. Idź po kolei po przykładach z klasy mniejszościowej.\n",
    "2. Znajdź `k` najbliższych przykładów dla próbki, typowo `k=5`.\n",
    "3. Wylosuj tylu sąsiadów, ile trzeba do oversamplingu, np. jeżeli chcemy zwiększyć klasę mniejszościową 3 razy (o 200%), to wylosuj 2 z 5 sąsiadów.\n",
    "4. Dla każdego z wylosowanych sąsiadów wylosuj punkt na linii prostej między próbką a tym sąsiadem. Dodaj ten punkt jako nową próbkę do zbioru.\n",
    "\n",
    "<img src = https://miro.medium.com/max/734/1*yRumRhn89acByodBz0H7oA.png >\n",
    "\n",
    "Taka technika generuje przykłady bardzo podobne do prawdziwych, więc nie zaburza zbioru, a jednocześnie pomaga klasyfikatorom, bo \"zagęszcza\" przestrzeń, w której znajduje się klasa pozytywna.\n",
    "\n",
    "Algorytm SMOTE, jego warianty i inne algorytmy dla problemów niezbalansowanych implementuje biblioteka Imbalanced-learn."
   ]
  },
  {
   "cell_type": "markdown",
   "metadata": {
    "editable": true,
    "execution": {
     "iopub.execute_input": "2024-10-07T13:36:43.138444Z",
     "iopub.status.busy": "2024-10-07T13:36:43.137348Z",
     "iopub.status.idle": "2024-10-07T13:36:43.147546Z",
     "shell.execute_reply": "2024-10-07T13:36:43.144776Z",
     "shell.execute_reply.started": "2024-10-07T13:36:43.138374Z"
    },
    "slideshow": {
     "slide_type": ""
    },
    "tags": [
     "ex"
    ]
   },
   "source": [
    "### Zadanie 5 (1 punkt)"
   ]
  },
  {
   "cell_type": "markdown",
   "metadata": {
    "editable": true,
    "slideshow": {
     "slide_type": ""
    },
    "tags": [
     "ex"
    ]
   },
   "source": [
    "Użyj SMOTE do zbalansowania zbioru treningowego (nie używa się go na zbiorze testowym!). Implementuje to klasa `SMOTE`. Wytrenuj drzewo decyzyjne oraz las losowy na zbalansowanym zbiorze, użyj tych samych argumentów co wcześniej. Pamiętaj o użyciu wszędzie stałego ziarna `random_state=0` oraz przekazaniu prawdopodobieństw do AUROC. Skomentuj wynik.\n",
    "\n",
    "Wartość ROC drzewa decyzyjnego przypisz do zmiennej `tree_roc`, a lasu do `forest_roc`."
   ]
  },
  {
   "cell_type": "code",
   "execution_count": 20,
   "metadata": {
    "editable": true,
    "pycharm": {
     "name": "#%%\n"
    },
    "slideshow": {
     "slide_type": ""
    },
    "tags": [
     "ex"
    ]
   },
   "outputs": [
    {
     "name": "stdout",
     "output_type": "stream",
     "text": [
      "0.70995670995671\n"
     ]
    }
   ],
   "source": [
    "# your_code\n",
    "from imblearn.over_sampling import SMOTE\n",
    "\n",
    "smote = SMOTE(random_state=0)\n",
    "X_train_res, y_train_res = smote.fit_resample(X_train, y_train)\n",
    "\n",
    "clf_tree = DecisionTreeClassifier(criterion=\"entropy\", random_state=0)\n",
    "clf_tree.fit(X_train_res, y_train_res)\n",
    "\n",
    "y_proba = clf_tree.predict_proba(X_test)[:, -1]\n",
    "tree_roc = roc_auc_score(y_test, y_proba)\n",
    "print(tree_roc)"
   ]
  },
  {
   "cell_type": "code",
   "execution_count": 21,
   "metadata": {},
   "outputs": [
    {
     "name": "stdout",
     "output_type": "stream",
     "text": [
      "0.9047644274917003\n"
     ]
    }
   ],
   "source": [
    "clf_forest = RandomForestClassifier(n_estimators=500, criterion=\"entropy\", random_state=0, n_jobs=-1)\n",
    "clf_forest.fit(X_train_res, y_train_res)\n",
    "\n",
    "y_proba = clf_forest.predict_proba(X_test)[:, -1]\n",
    "forest_roc = roc_auc_score(y_test, y_proba)\n",
    "print(forest_roc)"
   ]
  },
  {
   "cell_type": "code",
   "execution_count": 22,
   "metadata": {
    "editable": true,
    "slideshow": {
     "slide_type": ""
    },
    "tags": [
     "ex"
    ]
   },
   "outputs": [
    {
     "name": "stdout",
     "output_type": "stream",
     "text": [
      "Solution is correct!\n"
     ]
    }
   ],
   "source": [
    "assert 0.6 < tree_roc < 0.8\n",
    "assert 0.8 < forest_roc < 0.95\n",
    "\n",
    "print(\"Solution is correct!\")"
   ]
  },
  {
   "cell_type": "markdown",
   "metadata": {
    "editable": true,
    "pycharm": {
     "name": "#%% md\n"
    },
    "slideshow": {
     "slide_type": ""
    },
    "tags": [
     "ex"
    ]
   },
   "source": [
    "// skomentuj tutaj<br>\n",
    "w prazypadku drzewa decyzyjnego zbalansowanie zbioru treningowego nie poprawiło wartości AUROC, natomiast dla lasu losowego nastąpiła lekka poprawa"
   ]
  },
  {
   "cell_type": "markdown",
   "metadata": {
    "editable": true,
    "pycharm": {
     "name": "#%% md\n"
    },
    "slideshow": {
     "slide_type": ""
    },
    "tags": []
   },
   "source": [
    "W dalszej części laboratorium używaj zbioru po zastosowaniu SMOTE do treningu klasyfikatorów."
   ]
  },
  {
   "cell_type": "markdown",
   "metadata": {
    "editable": true,
    "pycharm": {
     "name": "#%% md\n"
    },
    "slideshow": {
     "slide_type": ""
    },
    "tags": []
   },
   "source": [
    "## Dostrajanie (tuning) hiperparametrów"
   ]
  },
  {
   "cell_type": "markdown",
   "metadata": {
    "editable": true,
    "pycharm": {
     "name": "#%% md\n"
    },
    "slideshow": {
     "slide_type": ""
    },
    "tags": []
   },
   "source": [
    "Lasy losowe są stosunkowo mało czułe na dobór hiperparametrów - i dobrze, bo mają ich dość dużo. Można zawsze jednak spróbować to zrobić, a w szczególności najważniejszy jest parametr `max_features`, oznaczający, ile cech losować przy każdym podziale drzewa. Typowo sprawdza się wartości z zakresu `[0.1, 0.5]`.\n",
    "\n",
    "W kwestii szybkości, kiedy dostrajamy hiperparametry, to mniej oczywiste jest, jakiego `n_jobs` użyć. Z jednej strony klasyfikator może być trenowany na wielu procesach, a z drugiej można trenować wiele klasyfikatorów na różnych zestawach hiperparametrów równolegle. Jeżeli nasz klasyfikator bardzo dobrze się uwspółbieżnia (jak Random Forest), to można dać mu nawet wszystkie rdzenie, a za to wypróbowywać kolejne zestawy hiperparametrów sekwencyjnie. Warto ustawić parametr `verbose` na 2 lub więcej, żeby dostać logi podczas długiego treningu i mierzyć czas wykonania. W praktyce ustawia się to metodą prób i błędów."
   ]
  },
  {
   "cell_type": "markdown",
   "metadata": {
    "editable": true,
    "slideshow": {
     "slide_type": ""
    },
    "tags": [
     "ex"
    ]
   },
   "source": [
    "### Zadanie 6 (1 punkt)"
   ]
  },
  {
   "cell_type": "markdown",
   "metadata": {
    "editable": true,
    "slideshow": {
     "slide_type": ""
    },
    "tags": [
     "ex"
    ]
   },
   "source": [
    "1. Dobierz wartość hiperparametru `max_features`:\n",
    "   - użyj grid search z 5 foldami,\n",
    "   - wypróbuj wartości `[0.1, 0.2, 0.3, 0.4, 0.5]`,\n",
    "   - wybierz model o najwyższym AUROC (argument `scoring`).\n",
    "2. Sprawdź, jaka była optymalna wartość `max_features`. Jest to atrybut wytrenowanego `GridSearchCV`.\n",
    "3. Skomentuj wynik. Czy warto było poświęcić czas i zasoby na tę procedurę?\n",
    "4. Wynik przypisz do zmiennej `auroc`.\n",
    "\n",
    "**Uwaga:**\n",
    "- pamiętaj, żeby jako estymatora przekazanego do grid search'a użyć instancji Random Forest, która ma już ustawione `random_state=0` i `n_jobs`"
   ]
  },
  {
   "cell_type": "code",
   "execution_count": 23,
   "metadata": {
    "editable": true,
    "pycharm": {
     "is_executing": true,
     "name": "#%%\n"
    },
    "slideshow": {
     "slide_type": ""
    },
    "tags": [
     "ex"
    ]
   },
   "outputs": [
    {
     "name": "stdout",
     "output_type": "stream",
     "text": [
      "Fitting 5 folds for each of 5 candidates, totalling 25 fits\n",
      "[CV] END ...................................max_features=0.1; total time=   9.8s\n",
      "[CV] END ...................................max_features=0.1; total time=   9.7s\n",
      "[CV] END ...................................max_features=0.1; total time=   9.8s\n",
      "[CV] END ...................................max_features=0.1; total time=   9.3s\n",
      "[CV] END ...................................max_features=0.1; total time=   9.2s\n",
      "[CV] END ...................................max_features=0.2; total time=  16.3s\n",
      "[CV] END ...................................max_features=0.2; total time=  17.3s\n",
      "[CV] END ...................................max_features=0.2; total time=  17.9s\n",
      "[CV] END ...................................max_features=0.2; total time=  16.5s\n",
      "[CV] END ...................................max_features=0.2; total time=  16.4s\n",
      "[CV] END ...................................max_features=0.3; total time=  23.2s\n",
      "[CV] END ...................................max_features=0.3; total time=  23.3s\n",
      "[CV] END ...................................max_features=0.3; total time=  23.5s\n",
      "[CV] END ...................................max_features=0.3; total time=  23.6s\n",
      "[CV] END ...................................max_features=0.3; total time=  23.4s\n",
      "[CV] END ...................................max_features=0.4; total time=  31.5s\n",
      "[CV] END ...................................max_features=0.4; total time=  31.1s\n",
      "[CV] END ...................................max_features=0.4; total time=  31.6s\n",
      "[CV] END ...................................max_features=0.4; total time=  31.5s\n",
      "[CV] END ...................................max_features=0.4; total time=  31.5s\n",
      "[CV] END ...................................max_features=0.5; total time=  37.6s\n",
      "[CV] END ...................................max_features=0.5; total time=  37.6s\n",
      "[CV] END ...................................max_features=0.5; total time=  37.9s\n",
      "[CV] END ...................................max_features=0.5; total time=  38.3s\n",
      "[CV] END ...................................max_features=0.5; total time=  38.4s\n"
     ]
    },
    {
     "data": {
      "text/html": [
       "<style>#sk-container-id-3 {\n",
       "  /* Definition of color scheme common for light and dark mode */\n",
       "  --sklearn-color-text: black;\n",
       "  --sklearn-color-line: gray;\n",
       "  /* Definition of color scheme for unfitted estimators */\n",
       "  --sklearn-color-unfitted-level-0: #fff5e6;\n",
       "  --sklearn-color-unfitted-level-1: #f6e4d2;\n",
       "  --sklearn-color-unfitted-level-2: #ffe0b3;\n",
       "  --sklearn-color-unfitted-level-3: chocolate;\n",
       "  /* Definition of color scheme for fitted estimators */\n",
       "  --sklearn-color-fitted-level-0: #f0f8ff;\n",
       "  --sklearn-color-fitted-level-1: #d4ebff;\n",
       "  --sklearn-color-fitted-level-2: #b3dbfd;\n",
       "  --sklearn-color-fitted-level-3: cornflowerblue;\n",
       "\n",
       "  /* Specific color for light theme */\n",
       "  --sklearn-color-text-on-default-background: var(--sg-text-color, var(--theme-code-foreground, var(--jp-content-font-color1, black)));\n",
       "  --sklearn-color-background: var(--sg-background-color, var(--theme-background, var(--jp-layout-color0, white)));\n",
       "  --sklearn-color-border-box: var(--sg-text-color, var(--theme-code-foreground, var(--jp-content-font-color1, black)));\n",
       "  --sklearn-color-icon: #696969;\n",
       "\n",
       "  @media (prefers-color-scheme: dark) {\n",
       "    /* Redefinition of color scheme for dark theme */\n",
       "    --sklearn-color-text-on-default-background: var(--sg-text-color, var(--theme-code-foreground, var(--jp-content-font-color1, white)));\n",
       "    --sklearn-color-background: var(--sg-background-color, var(--theme-background, var(--jp-layout-color0, #111)));\n",
       "    --sklearn-color-border-box: var(--sg-text-color, var(--theme-code-foreground, var(--jp-content-font-color1, white)));\n",
       "    --sklearn-color-icon: #878787;\n",
       "  }\n",
       "}\n",
       "\n",
       "#sk-container-id-3 {\n",
       "  color: var(--sklearn-color-text);\n",
       "}\n",
       "\n",
       "#sk-container-id-3 pre {\n",
       "  padding: 0;\n",
       "}\n",
       "\n",
       "#sk-container-id-3 input.sk-hidden--visually {\n",
       "  border: 0;\n",
       "  clip: rect(1px 1px 1px 1px);\n",
       "  clip: rect(1px, 1px, 1px, 1px);\n",
       "  height: 1px;\n",
       "  margin: -1px;\n",
       "  overflow: hidden;\n",
       "  padding: 0;\n",
       "  position: absolute;\n",
       "  width: 1px;\n",
       "}\n",
       "\n",
       "#sk-container-id-3 div.sk-dashed-wrapped {\n",
       "  border: 1px dashed var(--sklearn-color-line);\n",
       "  margin: 0 0.4em 0.5em 0.4em;\n",
       "  box-sizing: border-box;\n",
       "  padding-bottom: 0.4em;\n",
       "  background-color: var(--sklearn-color-background);\n",
       "}\n",
       "\n",
       "#sk-container-id-3 div.sk-container {\n",
       "  /* jupyter's `normalize.less` sets `[hidden] { display: none; }`\n",
       "     but bootstrap.min.css set `[hidden] { display: none !important; }`\n",
       "     so we also need the `!important` here to be able to override the\n",
       "     default hidden behavior on the sphinx rendered scikit-learn.org.\n",
       "     See: https://github.com/scikit-learn/scikit-learn/issues/21755 */\n",
       "  display: inline-block !important;\n",
       "  position: relative;\n",
       "}\n",
       "\n",
       "#sk-container-id-3 div.sk-text-repr-fallback {\n",
       "  display: none;\n",
       "}\n",
       "\n",
       "div.sk-parallel-item,\n",
       "div.sk-serial,\n",
       "div.sk-item {\n",
       "  /* draw centered vertical line to link estimators */\n",
       "  background-image: linear-gradient(var(--sklearn-color-text-on-default-background), var(--sklearn-color-text-on-default-background));\n",
       "  background-size: 2px 100%;\n",
       "  background-repeat: no-repeat;\n",
       "  background-position: center center;\n",
       "}\n",
       "\n",
       "/* Parallel-specific style estimator block */\n",
       "\n",
       "#sk-container-id-3 div.sk-parallel-item::after {\n",
       "  content: \"\";\n",
       "  width: 100%;\n",
       "  border-bottom: 2px solid var(--sklearn-color-text-on-default-background);\n",
       "  flex-grow: 1;\n",
       "}\n",
       "\n",
       "#sk-container-id-3 div.sk-parallel {\n",
       "  display: flex;\n",
       "  align-items: stretch;\n",
       "  justify-content: center;\n",
       "  background-color: var(--sklearn-color-background);\n",
       "  position: relative;\n",
       "}\n",
       "\n",
       "#sk-container-id-3 div.sk-parallel-item {\n",
       "  display: flex;\n",
       "  flex-direction: column;\n",
       "}\n",
       "\n",
       "#sk-container-id-3 div.sk-parallel-item:first-child::after {\n",
       "  align-self: flex-end;\n",
       "  width: 50%;\n",
       "}\n",
       "\n",
       "#sk-container-id-3 div.sk-parallel-item:last-child::after {\n",
       "  align-self: flex-start;\n",
       "  width: 50%;\n",
       "}\n",
       "\n",
       "#sk-container-id-3 div.sk-parallel-item:only-child::after {\n",
       "  width: 0;\n",
       "}\n",
       "\n",
       "/* Serial-specific style estimator block */\n",
       "\n",
       "#sk-container-id-3 div.sk-serial {\n",
       "  display: flex;\n",
       "  flex-direction: column;\n",
       "  align-items: center;\n",
       "  background-color: var(--sklearn-color-background);\n",
       "  padding-right: 1em;\n",
       "  padding-left: 1em;\n",
       "}\n",
       "\n",
       "\n",
       "/* Toggleable style: style used for estimator/Pipeline/ColumnTransformer box that is\n",
       "clickable and can be expanded/collapsed.\n",
       "- Pipeline and ColumnTransformer use this feature and define the default style\n",
       "- Estimators will overwrite some part of the style using the `sk-estimator` class\n",
       "*/\n",
       "\n",
       "/* Pipeline and ColumnTransformer style (default) */\n",
       "\n",
       "#sk-container-id-3 div.sk-toggleable {\n",
       "  /* Default theme specific background. It is overwritten whether we have a\n",
       "  specific estimator or a Pipeline/ColumnTransformer */\n",
       "  background-color: var(--sklearn-color-background);\n",
       "}\n",
       "\n",
       "/* Toggleable label */\n",
       "#sk-container-id-3 label.sk-toggleable__label {\n",
       "  cursor: pointer;\n",
       "  display: block;\n",
       "  width: 100%;\n",
       "  margin-bottom: 0;\n",
       "  padding: 0.5em;\n",
       "  box-sizing: border-box;\n",
       "  text-align: center;\n",
       "}\n",
       "\n",
       "#sk-container-id-3 label.sk-toggleable__label-arrow:before {\n",
       "  /* Arrow on the left of the label */\n",
       "  content: \"▸\";\n",
       "  float: left;\n",
       "  margin-right: 0.25em;\n",
       "  color: var(--sklearn-color-icon);\n",
       "}\n",
       "\n",
       "#sk-container-id-3 label.sk-toggleable__label-arrow:hover:before {\n",
       "  color: var(--sklearn-color-text);\n",
       "}\n",
       "\n",
       "/* Toggleable content - dropdown */\n",
       "\n",
       "#sk-container-id-3 div.sk-toggleable__content {\n",
       "  max-height: 0;\n",
       "  max-width: 0;\n",
       "  overflow: hidden;\n",
       "  text-align: left;\n",
       "  /* unfitted */\n",
       "  background-color: var(--sklearn-color-unfitted-level-0);\n",
       "}\n",
       "\n",
       "#sk-container-id-3 div.sk-toggleable__content.fitted {\n",
       "  /* fitted */\n",
       "  background-color: var(--sklearn-color-fitted-level-0);\n",
       "}\n",
       "\n",
       "#sk-container-id-3 div.sk-toggleable__content pre {\n",
       "  margin: 0.2em;\n",
       "  border-radius: 0.25em;\n",
       "  color: var(--sklearn-color-text);\n",
       "  /* unfitted */\n",
       "  background-color: var(--sklearn-color-unfitted-level-0);\n",
       "}\n",
       "\n",
       "#sk-container-id-3 div.sk-toggleable__content.fitted pre {\n",
       "  /* unfitted */\n",
       "  background-color: var(--sklearn-color-fitted-level-0);\n",
       "}\n",
       "\n",
       "#sk-container-id-3 input.sk-toggleable__control:checked~div.sk-toggleable__content {\n",
       "  /* Expand drop-down */\n",
       "  max-height: 200px;\n",
       "  max-width: 100%;\n",
       "  overflow: auto;\n",
       "}\n",
       "\n",
       "#sk-container-id-3 input.sk-toggleable__control:checked~label.sk-toggleable__label-arrow:before {\n",
       "  content: \"▾\";\n",
       "}\n",
       "\n",
       "/* Pipeline/ColumnTransformer-specific style */\n",
       "\n",
       "#sk-container-id-3 div.sk-label input.sk-toggleable__control:checked~label.sk-toggleable__label {\n",
       "  color: var(--sklearn-color-text);\n",
       "  background-color: var(--sklearn-color-unfitted-level-2);\n",
       "}\n",
       "\n",
       "#sk-container-id-3 div.sk-label.fitted input.sk-toggleable__control:checked~label.sk-toggleable__label {\n",
       "  background-color: var(--sklearn-color-fitted-level-2);\n",
       "}\n",
       "\n",
       "/* Estimator-specific style */\n",
       "\n",
       "/* Colorize estimator box */\n",
       "#sk-container-id-3 div.sk-estimator input.sk-toggleable__control:checked~label.sk-toggleable__label {\n",
       "  /* unfitted */\n",
       "  background-color: var(--sklearn-color-unfitted-level-2);\n",
       "}\n",
       "\n",
       "#sk-container-id-3 div.sk-estimator.fitted input.sk-toggleable__control:checked~label.sk-toggleable__label {\n",
       "  /* fitted */\n",
       "  background-color: var(--sklearn-color-fitted-level-2);\n",
       "}\n",
       "\n",
       "#sk-container-id-3 div.sk-label label.sk-toggleable__label,\n",
       "#sk-container-id-3 div.sk-label label {\n",
       "  /* The background is the default theme color */\n",
       "  color: var(--sklearn-color-text-on-default-background);\n",
       "}\n",
       "\n",
       "/* On hover, darken the color of the background */\n",
       "#sk-container-id-3 div.sk-label:hover label.sk-toggleable__label {\n",
       "  color: var(--sklearn-color-text);\n",
       "  background-color: var(--sklearn-color-unfitted-level-2);\n",
       "}\n",
       "\n",
       "/* Label box, darken color on hover, fitted */\n",
       "#sk-container-id-3 div.sk-label.fitted:hover label.sk-toggleable__label.fitted {\n",
       "  color: var(--sklearn-color-text);\n",
       "  background-color: var(--sklearn-color-fitted-level-2);\n",
       "}\n",
       "\n",
       "/* Estimator label */\n",
       "\n",
       "#sk-container-id-3 div.sk-label label {\n",
       "  font-family: monospace;\n",
       "  font-weight: bold;\n",
       "  display: inline-block;\n",
       "  line-height: 1.2em;\n",
       "}\n",
       "\n",
       "#sk-container-id-3 div.sk-label-container {\n",
       "  text-align: center;\n",
       "}\n",
       "\n",
       "/* Estimator-specific */\n",
       "#sk-container-id-3 div.sk-estimator {\n",
       "  font-family: monospace;\n",
       "  border: 1px dotted var(--sklearn-color-border-box);\n",
       "  border-radius: 0.25em;\n",
       "  box-sizing: border-box;\n",
       "  margin-bottom: 0.5em;\n",
       "  /* unfitted */\n",
       "  background-color: var(--sklearn-color-unfitted-level-0);\n",
       "}\n",
       "\n",
       "#sk-container-id-3 div.sk-estimator.fitted {\n",
       "  /* fitted */\n",
       "  background-color: var(--sklearn-color-fitted-level-0);\n",
       "}\n",
       "\n",
       "/* on hover */\n",
       "#sk-container-id-3 div.sk-estimator:hover {\n",
       "  /* unfitted */\n",
       "  background-color: var(--sklearn-color-unfitted-level-2);\n",
       "}\n",
       "\n",
       "#sk-container-id-3 div.sk-estimator.fitted:hover {\n",
       "  /* fitted */\n",
       "  background-color: var(--sklearn-color-fitted-level-2);\n",
       "}\n",
       "\n",
       "/* Specification for estimator info (e.g. \"i\" and \"?\") */\n",
       "\n",
       "/* Common style for \"i\" and \"?\" */\n",
       "\n",
       ".sk-estimator-doc-link,\n",
       "a:link.sk-estimator-doc-link,\n",
       "a:visited.sk-estimator-doc-link {\n",
       "  float: right;\n",
       "  font-size: smaller;\n",
       "  line-height: 1em;\n",
       "  font-family: monospace;\n",
       "  background-color: var(--sklearn-color-background);\n",
       "  border-radius: 1em;\n",
       "  height: 1em;\n",
       "  width: 1em;\n",
       "  text-decoration: none !important;\n",
       "  margin-left: 1ex;\n",
       "  /* unfitted */\n",
       "  border: var(--sklearn-color-unfitted-level-1) 1pt solid;\n",
       "  color: var(--sklearn-color-unfitted-level-1);\n",
       "}\n",
       "\n",
       ".sk-estimator-doc-link.fitted,\n",
       "a:link.sk-estimator-doc-link.fitted,\n",
       "a:visited.sk-estimator-doc-link.fitted {\n",
       "  /* fitted */\n",
       "  border: var(--sklearn-color-fitted-level-1) 1pt solid;\n",
       "  color: var(--sklearn-color-fitted-level-1);\n",
       "}\n",
       "\n",
       "/* On hover */\n",
       "div.sk-estimator:hover .sk-estimator-doc-link:hover,\n",
       ".sk-estimator-doc-link:hover,\n",
       "div.sk-label-container:hover .sk-estimator-doc-link:hover,\n",
       ".sk-estimator-doc-link:hover {\n",
       "  /* unfitted */\n",
       "  background-color: var(--sklearn-color-unfitted-level-3);\n",
       "  color: var(--sklearn-color-background);\n",
       "  text-decoration: none;\n",
       "}\n",
       "\n",
       "div.sk-estimator.fitted:hover .sk-estimator-doc-link.fitted:hover,\n",
       ".sk-estimator-doc-link.fitted:hover,\n",
       "div.sk-label-container:hover .sk-estimator-doc-link.fitted:hover,\n",
       ".sk-estimator-doc-link.fitted:hover {\n",
       "  /* fitted */\n",
       "  background-color: var(--sklearn-color-fitted-level-3);\n",
       "  color: var(--sklearn-color-background);\n",
       "  text-decoration: none;\n",
       "}\n",
       "\n",
       "/* Span, style for the box shown on hovering the info icon */\n",
       ".sk-estimator-doc-link span {\n",
       "  display: none;\n",
       "  z-index: 9999;\n",
       "  position: relative;\n",
       "  font-weight: normal;\n",
       "  right: .2ex;\n",
       "  padding: .5ex;\n",
       "  margin: .5ex;\n",
       "  width: min-content;\n",
       "  min-width: 20ex;\n",
       "  max-width: 50ex;\n",
       "  color: var(--sklearn-color-text);\n",
       "  box-shadow: 2pt 2pt 4pt #999;\n",
       "  /* unfitted */\n",
       "  background: var(--sklearn-color-unfitted-level-0);\n",
       "  border: .5pt solid var(--sklearn-color-unfitted-level-3);\n",
       "}\n",
       "\n",
       ".sk-estimator-doc-link.fitted span {\n",
       "  /* fitted */\n",
       "  background: var(--sklearn-color-fitted-level-0);\n",
       "  border: var(--sklearn-color-fitted-level-3);\n",
       "}\n",
       "\n",
       ".sk-estimator-doc-link:hover span {\n",
       "  display: block;\n",
       "}\n",
       "\n",
       "/* \"?\"-specific style due to the `<a>` HTML tag */\n",
       "\n",
       "#sk-container-id-3 a.estimator_doc_link {\n",
       "  float: right;\n",
       "  font-size: 1rem;\n",
       "  line-height: 1em;\n",
       "  font-family: monospace;\n",
       "  background-color: var(--sklearn-color-background);\n",
       "  border-radius: 1rem;\n",
       "  height: 1rem;\n",
       "  width: 1rem;\n",
       "  text-decoration: none;\n",
       "  /* unfitted */\n",
       "  color: var(--sklearn-color-unfitted-level-1);\n",
       "  border: var(--sklearn-color-unfitted-level-1) 1pt solid;\n",
       "}\n",
       "\n",
       "#sk-container-id-3 a.estimator_doc_link.fitted {\n",
       "  /* fitted */\n",
       "  border: var(--sklearn-color-fitted-level-1) 1pt solid;\n",
       "  color: var(--sklearn-color-fitted-level-1);\n",
       "}\n",
       "\n",
       "/* On hover */\n",
       "#sk-container-id-3 a.estimator_doc_link:hover {\n",
       "  /* unfitted */\n",
       "  background-color: var(--sklearn-color-unfitted-level-3);\n",
       "  color: var(--sklearn-color-background);\n",
       "  text-decoration: none;\n",
       "}\n",
       "\n",
       "#sk-container-id-3 a.estimator_doc_link.fitted:hover {\n",
       "  /* fitted */\n",
       "  background-color: var(--sklearn-color-fitted-level-3);\n",
       "}\n",
       "</style><div id=\"sk-container-id-3\" class=\"sk-top-container\"><div class=\"sk-text-repr-fallback\"><pre>GridSearchCV(cv=5,\n",
       "             estimator=RandomForestClassifier(criterion=&#x27;entropy&#x27;,\n",
       "                                              n_estimators=500, n_jobs=-1,\n",
       "                                              random_state=0),\n",
       "             param_grid={&#x27;max_features&#x27;: [0.1, 0.2, 0.3, 0.4, 0.5]},\n",
       "             scoring=&#x27;roc_auc&#x27;, verbose=2)</pre><b>In a Jupyter environment, please rerun this cell to show the HTML representation or trust the notebook. <br />On GitHub, the HTML representation is unable to render, please try loading this page with nbviewer.org.</b></div><div class=\"sk-container\" hidden><div class=\"sk-item sk-dashed-wrapped\"><div class=\"sk-label-container\"><div class=\"sk-label fitted sk-toggleable\"><input class=\"sk-toggleable__control sk-hidden--visually\" id=\"sk-estimator-id-3\" type=\"checkbox\" ><label for=\"sk-estimator-id-3\" class=\"sk-toggleable__label fitted sk-toggleable__label-arrow fitted\">&nbsp;&nbsp;GridSearchCV<a class=\"sk-estimator-doc-link fitted\" rel=\"noreferrer\" target=\"_blank\" href=\"https://scikit-learn.org/1.5/modules/generated/sklearn.model_selection.GridSearchCV.html\">?<span>Documentation for GridSearchCV</span></a><span class=\"sk-estimator-doc-link fitted\">i<span>Fitted</span></span></label><div class=\"sk-toggleable__content fitted\"><pre>GridSearchCV(cv=5,\n",
       "             estimator=RandomForestClassifier(criterion=&#x27;entropy&#x27;,\n",
       "                                              n_estimators=500, n_jobs=-1,\n",
       "                                              random_state=0),\n",
       "             param_grid={&#x27;max_features&#x27;: [0.1, 0.2, 0.3, 0.4, 0.5]},\n",
       "             scoring=&#x27;roc_auc&#x27;, verbose=2)</pre></div> </div></div><div class=\"sk-parallel\"><div class=\"sk-parallel-item\"><div class=\"sk-item\"><div class=\"sk-label-container\"><div class=\"sk-label fitted sk-toggleable\"><input class=\"sk-toggleable__control sk-hidden--visually\" id=\"sk-estimator-id-4\" type=\"checkbox\" ><label for=\"sk-estimator-id-4\" class=\"sk-toggleable__label fitted sk-toggleable__label-arrow fitted\">best_estimator_: RandomForestClassifier</label><div class=\"sk-toggleable__content fitted\"><pre>RandomForestClassifier(criterion=&#x27;entropy&#x27;, max_features=0.2, n_estimators=500,\n",
       "                       n_jobs=-1, random_state=0)</pre></div> </div></div><div class=\"sk-serial\"><div class=\"sk-item\"><div class=\"sk-estimator fitted sk-toggleable\"><input class=\"sk-toggleable__control sk-hidden--visually\" id=\"sk-estimator-id-5\" type=\"checkbox\" ><label for=\"sk-estimator-id-5\" class=\"sk-toggleable__label fitted sk-toggleable__label-arrow fitted\">&nbsp;RandomForestClassifier<a class=\"sk-estimator-doc-link fitted\" rel=\"noreferrer\" target=\"_blank\" href=\"https://scikit-learn.org/1.5/modules/generated/sklearn.ensemble.RandomForestClassifier.html\">?<span>Documentation for RandomForestClassifier</span></a></label><div class=\"sk-toggleable__content fitted\"><pre>RandomForestClassifier(criterion=&#x27;entropy&#x27;, max_features=0.2, n_estimators=500,\n",
       "                       n_jobs=-1, random_state=0)</pre></div> </div></div></div></div></div></div></div></div></div>"
      ],
      "text/plain": [
       "GridSearchCV(cv=5,\n",
       "             estimator=RandomForestClassifier(criterion='entropy',\n",
       "                                              n_estimators=500, n_jobs=-1,\n",
       "                                              random_state=0),\n",
       "             param_grid={'max_features': [0.1, 0.2, 0.3, 0.4, 0.5]},\n",
       "             scoring='roc_auc', verbose=2)"
      ]
     },
     "execution_count": 23,
     "metadata": {},
     "output_type": "execute_result"
    }
   ],
   "source": [
    "# your_code\n",
    "from sklearn.model_selection import GridSearchCV\n",
    "\n",
    "clf = RandomForestClassifier(n_estimators=500, criterion=\"entropy\", random_state=0, n_jobs=-1)\n",
    "\n",
    "param_grid = {\n",
    "    \"max_features\": [0.1, 0.2, 0.3, 0.4, 0.5]\n",
    "}\n",
    "grid_search = GridSearchCV(estimator=clf, param_grid=param_grid, cv=5, scoring=\"roc_auc\", verbose=2)\n",
    "grid_search.fit(X_train_res, y_train_res)"
   ]
  },
  {
   "cell_type": "code",
   "execution_count": 28,
   "metadata": {},
   "outputs": [
    {
     "name": "stdout",
     "output_type": "stream",
     "text": [
      "{'max_features': 0.2}\n",
      "0.9122619804437986\n"
     ]
    }
   ],
   "source": [
    "print(grid_search.best_params_)\n",
    "y_proba = grid_search.best_estimator_.predict_proba(X_test)[:, -1]\n",
    "auroc = roc_auc_score(y_test, y_proba)\n",
    "print(auroc)"
   ]
  },
  {
   "cell_type": "code",
   "execution_count": 29,
   "metadata": {
    "editable": true,
    "slideshow": {
     "slide_type": ""
    },
    "tags": [
     "ex"
    ]
   },
   "outputs": [
    {
     "name": "stdout",
     "output_type": "stream",
     "text": [
      "Solution is correct!\n"
     ]
    }
   ],
   "source": [
    "assert 0.9 <= auroc <= 0.95\n",
    "\n",
    "print(\"Solution is correct!\")"
   ]
  },
  {
   "cell_type": "markdown",
   "metadata": {
    "editable": true,
    "pycharm": {
     "name": "#%% md\n"
    },
    "slideshow": {
     "slide_type": ""
    },
    "tags": [
     "ex"
    ]
   },
   "source": [
    "// skomentuj tutaj<br>\n",
    "tuning hiperparametru max_features lekko poprawił wartość AUROC modelu, jednak konieczne było poświęcenie znacznie większej ilości zasobów"
   ]
  },
  {
   "cell_type": "markdown",
   "metadata": {
    "editable": true,
    "pycharm": {
     "name": "#%% md\n"
    },
    "slideshow": {
     "slide_type": ""
    },
    "tags": []
   },
   "source": [
    "W praktycznych zastosowaniach osoba trenująca model wedle własnego uznana, doświadczenia, dostępnego czasu i zasobów wybiera, czy dostrajać hiperparametry i w jak szerokim zakresie. Dla Random Forest na szczęście często może nie być znaczącej potrzeby i za to go lubimy :)"
   ]
  },
  {
   "cell_type": "markdown",
   "metadata": {
    "editable": true,
    "pycharm": {
     "name": "#%% md\n"
    },
    "slideshow": {
     "slide_type": ""
    },
    "tags": []
   },
   "source": [
    "**Random Forest - podsumowanie**\n",
    "\n",
    "1. Model oparty o uczenie zespołowe.\n",
    "2. Kluczowe elementy:\n",
    "   - bagging: uczenie wielu klasyfikatorów na próbkach boostrapowych,\n",
    "   - metoda losowej podprzestrzeni: losujemy podzbiór cech do każdego podziału drzewa,\n",
    "   - uśredniamy głosy klasyfikatorów.\n",
    "3. Dość odporny na overfitting, zmniejsza wariancję błędu dzięki uśrednianiu.\n",
    "4. Mało czuły na hiperparametry.\n",
    "5. Przeciętnie daje bardzo dobre wyniki, doskonały wybór domyślny przy wybieraniu algorytmu klasyfikacji."
   ]
  },
  {
   "cell_type": "markdown",
   "metadata": {
    "editable": true,
    "pycharm": {
     "name": "#%% md\n"
    },
    "slideshow": {
     "slide_type": ""
    },
    "tags": []
   },
   "source": [
    "## Boosting"
   ]
  },
  {
   "cell_type": "markdown",
   "metadata": {
    "editable": true,
    "pycharm": {
     "name": "#%% md\n"
    },
    "slideshow": {
     "slide_type": ""
    },
    "tags": []
   },
   "source": [
    "Drugą bardzo ważną grupą algorytmów ensemblingu jest **boosting**, też oparty o drzewa decyzyjne. O ile Random Forest trenował wszystkie klasyfikatory bazowe równolegle i je uśredniał, o tyle boosting robi to sekwencyjnie. Drzewa te uczą się na całym zbiorze, nie na próbkach boostrapowych. Idea jest następująca: trenujemy drzewo decyzyjne, radzi sobie przeciętnie i popełnia błędy na częsci przykładów treningowych. Dokładamy kolejne, ale znające błędy swojego poprzednika, dzięki czemu może to uwzględnić i je poprawić. W związku z tym \"boostuje\" się dzięki wiedzy od poprzednika. Dokładamy kolejne drzewa zgodnie z tą samą zasadą.\n",
    "\n",
    "Jak uczyć się na błędach poprzednika? Jest to pewna **funkcja kosztu** (błędu), którą chcemy zminimalizować. Zakłada się jakąś jej konkretną postać, np. squared error dla regresji, albo logistic loss dla klasyfikacji. Później wykorzystuje się spadek wzdłuż gradientu (gradient descent), aby nauczyć się, w jakim kierunku powinny optymalizować kolejne drzewa, żeby zminimalizować błędy poprzednika. Jest to konkretnie **gradient boosting**, absolutnie najpopularniejsza forma boostingu, i jeden z najpopularniejszych i osiągających najlepsze wyniki algorytmów ML.\n",
    "\n",
    "Tyle co do intuicji. Ogólny algorytm gradient boostingu jest trochę bardziej skomplikowany. Bardzo dobrze i krok po kroku tłumaczy go [ta seria filmów na YT](https://www.youtube.com/watch?v=3CC4N4z3GJc). Szczególnie ważne implementacje gradient boostingu to **XGBoost (Extreme Gradient Boosting)** oraz **LightGBM (Light Gradient Boosting Machine)**. XGBoost był prawdziwym przełomem w ML, uzyskując doskonałe wyniki i bardzo dobrze się skalując - był wykorzystany w CERNie do wykrywania cząstki Higgsa w zbiorze z pomiarów LHC mającym 10 milionów próbek. Jego implementacja jest dość złożona, ale dobrze tłumaczy ją [inna seria filmików na YT](https://www.youtube.com/watch?v=OtD8wVaFm6E).\n",
    "\n",
    "![](xgboost.png)\n",
    "\n",
    "Obecnie najczęściej wykorzystuje się LightGBM. Został stworzony przez Microsoft na podstawie doświadczeń z XGBoostem. Został jeszcze bardziej ulepszony i przyspieszony, ale różnice są głównie implementacyjne. Różnice dobrze tłumaczy [ta prezentacja z konferencji PyData](https://www.youtube.com/watch?v=5CWwwtEM2TA) oraz [prezentacja Microsoftu](https://www.youtube.com/watch?v=5nKSMXBFhes). Dla zainteresowanych - [praktyczne aspekty LightGBM](https://www.kaggle.com/code/prashant111/lightgbm-classifier-in-python/notebook)."
   ]
  },
  {
   "cell_type": "markdown",
   "metadata": {
    "editable": true,
    "slideshow": {
     "slide_type": ""
    },
    "tags": [
     "ex"
    ]
   },
   "source": [
    "### Zadanie 7 (0.5 punktu)"
   ]
  },
  {
   "cell_type": "markdown",
   "metadata": {
    "editable": true,
    "slideshow": {
     "slide_type": ""
    },
    "tags": [
     "ex"
    ]
   },
   "source": [
    "1. Wytrenuj klasyfikator LightGBM (klasa `LGBMClassifier`). Przekaż `importance_type=\"gain\"` - przyda nam się to za chwilę.\n",
    "2. Sprawdź AUROC na zbiorze testowym.\n",
    "3. Skomentuj wynik w odniesieniu do wcześniejszych algorytmów.\n",
    "\n",
    "Pamiętaj o `random_state`, `n_jobs` i prawdopodobieństwach dla AUROC."
   ]
  },
  {
   "cell_type": "code",
   "execution_count": 38,
   "metadata": {
    "editable": true,
    "pycharm": {
     "is_executing": true,
     "name": "#%%\n"
    },
    "slideshow": {
     "slide_type": ""
    },
    "tags": [
     "ex"
    ]
   },
   "outputs": [
    {
     "data": {
      "text/html": [
       "<style>#sk-container-id-6 {\n",
       "  /* Definition of color scheme common for light and dark mode */\n",
       "  --sklearn-color-text: black;\n",
       "  --sklearn-color-line: gray;\n",
       "  /* Definition of color scheme for unfitted estimators */\n",
       "  --sklearn-color-unfitted-level-0: #fff5e6;\n",
       "  --sklearn-color-unfitted-level-1: #f6e4d2;\n",
       "  --sklearn-color-unfitted-level-2: #ffe0b3;\n",
       "  --sklearn-color-unfitted-level-3: chocolate;\n",
       "  /* Definition of color scheme for fitted estimators */\n",
       "  --sklearn-color-fitted-level-0: #f0f8ff;\n",
       "  --sklearn-color-fitted-level-1: #d4ebff;\n",
       "  --sklearn-color-fitted-level-2: #b3dbfd;\n",
       "  --sklearn-color-fitted-level-3: cornflowerblue;\n",
       "\n",
       "  /* Specific color for light theme */\n",
       "  --sklearn-color-text-on-default-background: var(--sg-text-color, var(--theme-code-foreground, var(--jp-content-font-color1, black)));\n",
       "  --sklearn-color-background: var(--sg-background-color, var(--theme-background, var(--jp-layout-color0, white)));\n",
       "  --sklearn-color-border-box: var(--sg-text-color, var(--theme-code-foreground, var(--jp-content-font-color1, black)));\n",
       "  --sklearn-color-icon: #696969;\n",
       "\n",
       "  @media (prefers-color-scheme: dark) {\n",
       "    /* Redefinition of color scheme for dark theme */\n",
       "    --sklearn-color-text-on-default-background: var(--sg-text-color, var(--theme-code-foreground, var(--jp-content-font-color1, white)));\n",
       "    --sklearn-color-background: var(--sg-background-color, var(--theme-background, var(--jp-layout-color0, #111)));\n",
       "    --sklearn-color-border-box: var(--sg-text-color, var(--theme-code-foreground, var(--jp-content-font-color1, white)));\n",
       "    --sklearn-color-icon: #878787;\n",
       "  }\n",
       "}\n",
       "\n",
       "#sk-container-id-6 {\n",
       "  color: var(--sklearn-color-text);\n",
       "}\n",
       "\n",
       "#sk-container-id-6 pre {\n",
       "  padding: 0;\n",
       "}\n",
       "\n",
       "#sk-container-id-6 input.sk-hidden--visually {\n",
       "  border: 0;\n",
       "  clip: rect(1px 1px 1px 1px);\n",
       "  clip: rect(1px, 1px, 1px, 1px);\n",
       "  height: 1px;\n",
       "  margin: -1px;\n",
       "  overflow: hidden;\n",
       "  padding: 0;\n",
       "  position: absolute;\n",
       "  width: 1px;\n",
       "}\n",
       "\n",
       "#sk-container-id-6 div.sk-dashed-wrapped {\n",
       "  border: 1px dashed var(--sklearn-color-line);\n",
       "  margin: 0 0.4em 0.5em 0.4em;\n",
       "  box-sizing: border-box;\n",
       "  padding-bottom: 0.4em;\n",
       "  background-color: var(--sklearn-color-background);\n",
       "}\n",
       "\n",
       "#sk-container-id-6 div.sk-container {\n",
       "  /* jupyter's `normalize.less` sets `[hidden] { display: none; }`\n",
       "     but bootstrap.min.css set `[hidden] { display: none !important; }`\n",
       "     so we also need the `!important` here to be able to override the\n",
       "     default hidden behavior on the sphinx rendered scikit-learn.org.\n",
       "     See: https://github.com/scikit-learn/scikit-learn/issues/21755 */\n",
       "  display: inline-block !important;\n",
       "  position: relative;\n",
       "}\n",
       "\n",
       "#sk-container-id-6 div.sk-text-repr-fallback {\n",
       "  display: none;\n",
       "}\n",
       "\n",
       "div.sk-parallel-item,\n",
       "div.sk-serial,\n",
       "div.sk-item {\n",
       "  /* draw centered vertical line to link estimators */\n",
       "  background-image: linear-gradient(var(--sklearn-color-text-on-default-background), var(--sklearn-color-text-on-default-background));\n",
       "  background-size: 2px 100%;\n",
       "  background-repeat: no-repeat;\n",
       "  background-position: center center;\n",
       "}\n",
       "\n",
       "/* Parallel-specific style estimator block */\n",
       "\n",
       "#sk-container-id-6 div.sk-parallel-item::after {\n",
       "  content: \"\";\n",
       "  width: 100%;\n",
       "  border-bottom: 2px solid var(--sklearn-color-text-on-default-background);\n",
       "  flex-grow: 1;\n",
       "}\n",
       "\n",
       "#sk-container-id-6 div.sk-parallel {\n",
       "  display: flex;\n",
       "  align-items: stretch;\n",
       "  justify-content: center;\n",
       "  background-color: var(--sklearn-color-background);\n",
       "  position: relative;\n",
       "}\n",
       "\n",
       "#sk-container-id-6 div.sk-parallel-item {\n",
       "  display: flex;\n",
       "  flex-direction: column;\n",
       "}\n",
       "\n",
       "#sk-container-id-6 div.sk-parallel-item:first-child::after {\n",
       "  align-self: flex-end;\n",
       "  width: 50%;\n",
       "}\n",
       "\n",
       "#sk-container-id-6 div.sk-parallel-item:last-child::after {\n",
       "  align-self: flex-start;\n",
       "  width: 50%;\n",
       "}\n",
       "\n",
       "#sk-container-id-6 div.sk-parallel-item:only-child::after {\n",
       "  width: 0;\n",
       "}\n",
       "\n",
       "/* Serial-specific style estimator block */\n",
       "\n",
       "#sk-container-id-6 div.sk-serial {\n",
       "  display: flex;\n",
       "  flex-direction: column;\n",
       "  align-items: center;\n",
       "  background-color: var(--sklearn-color-background);\n",
       "  padding-right: 1em;\n",
       "  padding-left: 1em;\n",
       "}\n",
       "\n",
       "\n",
       "/* Toggleable style: style used for estimator/Pipeline/ColumnTransformer box that is\n",
       "clickable and can be expanded/collapsed.\n",
       "- Pipeline and ColumnTransformer use this feature and define the default style\n",
       "- Estimators will overwrite some part of the style using the `sk-estimator` class\n",
       "*/\n",
       "\n",
       "/* Pipeline and ColumnTransformer style (default) */\n",
       "\n",
       "#sk-container-id-6 div.sk-toggleable {\n",
       "  /* Default theme specific background. It is overwritten whether we have a\n",
       "  specific estimator or a Pipeline/ColumnTransformer */\n",
       "  background-color: var(--sklearn-color-background);\n",
       "}\n",
       "\n",
       "/* Toggleable label */\n",
       "#sk-container-id-6 label.sk-toggleable__label {\n",
       "  cursor: pointer;\n",
       "  display: block;\n",
       "  width: 100%;\n",
       "  margin-bottom: 0;\n",
       "  padding: 0.5em;\n",
       "  box-sizing: border-box;\n",
       "  text-align: center;\n",
       "}\n",
       "\n",
       "#sk-container-id-6 label.sk-toggleable__label-arrow:before {\n",
       "  /* Arrow on the left of the label */\n",
       "  content: \"▸\";\n",
       "  float: left;\n",
       "  margin-right: 0.25em;\n",
       "  color: var(--sklearn-color-icon);\n",
       "}\n",
       "\n",
       "#sk-container-id-6 label.sk-toggleable__label-arrow:hover:before {\n",
       "  color: var(--sklearn-color-text);\n",
       "}\n",
       "\n",
       "/* Toggleable content - dropdown */\n",
       "\n",
       "#sk-container-id-6 div.sk-toggleable__content {\n",
       "  max-height: 0;\n",
       "  max-width: 0;\n",
       "  overflow: hidden;\n",
       "  text-align: left;\n",
       "  /* unfitted */\n",
       "  background-color: var(--sklearn-color-unfitted-level-0);\n",
       "}\n",
       "\n",
       "#sk-container-id-6 div.sk-toggleable__content.fitted {\n",
       "  /* fitted */\n",
       "  background-color: var(--sklearn-color-fitted-level-0);\n",
       "}\n",
       "\n",
       "#sk-container-id-6 div.sk-toggleable__content pre {\n",
       "  margin: 0.2em;\n",
       "  border-radius: 0.25em;\n",
       "  color: var(--sklearn-color-text);\n",
       "  /* unfitted */\n",
       "  background-color: var(--sklearn-color-unfitted-level-0);\n",
       "}\n",
       "\n",
       "#sk-container-id-6 div.sk-toggleable__content.fitted pre {\n",
       "  /* unfitted */\n",
       "  background-color: var(--sklearn-color-fitted-level-0);\n",
       "}\n",
       "\n",
       "#sk-container-id-6 input.sk-toggleable__control:checked~div.sk-toggleable__content {\n",
       "  /* Expand drop-down */\n",
       "  max-height: 200px;\n",
       "  max-width: 100%;\n",
       "  overflow: auto;\n",
       "}\n",
       "\n",
       "#sk-container-id-6 input.sk-toggleable__control:checked~label.sk-toggleable__label-arrow:before {\n",
       "  content: \"▾\";\n",
       "}\n",
       "\n",
       "/* Pipeline/ColumnTransformer-specific style */\n",
       "\n",
       "#sk-container-id-6 div.sk-label input.sk-toggleable__control:checked~label.sk-toggleable__label {\n",
       "  color: var(--sklearn-color-text);\n",
       "  background-color: var(--sklearn-color-unfitted-level-2);\n",
       "}\n",
       "\n",
       "#sk-container-id-6 div.sk-label.fitted input.sk-toggleable__control:checked~label.sk-toggleable__label {\n",
       "  background-color: var(--sklearn-color-fitted-level-2);\n",
       "}\n",
       "\n",
       "/* Estimator-specific style */\n",
       "\n",
       "/* Colorize estimator box */\n",
       "#sk-container-id-6 div.sk-estimator input.sk-toggleable__control:checked~label.sk-toggleable__label {\n",
       "  /* unfitted */\n",
       "  background-color: var(--sklearn-color-unfitted-level-2);\n",
       "}\n",
       "\n",
       "#sk-container-id-6 div.sk-estimator.fitted input.sk-toggleable__control:checked~label.sk-toggleable__label {\n",
       "  /* fitted */\n",
       "  background-color: var(--sklearn-color-fitted-level-2);\n",
       "}\n",
       "\n",
       "#sk-container-id-6 div.sk-label label.sk-toggleable__label,\n",
       "#sk-container-id-6 div.sk-label label {\n",
       "  /* The background is the default theme color */\n",
       "  color: var(--sklearn-color-text-on-default-background);\n",
       "}\n",
       "\n",
       "/* On hover, darken the color of the background */\n",
       "#sk-container-id-6 div.sk-label:hover label.sk-toggleable__label {\n",
       "  color: var(--sklearn-color-text);\n",
       "  background-color: var(--sklearn-color-unfitted-level-2);\n",
       "}\n",
       "\n",
       "/* Label box, darken color on hover, fitted */\n",
       "#sk-container-id-6 div.sk-label.fitted:hover label.sk-toggleable__label.fitted {\n",
       "  color: var(--sklearn-color-text);\n",
       "  background-color: var(--sklearn-color-fitted-level-2);\n",
       "}\n",
       "\n",
       "/* Estimator label */\n",
       "\n",
       "#sk-container-id-6 div.sk-label label {\n",
       "  font-family: monospace;\n",
       "  font-weight: bold;\n",
       "  display: inline-block;\n",
       "  line-height: 1.2em;\n",
       "}\n",
       "\n",
       "#sk-container-id-6 div.sk-label-container {\n",
       "  text-align: center;\n",
       "}\n",
       "\n",
       "/* Estimator-specific */\n",
       "#sk-container-id-6 div.sk-estimator {\n",
       "  font-family: monospace;\n",
       "  border: 1px dotted var(--sklearn-color-border-box);\n",
       "  border-radius: 0.25em;\n",
       "  box-sizing: border-box;\n",
       "  margin-bottom: 0.5em;\n",
       "  /* unfitted */\n",
       "  background-color: var(--sklearn-color-unfitted-level-0);\n",
       "}\n",
       "\n",
       "#sk-container-id-6 div.sk-estimator.fitted {\n",
       "  /* fitted */\n",
       "  background-color: var(--sklearn-color-fitted-level-0);\n",
       "}\n",
       "\n",
       "/* on hover */\n",
       "#sk-container-id-6 div.sk-estimator:hover {\n",
       "  /* unfitted */\n",
       "  background-color: var(--sklearn-color-unfitted-level-2);\n",
       "}\n",
       "\n",
       "#sk-container-id-6 div.sk-estimator.fitted:hover {\n",
       "  /* fitted */\n",
       "  background-color: var(--sklearn-color-fitted-level-2);\n",
       "}\n",
       "\n",
       "/* Specification for estimator info (e.g. \"i\" and \"?\") */\n",
       "\n",
       "/* Common style for \"i\" and \"?\" */\n",
       "\n",
       ".sk-estimator-doc-link,\n",
       "a:link.sk-estimator-doc-link,\n",
       "a:visited.sk-estimator-doc-link {\n",
       "  float: right;\n",
       "  font-size: smaller;\n",
       "  line-height: 1em;\n",
       "  font-family: monospace;\n",
       "  background-color: var(--sklearn-color-background);\n",
       "  border-radius: 1em;\n",
       "  height: 1em;\n",
       "  width: 1em;\n",
       "  text-decoration: none !important;\n",
       "  margin-left: 1ex;\n",
       "  /* unfitted */\n",
       "  border: var(--sklearn-color-unfitted-level-1) 1pt solid;\n",
       "  color: var(--sklearn-color-unfitted-level-1);\n",
       "}\n",
       "\n",
       ".sk-estimator-doc-link.fitted,\n",
       "a:link.sk-estimator-doc-link.fitted,\n",
       "a:visited.sk-estimator-doc-link.fitted {\n",
       "  /* fitted */\n",
       "  border: var(--sklearn-color-fitted-level-1) 1pt solid;\n",
       "  color: var(--sklearn-color-fitted-level-1);\n",
       "}\n",
       "\n",
       "/* On hover */\n",
       "div.sk-estimator:hover .sk-estimator-doc-link:hover,\n",
       ".sk-estimator-doc-link:hover,\n",
       "div.sk-label-container:hover .sk-estimator-doc-link:hover,\n",
       ".sk-estimator-doc-link:hover {\n",
       "  /* unfitted */\n",
       "  background-color: var(--sklearn-color-unfitted-level-3);\n",
       "  color: var(--sklearn-color-background);\n",
       "  text-decoration: none;\n",
       "}\n",
       "\n",
       "div.sk-estimator.fitted:hover .sk-estimator-doc-link.fitted:hover,\n",
       ".sk-estimator-doc-link.fitted:hover,\n",
       "div.sk-label-container:hover .sk-estimator-doc-link.fitted:hover,\n",
       ".sk-estimator-doc-link.fitted:hover {\n",
       "  /* fitted */\n",
       "  background-color: var(--sklearn-color-fitted-level-3);\n",
       "  color: var(--sklearn-color-background);\n",
       "  text-decoration: none;\n",
       "}\n",
       "\n",
       "/* Span, style for the box shown on hovering the info icon */\n",
       ".sk-estimator-doc-link span {\n",
       "  display: none;\n",
       "  z-index: 9999;\n",
       "  position: relative;\n",
       "  font-weight: normal;\n",
       "  right: .2ex;\n",
       "  padding: .5ex;\n",
       "  margin: .5ex;\n",
       "  width: min-content;\n",
       "  min-width: 20ex;\n",
       "  max-width: 50ex;\n",
       "  color: var(--sklearn-color-text);\n",
       "  box-shadow: 2pt 2pt 4pt #999;\n",
       "  /* unfitted */\n",
       "  background: var(--sklearn-color-unfitted-level-0);\n",
       "  border: .5pt solid var(--sklearn-color-unfitted-level-3);\n",
       "}\n",
       "\n",
       ".sk-estimator-doc-link.fitted span {\n",
       "  /* fitted */\n",
       "  background: var(--sklearn-color-fitted-level-0);\n",
       "  border: var(--sklearn-color-fitted-level-3);\n",
       "}\n",
       "\n",
       ".sk-estimator-doc-link:hover span {\n",
       "  display: block;\n",
       "}\n",
       "\n",
       "/* \"?\"-specific style due to the `<a>` HTML tag */\n",
       "\n",
       "#sk-container-id-6 a.estimator_doc_link {\n",
       "  float: right;\n",
       "  font-size: 1rem;\n",
       "  line-height: 1em;\n",
       "  font-family: monospace;\n",
       "  background-color: var(--sklearn-color-background);\n",
       "  border-radius: 1rem;\n",
       "  height: 1rem;\n",
       "  width: 1rem;\n",
       "  text-decoration: none;\n",
       "  /* unfitted */\n",
       "  color: var(--sklearn-color-unfitted-level-1);\n",
       "  border: var(--sklearn-color-unfitted-level-1) 1pt solid;\n",
       "}\n",
       "\n",
       "#sk-container-id-6 a.estimator_doc_link.fitted {\n",
       "  /* fitted */\n",
       "  border: var(--sklearn-color-fitted-level-1) 1pt solid;\n",
       "  color: var(--sklearn-color-fitted-level-1);\n",
       "}\n",
       "\n",
       "/* On hover */\n",
       "#sk-container-id-6 a.estimator_doc_link:hover {\n",
       "  /* unfitted */\n",
       "  background-color: var(--sklearn-color-unfitted-level-3);\n",
       "  color: var(--sklearn-color-background);\n",
       "  text-decoration: none;\n",
       "}\n",
       "\n",
       "#sk-container-id-6 a.estimator_doc_link.fitted:hover {\n",
       "  /* fitted */\n",
       "  background-color: var(--sklearn-color-fitted-level-3);\n",
       "}\n",
       "</style><div id=\"sk-container-id-6\" class=\"sk-top-container\"><div class=\"sk-text-repr-fallback\"><pre>LGBMClassifier(importance_type=&#x27;gain&#x27;, n_estimators=500, n_jobs=-1,\n",
       "               random_state=0, verbose=-1)</pre><b>In a Jupyter environment, please rerun this cell to show the HTML representation or trust the notebook. <br />On GitHub, the HTML representation is unable to render, please try loading this page with nbviewer.org.</b></div><div class=\"sk-container\" hidden><div class=\"sk-item\"><div class=\"sk-estimator fitted sk-toggleable\"><input class=\"sk-toggleable__control sk-hidden--visually\" id=\"sk-estimator-id-8\" type=\"checkbox\" checked><label for=\"sk-estimator-id-8\" class=\"sk-toggleable__label fitted sk-toggleable__label-arrow fitted\">&nbsp;LGBMClassifier<span class=\"sk-estimator-doc-link fitted\">i<span>Fitted</span></span></label><div class=\"sk-toggleable__content fitted\"><pre>LGBMClassifier(importance_type=&#x27;gain&#x27;, n_estimators=500, n_jobs=-1,\n",
       "               random_state=0, verbose=-1)</pre></div> </div></div></div></div>"
      ],
      "text/plain": [
       "LGBMClassifier(importance_type='gain', n_estimators=500, n_jobs=-1,\n",
       "               random_state=0, verbose=-1)"
      ]
     },
     "execution_count": 38,
     "metadata": {},
     "output_type": "execute_result"
    }
   ],
   "source": [
    "# your_code\n",
    "from lightgbm import LGBMClassifier\n",
    "\n",
    "clf = LGBMClassifier(n_estimators=500, importance_type=\"gain\", random_state=0, n_jobs=-1, verbose=-1)\n",
    "clf.fit(X_train_res, y_train_res)"
   ]
  },
  {
   "cell_type": "code",
   "execution_count": 39,
   "metadata": {},
   "outputs": [
    {
     "name": "stdout",
     "output_type": "stream",
     "text": [
      "0.9527442254714982\n"
     ]
    }
   ],
   "source": [
    "y_proba = clf.predict_proba(X_test)[:, -1]\n",
    "auroc = roc_auc_score(y_test, y_proba)\n",
    "print(auroc)"
   ]
  },
  {
   "cell_type": "code",
   "execution_count": 40,
   "metadata": {
    "editable": true,
    "slideshow": {
     "slide_type": ""
    },
    "tags": [
     "ex"
    ]
   },
   "outputs": [
    {
     "name": "stdout",
     "output_type": "stream",
     "text": [
      "Solution is correct!\n"
     ]
    }
   ],
   "source": [
    "assert 0.9 <= auroc <= 0.97\n",
    "\n",
    "print(\"Solution is correct!\")"
   ]
  },
  {
   "cell_type": "markdown",
   "metadata": {
    "editable": true,
    "pycharm": {
     "name": "#%% md\n"
    },
    "slideshow": {
     "slide_type": ""
    },
    "tags": [
     "ex"
    ]
   },
   "source": [
    "// skomentuj tutaj<br>\n",
    "Wynik po zastosowaniu boostingu polepszył się, dodatkowo czas obliczeń był krótszy."
   ]
  },
  {
   "cell_type": "markdown",
   "metadata": {
    "editable": true,
    "pycharm": {
     "name": "#%% md\n"
    },
    "slideshow": {
     "slide_type": ""
    },
    "tags": []
   },
   "source": [
    "Boosting dzięki uczeniu na poprzednich drzewach redukuje nie tylko wariancję, ale też bias w błędzie, dzięki czemu może w wielu przypadkach osiągnąć lepsze rezultaty od lasu losowego. Do tego dzięki znakomitej implementacji LightGBM jest szybszy.\n",
    "\n",
    "Boosting jest jednak o wiele bardziej czuły na hiperparametry niż Random Forest. W szczególności bardzo łatwo go przeuczyć, a większość hiperparametrów, których jest dużo, wiąże się z regularyzacją modelu. To, że teraz poszło nam lepiej z domyślnymi, jest rzadkim przypadkiem.\n",
    "\n",
    "W związku z tym, że przestrzeń hiperparametrów jest duża, przeszukanie wszystkich kombinacji nie wchodzi w grę. Zamiast tego można wylosować zadaną liczbę zestawów hiperparametrów i tylko je sprawdzić - chociaż im więcej, tym lepsze wyniki powinniśmy dostać. Służy do tego `RandomizedSearchCV`. Co więcej, klasa ta potrafi próbkować rozkłady prawdopodobieństwa, a nie tylko sztywne listy wartości, co jest bardzo przydatne przy parametrach ciągłych.\n",
    "\n",
    "Hiperparametry LightGBMa są dobrze opisane w oficjalnej dokumentacji: [wersja krótsza](https://lightgbm.readthedocs.io/en/latest/pythonapi/lightgbm.LGBMClassifier.html#lightgbm.LGBMClassifier) i [wersja dłuższa](https://lightgbm.readthedocs.io/en/latest/Parameters.html). Jest ich dużo, więc nie będziemy ich tutaj omawiać. Jeżeli chodzi o ich dostrajanie w praktyce, to przydatny jest [oficjalny przewodnik](https://lightgbm.readthedocs.io/en/latest/Parameters-Tuning.html) oraz dyskusje na Kaggle."
   ]
  },
  {
   "cell_type": "markdown",
   "metadata": {
    "editable": true,
    "slideshow": {
     "slide_type": ""
    },
    "tags": [
     "ex"
    ]
   },
   "source": [
    "### Zadanie 8 (1.5 punktu)"
   ]
  },
  {
   "cell_type": "markdown",
   "metadata": {
    "editable": true,
    "slideshow": {
     "slide_type": ""
    },
    "tags": [
     "ex"
    ]
   },
   "source": [
    "1. Zaimplementuj random search dla LightGBMa (klasa `RandomizedSearchCV`):\n",
    "   - użyj tylu prób, na ile pozwalają twoje zasoby obliczeniowe, ale przynajmniej 30,\n",
    "   - przeszukaj przestrzeń hiperparametrów:\n",
    "    ```\n",
    "    param_grid = {\n",
    "        \"n_estimators\": [100, 250, 500],\n",
    "        \"learning_rate\": [0.05, 0.1, 0.2],\n",
    "        \"num_leaves\": [31, 48, 64],\n",
    "        \"colsample_bytree\": [0.8, 0.9, 1.0],\n",
    "        \"subsample\": [0.8, 0.9, 1.0],\n",
    "    }\n",
    "    ```\n",
    "2. Wypisz znalezione optymalne hiperparametry.\n",
    "3. Wypisz raporty z klasyfikacji (funkcja `classification_report`), dla modelu LightGBM bez i z dostrajaniem hiperparametrów.\n",
    "4. Skomentuj różnicę precyzji (precision) i czułości (recall) między modelami bez i z dostrajaniem hiperparametrów. Czy jest to pożądane zjawisko w tym przypadku?\n",
    "5. Wartość ROC przypisz do zmiennej `auroc`.\n",
    "\n",
    "**Uwaga:** \n",
    "- koniecznie ustaw `verbose=-1` przy tworzeniu `LGBMClassifier`, żeby uniknąć kolosalnej ilości logów, która potrafi też wyłączyć Jupytera\n",
    "- pamiętaj o ustawieniu `importance_type`, `random_state=0` i `n_jobs`, oraz ewentualnie `verbose` w `RandomizedSearchCV` dla śledzenia przebiegu\n",
    "- istnieje możliwość, że ustawienie `n_jobs` dla grid searcha będzie szybsze niż dla samego LightGBM; odpowiada to tuningowi wielu klasyfikatorów równolegle, przy wolniejszym treningu pojedynczych klasyfikatorów\n",
    "- nie ustawiaj wszędzie `n_jobs=-1`, bo wtedy stworzysz więcej procesów niż rdzeni i spowodujesz thread contention"
   ]
  },
  {
   "cell_type": "code",
   "execution_count": 37,
   "metadata": {
    "editable": true,
    "pycharm": {
     "is_executing": true,
     "name": "#%%\n"
    },
    "slideshow": {
     "slide_type": ""
    },
    "tags": [
     "ex"
    ]
   },
   "outputs": [
    {
     "name": "stdout",
     "output_type": "stream",
     "text": [
      "              precision    recall  f1-score   support\n",
      "\n",
      "           0       0.98      0.99      0.98      2002\n",
      "           1       0.76      0.55      0.64        99\n",
      "\n",
      "    accuracy                           0.97      2101\n",
      "   macro avg       0.87      0.77      0.81      2101\n",
      "weighted avg       0.97      0.97      0.97      2101\n",
      "\n"
     ]
    }
   ],
   "source": [
    "# your_code\n",
    "from sklearn.model_selection import RandomizedSearchCV\n",
    "from sklearn.metrics import classification_report\n",
    "\n",
    "clf = LGBMClassifier(n_estimators=500, importance_type=\"gain\", random_state=0, n_jobs=-1, verbose=-1)\n",
    "clf.fit(X_train_res, y_train_res)\n",
    "print(classification_report(y_test, clf.predict(X_test)))"
   ]
  },
  {
   "cell_type": "code",
   "execution_count": 75,
   "metadata": {},
   "outputs": [
    {
     "name": "stdout",
     "output_type": "stream",
     "text": [
      "Fitting 5 folds for each of 100 candidates, totalling 500 fits\n",
      "[CV] END colsample_bytree=0.9, learning_rate=0.05, n_estimators=250, num_leaves=48, subsample=0.9; total time=   1.7s\n",
      "[CV] END colsample_bytree=0.9, learning_rate=0.05, n_estimators=250, num_leaves=48, subsample=0.9; total time=   1.5s\n",
      "[CV] END colsample_bytree=0.9, learning_rate=0.05, n_estimators=250, num_leaves=48, subsample=0.9; total time=   1.5s\n",
      "[CV] END colsample_bytree=0.9, learning_rate=0.05, n_estimators=250, num_leaves=48, subsample=0.9; total time=   1.4s\n",
      "[CV] END colsample_bytree=0.9, learning_rate=0.05, n_estimators=250, num_leaves=48, subsample=0.9; total time=   1.6s\n",
      "[CV] END colsample_bytree=1.0, learning_rate=0.1, n_estimators=250, num_leaves=31, subsample=0.8; total time=   1.0s\n",
      "[CV] END colsample_bytree=1.0, learning_rate=0.1, n_estimators=250, num_leaves=31, subsample=0.8; total time=   1.1s\n",
      "[CV] END colsample_bytree=1.0, learning_rate=0.1, n_estimators=250, num_leaves=31, subsample=0.8; total time=   0.9s\n",
      "[CV] END colsample_bytree=1.0, learning_rate=0.1, n_estimators=250, num_leaves=31, subsample=0.8; total time=   0.9s\n",
      "[CV] END colsample_bytree=1.0, learning_rate=0.1, n_estimators=250, num_leaves=31, subsample=0.8; total time=   0.9s\n",
      "[CV] END colsample_bytree=0.8, learning_rate=0.2, n_estimators=500, num_leaves=48, subsample=1.0; total time=   1.3s\n",
      "[CV] END colsample_bytree=0.8, learning_rate=0.2, n_estimators=500, num_leaves=48, subsample=1.0; total time=   1.5s\n",
      "[CV] END colsample_bytree=0.8, learning_rate=0.2, n_estimators=500, num_leaves=48, subsample=1.0; total time=   1.4s\n",
      "[CV] END colsample_bytree=0.8, learning_rate=0.2, n_estimators=500, num_leaves=48, subsample=1.0; total time=   1.7s\n",
      "[CV] END colsample_bytree=0.8, learning_rate=0.2, n_estimators=500, num_leaves=48, subsample=1.0; total time=   2.4s\n",
      "[CV] END colsample_bytree=0.9, learning_rate=0.2, n_estimators=250, num_leaves=64, subsample=0.9; total time=   1.9s\n",
      "[CV] END colsample_bytree=0.9, learning_rate=0.2, n_estimators=250, num_leaves=64, subsample=0.9; total time=   1.6s\n",
      "[CV] END colsample_bytree=0.9, learning_rate=0.2, n_estimators=250, num_leaves=64, subsample=0.9; total time=   1.4s\n",
      "[CV] END colsample_bytree=0.9, learning_rate=0.2, n_estimators=250, num_leaves=64, subsample=0.9; total time=   1.5s\n",
      "[CV] END colsample_bytree=0.9, learning_rate=0.2, n_estimators=250, num_leaves=64, subsample=0.9; total time=   2.1s\n",
      "[CV] END colsample_bytree=0.9, learning_rate=0.05, n_estimators=500, num_leaves=31, subsample=1.0; total time=   2.3s\n",
      "[CV] END colsample_bytree=0.9, learning_rate=0.05, n_estimators=500, num_leaves=31, subsample=1.0; total time=   2.2s\n",
      "[CV] END colsample_bytree=0.9, learning_rate=0.05, n_estimators=500, num_leaves=31, subsample=1.0; total time=   2.1s\n",
      "[CV] END colsample_bytree=0.9, learning_rate=0.05, n_estimators=500, num_leaves=31, subsample=1.0; total time=   2.1s\n",
      "[CV] END colsample_bytree=0.9, learning_rate=0.05, n_estimators=500, num_leaves=31, subsample=1.0; total time=   2.5s\n",
      "[CV] END colsample_bytree=0.8, learning_rate=0.1, n_estimators=500, num_leaves=48, subsample=1.0; total time=   3.1s\n",
      "[CV] END colsample_bytree=0.8, learning_rate=0.1, n_estimators=500, num_leaves=48, subsample=1.0; total time=   2.9s\n",
      "[CV] END colsample_bytree=0.8, learning_rate=0.1, n_estimators=500, num_leaves=48, subsample=1.0; total time=   2.9s\n",
      "[CV] END colsample_bytree=0.8, learning_rate=0.1, n_estimators=500, num_leaves=48, subsample=1.0; total time=   3.0s\n",
      "[CV] END colsample_bytree=0.8, learning_rate=0.1, n_estimators=500, num_leaves=48, subsample=1.0; total time=   3.3s\n",
      "[CV] END colsample_bytree=0.9, learning_rate=0.05, n_estimators=100, num_leaves=48, subsample=0.8; total time=   0.8s\n",
      "[CV] END colsample_bytree=0.9, learning_rate=0.05, n_estimators=100, num_leaves=48, subsample=0.8; total time=   0.6s\n",
      "[CV] END colsample_bytree=0.9, learning_rate=0.05, n_estimators=100, num_leaves=48, subsample=0.8; total time=   0.7s\n",
      "[CV] END colsample_bytree=0.9, learning_rate=0.05, n_estimators=100, num_leaves=48, subsample=0.8; total time=   0.8s\n",
      "[CV] END colsample_bytree=0.9, learning_rate=0.05, n_estimators=100, num_leaves=48, subsample=0.8; total time=   0.9s\n",
      "[CV] END colsample_bytree=0.8, learning_rate=0.2, n_estimators=500, num_leaves=64, subsample=0.9; total time=   2.0s\n",
      "[CV] END colsample_bytree=0.8, learning_rate=0.2, n_estimators=500, num_leaves=64, subsample=0.9; total time=   2.2s\n",
      "[CV] END colsample_bytree=0.8, learning_rate=0.2, n_estimators=500, num_leaves=64, subsample=0.9; total time=   2.3s\n",
      "[CV] END colsample_bytree=0.8, learning_rate=0.2, n_estimators=500, num_leaves=64, subsample=0.9; total time=   1.8s\n",
      "[CV] END colsample_bytree=0.8, learning_rate=0.2, n_estimators=500, num_leaves=64, subsample=0.9; total time=   1.9s\n",
      "[CV] END colsample_bytree=0.8, learning_rate=0.1, n_estimators=500, num_leaves=64, subsample=0.9; total time=   2.9s\n",
      "[CV] END colsample_bytree=0.8, learning_rate=0.1, n_estimators=500, num_leaves=64, subsample=0.9; total time=   3.2s\n",
      "[CV] END colsample_bytree=0.8, learning_rate=0.1, n_estimators=500, num_leaves=64, subsample=0.9; total time=   4.8s\n",
      "[CV] END colsample_bytree=0.8, learning_rate=0.1, n_estimators=500, num_leaves=64, subsample=0.9; total time=   2.9s\n",
      "[CV] END colsample_bytree=0.8, learning_rate=0.1, n_estimators=500, num_leaves=64, subsample=0.9; total time=   2.4s\n",
      "[CV] END colsample_bytree=1.0, learning_rate=0.05, n_estimators=500, num_leaves=48, subsample=0.9; total time=   3.2s\n",
      "[CV] END colsample_bytree=1.0, learning_rate=0.05, n_estimators=500, num_leaves=48, subsample=0.9; total time=   3.1s\n",
      "[CV] END colsample_bytree=1.0, learning_rate=0.05, n_estimators=500, num_leaves=48, subsample=0.9; total time=   3.8s\n",
      "[CV] END colsample_bytree=1.0, learning_rate=0.05, n_estimators=500, num_leaves=48, subsample=0.9; total time=   3.5s\n",
      "[CV] END colsample_bytree=1.0, learning_rate=0.05, n_estimators=500, num_leaves=48, subsample=0.9; total time=   3.5s\n",
      "[CV] END colsample_bytree=0.9, learning_rate=0.05, n_estimators=500, num_leaves=48, subsample=0.9; total time=   3.0s\n",
      "[CV] END colsample_bytree=0.9, learning_rate=0.05, n_estimators=500, num_leaves=48, subsample=0.9; total time=   2.7s\n",
      "[CV] END colsample_bytree=0.9, learning_rate=0.05, n_estimators=500, num_leaves=48, subsample=0.9; total time=   2.6s\n",
      "[CV] END colsample_bytree=0.9, learning_rate=0.05, n_estimators=500, num_leaves=48, subsample=0.9; total time=   2.7s\n",
      "[CV] END colsample_bytree=0.9, learning_rate=0.05, n_estimators=500, num_leaves=48, subsample=0.9; total time=   2.6s\n",
      "[CV] END colsample_bytree=1.0, learning_rate=0.05, n_estimators=100, num_leaves=31, subsample=0.9; total time=   0.4s\n",
      "[CV] END colsample_bytree=1.0, learning_rate=0.05, n_estimators=100, num_leaves=31, subsample=0.9; total time=   0.3s\n",
      "[CV] END colsample_bytree=1.0, learning_rate=0.05, n_estimators=100, num_leaves=31, subsample=0.9; total time=   0.4s\n",
      "[CV] END colsample_bytree=1.0, learning_rate=0.05, n_estimators=100, num_leaves=31, subsample=0.9; total time=   0.4s\n",
      "[CV] END colsample_bytree=1.0, learning_rate=0.05, n_estimators=100, num_leaves=31, subsample=0.9; total time=   0.4s\n",
      "[CV] END colsample_bytree=0.8, learning_rate=0.05, n_estimators=500, num_leaves=64, subsample=1.0; total time=   3.1s\n",
      "[CV] END colsample_bytree=0.8, learning_rate=0.05, n_estimators=500, num_leaves=64, subsample=1.0; total time=   3.2s\n",
      "[CV] END colsample_bytree=0.8, learning_rate=0.05, n_estimators=500, num_leaves=64, subsample=1.0; total time=   3.1s\n",
      "[CV] END colsample_bytree=0.8, learning_rate=0.05, n_estimators=500, num_leaves=64, subsample=1.0; total time=   3.3s\n",
      "[CV] END colsample_bytree=0.8, learning_rate=0.05, n_estimators=500, num_leaves=64, subsample=1.0; total time=   4.2s\n",
      "[CV] END colsample_bytree=0.9, learning_rate=0.2, n_estimators=100, num_leaves=48, subsample=0.8; total time=   0.7s\n",
      "[CV] END colsample_bytree=0.9, learning_rate=0.2, n_estimators=100, num_leaves=48, subsample=0.8; total time=   0.6s\n",
      "[CV] END colsample_bytree=0.9, learning_rate=0.2, n_estimators=100, num_leaves=48, subsample=0.8; total time=   0.6s\n",
      "[CV] END colsample_bytree=0.9, learning_rate=0.2, n_estimators=100, num_leaves=48, subsample=0.8; total time=   0.6s\n",
      "[CV] END colsample_bytree=0.9, learning_rate=0.2, n_estimators=100, num_leaves=48, subsample=0.8; total time=   0.6s\n",
      "[CV] END colsample_bytree=0.8, learning_rate=0.05, n_estimators=250, num_leaves=48, subsample=0.8; total time=   1.5s\n",
      "[CV] END colsample_bytree=0.8, learning_rate=0.05, n_estimators=250, num_leaves=48, subsample=0.8; total time=   1.4s\n",
      "[CV] END colsample_bytree=0.8, learning_rate=0.05, n_estimators=250, num_leaves=48, subsample=0.8; total time=   1.5s\n",
      "[CV] END colsample_bytree=0.8, learning_rate=0.05, n_estimators=250, num_leaves=48, subsample=0.8; total time=   1.5s\n",
      "[CV] END colsample_bytree=0.8, learning_rate=0.05, n_estimators=250, num_leaves=48, subsample=0.8; total time=   1.6s\n",
      "[CV] END colsample_bytree=0.8, learning_rate=0.2, n_estimators=100, num_leaves=48, subsample=0.9; total time=   0.7s\n",
      "[CV] END colsample_bytree=0.8, learning_rate=0.2, n_estimators=100, num_leaves=48, subsample=0.9; total time=   0.5s\n",
      "[CV] END colsample_bytree=0.8, learning_rate=0.2, n_estimators=100, num_leaves=48, subsample=0.9; total time=   0.4s\n",
      "[CV] END colsample_bytree=0.8, learning_rate=0.2, n_estimators=100, num_leaves=48, subsample=0.9; total time=   0.4s\n",
      "[CV] END colsample_bytree=0.8, learning_rate=0.2, n_estimators=100, num_leaves=48, subsample=0.9; total time=   0.4s\n",
      "[CV] END colsample_bytree=0.8, learning_rate=0.2, n_estimators=250, num_leaves=31, subsample=0.8; total time=   0.8s\n",
      "[CV] END colsample_bytree=0.8, learning_rate=0.2, n_estimators=250, num_leaves=31, subsample=0.8; total time=   0.7s\n",
      "[CV] END colsample_bytree=0.8, learning_rate=0.2, n_estimators=250, num_leaves=31, subsample=0.8; total time=   0.8s\n",
      "[CV] END colsample_bytree=0.8, learning_rate=0.2, n_estimators=250, num_leaves=31, subsample=0.8; total time=   0.7s\n",
      "[CV] END colsample_bytree=0.8, learning_rate=0.2, n_estimators=250, num_leaves=31, subsample=0.8; total time=   0.8s\n",
      "[CV] END colsample_bytree=0.8, learning_rate=0.2, n_estimators=500, num_leaves=31, subsample=0.9; total time=   1.2s\n",
      "[CV] END colsample_bytree=0.8, learning_rate=0.2, n_estimators=500, num_leaves=31, subsample=0.9; total time=   1.3s\n",
      "[CV] END colsample_bytree=0.8, learning_rate=0.2, n_estimators=500, num_leaves=31, subsample=0.9; total time=   1.3s\n",
      "[CV] END colsample_bytree=0.8, learning_rate=0.2, n_estimators=500, num_leaves=31, subsample=0.9; total time=   1.5s\n",
      "[CV] END colsample_bytree=0.8, learning_rate=0.2, n_estimators=500, num_leaves=31, subsample=0.9; total time=   1.3s\n",
      "[CV] END colsample_bytree=0.9, learning_rate=0.2, n_estimators=500, num_leaves=64, subsample=0.8; total time=   1.6s\n",
      "[CV] END colsample_bytree=0.9, learning_rate=0.2, n_estimators=500, num_leaves=64, subsample=0.8; total time=   1.6s\n",
      "[CV] END colsample_bytree=0.9, learning_rate=0.2, n_estimators=500, num_leaves=64, subsample=0.8; total time=   1.6s\n",
      "[CV] END colsample_bytree=0.9, learning_rate=0.2, n_estimators=500, num_leaves=64, subsample=0.8; total time=   2.3s\n",
      "[CV] END colsample_bytree=0.9, learning_rate=0.2, n_estimators=500, num_leaves=64, subsample=0.8; total time=   5.4s\n",
      "[CV] END colsample_bytree=0.8, learning_rate=0.05, n_estimators=100, num_leaves=48, subsample=0.8; total time=   1.7s\n",
      "[CV] END colsample_bytree=0.8, learning_rate=0.05, n_estimators=100, num_leaves=48, subsample=0.8; total time=   1.9s\n",
      "[CV] END colsample_bytree=0.8, learning_rate=0.05, n_estimators=100, num_leaves=48, subsample=0.8; total time=   1.0s\n",
      "[CV] END colsample_bytree=0.8, learning_rate=0.05, n_estimators=100, num_leaves=48, subsample=0.8; total time=   0.6s\n",
      "[CV] END colsample_bytree=0.8, learning_rate=0.05, n_estimators=100, num_leaves=48, subsample=0.8; total time=   0.9s\n",
      "[CV] END colsample_bytree=0.8, learning_rate=0.2, n_estimators=100, num_leaves=64, subsample=0.8; total time=   0.9s\n",
      "[CV] END colsample_bytree=0.8, learning_rate=0.2, n_estimators=100, num_leaves=64, subsample=0.8; total time=   0.8s\n",
      "[CV] END colsample_bytree=0.8, learning_rate=0.2, n_estimators=100, num_leaves=64, subsample=0.8; total time=   0.9s\n",
      "[CV] END colsample_bytree=0.8, learning_rate=0.2, n_estimators=100, num_leaves=64, subsample=0.8; total time=   0.9s\n",
      "[CV] END colsample_bytree=0.8, learning_rate=0.2, n_estimators=100, num_leaves=64, subsample=0.8; total time=   0.7s\n",
      "[CV] END colsample_bytree=0.9, learning_rate=0.2, n_estimators=100, num_leaves=48, subsample=1.0; total time=   0.5s\n",
      "[CV] END colsample_bytree=0.9, learning_rate=0.2, n_estimators=100, num_leaves=48, subsample=1.0; total time=   0.6s\n",
      "[CV] END colsample_bytree=0.9, learning_rate=0.2, n_estimators=100, num_leaves=48, subsample=1.0; total time=   0.6s\n",
      "[CV] END colsample_bytree=0.9, learning_rate=0.2, n_estimators=100, num_leaves=48, subsample=1.0; total time=   0.5s\n",
      "[CV] END colsample_bytree=0.9, learning_rate=0.2, n_estimators=100, num_leaves=48, subsample=1.0; total time=   0.5s\n",
      "[CV] END colsample_bytree=0.9, learning_rate=0.1, n_estimators=250, num_leaves=64, subsample=1.0; total time=   2.1s\n",
      "[CV] END colsample_bytree=0.9, learning_rate=0.1, n_estimators=250, num_leaves=64, subsample=1.0; total time=   2.2s\n",
      "[CV] END colsample_bytree=0.9, learning_rate=0.1, n_estimators=250, num_leaves=64, subsample=1.0; total time=   2.1s\n",
      "[CV] END colsample_bytree=0.9, learning_rate=0.1, n_estimators=250, num_leaves=64, subsample=1.0; total time=   1.8s\n",
      "[CV] END colsample_bytree=0.9, learning_rate=0.1, n_estimators=250, num_leaves=64, subsample=1.0; total time=   1.9s\n",
      "[CV] END colsample_bytree=1.0, learning_rate=0.05, n_estimators=250, num_leaves=48, subsample=1.0; total time=   2.0s\n",
      "[CV] END colsample_bytree=1.0, learning_rate=0.05, n_estimators=250, num_leaves=48, subsample=1.0; total time=   1.8s\n",
      "[CV] END colsample_bytree=1.0, learning_rate=0.05, n_estimators=250, num_leaves=48, subsample=1.0; total time=   1.9s\n",
      "[CV] END colsample_bytree=1.0, learning_rate=0.05, n_estimators=250, num_leaves=48, subsample=1.0; total time=   2.1s\n",
      "[CV] END colsample_bytree=1.0, learning_rate=0.05, n_estimators=250, num_leaves=48, subsample=1.0; total time=   1.9s\n",
      "[CV] END colsample_bytree=0.9, learning_rate=0.2, n_estimators=100, num_leaves=31, subsample=0.8; total time=   0.5s\n",
      "[CV] END colsample_bytree=0.9, learning_rate=0.2, n_estimators=100, num_leaves=31, subsample=0.8; total time=   0.4s\n",
      "[CV] END colsample_bytree=0.9, learning_rate=0.2, n_estimators=100, num_leaves=31, subsample=0.8; total time=   0.4s\n",
      "[CV] END colsample_bytree=0.9, learning_rate=0.2, n_estimators=100, num_leaves=31, subsample=0.8; total time=   0.5s\n",
      "[CV] END colsample_bytree=0.9, learning_rate=0.2, n_estimators=100, num_leaves=31, subsample=0.8; total time=   0.4s\n",
      "[CV] END colsample_bytree=0.8, learning_rate=0.2, n_estimators=250, num_leaves=64, subsample=0.9; total time=   1.4s\n",
      "[CV] END colsample_bytree=0.8, learning_rate=0.2, n_estimators=250, num_leaves=64, subsample=0.9; total time=   1.2s\n",
      "[CV] END colsample_bytree=0.8, learning_rate=0.2, n_estimators=250, num_leaves=64, subsample=0.9; total time=   1.2s\n",
      "[CV] END colsample_bytree=0.8, learning_rate=0.2, n_estimators=250, num_leaves=64, subsample=0.9; total time=   1.2s\n",
      "[CV] END colsample_bytree=0.8, learning_rate=0.2, n_estimators=250, num_leaves=64, subsample=0.9; total time=   1.2s\n",
      "[CV] END colsample_bytree=1.0, learning_rate=0.05, n_estimators=250, num_leaves=64, subsample=0.8; total time=   1.8s\n",
      "[CV] END colsample_bytree=1.0, learning_rate=0.05, n_estimators=250, num_leaves=64, subsample=0.8; total time=   1.7s\n",
      "[CV] END colsample_bytree=1.0, learning_rate=0.05, n_estimators=250, num_leaves=64, subsample=0.8; total time=   1.8s\n",
      "[CV] END colsample_bytree=1.0, learning_rate=0.05, n_estimators=250, num_leaves=64, subsample=0.8; total time=   1.8s\n",
      "[CV] END colsample_bytree=1.0, learning_rate=0.05, n_estimators=250, num_leaves=64, subsample=0.8; total time=   2.2s\n",
      "[CV] END colsample_bytree=0.8, learning_rate=0.1, n_estimators=250, num_leaves=64, subsample=0.8; total time=   2.1s\n",
      "[CV] END colsample_bytree=0.8, learning_rate=0.1, n_estimators=250, num_leaves=64, subsample=0.8; total time=   1.9s\n",
      "[CV] END colsample_bytree=0.8, learning_rate=0.1, n_estimators=250, num_leaves=64, subsample=0.8; total time=   2.4s\n",
      "[CV] END colsample_bytree=0.8, learning_rate=0.1, n_estimators=250, num_leaves=64, subsample=0.8; total time=   1.9s\n",
      "[CV] END colsample_bytree=0.8, learning_rate=0.1, n_estimators=250, num_leaves=64, subsample=0.8; total time=   2.1s\n",
      "[CV] END colsample_bytree=0.8, learning_rate=0.2, n_estimators=100, num_leaves=48, subsample=0.8; total time=   0.6s\n",
      "[CV] END colsample_bytree=0.8, learning_rate=0.2, n_estimators=100, num_leaves=48, subsample=0.8; total time=   0.7s\n",
      "[CV] END colsample_bytree=0.8, learning_rate=0.2, n_estimators=100, num_leaves=48, subsample=0.8; total time=   0.6s\n",
      "[CV] END colsample_bytree=0.8, learning_rate=0.2, n_estimators=100, num_leaves=48, subsample=0.8; total time=   0.6s\n",
      "[CV] END colsample_bytree=0.8, learning_rate=0.2, n_estimators=100, num_leaves=48, subsample=0.8; total time=   0.5s\n",
      "[CV] END colsample_bytree=1.0, learning_rate=0.1, n_estimators=500, num_leaves=64, subsample=1.0; total time=   3.3s\n",
      "[CV] END colsample_bytree=1.0, learning_rate=0.1, n_estimators=500, num_leaves=64, subsample=1.0; total time=   2.9s\n",
      "[CV] END colsample_bytree=1.0, learning_rate=0.1, n_estimators=500, num_leaves=64, subsample=1.0; total time=   3.3s\n",
      "[CV] END colsample_bytree=1.0, learning_rate=0.1, n_estimators=500, num_leaves=64, subsample=1.0; total time=   2.7s\n",
      "[CV] END colsample_bytree=1.0, learning_rate=0.1, n_estimators=500, num_leaves=64, subsample=1.0; total time=   2.6s\n",
      "[CV] END colsample_bytree=0.8, learning_rate=0.1, n_estimators=250, num_leaves=31, subsample=0.8; total time=   0.7s\n",
      "[CV] END colsample_bytree=0.8, learning_rate=0.1, n_estimators=250, num_leaves=31, subsample=0.8; total time=   0.7s\n",
      "[CV] END colsample_bytree=0.8, learning_rate=0.1, n_estimators=250, num_leaves=31, subsample=0.8; total time=   0.7s\n",
      "[CV] END colsample_bytree=0.8, learning_rate=0.1, n_estimators=250, num_leaves=31, subsample=0.8; total time=   0.8s\n",
      "[CV] END colsample_bytree=0.8, learning_rate=0.1, n_estimators=250, num_leaves=31, subsample=0.8; total time=   0.7s\n",
      "[CV] END colsample_bytree=1.0, learning_rate=0.05, n_estimators=100, num_leaves=64, subsample=0.8; total time=   0.6s\n",
      "[CV] END colsample_bytree=1.0, learning_rate=0.05, n_estimators=100, num_leaves=64, subsample=0.8; total time=   0.6s\n",
      "[CV] END colsample_bytree=1.0, learning_rate=0.05, n_estimators=100, num_leaves=64, subsample=0.8; total time=   1.0s\n",
      "[CV] END colsample_bytree=1.0, learning_rate=0.05, n_estimators=100, num_leaves=64, subsample=0.8; total time=   1.0s\n",
      "[CV] END colsample_bytree=1.0, learning_rate=0.05, n_estimators=100, num_leaves=64, subsample=0.8; total time=   1.1s\n",
      "[CV] END colsample_bytree=0.9, learning_rate=0.1, n_estimators=250, num_leaves=31, subsample=0.9; total time=   1.2s\n",
      "[CV] END colsample_bytree=0.9, learning_rate=0.1, n_estimators=250, num_leaves=31, subsample=0.9; total time=   1.1s\n",
      "[CV] END colsample_bytree=0.9, learning_rate=0.1, n_estimators=250, num_leaves=31, subsample=0.9; total time=   1.1s\n",
      "[CV] END colsample_bytree=0.9, learning_rate=0.1, n_estimators=250, num_leaves=31, subsample=0.9; total time=   1.2s\n",
      "[CV] END colsample_bytree=0.9, learning_rate=0.1, n_estimators=250, num_leaves=31, subsample=0.9; total time=   1.2s\n",
      "[CV] END colsample_bytree=0.9, learning_rate=0.1, n_estimators=500, num_leaves=48, subsample=0.8; total time=   3.0s\n",
      "[CV] END colsample_bytree=0.9, learning_rate=0.1, n_estimators=500, num_leaves=48, subsample=0.8; total time=   2.3s\n",
      "[CV] END colsample_bytree=0.9, learning_rate=0.1, n_estimators=500, num_leaves=48, subsample=0.8; total time=   2.3s\n",
      "[CV] END colsample_bytree=0.9, learning_rate=0.1, n_estimators=500, num_leaves=48, subsample=0.8; total time=   2.4s\n",
      "[CV] END colsample_bytree=0.9, learning_rate=0.1, n_estimators=500, num_leaves=48, subsample=0.8; total time=   3.1s\n",
      "[CV] END colsample_bytree=1.0, learning_rate=0.1, n_estimators=250, num_leaves=48, subsample=0.9; total time=   1.7s\n",
      "[CV] END colsample_bytree=1.0, learning_rate=0.1, n_estimators=250, num_leaves=48, subsample=0.9; total time=   2.0s\n",
      "[CV] END colsample_bytree=1.0, learning_rate=0.1, n_estimators=250, num_leaves=48, subsample=0.9; total time=   1.9s\n",
      "[CV] END colsample_bytree=1.0, learning_rate=0.1, n_estimators=250, num_leaves=48, subsample=0.9; total time=   1.7s\n",
      "[CV] END colsample_bytree=1.0, learning_rate=0.1, n_estimators=250, num_leaves=48, subsample=0.9; total time=   1.8s\n",
      "[CV] END colsample_bytree=1.0, learning_rate=0.05, n_estimators=500, num_leaves=64, subsample=0.8; total time=   4.3s\n",
      "[CV] END colsample_bytree=1.0, learning_rate=0.05, n_estimators=500, num_leaves=64, subsample=0.8; total time=   3.5s\n",
      "[CV] END colsample_bytree=1.0, learning_rate=0.05, n_estimators=500, num_leaves=64, subsample=0.8; total time=   3.8s\n",
      "[CV] END colsample_bytree=1.0, learning_rate=0.05, n_estimators=500, num_leaves=64, subsample=0.8; total time=   3.4s\n",
      "[CV] END colsample_bytree=1.0, learning_rate=0.05, n_estimators=500, num_leaves=64, subsample=0.8; total time=   3.4s\n",
      "[CV] END colsample_bytree=1.0, learning_rate=0.05, n_estimators=100, num_leaves=64, subsample=1.0; total time=   0.7s\n",
      "[CV] END colsample_bytree=1.0, learning_rate=0.05, n_estimators=100, num_leaves=64, subsample=1.0; total time=   0.6s\n",
      "[CV] END colsample_bytree=1.0, learning_rate=0.05, n_estimators=100, num_leaves=64, subsample=1.0; total time=   0.6s\n",
      "[CV] END colsample_bytree=1.0, learning_rate=0.05, n_estimators=100, num_leaves=64, subsample=1.0; total time=   0.7s\n",
      "[CV] END colsample_bytree=1.0, learning_rate=0.05, n_estimators=100, num_leaves=64, subsample=1.0; total time=   0.7s\n",
      "[CV] END colsample_bytree=1.0, learning_rate=0.2, n_estimators=500, num_leaves=31, subsample=0.9; total time=   1.4s\n",
      "[CV] END colsample_bytree=1.0, learning_rate=0.2, n_estimators=500, num_leaves=31, subsample=0.9; total time=   1.5s\n",
      "[CV] END colsample_bytree=1.0, learning_rate=0.2, n_estimators=500, num_leaves=31, subsample=0.9; total time=   1.5s\n",
      "[CV] END colsample_bytree=1.0, learning_rate=0.2, n_estimators=500, num_leaves=31, subsample=0.9; total time=   1.5s\n",
      "[CV] END colsample_bytree=1.0, learning_rate=0.2, n_estimators=500, num_leaves=31, subsample=0.9; total time=   1.5s\n",
      "[CV] END colsample_bytree=0.8, learning_rate=0.1, n_estimators=500, num_leaves=31, subsample=0.9; total time=   1.6s\n",
      "[CV] END colsample_bytree=0.8, learning_rate=0.1, n_estimators=500, num_leaves=31, subsample=0.9; total time=   1.6s\n",
      "[CV] END colsample_bytree=0.8, learning_rate=0.1, n_estimators=500, num_leaves=31, subsample=0.9; total time=   1.5s\n",
      "[CV] END colsample_bytree=0.8, learning_rate=0.1, n_estimators=500, num_leaves=31, subsample=0.9; total time=   1.5s\n",
      "[CV] END colsample_bytree=0.8, learning_rate=0.1, n_estimators=500, num_leaves=31, subsample=0.9; total time=   1.5s\n",
      "[CV] END colsample_bytree=1.0, learning_rate=0.05, n_estimators=100, num_leaves=64, subsample=0.9; total time=   0.7s\n",
      "[CV] END colsample_bytree=1.0, learning_rate=0.05, n_estimators=100, num_leaves=64, subsample=0.9; total time=   0.7s\n",
      "[CV] END colsample_bytree=1.0, learning_rate=0.05, n_estimators=100, num_leaves=64, subsample=0.9; total time=   0.6s\n",
      "[CV] END colsample_bytree=1.0, learning_rate=0.05, n_estimators=100, num_leaves=64, subsample=0.9; total time=   0.6s\n",
      "[CV] END colsample_bytree=1.0, learning_rate=0.05, n_estimators=100, num_leaves=64, subsample=0.9; total time=   0.6s\n",
      "[CV] END colsample_bytree=0.8, learning_rate=0.2, n_estimators=500, num_leaves=31, subsample=1.0; total time=   1.2s\n",
      "[CV] END colsample_bytree=0.8, learning_rate=0.2, n_estimators=500, num_leaves=31, subsample=1.0; total time=   1.3s\n",
      "[CV] END colsample_bytree=0.8, learning_rate=0.2, n_estimators=500, num_leaves=31, subsample=1.0; total time=   1.3s\n",
      "[CV] END colsample_bytree=0.8, learning_rate=0.2, n_estimators=500, num_leaves=31, subsample=1.0; total time=   1.3s\n",
      "[CV] END colsample_bytree=0.8, learning_rate=0.2, n_estimators=500, num_leaves=31, subsample=1.0; total time=   1.3s\n",
      "[CV] END colsample_bytree=1.0, learning_rate=0.05, n_estimators=100, num_leaves=31, subsample=0.8; total time=   0.3s\n",
      "[CV] END colsample_bytree=1.0, learning_rate=0.05, n_estimators=100, num_leaves=31, subsample=0.8; total time=   0.4s\n",
      "[CV] END colsample_bytree=1.0, learning_rate=0.05, n_estimators=100, num_leaves=31, subsample=0.8; total time=   0.3s\n",
      "[CV] END colsample_bytree=1.0, learning_rate=0.05, n_estimators=100, num_leaves=31, subsample=0.8; total time=   0.3s\n",
      "[CV] END colsample_bytree=1.0, learning_rate=0.05, n_estimators=100, num_leaves=31, subsample=0.8; total time=   0.3s\n",
      "[CV] END colsample_bytree=0.8, learning_rate=0.05, n_estimators=250, num_leaves=48, subsample=0.9; total time=   1.1s\n",
      "[CV] END colsample_bytree=0.8, learning_rate=0.05, n_estimators=250, num_leaves=48, subsample=0.9; total time=   1.1s\n",
      "[CV] END colsample_bytree=0.8, learning_rate=0.05, n_estimators=250, num_leaves=48, subsample=0.9; total time=   1.1s\n",
      "[CV] END colsample_bytree=0.8, learning_rate=0.05, n_estimators=250, num_leaves=48, subsample=0.9; total time=   1.1s\n",
      "[CV] END colsample_bytree=0.8, learning_rate=0.05, n_estimators=250, num_leaves=48, subsample=0.9; total time=   1.3s\n",
      "[CV] END colsample_bytree=0.8, learning_rate=0.2, n_estimators=100, num_leaves=31, subsample=0.8; total time=   0.4s\n",
      "[CV] END colsample_bytree=0.8, learning_rate=0.2, n_estimators=100, num_leaves=31, subsample=0.8; total time=   0.4s\n",
      "[CV] END colsample_bytree=0.8, learning_rate=0.2, n_estimators=100, num_leaves=31, subsample=0.8; total time=   0.4s\n",
      "[CV] END colsample_bytree=0.8, learning_rate=0.2, n_estimators=100, num_leaves=31, subsample=0.8; total time=   0.3s\n",
      "[CV] END colsample_bytree=0.8, learning_rate=0.2, n_estimators=100, num_leaves=31, subsample=0.8; total time=   0.3s\n",
      "[CV] END colsample_bytree=0.9, learning_rate=0.1, n_estimators=100, num_leaves=31, subsample=0.8; total time=   0.4s\n",
      "[CV] END colsample_bytree=0.9, learning_rate=0.1, n_estimators=100, num_leaves=31, subsample=0.8; total time=   0.4s\n",
      "[CV] END colsample_bytree=0.9, learning_rate=0.1, n_estimators=100, num_leaves=31, subsample=0.8; total time=   0.4s\n",
      "[CV] END colsample_bytree=0.9, learning_rate=0.1, n_estimators=100, num_leaves=31, subsample=0.8; total time=   0.4s\n",
      "[CV] END colsample_bytree=0.9, learning_rate=0.1, n_estimators=100, num_leaves=31, subsample=0.8; total time=   0.4s\n",
      "[CV] END colsample_bytree=0.9, learning_rate=0.05, n_estimators=100, num_leaves=64, subsample=1.0; total time=   0.8s\n",
      "[CV] END colsample_bytree=0.9, learning_rate=0.05, n_estimators=100, num_leaves=64, subsample=1.0; total time=   0.9s\n",
      "[CV] END colsample_bytree=0.9, learning_rate=0.05, n_estimators=100, num_leaves=64, subsample=1.0; total time=   0.8s\n",
      "[CV] END colsample_bytree=0.9, learning_rate=0.05, n_estimators=100, num_leaves=64, subsample=1.0; total time=   0.8s\n",
      "[CV] END colsample_bytree=0.9, learning_rate=0.05, n_estimators=100, num_leaves=64, subsample=1.0; total time=   0.8s\n",
      "[CV] END colsample_bytree=0.8, learning_rate=0.1, n_estimators=100, num_leaves=48, subsample=0.8; total time=   0.5s\n",
      "[CV] END colsample_bytree=0.8, learning_rate=0.1, n_estimators=100, num_leaves=48, subsample=0.8; total time=   0.6s\n",
      "[CV] END colsample_bytree=0.8, learning_rate=0.1, n_estimators=100, num_leaves=48, subsample=0.8; total time=   0.6s\n",
      "[CV] END colsample_bytree=0.8, learning_rate=0.1, n_estimators=100, num_leaves=48, subsample=0.8; total time=   0.6s\n",
      "[CV] END colsample_bytree=0.8, learning_rate=0.1, n_estimators=100, num_leaves=48, subsample=0.8; total time=   0.5s\n",
      "[CV] END colsample_bytree=1.0, learning_rate=0.1, n_estimators=100, num_leaves=31, subsample=0.8; total time=   0.4s\n",
      "[CV] END colsample_bytree=1.0, learning_rate=0.1, n_estimators=100, num_leaves=31, subsample=0.8; total time=   0.3s\n",
      "[CV] END colsample_bytree=1.0, learning_rate=0.1, n_estimators=100, num_leaves=31, subsample=0.8; total time=   0.3s\n",
      "[CV] END colsample_bytree=1.0, learning_rate=0.1, n_estimators=100, num_leaves=31, subsample=0.8; total time=   0.3s\n",
      "[CV] END colsample_bytree=1.0, learning_rate=0.1, n_estimators=100, num_leaves=31, subsample=0.8; total time=   0.3s\n",
      "[CV] END colsample_bytree=1.0, learning_rate=0.2, n_estimators=100, num_leaves=64, subsample=0.8; total time=   0.7s\n",
      "[CV] END colsample_bytree=1.0, learning_rate=0.2, n_estimators=100, num_leaves=64, subsample=0.8; total time=   0.7s\n",
      "[CV] END colsample_bytree=1.0, learning_rate=0.2, n_estimators=100, num_leaves=64, subsample=0.8; total time=   0.7s\n",
      "[CV] END colsample_bytree=1.0, learning_rate=0.2, n_estimators=100, num_leaves=64, subsample=0.8; total time=   0.7s\n",
      "[CV] END colsample_bytree=1.0, learning_rate=0.2, n_estimators=100, num_leaves=64, subsample=0.8; total time=   0.7s\n",
      "[CV] END colsample_bytree=1.0, learning_rate=0.1, n_estimators=500, num_leaves=64, subsample=0.8; total time=   2.7s\n",
      "[CV] END colsample_bytree=1.0, learning_rate=0.1, n_estimators=500, num_leaves=64, subsample=0.8; total time=   2.6s\n",
      "[CV] END colsample_bytree=1.0, learning_rate=0.1, n_estimators=500, num_leaves=64, subsample=0.8; total time=   2.7s\n",
      "[CV] END colsample_bytree=1.0, learning_rate=0.1, n_estimators=500, num_leaves=64, subsample=0.8; total time=   2.6s\n",
      "[CV] END colsample_bytree=1.0, learning_rate=0.1, n_estimators=500, num_leaves=64, subsample=0.8; total time=   3.3s\n",
      "[CV] END colsample_bytree=0.9, learning_rate=0.2, n_estimators=250, num_leaves=48, subsample=0.9; total time=   1.5s\n",
      "[CV] END colsample_bytree=0.9, learning_rate=0.2, n_estimators=250, num_leaves=48, subsample=0.9; total time=   1.5s\n",
      "[CV] END colsample_bytree=0.9, learning_rate=0.2, n_estimators=250, num_leaves=48, subsample=0.9; total time=   1.5s\n",
      "[CV] END colsample_bytree=0.9, learning_rate=0.2, n_estimators=250, num_leaves=48, subsample=0.9; total time=   1.6s\n",
      "[CV] END colsample_bytree=0.9, learning_rate=0.2, n_estimators=250, num_leaves=48, subsample=0.9; total time=   1.6s\n",
      "[CV] END colsample_bytree=0.9, learning_rate=0.05, n_estimators=250, num_leaves=48, subsample=1.0; total time=   1.8s\n",
      "[CV] END colsample_bytree=0.9, learning_rate=0.05, n_estimators=250, num_leaves=48, subsample=1.0; total time=   1.4s\n",
      "[CV] END colsample_bytree=0.9, learning_rate=0.05, n_estimators=250, num_leaves=48, subsample=1.0; total time=   1.2s\n",
      "[CV] END colsample_bytree=0.9, learning_rate=0.05, n_estimators=250, num_leaves=48, subsample=1.0; total time=   1.3s\n",
      "[CV] END colsample_bytree=0.9, learning_rate=0.05, n_estimators=250, num_leaves=48, subsample=1.0; total time=   1.3s\n",
      "[CV] END colsample_bytree=0.9, learning_rate=0.05, n_estimators=100, num_leaves=48, subsample=1.0; total time=   0.5s\n",
      "[CV] END colsample_bytree=0.9, learning_rate=0.05, n_estimators=100, num_leaves=48, subsample=1.0; total time=   0.4s\n",
      "[CV] END colsample_bytree=0.9, learning_rate=0.05, n_estimators=100, num_leaves=48, subsample=1.0; total time=   0.5s\n",
      "[CV] END colsample_bytree=0.9, learning_rate=0.05, n_estimators=100, num_leaves=48, subsample=1.0; total time=   0.5s\n",
      "[CV] END colsample_bytree=0.9, learning_rate=0.05, n_estimators=100, num_leaves=48, subsample=1.0; total time=   0.5s\n",
      "[CV] END colsample_bytree=0.9, learning_rate=0.05, n_estimators=100, num_leaves=64, subsample=0.8; total time=   0.7s\n",
      "[CV] END colsample_bytree=0.9, learning_rate=0.05, n_estimators=100, num_leaves=64, subsample=0.8; total time=   0.6s\n",
      "[CV] END colsample_bytree=0.9, learning_rate=0.05, n_estimators=100, num_leaves=64, subsample=0.8; total time=   0.6s\n",
      "[CV] END colsample_bytree=0.9, learning_rate=0.05, n_estimators=100, num_leaves=64, subsample=0.8; total time=   0.6s\n",
      "[CV] END colsample_bytree=0.9, learning_rate=0.05, n_estimators=100, num_leaves=64, subsample=0.8; total time=   0.6s\n",
      "[CV] END colsample_bytree=1.0, learning_rate=0.1, n_estimators=100, num_leaves=64, subsample=0.8; total time=   0.7s\n",
      "[CV] END colsample_bytree=1.0, learning_rate=0.1, n_estimators=100, num_leaves=64, subsample=0.8; total time=   0.7s\n",
      "[CV] END colsample_bytree=1.0, learning_rate=0.1, n_estimators=100, num_leaves=64, subsample=0.8; total time=   0.6s\n",
      "[CV] END colsample_bytree=1.0, learning_rate=0.1, n_estimators=100, num_leaves=64, subsample=0.8; total time=   0.6s\n",
      "[CV] END colsample_bytree=1.0, learning_rate=0.1, n_estimators=100, num_leaves=64, subsample=0.8; total time=   0.6s\n",
      "[CV] END colsample_bytree=1.0, learning_rate=0.05, n_estimators=250, num_leaves=31, subsample=0.9; total time=   0.9s\n",
      "[CV] END colsample_bytree=1.0, learning_rate=0.05, n_estimators=250, num_leaves=31, subsample=0.9; total time=   0.9s\n",
      "[CV] END colsample_bytree=1.0, learning_rate=0.05, n_estimators=250, num_leaves=31, subsample=0.9; total time=   1.0s\n",
      "[CV] END colsample_bytree=1.0, learning_rate=0.05, n_estimators=250, num_leaves=31, subsample=0.9; total time=   1.0s\n",
      "[CV] END colsample_bytree=1.0, learning_rate=0.05, n_estimators=250, num_leaves=31, subsample=0.9; total time=   1.5s\n",
      "[CV] END colsample_bytree=0.8, learning_rate=0.05, n_estimators=250, num_leaves=48, subsample=1.0; total time=   1.5s\n",
      "[CV] END colsample_bytree=0.8, learning_rate=0.05, n_estimators=250, num_leaves=48, subsample=1.0; total time=   1.6s\n",
      "[CV] END colsample_bytree=0.8, learning_rate=0.05, n_estimators=250, num_leaves=48, subsample=1.0; total time=   1.4s\n",
      "[CV] END colsample_bytree=0.8, learning_rate=0.05, n_estimators=250, num_leaves=48, subsample=1.0; total time=   1.4s\n",
      "[CV] END colsample_bytree=0.8, learning_rate=0.05, n_estimators=250, num_leaves=48, subsample=1.0; total time=   1.5s\n",
      "[CV] END colsample_bytree=0.9, learning_rate=0.2, n_estimators=500, num_leaves=31, subsample=1.0; total time=   1.6s\n",
      "[CV] END colsample_bytree=0.9, learning_rate=0.2, n_estimators=500, num_leaves=31, subsample=1.0; total time=   1.6s\n",
      "[CV] END colsample_bytree=0.9, learning_rate=0.2, n_estimators=500, num_leaves=31, subsample=1.0; total time=   1.9s\n",
      "[CV] END colsample_bytree=0.9, learning_rate=0.2, n_estimators=500, num_leaves=31, subsample=1.0; total time=   1.5s\n",
      "[CV] END colsample_bytree=0.9, learning_rate=0.2, n_estimators=500, num_leaves=31, subsample=1.0; total time=   1.5s\n",
      "[CV] END colsample_bytree=0.8, learning_rate=0.2, n_estimators=100, num_leaves=31, subsample=0.9; total time=   0.3s\n",
      "[CV] END colsample_bytree=0.8, learning_rate=0.2, n_estimators=100, num_leaves=31, subsample=0.9; total time=   0.3s\n",
      "[CV] END colsample_bytree=0.8, learning_rate=0.2, n_estimators=100, num_leaves=31, subsample=0.9; total time=   0.3s\n",
      "[CV] END colsample_bytree=0.8, learning_rate=0.2, n_estimators=100, num_leaves=31, subsample=0.9; total time=   0.3s\n",
      "[CV] END colsample_bytree=0.8, learning_rate=0.2, n_estimators=100, num_leaves=31, subsample=0.9; total time=   0.3s\n",
      "[CV] END colsample_bytree=0.9, learning_rate=0.05, n_estimators=500, num_leaves=31, subsample=0.8; total time=   1.9s\n",
      "[CV] END colsample_bytree=0.9, learning_rate=0.05, n_estimators=500, num_leaves=31, subsample=0.8; total time=   2.2s\n",
      "[CV] END colsample_bytree=0.9, learning_rate=0.05, n_estimators=500, num_leaves=31, subsample=0.8; total time=   2.3s\n",
      "[CV] END colsample_bytree=0.9, learning_rate=0.05, n_estimators=500, num_leaves=31, subsample=0.8; total time=   2.1s\n",
      "[CV] END colsample_bytree=0.9, learning_rate=0.05, n_estimators=500, num_leaves=31, subsample=0.8; total time=   2.1s\n",
      "[CV] END colsample_bytree=0.9, learning_rate=0.2, n_estimators=250, num_leaves=48, subsample=1.0; total time=   1.3s\n",
      "[CV] END colsample_bytree=0.9, learning_rate=0.2, n_estimators=250, num_leaves=48, subsample=1.0; total time=   1.4s\n",
      "[CV] END colsample_bytree=0.9, learning_rate=0.2, n_estimators=250, num_leaves=48, subsample=1.0; total time=   1.5s\n",
      "[CV] END colsample_bytree=0.9, learning_rate=0.2, n_estimators=250, num_leaves=48, subsample=1.0; total time=   1.3s\n",
      "[CV] END colsample_bytree=0.9, learning_rate=0.2, n_estimators=250, num_leaves=48, subsample=1.0; total time=   1.2s\n",
      "[CV] END colsample_bytree=1.0, learning_rate=0.2, n_estimators=500, num_leaves=64, subsample=0.9; total time=   1.9s\n",
      "[CV] END colsample_bytree=1.0, learning_rate=0.2, n_estimators=500, num_leaves=64, subsample=0.9; total time=   1.9s\n",
      "[CV] END colsample_bytree=1.0, learning_rate=0.2, n_estimators=500, num_leaves=64, subsample=0.9; total time=   1.7s\n",
      "[CV] END colsample_bytree=1.0, learning_rate=0.2, n_estimators=500, num_leaves=64, subsample=0.9; total time=   1.7s\n",
      "[CV] END colsample_bytree=1.0, learning_rate=0.2, n_estimators=500, num_leaves=64, subsample=0.9; total time=   1.7s\n",
      "[CV] END colsample_bytree=0.9, learning_rate=0.05, n_estimators=100, num_leaves=31, subsample=1.0; total time=   0.3s\n",
      "[CV] END colsample_bytree=0.9, learning_rate=0.05, n_estimators=100, num_leaves=31, subsample=1.0; total time=   0.3s\n",
      "[CV] END colsample_bytree=0.9, learning_rate=0.05, n_estimators=100, num_leaves=31, subsample=1.0; total time=   0.3s\n",
      "[CV] END colsample_bytree=0.9, learning_rate=0.05, n_estimators=100, num_leaves=31, subsample=1.0; total time=   0.3s\n",
      "[CV] END colsample_bytree=0.9, learning_rate=0.05, n_estimators=100, num_leaves=31, subsample=1.0; total time=   0.3s\n",
      "[CV] END colsample_bytree=0.9, learning_rate=0.05, n_estimators=250, num_leaves=31, subsample=0.8; total time=   0.8s\n",
      "[CV] END colsample_bytree=0.9, learning_rate=0.05, n_estimators=250, num_leaves=31, subsample=0.8; total time=   0.8s\n",
      "[CV] END colsample_bytree=0.9, learning_rate=0.05, n_estimators=250, num_leaves=31, subsample=0.8; total time=   0.8s\n",
      "[CV] END colsample_bytree=0.9, learning_rate=0.05, n_estimators=250, num_leaves=31, subsample=0.8; total time=   1.1s\n",
      "[CV] END colsample_bytree=0.9, learning_rate=0.05, n_estimators=250, num_leaves=31, subsample=0.8; total time=   1.4s\n",
      "[CV] END colsample_bytree=1.0, learning_rate=0.2, n_estimators=250, num_leaves=31, subsample=1.0; total time=   1.3s\n",
      "[CV] END colsample_bytree=1.0, learning_rate=0.2, n_estimators=250, num_leaves=31, subsample=1.0; total time=   1.5s\n",
      "[CV] END colsample_bytree=1.0, learning_rate=0.2, n_estimators=250, num_leaves=31, subsample=1.0; total time=   1.3s\n",
      "[CV] END colsample_bytree=1.0, learning_rate=0.2, n_estimators=250, num_leaves=31, subsample=1.0; total time=   1.0s\n",
      "[CV] END colsample_bytree=1.0, learning_rate=0.2, n_estimators=250, num_leaves=31, subsample=1.0; total time=   0.9s\n",
      "[CV] END colsample_bytree=1.0, learning_rate=0.1, n_estimators=250, num_leaves=31, subsample=1.0; total time=   1.1s\n",
      "[CV] END colsample_bytree=1.0, learning_rate=0.1, n_estimators=250, num_leaves=31, subsample=1.0; total time=   0.9s\n",
      "[CV] END colsample_bytree=1.0, learning_rate=0.1, n_estimators=250, num_leaves=31, subsample=1.0; total time=   0.8s\n",
      "[CV] END colsample_bytree=1.0, learning_rate=0.1, n_estimators=250, num_leaves=31, subsample=1.0; total time=   0.9s\n",
      "[CV] END colsample_bytree=1.0, learning_rate=0.1, n_estimators=250, num_leaves=31, subsample=1.0; total time=   0.9s\n",
      "[CV] END colsample_bytree=1.0, learning_rate=0.2, n_estimators=100, num_leaves=31, subsample=0.8; total time=   0.4s\n",
      "[CV] END colsample_bytree=1.0, learning_rate=0.2, n_estimators=100, num_leaves=31, subsample=0.8; total time=   0.3s\n",
      "[CV] END colsample_bytree=1.0, learning_rate=0.2, n_estimators=100, num_leaves=31, subsample=0.8; total time=   0.3s\n",
      "[CV] END colsample_bytree=1.0, learning_rate=0.2, n_estimators=100, num_leaves=31, subsample=0.8; total time=   0.3s\n",
      "[CV] END colsample_bytree=1.0, learning_rate=0.2, n_estimators=100, num_leaves=31, subsample=0.8; total time=   0.3s\n",
      "[CV] END colsample_bytree=0.9, learning_rate=0.2, n_estimators=250, num_leaves=31, subsample=0.9; total time=   0.8s\n",
      "[CV] END colsample_bytree=0.9, learning_rate=0.2, n_estimators=250, num_leaves=31, subsample=0.9; total time=   0.8s\n",
      "[CV] END colsample_bytree=0.9, learning_rate=0.2, n_estimators=250, num_leaves=31, subsample=0.9; total time=   0.8s\n",
      "[CV] END colsample_bytree=0.9, learning_rate=0.2, n_estimators=250, num_leaves=31, subsample=0.9; total time=   0.8s\n",
      "[CV] END colsample_bytree=0.9, learning_rate=0.2, n_estimators=250, num_leaves=31, subsample=0.9; total time=   0.8s\n",
      "[CV] END colsample_bytree=1.0, learning_rate=0.05, n_estimators=100, num_leaves=48, subsample=0.9; total time=   0.7s\n",
      "[CV] END colsample_bytree=1.0, learning_rate=0.05, n_estimators=100, num_leaves=48, subsample=0.9; total time=   0.9s\n",
      "[CV] END colsample_bytree=1.0, learning_rate=0.05, n_estimators=100, num_leaves=48, subsample=0.9; total time=   0.7s\n",
      "[CV] END colsample_bytree=1.0, learning_rate=0.05, n_estimators=100, num_leaves=48, subsample=0.9; total time=   0.6s\n",
      "[CV] END colsample_bytree=1.0, learning_rate=0.05, n_estimators=100, num_leaves=48, subsample=0.9; total time=   0.6s\n",
      "[CV] END colsample_bytree=1.0, learning_rate=0.2, n_estimators=500, num_leaves=48, subsample=0.8; total time=   2.2s\n",
      "[CV] END colsample_bytree=1.0, learning_rate=0.2, n_estimators=500, num_leaves=48, subsample=0.8; total time=   1.9s\n",
      "[CV] END colsample_bytree=1.0, learning_rate=0.2, n_estimators=500, num_leaves=48, subsample=0.8; total time=   2.3s\n",
      "[CV] END colsample_bytree=1.0, learning_rate=0.2, n_estimators=500, num_leaves=48, subsample=0.8; total time=   2.2s\n",
      "[CV] END colsample_bytree=1.0, learning_rate=0.2, n_estimators=500, num_leaves=48, subsample=0.8; total time=   2.2s\n",
      "[CV] END colsample_bytree=1.0, learning_rate=0.1, n_estimators=100, num_leaves=64, subsample=1.0; total time=   0.8s\n",
      "[CV] END colsample_bytree=1.0, learning_rate=0.1, n_estimators=100, num_leaves=64, subsample=1.0; total time=   0.8s\n",
      "[CV] END colsample_bytree=1.0, learning_rate=0.1, n_estimators=100, num_leaves=64, subsample=1.0; total time=   0.8s\n",
      "[CV] END colsample_bytree=1.0, learning_rate=0.1, n_estimators=100, num_leaves=64, subsample=1.0; total time=   0.8s\n",
      "[CV] END colsample_bytree=1.0, learning_rate=0.1, n_estimators=100, num_leaves=64, subsample=1.0; total time=   0.8s\n",
      "[CV] END colsample_bytree=1.0, learning_rate=0.1, n_estimators=250, num_leaves=64, subsample=0.8; total time=   2.9s\n",
      "[CV] END colsample_bytree=1.0, learning_rate=0.1, n_estimators=250, num_leaves=64, subsample=0.8; total time=   1.7s\n",
      "[CV] END colsample_bytree=1.0, learning_rate=0.1, n_estimators=250, num_leaves=64, subsample=0.8; total time=   1.8s\n",
      "[CV] END colsample_bytree=1.0, learning_rate=0.1, n_estimators=250, num_leaves=64, subsample=0.8; total time=   1.8s\n",
      "[CV] END colsample_bytree=1.0, learning_rate=0.1, n_estimators=250, num_leaves=64, subsample=0.8; total time=   1.8s\n",
      "[CV] END colsample_bytree=0.8, learning_rate=0.1, n_estimators=100, num_leaves=31, subsample=1.0; total time=   0.3s\n",
      "[CV] END colsample_bytree=0.8, learning_rate=0.1, n_estimators=100, num_leaves=31, subsample=1.0; total time=   0.3s\n",
      "[CV] END colsample_bytree=0.8, learning_rate=0.1, n_estimators=100, num_leaves=31, subsample=1.0; total time=   0.3s\n",
      "[CV] END colsample_bytree=0.8, learning_rate=0.1, n_estimators=100, num_leaves=31, subsample=1.0; total time=   0.3s\n",
      "[CV] END colsample_bytree=0.8, learning_rate=0.1, n_estimators=100, num_leaves=31, subsample=1.0; total time=   0.3s\n",
      "[CV] END colsample_bytree=0.8, learning_rate=0.2, n_estimators=500, num_leaves=31, subsample=0.8; total time=   1.8s\n",
      "[CV] END colsample_bytree=0.8, learning_rate=0.2, n_estimators=500, num_leaves=31, subsample=0.8; total time=   2.3s\n",
      "[CV] END colsample_bytree=0.8, learning_rate=0.2, n_estimators=500, num_leaves=31, subsample=0.8; total time=   2.4s\n",
      "[CV] END colsample_bytree=0.8, learning_rate=0.2, n_estimators=500, num_leaves=31, subsample=0.8; total time=   2.3s\n",
      "[CV] END colsample_bytree=0.8, learning_rate=0.2, n_estimators=500, num_leaves=31, subsample=0.8; total time=   2.4s\n",
      "[CV] END colsample_bytree=1.0, learning_rate=0.05, n_estimators=500, num_leaves=48, subsample=1.0; total time=   4.3s\n",
      "[CV] END colsample_bytree=1.0, learning_rate=0.05, n_estimators=500, num_leaves=48, subsample=1.0; total time=   9.3s\n",
      "[CV] END colsample_bytree=1.0, learning_rate=0.05, n_estimators=500, num_leaves=48, subsample=1.0; total time=   7.2s\n",
      "[CV] END colsample_bytree=1.0, learning_rate=0.05, n_estimators=500, num_leaves=48, subsample=1.0; total time=   5.2s\n",
      "[CV] END colsample_bytree=1.0, learning_rate=0.05, n_estimators=500, num_leaves=48, subsample=1.0; total time=   3.6s\n",
      "[CV] END colsample_bytree=0.8, learning_rate=0.1, n_estimators=100, num_leaves=48, subsample=0.9; total time=   0.8s\n",
      "[CV] END colsample_bytree=0.8, learning_rate=0.1, n_estimators=100, num_leaves=48, subsample=0.9; total time=   0.6s\n",
      "[CV] END colsample_bytree=0.8, learning_rate=0.1, n_estimators=100, num_leaves=48, subsample=0.9; total time=   0.5s\n",
      "[CV] END colsample_bytree=0.8, learning_rate=0.1, n_estimators=100, num_leaves=48, subsample=0.9; total time=   0.8s\n",
      "[CV] END colsample_bytree=0.8, learning_rate=0.1, n_estimators=100, num_leaves=48, subsample=0.9; total time=   0.7s\n",
      "[CV] END colsample_bytree=1.0, learning_rate=0.1, n_estimators=250, num_leaves=48, subsample=0.8; total time=   4.7s\n",
      "[CV] END colsample_bytree=1.0, learning_rate=0.1, n_estimators=250, num_leaves=48, subsample=0.8; total time=   2.8s\n",
      "[CV] END colsample_bytree=1.0, learning_rate=0.1, n_estimators=250, num_leaves=48, subsample=0.8; total time=   1.8s\n",
      "[CV] END colsample_bytree=1.0, learning_rate=0.1, n_estimators=250, num_leaves=48, subsample=0.8; total time=   1.4s\n",
      "[CV] END colsample_bytree=1.0, learning_rate=0.1, n_estimators=250, num_leaves=48, subsample=0.8; total time=   1.5s\n",
      "[CV] END colsample_bytree=0.9, learning_rate=0.1, n_estimators=100, num_leaves=48, subsample=1.0; total time=   0.5s\n",
      "[CV] END colsample_bytree=0.9, learning_rate=0.1, n_estimators=100, num_leaves=48, subsample=1.0; total time=   0.5s\n",
      "[CV] END colsample_bytree=0.9, learning_rate=0.1, n_estimators=100, num_leaves=48, subsample=1.0; total time=   0.6s\n",
      "[CV] END colsample_bytree=0.9, learning_rate=0.1, n_estimators=100, num_leaves=48, subsample=1.0; total time=   0.6s\n",
      "[CV] END colsample_bytree=0.9, learning_rate=0.1, n_estimators=100, num_leaves=48, subsample=1.0; total time=   0.5s\n",
      "[CV] END colsample_bytree=1.0, learning_rate=0.2, n_estimators=100, num_leaves=48, subsample=0.8; total time=   0.5s\n",
      "[CV] END colsample_bytree=1.0, learning_rate=0.2, n_estimators=100, num_leaves=48, subsample=0.8; total time=   0.5s\n",
      "[CV] END colsample_bytree=1.0, learning_rate=0.2, n_estimators=100, num_leaves=48, subsample=0.8; total time=   0.5s\n",
      "[CV] END colsample_bytree=1.0, learning_rate=0.2, n_estimators=100, num_leaves=48, subsample=0.8; total time=   0.5s\n",
      "[CV] END colsample_bytree=1.0, learning_rate=0.2, n_estimators=100, num_leaves=48, subsample=0.8; total time=   0.5s\n",
      "[CV] END colsample_bytree=0.8, learning_rate=0.05, n_estimators=250, num_leaves=64, subsample=0.8; total time=   1.7s\n",
      "[CV] END colsample_bytree=0.8, learning_rate=0.05, n_estimators=250, num_leaves=64, subsample=0.8; total time=   1.7s\n",
      "[CV] END colsample_bytree=0.8, learning_rate=0.05, n_estimators=250, num_leaves=64, subsample=0.8; total time=   1.5s\n",
      "[CV] END colsample_bytree=0.8, learning_rate=0.05, n_estimators=250, num_leaves=64, subsample=0.8; total time=   1.5s\n",
      "[CV] END colsample_bytree=0.8, learning_rate=0.05, n_estimators=250, num_leaves=64, subsample=0.8; total time=   1.5s\n",
      "[CV] END colsample_bytree=0.9, learning_rate=0.2, n_estimators=500, num_leaves=64, subsample=0.9; total time=   1.5s\n",
      "[CV] END colsample_bytree=0.9, learning_rate=0.2, n_estimators=500, num_leaves=64, subsample=0.9; total time=   1.6s\n",
      "[CV] END colsample_bytree=0.9, learning_rate=0.2, n_estimators=500, num_leaves=64, subsample=0.9; total time=   2.7s\n",
      "[CV] END colsample_bytree=0.9, learning_rate=0.2, n_estimators=500, num_leaves=64, subsample=0.9; total time=   2.2s\n",
      "[CV] END colsample_bytree=0.9, learning_rate=0.2, n_estimators=500, num_leaves=64, subsample=0.9; total time=   2.3s\n",
      "[CV] END colsample_bytree=0.8, learning_rate=0.2, n_estimators=250, num_leaves=48, subsample=0.9; total time=   1.6s\n",
      "[CV] END colsample_bytree=0.8, learning_rate=0.2, n_estimators=250, num_leaves=48, subsample=0.9; total time=   1.3s\n",
      "[CV] END colsample_bytree=0.8, learning_rate=0.2, n_estimators=250, num_leaves=48, subsample=0.9; total time=   1.4s\n",
      "[CV] END colsample_bytree=0.8, learning_rate=0.2, n_estimators=250, num_leaves=48, subsample=0.9; total time=   1.1s\n",
      "[CV] END colsample_bytree=0.8, learning_rate=0.2, n_estimators=250, num_leaves=48, subsample=0.9; total time=   1.2s\n",
      "[CV] END colsample_bytree=1.0, learning_rate=0.05, n_estimators=500, num_leaves=48, subsample=0.8; total time=   2.8s\n",
      "[CV] END colsample_bytree=1.0, learning_rate=0.05, n_estimators=500, num_leaves=48, subsample=0.8; total time=   3.3s\n",
      "[CV] END colsample_bytree=1.0, learning_rate=0.05, n_estimators=500, num_leaves=48, subsample=0.8; total time=   2.8s\n",
      "[CV] END colsample_bytree=1.0, learning_rate=0.05, n_estimators=500, num_leaves=48, subsample=0.8; total time=   2.9s\n",
      "[CV] END colsample_bytree=1.0, learning_rate=0.05, n_estimators=500, num_leaves=48, subsample=0.8; total time=   3.2s\n",
      "[CV] END colsample_bytree=0.9, learning_rate=0.1, n_estimators=100, num_leaves=64, subsample=0.8; total time=   1.0s\n",
      "[CV] END colsample_bytree=0.9, learning_rate=0.1, n_estimators=100, num_leaves=64, subsample=0.8; total time=   0.7s\n",
      "[CV] END colsample_bytree=0.9, learning_rate=0.1, n_estimators=100, num_leaves=64, subsample=0.8; total time=   0.7s\n",
      "[CV] END colsample_bytree=0.9, learning_rate=0.1, n_estimators=100, num_leaves=64, subsample=0.8; total time=   0.6s\n",
      "[CV] END colsample_bytree=0.9, learning_rate=0.1, n_estimators=100, num_leaves=64, subsample=0.8; total time=   0.6s\n",
      "[CV] END colsample_bytree=0.8, learning_rate=0.2, n_estimators=250, num_leaves=48, subsample=1.0; total time=   2.6s\n",
      "[CV] END colsample_bytree=0.8, learning_rate=0.2, n_estimators=250, num_leaves=48, subsample=1.0; total time=   1.0s\n",
      "[CV] END colsample_bytree=0.8, learning_rate=0.2, n_estimators=250, num_leaves=48, subsample=1.0; total time=   1.5s\n",
      "[CV] END colsample_bytree=0.8, learning_rate=0.2, n_estimators=250, num_leaves=48, subsample=1.0; total time=   1.1s\n",
      "[CV] END colsample_bytree=0.8, learning_rate=0.2, n_estimators=250, num_leaves=48, subsample=1.0; total time=   1.3s\n",
      "[CV] END colsample_bytree=1.0, learning_rate=0.05, n_estimators=500, num_leaves=31, subsample=0.9; total time=   2.1s\n",
      "[CV] END colsample_bytree=1.0, learning_rate=0.05, n_estimators=500, num_leaves=31, subsample=0.9; total time=   2.2s\n",
      "[CV] END colsample_bytree=1.0, learning_rate=0.05, n_estimators=500, num_leaves=31, subsample=0.9; total time=   1.9s\n",
      "[CV] END colsample_bytree=1.0, learning_rate=0.05, n_estimators=500, num_leaves=31, subsample=0.9; total time=   2.2s\n",
      "[CV] END colsample_bytree=1.0, learning_rate=0.05, n_estimators=500, num_leaves=31, subsample=0.9; total time=   1.9s\n",
      "[CV] END colsample_bytree=0.8, learning_rate=0.1, n_estimators=500, num_leaves=48, subsample=0.9; total time=   2.2s\n",
      "[CV] END colsample_bytree=0.8, learning_rate=0.1, n_estimators=500, num_leaves=48, subsample=0.9; total time=   2.2s\n",
      "[CV] END colsample_bytree=0.8, learning_rate=0.1, n_estimators=500, num_leaves=48, subsample=0.9; total time=   2.3s\n",
      "[CV] END colsample_bytree=0.8, learning_rate=0.1, n_estimators=500, num_leaves=48, subsample=0.9; total time=   3.6s\n",
      "[CV] END colsample_bytree=0.8, learning_rate=0.1, n_estimators=500, num_leaves=48, subsample=0.9; total time=   3.2s\n",
      "[CV] END colsample_bytree=0.9, learning_rate=0.1, n_estimators=500, num_leaves=64, subsample=0.9; total time=   2.5s\n",
      "[CV] END colsample_bytree=0.9, learning_rate=0.1, n_estimators=500, num_leaves=64, subsample=0.9; total time=   2.9s\n",
      "[CV] END colsample_bytree=0.9, learning_rate=0.1, n_estimators=500, num_leaves=64, subsample=0.9; total time=   2.9s\n",
      "[CV] END colsample_bytree=0.9, learning_rate=0.1, n_estimators=500, num_leaves=64, subsample=0.9; total time=   3.1s\n",
      "[CV] END colsample_bytree=0.9, learning_rate=0.1, n_estimators=500, num_leaves=64, subsample=0.9; total time=   3.2s\n",
      "[CV] END colsample_bytree=0.8, learning_rate=0.2, n_estimators=500, num_leaves=48, subsample=0.8; total time=   2.2s\n",
      "[CV] END colsample_bytree=0.8, learning_rate=0.2, n_estimators=500, num_leaves=48, subsample=0.8; total time=   1.7s\n",
      "[CV] END colsample_bytree=0.8, learning_rate=0.2, n_estimators=500, num_leaves=48, subsample=0.8; total time=   1.5s\n",
      "[CV] END colsample_bytree=0.8, learning_rate=0.2, n_estimators=500, num_leaves=48, subsample=0.8; total time=   1.5s\n",
      "[CV] END colsample_bytree=0.8, learning_rate=0.2, n_estimators=500, num_leaves=48, subsample=0.8; total time=   1.5s\n",
      "[CV] END colsample_bytree=1.0, learning_rate=0.1, n_estimators=500, num_leaves=48, subsample=1.0; total time=   3.8s\n",
      "[CV] END colsample_bytree=1.0, learning_rate=0.1, n_estimators=500, num_leaves=48, subsample=1.0; total time=   2.5s\n",
      "[CV] END colsample_bytree=1.0, learning_rate=0.1, n_estimators=500, num_leaves=48, subsample=1.0; total time=   2.9s\n",
      "[CV] END colsample_bytree=1.0, learning_rate=0.1, n_estimators=500, num_leaves=48, subsample=1.0; total time=   3.3s\n",
      "[CV] END colsample_bytree=1.0, learning_rate=0.1, n_estimators=500, num_leaves=48, subsample=1.0; total time=   2.7s\n",
      "[CV] END colsample_bytree=0.9, learning_rate=0.05, n_estimators=100, num_leaves=64, subsample=0.9; total time=   0.6s\n",
      "[CV] END colsample_bytree=0.9, learning_rate=0.05, n_estimators=100, num_leaves=64, subsample=0.9; total time=   0.6s\n",
      "[CV] END colsample_bytree=0.9, learning_rate=0.05, n_estimators=100, num_leaves=64, subsample=0.9; total time=   0.8s\n",
      "[CV] END colsample_bytree=0.9, learning_rate=0.05, n_estimators=100, num_leaves=64, subsample=0.9; total time=   0.7s\n",
      "[CV] END colsample_bytree=0.9, learning_rate=0.05, n_estimators=100, num_leaves=64, subsample=0.9; total time=   0.6s\n",
      "[CV] END colsample_bytree=0.8, learning_rate=0.1, n_estimators=100, num_leaves=31, subsample=0.8; total time=   0.3s\n",
      "[CV] END colsample_bytree=0.8, learning_rate=0.1, n_estimators=100, num_leaves=31, subsample=0.8; total time=   0.3s\n",
      "[CV] END colsample_bytree=0.8, learning_rate=0.1, n_estimators=100, num_leaves=31, subsample=0.8; total time=   0.3s\n",
      "[CV] END colsample_bytree=0.8, learning_rate=0.1, n_estimators=100, num_leaves=31, subsample=0.8; total time=   0.3s\n",
      "[CV] END colsample_bytree=0.8, learning_rate=0.1, n_estimators=100, num_leaves=31, subsample=0.8; total time=   0.6s\n",
      "[CV] END colsample_bytree=1.0, learning_rate=0.2, n_estimators=500, num_leaves=48, subsample=1.0; total time=   2.4s\n",
      "[CV] END colsample_bytree=1.0, learning_rate=0.2, n_estimators=500, num_leaves=48, subsample=1.0; total time=   2.9s\n",
      "[CV] END colsample_bytree=1.0, learning_rate=0.2, n_estimators=500, num_leaves=48, subsample=1.0; total time=   2.7s\n",
      "[CV] END colsample_bytree=1.0, learning_rate=0.2, n_estimators=500, num_leaves=48, subsample=1.0; total time=   2.4s\n",
      "[CV] END colsample_bytree=1.0, learning_rate=0.2, n_estimators=500, num_leaves=48, subsample=1.0; total time=   2.2s\n",
      "[CV] END colsample_bytree=0.9, learning_rate=0.1, n_estimators=100, num_leaves=48, subsample=0.8; total time=   0.6s\n",
      "[CV] END colsample_bytree=0.9, learning_rate=0.1, n_estimators=100, num_leaves=48, subsample=0.8; total time=   0.6s\n",
      "[CV] END colsample_bytree=0.9, learning_rate=0.1, n_estimators=100, num_leaves=48, subsample=0.8; total time=   0.5s\n",
      "[CV] END colsample_bytree=0.9, learning_rate=0.1, n_estimators=100, num_leaves=48, subsample=0.8; total time=   0.5s\n",
      "[CV] END colsample_bytree=0.9, learning_rate=0.1, n_estimators=100, num_leaves=48, subsample=0.8; total time=   0.5s\n",
      "[CV] END colsample_bytree=1.0, learning_rate=0.2, n_estimators=100, num_leaves=48, subsample=0.9; total time=   0.5s\n",
      "[CV] END colsample_bytree=1.0, learning_rate=0.2, n_estimators=100, num_leaves=48, subsample=0.9; total time=   0.5s\n",
      "[CV] END colsample_bytree=1.0, learning_rate=0.2, n_estimators=100, num_leaves=48, subsample=0.9; total time=   0.5s\n",
      "[CV] END colsample_bytree=1.0, learning_rate=0.2, n_estimators=100, num_leaves=48, subsample=0.9; total time=   0.5s\n",
      "[CV] END colsample_bytree=1.0, learning_rate=0.2, n_estimators=100, num_leaves=48, subsample=0.9; total time=   0.5s\n",
      "[CV] END colsample_bytree=0.8, learning_rate=0.1, n_estimators=500, num_leaves=48, subsample=0.8; total time=   3.0s\n",
      "[CV] END colsample_bytree=0.8, learning_rate=0.1, n_estimators=500, num_leaves=48, subsample=0.8; total time=   3.6s\n",
      "[CV] END colsample_bytree=0.8, learning_rate=0.1, n_estimators=500, num_leaves=48, subsample=0.8; total time=   3.1s\n",
      "[CV] END colsample_bytree=0.8, learning_rate=0.1, n_estimators=500, num_leaves=48, subsample=0.8; total time=   3.7s\n",
      "[CV] END colsample_bytree=0.8, learning_rate=0.1, n_estimators=500, num_leaves=48, subsample=0.8; total time=   3.0s\n",
      "[CV] END colsample_bytree=0.9, learning_rate=0.05, n_estimators=500, num_leaves=64, subsample=0.8; total time=   4.7s\n",
      "[CV] END colsample_bytree=0.9, learning_rate=0.05, n_estimators=500, num_leaves=64, subsample=0.8; total time=   5.5s\n",
      "[CV] END colsample_bytree=0.9, learning_rate=0.05, n_estimators=500, num_leaves=64, subsample=0.8; total time=   3.8s\n",
      "[CV] END colsample_bytree=0.9, learning_rate=0.05, n_estimators=500, num_leaves=64, subsample=0.8; total time=   3.9s\n",
      "[CV] END colsample_bytree=0.9, learning_rate=0.05, n_estimators=500, num_leaves=64, subsample=0.8; total time=   3.7s\n",
      "[CV] END colsample_bytree=1.0, learning_rate=0.1, n_estimators=100, num_leaves=31, subsample=1.0; total time=   0.4s\n",
      "[CV] END colsample_bytree=1.0, learning_rate=0.1, n_estimators=100, num_leaves=31, subsample=1.0; total time=   0.3s\n",
      "[CV] END colsample_bytree=1.0, learning_rate=0.1, n_estimators=100, num_leaves=31, subsample=1.0; total time=   0.4s\n",
      "[CV] END colsample_bytree=1.0, learning_rate=0.1, n_estimators=100, num_leaves=31, subsample=1.0; total time=   0.3s\n",
      "[CV] END colsample_bytree=1.0, learning_rate=0.1, n_estimators=100, num_leaves=31, subsample=1.0; total time=   0.4s\n",
      "[CV] END colsample_bytree=1.0, learning_rate=0.1, n_estimators=100, num_leaves=48, subsample=1.0; total time=   0.5s\n",
      "[CV] END colsample_bytree=1.0, learning_rate=0.1, n_estimators=100, num_leaves=48, subsample=1.0; total time=   0.6s\n",
      "[CV] END colsample_bytree=1.0, learning_rate=0.1, n_estimators=100, num_leaves=48, subsample=1.0; total time=   0.5s\n",
      "[CV] END colsample_bytree=1.0, learning_rate=0.1, n_estimators=100, num_leaves=48, subsample=1.0; total time=   0.5s\n",
      "[CV] END colsample_bytree=1.0, learning_rate=0.1, n_estimators=100, num_leaves=48, subsample=1.0; total time=   0.5s\n",
      "[CV] END colsample_bytree=0.9, learning_rate=0.1, n_estimators=500, num_leaves=64, subsample=1.0; total time=   2.8s\n",
      "[CV] END colsample_bytree=0.9, learning_rate=0.1, n_estimators=500, num_leaves=64, subsample=1.0; total time=   3.9s\n",
      "[CV] END colsample_bytree=0.9, learning_rate=0.1, n_estimators=500, num_leaves=64, subsample=1.0; total time=   3.1s\n",
      "[CV] END colsample_bytree=0.9, learning_rate=0.1, n_estimators=500, num_leaves=64, subsample=1.0; total time=   2.8s\n",
      "[CV] END colsample_bytree=0.9, learning_rate=0.1, n_estimators=500, num_leaves=64, subsample=1.0; total time=   2.6s\n"
     ]
    },
    {
     "data": {
      "text/html": [
       "<style>#sk-container-id-15 {\n",
       "  /* Definition of color scheme common for light and dark mode */\n",
       "  --sklearn-color-text: black;\n",
       "  --sklearn-color-line: gray;\n",
       "  /* Definition of color scheme for unfitted estimators */\n",
       "  --sklearn-color-unfitted-level-0: #fff5e6;\n",
       "  --sklearn-color-unfitted-level-1: #f6e4d2;\n",
       "  --sklearn-color-unfitted-level-2: #ffe0b3;\n",
       "  --sklearn-color-unfitted-level-3: chocolate;\n",
       "  /* Definition of color scheme for fitted estimators */\n",
       "  --sklearn-color-fitted-level-0: #f0f8ff;\n",
       "  --sklearn-color-fitted-level-1: #d4ebff;\n",
       "  --sklearn-color-fitted-level-2: #b3dbfd;\n",
       "  --sklearn-color-fitted-level-3: cornflowerblue;\n",
       "\n",
       "  /* Specific color for light theme */\n",
       "  --sklearn-color-text-on-default-background: var(--sg-text-color, var(--theme-code-foreground, var(--jp-content-font-color1, black)));\n",
       "  --sklearn-color-background: var(--sg-background-color, var(--theme-background, var(--jp-layout-color0, white)));\n",
       "  --sklearn-color-border-box: var(--sg-text-color, var(--theme-code-foreground, var(--jp-content-font-color1, black)));\n",
       "  --sklearn-color-icon: #696969;\n",
       "\n",
       "  @media (prefers-color-scheme: dark) {\n",
       "    /* Redefinition of color scheme for dark theme */\n",
       "    --sklearn-color-text-on-default-background: var(--sg-text-color, var(--theme-code-foreground, var(--jp-content-font-color1, white)));\n",
       "    --sklearn-color-background: var(--sg-background-color, var(--theme-background, var(--jp-layout-color0, #111)));\n",
       "    --sklearn-color-border-box: var(--sg-text-color, var(--theme-code-foreground, var(--jp-content-font-color1, white)));\n",
       "    --sklearn-color-icon: #878787;\n",
       "  }\n",
       "}\n",
       "\n",
       "#sk-container-id-15 {\n",
       "  color: var(--sklearn-color-text);\n",
       "}\n",
       "\n",
       "#sk-container-id-15 pre {\n",
       "  padding: 0;\n",
       "}\n",
       "\n",
       "#sk-container-id-15 input.sk-hidden--visually {\n",
       "  border: 0;\n",
       "  clip: rect(1px 1px 1px 1px);\n",
       "  clip: rect(1px, 1px, 1px, 1px);\n",
       "  height: 1px;\n",
       "  margin: -1px;\n",
       "  overflow: hidden;\n",
       "  padding: 0;\n",
       "  position: absolute;\n",
       "  width: 1px;\n",
       "}\n",
       "\n",
       "#sk-container-id-15 div.sk-dashed-wrapped {\n",
       "  border: 1px dashed var(--sklearn-color-line);\n",
       "  margin: 0 0.4em 0.5em 0.4em;\n",
       "  box-sizing: border-box;\n",
       "  padding-bottom: 0.4em;\n",
       "  background-color: var(--sklearn-color-background);\n",
       "}\n",
       "\n",
       "#sk-container-id-15 div.sk-container {\n",
       "  /* jupyter's `normalize.less` sets `[hidden] { display: none; }`\n",
       "     but bootstrap.min.css set `[hidden] { display: none !important; }`\n",
       "     so we also need the `!important` here to be able to override the\n",
       "     default hidden behavior on the sphinx rendered scikit-learn.org.\n",
       "     See: https://github.com/scikit-learn/scikit-learn/issues/21755 */\n",
       "  display: inline-block !important;\n",
       "  position: relative;\n",
       "}\n",
       "\n",
       "#sk-container-id-15 div.sk-text-repr-fallback {\n",
       "  display: none;\n",
       "}\n",
       "\n",
       "div.sk-parallel-item,\n",
       "div.sk-serial,\n",
       "div.sk-item {\n",
       "  /* draw centered vertical line to link estimators */\n",
       "  background-image: linear-gradient(var(--sklearn-color-text-on-default-background), var(--sklearn-color-text-on-default-background));\n",
       "  background-size: 2px 100%;\n",
       "  background-repeat: no-repeat;\n",
       "  background-position: center center;\n",
       "}\n",
       "\n",
       "/* Parallel-specific style estimator block */\n",
       "\n",
       "#sk-container-id-15 div.sk-parallel-item::after {\n",
       "  content: \"\";\n",
       "  width: 100%;\n",
       "  border-bottom: 2px solid var(--sklearn-color-text-on-default-background);\n",
       "  flex-grow: 1;\n",
       "}\n",
       "\n",
       "#sk-container-id-15 div.sk-parallel {\n",
       "  display: flex;\n",
       "  align-items: stretch;\n",
       "  justify-content: center;\n",
       "  background-color: var(--sklearn-color-background);\n",
       "  position: relative;\n",
       "}\n",
       "\n",
       "#sk-container-id-15 div.sk-parallel-item {\n",
       "  display: flex;\n",
       "  flex-direction: column;\n",
       "}\n",
       "\n",
       "#sk-container-id-15 div.sk-parallel-item:first-child::after {\n",
       "  align-self: flex-end;\n",
       "  width: 50%;\n",
       "}\n",
       "\n",
       "#sk-container-id-15 div.sk-parallel-item:last-child::after {\n",
       "  align-self: flex-start;\n",
       "  width: 50%;\n",
       "}\n",
       "\n",
       "#sk-container-id-15 div.sk-parallel-item:only-child::after {\n",
       "  width: 0;\n",
       "}\n",
       "\n",
       "/* Serial-specific style estimator block */\n",
       "\n",
       "#sk-container-id-15 div.sk-serial {\n",
       "  display: flex;\n",
       "  flex-direction: column;\n",
       "  align-items: center;\n",
       "  background-color: var(--sklearn-color-background);\n",
       "  padding-right: 1em;\n",
       "  padding-left: 1em;\n",
       "}\n",
       "\n",
       "\n",
       "/* Toggleable style: style used for estimator/Pipeline/ColumnTransformer box that is\n",
       "clickable and can be expanded/collapsed.\n",
       "- Pipeline and ColumnTransformer use this feature and define the default style\n",
       "- Estimators will overwrite some part of the style using the `sk-estimator` class\n",
       "*/\n",
       "\n",
       "/* Pipeline and ColumnTransformer style (default) */\n",
       "\n",
       "#sk-container-id-15 div.sk-toggleable {\n",
       "  /* Default theme specific background. It is overwritten whether we have a\n",
       "  specific estimator or a Pipeline/ColumnTransformer */\n",
       "  background-color: var(--sklearn-color-background);\n",
       "}\n",
       "\n",
       "/* Toggleable label */\n",
       "#sk-container-id-15 label.sk-toggleable__label {\n",
       "  cursor: pointer;\n",
       "  display: block;\n",
       "  width: 100%;\n",
       "  margin-bottom: 0;\n",
       "  padding: 0.5em;\n",
       "  box-sizing: border-box;\n",
       "  text-align: center;\n",
       "}\n",
       "\n",
       "#sk-container-id-15 label.sk-toggleable__label-arrow:before {\n",
       "  /* Arrow on the left of the label */\n",
       "  content: \"▸\";\n",
       "  float: left;\n",
       "  margin-right: 0.25em;\n",
       "  color: var(--sklearn-color-icon);\n",
       "}\n",
       "\n",
       "#sk-container-id-15 label.sk-toggleable__label-arrow:hover:before {\n",
       "  color: var(--sklearn-color-text);\n",
       "}\n",
       "\n",
       "/* Toggleable content - dropdown */\n",
       "\n",
       "#sk-container-id-15 div.sk-toggleable__content {\n",
       "  max-height: 0;\n",
       "  max-width: 0;\n",
       "  overflow: hidden;\n",
       "  text-align: left;\n",
       "  /* unfitted */\n",
       "  background-color: var(--sklearn-color-unfitted-level-0);\n",
       "}\n",
       "\n",
       "#sk-container-id-15 div.sk-toggleable__content.fitted {\n",
       "  /* fitted */\n",
       "  background-color: var(--sklearn-color-fitted-level-0);\n",
       "}\n",
       "\n",
       "#sk-container-id-15 div.sk-toggleable__content pre {\n",
       "  margin: 0.2em;\n",
       "  border-radius: 0.25em;\n",
       "  color: var(--sklearn-color-text);\n",
       "  /* unfitted */\n",
       "  background-color: var(--sklearn-color-unfitted-level-0);\n",
       "}\n",
       "\n",
       "#sk-container-id-15 div.sk-toggleable__content.fitted pre {\n",
       "  /* unfitted */\n",
       "  background-color: var(--sklearn-color-fitted-level-0);\n",
       "}\n",
       "\n",
       "#sk-container-id-15 input.sk-toggleable__control:checked~div.sk-toggleable__content {\n",
       "  /* Expand drop-down */\n",
       "  max-height: 200px;\n",
       "  max-width: 100%;\n",
       "  overflow: auto;\n",
       "}\n",
       "\n",
       "#sk-container-id-15 input.sk-toggleable__control:checked~label.sk-toggleable__label-arrow:before {\n",
       "  content: \"▾\";\n",
       "}\n",
       "\n",
       "/* Pipeline/ColumnTransformer-specific style */\n",
       "\n",
       "#sk-container-id-15 div.sk-label input.sk-toggleable__control:checked~label.sk-toggleable__label {\n",
       "  color: var(--sklearn-color-text);\n",
       "  background-color: var(--sklearn-color-unfitted-level-2);\n",
       "}\n",
       "\n",
       "#sk-container-id-15 div.sk-label.fitted input.sk-toggleable__control:checked~label.sk-toggleable__label {\n",
       "  background-color: var(--sklearn-color-fitted-level-2);\n",
       "}\n",
       "\n",
       "/* Estimator-specific style */\n",
       "\n",
       "/* Colorize estimator box */\n",
       "#sk-container-id-15 div.sk-estimator input.sk-toggleable__control:checked~label.sk-toggleable__label {\n",
       "  /* unfitted */\n",
       "  background-color: var(--sklearn-color-unfitted-level-2);\n",
       "}\n",
       "\n",
       "#sk-container-id-15 div.sk-estimator.fitted input.sk-toggleable__control:checked~label.sk-toggleable__label {\n",
       "  /* fitted */\n",
       "  background-color: var(--sklearn-color-fitted-level-2);\n",
       "}\n",
       "\n",
       "#sk-container-id-15 div.sk-label label.sk-toggleable__label,\n",
       "#sk-container-id-15 div.sk-label label {\n",
       "  /* The background is the default theme color */\n",
       "  color: var(--sklearn-color-text-on-default-background);\n",
       "}\n",
       "\n",
       "/* On hover, darken the color of the background */\n",
       "#sk-container-id-15 div.sk-label:hover label.sk-toggleable__label {\n",
       "  color: var(--sklearn-color-text);\n",
       "  background-color: var(--sklearn-color-unfitted-level-2);\n",
       "}\n",
       "\n",
       "/* Label box, darken color on hover, fitted */\n",
       "#sk-container-id-15 div.sk-label.fitted:hover label.sk-toggleable__label.fitted {\n",
       "  color: var(--sklearn-color-text);\n",
       "  background-color: var(--sklearn-color-fitted-level-2);\n",
       "}\n",
       "\n",
       "/* Estimator label */\n",
       "\n",
       "#sk-container-id-15 div.sk-label label {\n",
       "  font-family: monospace;\n",
       "  font-weight: bold;\n",
       "  display: inline-block;\n",
       "  line-height: 1.2em;\n",
       "}\n",
       "\n",
       "#sk-container-id-15 div.sk-label-container {\n",
       "  text-align: center;\n",
       "}\n",
       "\n",
       "/* Estimator-specific */\n",
       "#sk-container-id-15 div.sk-estimator {\n",
       "  font-family: monospace;\n",
       "  border: 1px dotted var(--sklearn-color-border-box);\n",
       "  border-radius: 0.25em;\n",
       "  box-sizing: border-box;\n",
       "  margin-bottom: 0.5em;\n",
       "  /* unfitted */\n",
       "  background-color: var(--sklearn-color-unfitted-level-0);\n",
       "}\n",
       "\n",
       "#sk-container-id-15 div.sk-estimator.fitted {\n",
       "  /* fitted */\n",
       "  background-color: var(--sklearn-color-fitted-level-0);\n",
       "}\n",
       "\n",
       "/* on hover */\n",
       "#sk-container-id-15 div.sk-estimator:hover {\n",
       "  /* unfitted */\n",
       "  background-color: var(--sklearn-color-unfitted-level-2);\n",
       "}\n",
       "\n",
       "#sk-container-id-15 div.sk-estimator.fitted:hover {\n",
       "  /* fitted */\n",
       "  background-color: var(--sklearn-color-fitted-level-2);\n",
       "}\n",
       "\n",
       "/* Specification for estimator info (e.g. \"i\" and \"?\") */\n",
       "\n",
       "/* Common style for \"i\" and \"?\" */\n",
       "\n",
       ".sk-estimator-doc-link,\n",
       "a:link.sk-estimator-doc-link,\n",
       "a:visited.sk-estimator-doc-link {\n",
       "  float: right;\n",
       "  font-size: smaller;\n",
       "  line-height: 1em;\n",
       "  font-family: monospace;\n",
       "  background-color: var(--sklearn-color-background);\n",
       "  border-radius: 1em;\n",
       "  height: 1em;\n",
       "  width: 1em;\n",
       "  text-decoration: none !important;\n",
       "  margin-left: 1ex;\n",
       "  /* unfitted */\n",
       "  border: var(--sklearn-color-unfitted-level-1) 1pt solid;\n",
       "  color: var(--sklearn-color-unfitted-level-1);\n",
       "}\n",
       "\n",
       ".sk-estimator-doc-link.fitted,\n",
       "a:link.sk-estimator-doc-link.fitted,\n",
       "a:visited.sk-estimator-doc-link.fitted {\n",
       "  /* fitted */\n",
       "  border: var(--sklearn-color-fitted-level-1) 1pt solid;\n",
       "  color: var(--sklearn-color-fitted-level-1);\n",
       "}\n",
       "\n",
       "/* On hover */\n",
       "div.sk-estimator:hover .sk-estimator-doc-link:hover,\n",
       ".sk-estimator-doc-link:hover,\n",
       "div.sk-label-container:hover .sk-estimator-doc-link:hover,\n",
       ".sk-estimator-doc-link:hover {\n",
       "  /* unfitted */\n",
       "  background-color: var(--sklearn-color-unfitted-level-3);\n",
       "  color: var(--sklearn-color-background);\n",
       "  text-decoration: none;\n",
       "}\n",
       "\n",
       "div.sk-estimator.fitted:hover .sk-estimator-doc-link.fitted:hover,\n",
       ".sk-estimator-doc-link.fitted:hover,\n",
       "div.sk-label-container:hover .sk-estimator-doc-link.fitted:hover,\n",
       ".sk-estimator-doc-link.fitted:hover {\n",
       "  /* fitted */\n",
       "  background-color: var(--sklearn-color-fitted-level-3);\n",
       "  color: var(--sklearn-color-background);\n",
       "  text-decoration: none;\n",
       "}\n",
       "\n",
       "/* Span, style for the box shown on hovering the info icon */\n",
       ".sk-estimator-doc-link span {\n",
       "  display: none;\n",
       "  z-index: 9999;\n",
       "  position: relative;\n",
       "  font-weight: normal;\n",
       "  right: .2ex;\n",
       "  padding: .5ex;\n",
       "  margin: .5ex;\n",
       "  width: min-content;\n",
       "  min-width: 20ex;\n",
       "  max-width: 50ex;\n",
       "  color: var(--sklearn-color-text);\n",
       "  box-shadow: 2pt 2pt 4pt #999;\n",
       "  /* unfitted */\n",
       "  background: var(--sklearn-color-unfitted-level-0);\n",
       "  border: .5pt solid var(--sklearn-color-unfitted-level-3);\n",
       "}\n",
       "\n",
       ".sk-estimator-doc-link.fitted span {\n",
       "  /* fitted */\n",
       "  background: var(--sklearn-color-fitted-level-0);\n",
       "  border: var(--sklearn-color-fitted-level-3);\n",
       "}\n",
       "\n",
       ".sk-estimator-doc-link:hover span {\n",
       "  display: block;\n",
       "}\n",
       "\n",
       "/* \"?\"-specific style due to the `<a>` HTML tag */\n",
       "\n",
       "#sk-container-id-15 a.estimator_doc_link {\n",
       "  float: right;\n",
       "  font-size: 1rem;\n",
       "  line-height: 1em;\n",
       "  font-family: monospace;\n",
       "  background-color: var(--sklearn-color-background);\n",
       "  border-radius: 1rem;\n",
       "  height: 1rem;\n",
       "  width: 1rem;\n",
       "  text-decoration: none;\n",
       "  /* unfitted */\n",
       "  color: var(--sklearn-color-unfitted-level-1);\n",
       "  border: var(--sklearn-color-unfitted-level-1) 1pt solid;\n",
       "}\n",
       "\n",
       "#sk-container-id-15 a.estimator_doc_link.fitted {\n",
       "  /* fitted */\n",
       "  border: var(--sklearn-color-fitted-level-1) 1pt solid;\n",
       "  color: var(--sklearn-color-fitted-level-1);\n",
       "}\n",
       "\n",
       "/* On hover */\n",
       "#sk-container-id-15 a.estimator_doc_link:hover {\n",
       "  /* unfitted */\n",
       "  background-color: var(--sklearn-color-unfitted-level-3);\n",
       "  color: var(--sklearn-color-background);\n",
       "  text-decoration: none;\n",
       "}\n",
       "\n",
       "#sk-container-id-15 a.estimator_doc_link.fitted:hover {\n",
       "  /* fitted */\n",
       "  background-color: var(--sklearn-color-fitted-level-3);\n",
       "}\n",
       "</style><div id=\"sk-container-id-15\" class=\"sk-top-container\"><div class=\"sk-text-repr-fallback\"><pre>RandomizedSearchCV(cv=5,\n",
       "                   estimator=LGBMClassifier(importance_type=&#x27;gain&#x27;, n_jobs=-1,\n",
       "                                            random_state=0, verbose=-1),\n",
       "                   n_iter=100,\n",
       "                   param_distributions={&#x27;colsample_bytree&#x27;: [0.8, 0.9, 1.0],\n",
       "                                        &#x27;learning_rate&#x27;: [0.05, 0.1, 0.2],\n",
       "                                        &#x27;n_estimators&#x27;: [100, 250, 500],\n",
       "                                        &#x27;num_leaves&#x27;: [31, 48, 64],\n",
       "                                        &#x27;subsample&#x27;: [0.8, 0.9, 1.0]},\n",
       "                   scoring=&#x27;roc_auc&#x27;, verbose=2)</pre><b>In a Jupyter environment, please rerun this cell to show the HTML representation or trust the notebook. <br />On GitHub, the HTML representation is unable to render, please try loading this page with nbviewer.org.</b></div><div class=\"sk-container\" hidden><div class=\"sk-item sk-dashed-wrapped\"><div class=\"sk-label-container\"><div class=\"sk-label fitted sk-toggleable\"><input class=\"sk-toggleable__control sk-hidden--visually\" id=\"sk-estimator-id-33\" type=\"checkbox\" ><label for=\"sk-estimator-id-33\" class=\"sk-toggleable__label fitted sk-toggleable__label-arrow fitted\">&nbsp;&nbsp;RandomizedSearchCV<a class=\"sk-estimator-doc-link fitted\" rel=\"noreferrer\" target=\"_blank\" href=\"https://scikit-learn.org/1.5/modules/generated/sklearn.model_selection.RandomizedSearchCV.html\">?<span>Documentation for RandomizedSearchCV</span></a><span class=\"sk-estimator-doc-link fitted\">i<span>Fitted</span></span></label><div class=\"sk-toggleable__content fitted\"><pre>RandomizedSearchCV(cv=5,\n",
       "                   estimator=LGBMClassifier(importance_type=&#x27;gain&#x27;, n_jobs=-1,\n",
       "                                            random_state=0, verbose=-1),\n",
       "                   n_iter=100,\n",
       "                   param_distributions={&#x27;colsample_bytree&#x27;: [0.8, 0.9, 1.0],\n",
       "                                        &#x27;learning_rate&#x27;: [0.05, 0.1, 0.2],\n",
       "                                        &#x27;n_estimators&#x27;: [100, 250, 500],\n",
       "                                        &#x27;num_leaves&#x27;: [31, 48, 64],\n",
       "                                        &#x27;subsample&#x27;: [0.8, 0.9, 1.0]},\n",
       "                   scoring=&#x27;roc_auc&#x27;, verbose=2)</pre></div> </div></div><div class=\"sk-parallel\"><div class=\"sk-parallel-item\"><div class=\"sk-item\"><div class=\"sk-label-container\"><div class=\"sk-label fitted sk-toggleable\"><input class=\"sk-toggleable__control sk-hidden--visually\" id=\"sk-estimator-id-34\" type=\"checkbox\" ><label for=\"sk-estimator-id-34\" class=\"sk-toggleable__label fitted sk-toggleable__label-arrow fitted\">best_estimator_: LGBMClassifier</label><div class=\"sk-toggleable__content fitted\"><pre>LGBMClassifier(importance_type=&#x27;gain&#x27;, learning_rate=0.2, n_estimators=500,\n",
       "               n_jobs=-1, random_state=0, subsample=0.9, verbose=-1)</pre></div> </div></div><div class=\"sk-serial\"><div class=\"sk-item\"><div class=\"sk-estimator fitted sk-toggleable\"><input class=\"sk-toggleable__control sk-hidden--visually\" id=\"sk-estimator-id-35\" type=\"checkbox\" ><label for=\"sk-estimator-id-35\" class=\"sk-toggleable__label fitted sk-toggleable__label-arrow fitted\">LGBMClassifier</label><div class=\"sk-toggleable__content fitted\"><pre>LGBMClassifier(importance_type=&#x27;gain&#x27;, learning_rate=0.2, n_estimators=500,\n",
       "               n_jobs=-1, random_state=0, subsample=0.9, verbose=-1)</pre></div> </div></div></div></div></div></div></div></div></div>"
      ],
      "text/plain": [
       "RandomizedSearchCV(cv=5,\n",
       "                   estimator=LGBMClassifier(importance_type='gain', n_jobs=-1,\n",
       "                                            random_state=0, verbose=-1),\n",
       "                   n_iter=100,\n",
       "                   param_distributions={'colsample_bytree': [0.8, 0.9, 1.0],\n",
       "                                        'learning_rate': [0.05, 0.1, 0.2],\n",
       "                                        'n_estimators': [100, 250, 500],\n",
       "                                        'num_leaves': [31, 48, 64],\n",
       "                                        'subsample': [0.8, 0.9, 1.0]},\n",
       "                   scoring='roc_auc', verbose=2)"
      ]
     },
     "execution_count": 75,
     "metadata": {},
     "output_type": "execute_result"
    }
   ],
   "source": [
    "clf = LGBMClassifier(importance_type=\"gain\", random_state=0, n_jobs=-1, verbose=-1)\n",
    "param_grid = {\n",
    "    \"n_estimators\": [100, 250, 500],\n",
    "    \"learning_rate\": [0.05, 0.1, 0.2],\n",
    "    \"num_leaves\": [31, 48, 64],\n",
    "    \"colsample_bytree\": [0.8, 0.9, 1.0],\n",
    "    \"subsample\": [0.8, 0.9, 1.0]\n",
    "}\n",
    "\n",
    "random_search = RandomizedSearchCV(\n",
    "    estimator=clf,\n",
    "    param_distributions=param_grid,\n",
    "    cv=5,\n",
    "    scoring=\"roc_auc\",\n",
    "    n_iter=100,\n",
    "    verbose=2\n",
    ")\n",
    "random_search.fit(X_train_res, y_train_res)"
   ]
  },
  {
   "cell_type": "code",
   "execution_count": 81,
   "metadata": {},
   "outputs": [
    {
     "name": "stdout",
     "output_type": "stream",
     "text": [
      "{'subsample': 0.9, 'num_leaves': 31, 'n_estimators': 500, 'learning_rate': 0.2, 'colsample_bytree': 1.0}\n",
      "0.9466291284473103\n",
      "              precision    recall  f1-score   support\n",
      "\n",
      "           0       0.98      0.99      0.99      2002\n",
      "           1       0.80      0.54      0.64        99\n",
      "\n",
      "    accuracy                           0.97      2101\n",
      "   macro avg       0.89      0.76      0.81      2101\n",
      "weighted avg       0.97      0.97      0.97      2101\n",
      "\n"
     ]
    }
   ],
   "source": [
    "print(random_search.best_params_)\n",
    "y_proba = random_search.best_estimator_.predict_proba(X_test)[:, -1]\n",
    "auroc = roc_auc_score(y_test, y_proba)\n",
    "print(auroc)\n",
    "\n",
    "print(classification_report(y_test, random_search.best_estimator_.predict(X_test)))"
   ]
  },
  {
   "cell_type": "code",
   "execution_count": 82,
   "metadata": {
    "editable": true,
    "slideshow": {
     "slide_type": ""
    },
    "tags": [
     "ex"
    ]
   },
   "outputs": [
    {
     "name": "stdout",
     "output_type": "stream",
     "text": [
      "Solution is correct!\n"
     ]
    }
   ],
   "source": [
    "assert 0.9 <= auroc <= 0.99\n",
    "\n",
    "print(\"Solution is correct!\")"
   ]
  },
  {
   "cell_type": "markdown",
   "metadata": {
    "editable": true,
    "pycharm": {
     "name": "#%% md\n"
    },
    "slideshow": {
     "slide_type": ""
    },
    "tags": [
     "ex"
    ]
   },
   "source": [
    "// skomentuj tutaj<br>\n",
    "W przypadku dostrojenia parametrów modelu LightGBM wzrosła precyzja wykrywania klasy pozytywnej, natomiast pozostałe metryki są zbliżone."
   ]
  },
  {
   "cell_type": "markdown",
   "metadata": {
    "editable": true,
    "pycharm": {
     "name": "#%% md\n"
    },
    "slideshow": {
     "slide_type": ""
    },
    "tags": []
   },
   "source": [
    "**Boosting - podsumowanie**\n",
    "\n",
    "1. Model oparty o uczenie zespołowe.\n",
    "2. Kolejne modele są dodawane sekwencyjnie i uczą się na błędach poprzedników.\n",
    "3. Nauka typowo jest oparta o minimalizację funkcji kosztu (błędu), z użyciem spadku wzdłuż gradientu.\n",
    "4. Wiodący model klasyfikacji dla danych tabelarycznych, z 2 głównymi implementacjami: XGBoost i LightGBM.\n",
    "5. Liczne hiperparametry, wymagające odpowiednich metod dostrajania."
   ]
  },
  {
   "cell_type": "markdown",
   "metadata": {
    "editable": true,
    "pycharm": {
     "name": "#%% md\n"
    },
    "slideshow": {
     "slide_type": ""
    },
    "tags": []
   },
   "source": [
    "## Wyjaśnialna AI"
   ]
  },
  {
   "cell_type": "markdown",
   "metadata": {
    "editable": true,
    "pycharm": {
     "name": "#%% md\n"
    },
    "slideshow": {
     "slide_type": ""
    },
    "tags": []
   },
   "source": [
    "W ostatnich latach zaczęto zwracać coraz większą uwagę na wpływ sztucznej inteligencji na społeczeństwo, a na niektórych czołowych konferencjach ML nawet obowiązkowa jest sekcja \"Social impact\" w artykułach naukowych. Typowo im lepszy model, tym bardziej złożony, a najpopularniejsze modele boostingu są z natury skomplikowane. Kiedy mają podejmować krytyczne decyzje, to musimy wiedzieć, czemu predykcja jest taka, a nie inna. Jest to poddziedzina uczenia maszynowego - **wyjaśnialna AI (explainable AI, XAI)**.\n",
    "\n",
    "Taka informacja jest cenna, bo dzięki temu lepiej wiemy, co robi model. Jest to ważne z kilku powodów:\n",
    "1. Wymogi prawne - wdrażanie algorytmów w ekonomii, prawie etc. ma coraz częściej konkretne wymagania prawne co do wyjaśnialności predykcji.\n",
    "2. Dodatkowa wiedza dla użytkowników - często dodatkowe obserwacje co do próbek są ciekawe same w sobie i dają wiedzę użytkownikowi (często posiadającemu specjalistyczną wiedzę z dziedziny), czasem nawet bardziej niż sam model predykcyjny.\n",
    "3. Analiza modelu - dodatkowa wiedza o wewnętrznym działaniu algorytmu pozwala go lepiej zrozumieć i ulepszyć wyniki, np. przez lepszy preprocessing danych.\n",
    "\n",
    "W szczególności można ją podzielić na **globalną** oraz **lokalną interpretowalność (global / local interpretability)**. Ta pierwsza próbuje wyjaśnić, czemu ogólnie model działa tak, jak działa. Analizuje strukturę modelu oraz trendy w jego predykcjach, aby podsumować w prostszy sposób jego tok myślenia. Interpretowalność lokalna z kolei dotyczy predykcji dla konkretnych próbek - czemu dla danego przykładu model podejmuje dla niego taką, a nie inną decyzję o klasyfikacji.\n",
    "\n",
    "W szczególności podstawowym sposobem interpretowalności jest **ważność cech (feature importance)**. Wyznacza ona, jak ważne są poszczególne cechy:\n",
    "- w wariancie globalnym, jak mocno model opiera się na poszczególnych cechach,\n",
    "- w wariancie lokalnym, jak mocno konkretne wartości cech wpłynęły na predykcję, i w jaki sposób.\n",
    "\n",
    "Teraz będzie nas interesować globalna ważność cech. Dla modeli drzewiastych definiuje się ją bardzo prosto. Każdy podział w drzewie decyzyjnym wykorzystuje jakąś cechę i redukuje z pomocą podziału funkcję kosztu (np. entropię) o określoną ilość. Dla drzewa decyzyjnego ważność to sumaryczna redukcja entropii, jaką udało się uzyskać za pomocą danej cechy. Dla lasów losowych i boostingu sumujemy te wartości dla wszystkich drzew. Alternatywnie można też użyć liczby splitów, w jakiej została użyta dana cecha, ale jest to mniej standardowe.\n",
    "\n",
    "Warto zauważyć, że taka ważność cech jest **względna**:\n",
    "- nie mówimy, jak bardzo ogólnie ważna jest jakaś cecha, tylko jak bardzo przydatna była dla naszego modelu w celu jego wytrenowania,\n",
    "- ważność cech można tylko porównywać ze sobą, np. jedna jest 2 razy ważniejsza od drugiej; nie ma ogólnych progów ważności.\n",
    "\n",
    "Ze względu na powyższe, ważności cech normalizuje się często do zakresu [0, 1] dla łatwiejszego porównywania."
   ]
  },
  {
   "cell_type": "markdown",
   "metadata": {
    "editable": true,
    "slideshow": {
     "slide_type": ""
    },
    "tags": [
     "ex"
    ]
   },
   "source": [
    "### Zadanie 9 (0.5 punktu)"
   ]
  },
  {
   "cell_type": "markdown",
   "metadata": {
    "editable": true,
    "slideshow": {
     "slide_type": ""
    },
    "tags": [
     "ex"
    ]
   },
   "source": [
    "1. Wybierz 5 najważniejszych cech dla drzewa decyzyjnego. Przedstaw wyniki na poziomym wykresie słupkowym. Użyj czytelnych nazw cech ze zmiennej `feature_names`.\n",
    "2. Powtórz powyższe dla lasu losowego, oraz dla boostingu (tutaj znormalizuj wyniki - patrz uwaga niżej). Wybierz te hiperparametry, które dały wcześniej najlepsze wyniki.\n",
    "3. Skomentuj, czy wybrane cechy twoim zdaniem mają sens jako najważniejsze cechy.\n",
    "\n",
    "**Uwaga:** Scikit-learn normalizuje ważności do zakresu [0, 1], natomiast LightGBM nie. Musisz to znormalizować samodzielnie, dzieląc przez sumę."
   ]
  },
  {
   "cell_type": "code",
   "execution_count": 85,
   "metadata": {
    "editable": true,
    "slideshow": {
     "slide_type": ""
    },
    "tags": [
     "ex"
    ]
   },
   "outputs": [
    {
     "data": {
      "text/html": [
       "<style>#sk-container-id-16 {\n",
       "  /* Definition of color scheme common for light and dark mode */\n",
       "  --sklearn-color-text: black;\n",
       "  --sklearn-color-line: gray;\n",
       "  /* Definition of color scheme for unfitted estimators */\n",
       "  --sklearn-color-unfitted-level-0: #fff5e6;\n",
       "  --sklearn-color-unfitted-level-1: #f6e4d2;\n",
       "  --sklearn-color-unfitted-level-2: #ffe0b3;\n",
       "  --sklearn-color-unfitted-level-3: chocolate;\n",
       "  /* Definition of color scheme for fitted estimators */\n",
       "  --sklearn-color-fitted-level-0: #f0f8ff;\n",
       "  --sklearn-color-fitted-level-1: #d4ebff;\n",
       "  --sklearn-color-fitted-level-2: #b3dbfd;\n",
       "  --sklearn-color-fitted-level-3: cornflowerblue;\n",
       "\n",
       "  /* Specific color for light theme */\n",
       "  --sklearn-color-text-on-default-background: var(--sg-text-color, var(--theme-code-foreground, var(--jp-content-font-color1, black)));\n",
       "  --sklearn-color-background: var(--sg-background-color, var(--theme-background, var(--jp-layout-color0, white)));\n",
       "  --sklearn-color-border-box: var(--sg-text-color, var(--theme-code-foreground, var(--jp-content-font-color1, black)));\n",
       "  --sklearn-color-icon: #696969;\n",
       "\n",
       "  @media (prefers-color-scheme: dark) {\n",
       "    /* Redefinition of color scheme for dark theme */\n",
       "    --sklearn-color-text-on-default-background: var(--sg-text-color, var(--theme-code-foreground, var(--jp-content-font-color1, white)));\n",
       "    --sklearn-color-background: var(--sg-background-color, var(--theme-background, var(--jp-layout-color0, #111)));\n",
       "    --sklearn-color-border-box: var(--sg-text-color, var(--theme-code-foreground, var(--jp-content-font-color1, white)));\n",
       "    --sklearn-color-icon: #878787;\n",
       "  }\n",
       "}\n",
       "\n",
       "#sk-container-id-16 {\n",
       "  color: var(--sklearn-color-text);\n",
       "}\n",
       "\n",
       "#sk-container-id-16 pre {\n",
       "  padding: 0;\n",
       "}\n",
       "\n",
       "#sk-container-id-16 input.sk-hidden--visually {\n",
       "  border: 0;\n",
       "  clip: rect(1px 1px 1px 1px);\n",
       "  clip: rect(1px, 1px, 1px, 1px);\n",
       "  height: 1px;\n",
       "  margin: -1px;\n",
       "  overflow: hidden;\n",
       "  padding: 0;\n",
       "  position: absolute;\n",
       "  width: 1px;\n",
       "}\n",
       "\n",
       "#sk-container-id-16 div.sk-dashed-wrapped {\n",
       "  border: 1px dashed var(--sklearn-color-line);\n",
       "  margin: 0 0.4em 0.5em 0.4em;\n",
       "  box-sizing: border-box;\n",
       "  padding-bottom: 0.4em;\n",
       "  background-color: var(--sklearn-color-background);\n",
       "}\n",
       "\n",
       "#sk-container-id-16 div.sk-container {\n",
       "  /* jupyter's `normalize.less` sets `[hidden] { display: none; }`\n",
       "     but bootstrap.min.css set `[hidden] { display: none !important; }`\n",
       "     so we also need the `!important` here to be able to override the\n",
       "     default hidden behavior on the sphinx rendered scikit-learn.org.\n",
       "     See: https://github.com/scikit-learn/scikit-learn/issues/21755 */\n",
       "  display: inline-block !important;\n",
       "  position: relative;\n",
       "}\n",
       "\n",
       "#sk-container-id-16 div.sk-text-repr-fallback {\n",
       "  display: none;\n",
       "}\n",
       "\n",
       "div.sk-parallel-item,\n",
       "div.sk-serial,\n",
       "div.sk-item {\n",
       "  /* draw centered vertical line to link estimators */\n",
       "  background-image: linear-gradient(var(--sklearn-color-text-on-default-background), var(--sklearn-color-text-on-default-background));\n",
       "  background-size: 2px 100%;\n",
       "  background-repeat: no-repeat;\n",
       "  background-position: center center;\n",
       "}\n",
       "\n",
       "/* Parallel-specific style estimator block */\n",
       "\n",
       "#sk-container-id-16 div.sk-parallel-item::after {\n",
       "  content: \"\";\n",
       "  width: 100%;\n",
       "  border-bottom: 2px solid var(--sklearn-color-text-on-default-background);\n",
       "  flex-grow: 1;\n",
       "}\n",
       "\n",
       "#sk-container-id-16 div.sk-parallel {\n",
       "  display: flex;\n",
       "  align-items: stretch;\n",
       "  justify-content: center;\n",
       "  background-color: var(--sklearn-color-background);\n",
       "  position: relative;\n",
       "}\n",
       "\n",
       "#sk-container-id-16 div.sk-parallel-item {\n",
       "  display: flex;\n",
       "  flex-direction: column;\n",
       "}\n",
       "\n",
       "#sk-container-id-16 div.sk-parallel-item:first-child::after {\n",
       "  align-self: flex-end;\n",
       "  width: 50%;\n",
       "}\n",
       "\n",
       "#sk-container-id-16 div.sk-parallel-item:last-child::after {\n",
       "  align-self: flex-start;\n",
       "  width: 50%;\n",
       "}\n",
       "\n",
       "#sk-container-id-16 div.sk-parallel-item:only-child::after {\n",
       "  width: 0;\n",
       "}\n",
       "\n",
       "/* Serial-specific style estimator block */\n",
       "\n",
       "#sk-container-id-16 div.sk-serial {\n",
       "  display: flex;\n",
       "  flex-direction: column;\n",
       "  align-items: center;\n",
       "  background-color: var(--sklearn-color-background);\n",
       "  padding-right: 1em;\n",
       "  padding-left: 1em;\n",
       "}\n",
       "\n",
       "\n",
       "/* Toggleable style: style used for estimator/Pipeline/ColumnTransformer box that is\n",
       "clickable and can be expanded/collapsed.\n",
       "- Pipeline and ColumnTransformer use this feature and define the default style\n",
       "- Estimators will overwrite some part of the style using the `sk-estimator` class\n",
       "*/\n",
       "\n",
       "/* Pipeline and ColumnTransformer style (default) */\n",
       "\n",
       "#sk-container-id-16 div.sk-toggleable {\n",
       "  /* Default theme specific background. It is overwritten whether we have a\n",
       "  specific estimator or a Pipeline/ColumnTransformer */\n",
       "  background-color: var(--sklearn-color-background);\n",
       "}\n",
       "\n",
       "/* Toggleable label */\n",
       "#sk-container-id-16 label.sk-toggleable__label {\n",
       "  cursor: pointer;\n",
       "  display: block;\n",
       "  width: 100%;\n",
       "  margin-bottom: 0;\n",
       "  padding: 0.5em;\n",
       "  box-sizing: border-box;\n",
       "  text-align: center;\n",
       "}\n",
       "\n",
       "#sk-container-id-16 label.sk-toggleable__label-arrow:before {\n",
       "  /* Arrow on the left of the label */\n",
       "  content: \"▸\";\n",
       "  float: left;\n",
       "  margin-right: 0.25em;\n",
       "  color: var(--sklearn-color-icon);\n",
       "}\n",
       "\n",
       "#sk-container-id-16 label.sk-toggleable__label-arrow:hover:before {\n",
       "  color: var(--sklearn-color-text);\n",
       "}\n",
       "\n",
       "/* Toggleable content - dropdown */\n",
       "\n",
       "#sk-container-id-16 div.sk-toggleable__content {\n",
       "  max-height: 0;\n",
       "  max-width: 0;\n",
       "  overflow: hidden;\n",
       "  text-align: left;\n",
       "  /* unfitted */\n",
       "  background-color: var(--sklearn-color-unfitted-level-0);\n",
       "}\n",
       "\n",
       "#sk-container-id-16 div.sk-toggleable__content.fitted {\n",
       "  /* fitted */\n",
       "  background-color: var(--sklearn-color-fitted-level-0);\n",
       "}\n",
       "\n",
       "#sk-container-id-16 div.sk-toggleable__content pre {\n",
       "  margin: 0.2em;\n",
       "  border-radius: 0.25em;\n",
       "  color: var(--sklearn-color-text);\n",
       "  /* unfitted */\n",
       "  background-color: var(--sklearn-color-unfitted-level-0);\n",
       "}\n",
       "\n",
       "#sk-container-id-16 div.sk-toggleable__content.fitted pre {\n",
       "  /* unfitted */\n",
       "  background-color: var(--sklearn-color-fitted-level-0);\n",
       "}\n",
       "\n",
       "#sk-container-id-16 input.sk-toggleable__control:checked~div.sk-toggleable__content {\n",
       "  /* Expand drop-down */\n",
       "  max-height: 200px;\n",
       "  max-width: 100%;\n",
       "  overflow: auto;\n",
       "}\n",
       "\n",
       "#sk-container-id-16 input.sk-toggleable__control:checked~label.sk-toggleable__label-arrow:before {\n",
       "  content: \"▾\";\n",
       "}\n",
       "\n",
       "/* Pipeline/ColumnTransformer-specific style */\n",
       "\n",
       "#sk-container-id-16 div.sk-label input.sk-toggleable__control:checked~label.sk-toggleable__label {\n",
       "  color: var(--sklearn-color-text);\n",
       "  background-color: var(--sklearn-color-unfitted-level-2);\n",
       "}\n",
       "\n",
       "#sk-container-id-16 div.sk-label.fitted input.sk-toggleable__control:checked~label.sk-toggleable__label {\n",
       "  background-color: var(--sklearn-color-fitted-level-2);\n",
       "}\n",
       "\n",
       "/* Estimator-specific style */\n",
       "\n",
       "/* Colorize estimator box */\n",
       "#sk-container-id-16 div.sk-estimator input.sk-toggleable__control:checked~label.sk-toggleable__label {\n",
       "  /* unfitted */\n",
       "  background-color: var(--sklearn-color-unfitted-level-2);\n",
       "}\n",
       "\n",
       "#sk-container-id-16 div.sk-estimator.fitted input.sk-toggleable__control:checked~label.sk-toggleable__label {\n",
       "  /* fitted */\n",
       "  background-color: var(--sklearn-color-fitted-level-2);\n",
       "}\n",
       "\n",
       "#sk-container-id-16 div.sk-label label.sk-toggleable__label,\n",
       "#sk-container-id-16 div.sk-label label {\n",
       "  /* The background is the default theme color */\n",
       "  color: var(--sklearn-color-text-on-default-background);\n",
       "}\n",
       "\n",
       "/* On hover, darken the color of the background */\n",
       "#sk-container-id-16 div.sk-label:hover label.sk-toggleable__label {\n",
       "  color: var(--sklearn-color-text);\n",
       "  background-color: var(--sklearn-color-unfitted-level-2);\n",
       "}\n",
       "\n",
       "/* Label box, darken color on hover, fitted */\n",
       "#sk-container-id-16 div.sk-label.fitted:hover label.sk-toggleable__label.fitted {\n",
       "  color: var(--sklearn-color-text);\n",
       "  background-color: var(--sklearn-color-fitted-level-2);\n",
       "}\n",
       "\n",
       "/* Estimator label */\n",
       "\n",
       "#sk-container-id-16 div.sk-label label {\n",
       "  font-family: monospace;\n",
       "  font-weight: bold;\n",
       "  display: inline-block;\n",
       "  line-height: 1.2em;\n",
       "}\n",
       "\n",
       "#sk-container-id-16 div.sk-label-container {\n",
       "  text-align: center;\n",
       "}\n",
       "\n",
       "/* Estimator-specific */\n",
       "#sk-container-id-16 div.sk-estimator {\n",
       "  font-family: monospace;\n",
       "  border: 1px dotted var(--sklearn-color-border-box);\n",
       "  border-radius: 0.25em;\n",
       "  box-sizing: border-box;\n",
       "  margin-bottom: 0.5em;\n",
       "  /* unfitted */\n",
       "  background-color: var(--sklearn-color-unfitted-level-0);\n",
       "}\n",
       "\n",
       "#sk-container-id-16 div.sk-estimator.fitted {\n",
       "  /* fitted */\n",
       "  background-color: var(--sklearn-color-fitted-level-0);\n",
       "}\n",
       "\n",
       "/* on hover */\n",
       "#sk-container-id-16 div.sk-estimator:hover {\n",
       "  /* unfitted */\n",
       "  background-color: var(--sklearn-color-unfitted-level-2);\n",
       "}\n",
       "\n",
       "#sk-container-id-16 div.sk-estimator.fitted:hover {\n",
       "  /* fitted */\n",
       "  background-color: var(--sklearn-color-fitted-level-2);\n",
       "}\n",
       "\n",
       "/* Specification for estimator info (e.g. \"i\" and \"?\") */\n",
       "\n",
       "/* Common style for \"i\" and \"?\" */\n",
       "\n",
       ".sk-estimator-doc-link,\n",
       "a:link.sk-estimator-doc-link,\n",
       "a:visited.sk-estimator-doc-link {\n",
       "  float: right;\n",
       "  font-size: smaller;\n",
       "  line-height: 1em;\n",
       "  font-family: monospace;\n",
       "  background-color: var(--sklearn-color-background);\n",
       "  border-radius: 1em;\n",
       "  height: 1em;\n",
       "  width: 1em;\n",
       "  text-decoration: none !important;\n",
       "  margin-left: 1ex;\n",
       "  /* unfitted */\n",
       "  border: var(--sklearn-color-unfitted-level-1) 1pt solid;\n",
       "  color: var(--sklearn-color-unfitted-level-1);\n",
       "}\n",
       "\n",
       ".sk-estimator-doc-link.fitted,\n",
       "a:link.sk-estimator-doc-link.fitted,\n",
       "a:visited.sk-estimator-doc-link.fitted {\n",
       "  /* fitted */\n",
       "  border: var(--sklearn-color-fitted-level-1) 1pt solid;\n",
       "  color: var(--sklearn-color-fitted-level-1);\n",
       "}\n",
       "\n",
       "/* On hover */\n",
       "div.sk-estimator:hover .sk-estimator-doc-link:hover,\n",
       ".sk-estimator-doc-link:hover,\n",
       "div.sk-label-container:hover .sk-estimator-doc-link:hover,\n",
       ".sk-estimator-doc-link:hover {\n",
       "  /* unfitted */\n",
       "  background-color: var(--sklearn-color-unfitted-level-3);\n",
       "  color: var(--sklearn-color-background);\n",
       "  text-decoration: none;\n",
       "}\n",
       "\n",
       "div.sk-estimator.fitted:hover .sk-estimator-doc-link.fitted:hover,\n",
       ".sk-estimator-doc-link.fitted:hover,\n",
       "div.sk-label-container:hover .sk-estimator-doc-link.fitted:hover,\n",
       ".sk-estimator-doc-link.fitted:hover {\n",
       "  /* fitted */\n",
       "  background-color: var(--sklearn-color-fitted-level-3);\n",
       "  color: var(--sklearn-color-background);\n",
       "  text-decoration: none;\n",
       "}\n",
       "\n",
       "/* Span, style for the box shown on hovering the info icon */\n",
       ".sk-estimator-doc-link span {\n",
       "  display: none;\n",
       "  z-index: 9999;\n",
       "  position: relative;\n",
       "  font-weight: normal;\n",
       "  right: .2ex;\n",
       "  padding: .5ex;\n",
       "  margin: .5ex;\n",
       "  width: min-content;\n",
       "  min-width: 20ex;\n",
       "  max-width: 50ex;\n",
       "  color: var(--sklearn-color-text);\n",
       "  box-shadow: 2pt 2pt 4pt #999;\n",
       "  /* unfitted */\n",
       "  background: var(--sklearn-color-unfitted-level-0);\n",
       "  border: .5pt solid var(--sklearn-color-unfitted-level-3);\n",
       "}\n",
       "\n",
       ".sk-estimator-doc-link.fitted span {\n",
       "  /* fitted */\n",
       "  background: var(--sklearn-color-fitted-level-0);\n",
       "  border: var(--sklearn-color-fitted-level-3);\n",
       "}\n",
       "\n",
       ".sk-estimator-doc-link:hover span {\n",
       "  display: block;\n",
       "}\n",
       "\n",
       "/* \"?\"-specific style due to the `<a>` HTML tag */\n",
       "\n",
       "#sk-container-id-16 a.estimator_doc_link {\n",
       "  float: right;\n",
       "  font-size: 1rem;\n",
       "  line-height: 1em;\n",
       "  font-family: monospace;\n",
       "  background-color: var(--sklearn-color-background);\n",
       "  border-radius: 1rem;\n",
       "  height: 1rem;\n",
       "  width: 1rem;\n",
       "  text-decoration: none;\n",
       "  /* unfitted */\n",
       "  color: var(--sklearn-color-unfitted-level-1);\n",
       "  border: var(--sklearn-color-unfitted-level-1) 1pt solid;\n",
       "}\n",
       "\n",
       "#sk-container-id-16 a.estimator_doc_link.fitted {\n",
       "  /* fitted */\n",
       "  border: var(--sklearn-color-fitted-level-1) 1pt solid;\n",
       "  color: var(--sklearn-color-fitted-level-1);\n",
       "}\n",
       "\n",
       "/* On hover */\n",
       "#sk-container-id-16 a.estimator_doc_link:hover {\n",
       "  /* unfitted */\n",
       "  background-color: var(--sklearn-color-unfitted-level-3);\n",
       "  color: var(--sklearn-color-background);\n",
       "  text-decoration: none;\n",
       "}\n",
       "\n",
       "#sk-container-id-16 a.estimator_doc_link.fitted:hover {\n",
       "  /* fitted */\n",
       "  background-color: var(--sklearn-color-fitted-level-3);\n",
       "}\n",
       "</style><div id=\"sk-container-id-16\" class=\"sk-top-container\"><div class=\"sk-text-repr-fallback\"><pre>DecisionTreeClassifier(criterion=&#x27;entropy&#x27;, random_state=0)</pre><b>In a Jupyter environment, please rerun this cell to show the HTML representation or trust the notebook. <br />On GitHub, the HTML representation is unable to render, please try loading this page with nbviewer.org.</b></div><div class=\"sk-container\" hidden><div class=\"sk-item\"><div class=\"sk-estimator fitted sk-toggleable\"><input class=\"sk-toggleable__control sk-hidden--visually\" id=\"sk-estimator-id-36\" type=\"checkbox\" checked><label for=\"sk-estimator-id-36\" class=\"sk-toggleable__label fitted sk-toggleable__label-arrow fitted\">&nbsp;&nbsp;DecisionTreeClassifier<a class=\"sk-estimator-doc-link fitted\" rel=\"noreferrer\" target=\"_blank\" href=\"https://scikit-learn.org/1.5/modules/generated/sklearn.tree.DecisionTreeClassifier.html\">?<span>Documentation for DecisionTreeClassifier</span></a><span class=\"sk-estimator-doc-link fitted\">i<span>Fitted</span></span></label><div class=\"sk-toggleable__content fitted\"><pre>DecisionTreeClassifier(criterion=&#x27;entropy&#x27;, random_state=0)</pre></div> </div></div></div></div>"
      ],
      "text/plain": [
       "DecisionTreeClassifier(criterion='entropy', random_state=0)"
      ]
     },
     "execution_count": 85,
     "metadata": {},
     "output_type": "execute_result"
    }
   ],
   "source": [
    "# your_code\n",
    "clf_tree = DecisionTreeClassifier(criterion=\"entropy\", random_state=0)\n",
    "clf_tree.fit(X_train_res, y_train_res)"
   ]
  },
  {
   "cell_type": "code",
   "execution_count": 113,
   "metadata": {},
   "outputs": [
    {
     "data": {
      "image/png": "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",
      "text/plain": [
       "<Figure size 640x480 with 1 Axes>"
      ]
     },
     "metadata": {},
     "output_type": "display_data"
    }
   ],
   "source": [
    "features_tree = np.argsort(clf_tree.feature_importances_)[-5:]\n",
    "\n",
    "plt.barh(np.array(feature_names)[features_tree], clf_tree.feature_importances_[features_tree])\n",
    "plt.xlabel(\"Feature importance\")\n",
    "plt.title(\"Decision tree\")\n",
    "plt.show()"
   ]
  },
  {
   "cell_type": "code",
   "execution_count": 114,
   "metadata": {},
   "outputs": [
    {
     "data": {
      "text/html": [
       "<style>#sk-container-id-17 {\n",
       "  /* Definition of color scheme common for light and dark mode */\n",
       "  --sklearn-color-text: black;\n",
       "  --sklearn-color-line: gray;\n",
       "  /* Definition of color scheme for unfitted estimators */\n",
       "  --sklearn-color-unfitted-level-0: #fff5e6;\n",
       "  --sklearn-color-unfitted-level-1: #f6e4d2;\n",
       "  --sklearn-color-unfitted-level-2: #ffe0b3;\n",
       "  --sklearn-color-unfitted-level-3: chocolate;\n",
       "  /* Definition of color scheme for fitted estimators */\n",
       "  --sklearn-color-fitted-level-0: #f0f8ff;\n",
       "  --sklearn-color-fitted-level-1: #d4ebff;\n",
       "  --sklearn-color-fitted-level-2: #b3dbfd;\n",
       "  --sklearn-color-fitted-level-3: cornflowerblue;\n",
       "\n",
       "  /* Specific color for light theme */\n",
       "  --sklearn-color-text-on-default-background: var(--sg-text-color, var(--theme-code-foreground, var(--jp-content-font-color1, black)));\n",
       "  --sklearn-color-background: var(--sg-background-color, var(--theme-background, var(--jp-layout-color0, white)));\n",
       "  --sklearn-color-border-box: var(--sg-text-color, var(--theme-code-foreground, var(--jp-content-font-color1, black)));\n",
       "  --sklearn-color-icon: #696969;\n",
       "\n",
       "  @media (prefers-color-scheme: dark) {\n",
       "    /* Redefinition of color scheme for dark theme */\n",
       "    --sklearn-color-text-on-default-background: var(--sg-text-color, var(--theme-code-foreground, var(--jp-content-font-color1, white)));\n",
       "    --sklearn-color-background: var(--sg-background-color, var(--theme-background, var(--jp-layout-color0, #111)));\n",
       "    --sklearn-color-border-box: var(--sg-text-color, var(--theme-code-foreground, var(--jp-content-font-color1, white)));\n",
       "    --sklearn-color-icon: #878787;\n",
       "  }\n",
       "}\n",
       "\n",
       "#sk-container-id-17 {\n",
       "  color: var(--sklearn-color-text);\n",
       "}\n",
       "\n",
       "#sk-container-id-17 pre {\n",
       "  padding: 0;\n",
       "}\n",
       "\n",
       "#sk-container-id-17 input.sk-hidden--visually {\n",
       "  border: 0;\n",
       "  clip: rect(1px 1px 1px 1px);\n",
       "  clip: rect(1px, 1px, 1px, 1px);\n",
       "  height: 1px;\n",
       "  margin: -1px;\n",
       "  overflow: hidden;\n",
       "  padding: 0;\n",
       "  position: absolute;\n",
       "  width: 1px;\n",
       "}\n",
       "\n",
       "#sk-container-id-17 div.sk-dashed-wrapped {\n",
       "  border: 1px dashed var(--sklearn-color-line);\n",
       "  margin: 0 0.4em 0.5em 0.4em;\n",
       "  box-sizing: border-box;\n",
       "  padding-bottom: 0.4em;\n",
       "  background-color: var(--sklearn-color-background);\n",
       "}\n",
       "\n",
       "#sk-container-id-17 div.sk-container {\n",
       "  /* jupyter's `normalize.less` sets `[hidden] { display: none; }`\n",
       "     but bootstrap.min.css set `[hidden] { display: none !important; }`\n",
       "     so we also need the `!important` here to be able to override the\n",
       "     default hidden behavior on the sphinx rendered scikit-learn.org.\n",
       "     See: https://github.com/scikit-learn/scikit-learn/issues/21755 */\n",
       "  display: inline-block !important;\n",
       "  position: relative;\n",
       "}\n",
       "\n",
       "#sk-container-id-17 div.sk-text-repr-fallback {\n",
       "  display: none;\n",
       "}\n",
       "\n",
       "div.sk-parallel-item,\n",
       "div.sk-serial,\n",
       "div.sk-item {\n",
       "  /* draw centered vertical line to link estimators */\n",
       "  background-image: linear-gradient(var(--sklearn-color-text-on-default-background), var(--sklearn-color-text-on-default-background));\n",
       "  background-size: 2px 100%;\n",
       "  background-repeat: no-repeat;\n",
       "  background-position: center center;\n",
       "}\n",
       "\n",
       "/* Parallel-specific style estimator block */\n",
       "\n",
       "#sk-container-id-17 div.sk-parallel-item::after {\n",
       "  content: \"\";\n",
       "  width: 100%;\n",
       "  border-bottom: 2px solid var(--sklearn-color-text-on-default-background);\n",
       "  flex-grow: 1;\n",
       "}\n",
       "\n",
       "#sk-container-id-17 div.sk-parallel {\n",
       "  display: flex;\n",
       "  align-items: stretch;\n",
       "  justify-content: center;\n",
       "  background-color: var(--sklearn-color-background);\n",
       "  position: relative;\n",
       "}\n",
       "\n",
       "#sk-container-id-17 div.sk-parallel-item {\n",
       "  display: flex;\n",
       "  flex-direction: column;\n",
       "}\n",
       "\n",
       "#sk-container-id-17 div.sk-parallel-item:first-child::after {\n",
       "  align-self: flex-end;\n",
       "  width: 50%;\n",
       "}\n",
       "\n",
       "#sk-container-id-17 div.sk-parallel-item:last-child::after {\n",
       "  align-self: flex-start;\n",
       "  width: 50%;\n",
       "}\n",
       "\n",
       "#sk-container-id-17 div.sk-parallel-item:only-child::after {\n",
       "  width: 0;\n",
       "}\n",
       "\n",
       "/* Serial-specific style estimator block */\n",
       "\n",
       "#sk-container-id-17 div.sk-serial {\n",
       "  display: flex;\n",
       "  flex-direction: column;\n",
       "  align-items: center;\n",
       "  background-color: var(--sklearn-color-background);\n",
       "  padding-right: 1em;\n",
       "  padding-left: 1em;\n",
       "}\n",
       "\n",
       "\n",
       "/* Toggleable style: style used for estimator/Pipeline/ColumnTransformer box that is\n",
       "clickable and can be expanded/collapsed.\n",
       "- Pipeline and ColumnTransformer use this feature and define the default style\n",
       "- Estimators will overwrite some part of the style using the `sk-estimator` class\n",
       "*/\n",
       "\n",
       "/* Pipeline and ColumnTransformer style (default) */\n",
       "\n",
       "#sk-container-id-17 div.sk-toggleable {\n",
       "  /* Default theme specific background. It is overwritten whether we have a\n",
       "  specific estimator or a Pipeline/ColumnTransformer */\n",
       "  background-color: var(--sklearn-color-background);\n",
       "}\n",
       "\n",
       "/* Toggleable label */\n",
       "#sk-container-id-17 label.sk-toggleable__label {\n",
       "  cursor: pointer;\n",
       "  display: block;\n",
       "  width: 100%;\n",
       "  margin-bottom: 0;\n",
       "  padding: 0.5em;\n",
       "  box-sizing: border-box;\n",
       "  text-align: center;\n",
       "}\n",
       "\n",
       "#sk-container-id-17 label.sk-toggleable__label-arrow:before {\n",
       "  /* Arrow on the left of the label */\n",
       "  content: \"▸\";\n",
       "  float: left;\n",
       "  margin-right: 0.25em;\n",
       "  color: var(--sklearn-color-icon);\n",
       "}\n",
       "\n",
       "#sk-container-id-17 label.sk-toggleable__label-arrow:hover:before {\n",
       "  color: var(--sklearn-color-text);\n",
       "}\n",
       "\n",
       "/* Toggleable content - dropdown */\n",
       "\n",
       "#sk-container-id-17 div.sk-toggleable__content {\n",
       "  max-height: 0;\n",
       "  max-width: 0;\n",
       "  overflow: hidden;\n",
       "  text-align: left;\n",
       "  /* unfitted */\n",
       "  background-color: var(--sklearn-color-unfitted-level-0);\n",
       "}\n",
       "\n",
       "#sk-container-id-17 div.sk-toggleable__content.fitted {\n",
       "  /* fitted */\n",
       "  background-color: var(--sklearn-color-fitted-level-0);\n",
       "}\n",
       "\n",
       "#sk-container-id-17 div.sk-toggleable__content pre {\n",
       "  margin: 0.2em;\n",
       "  border-radius: 0.25em;\n",
       "  color: var(--sklearn-color-text);\n",
       "  /* unfitted */\n",
       "  background-color: var(--sklearn-color-unfitted-level-0);\n",
       "}\n",
       "\n",
       "#sk-container-id-17 div.sk-toggleable__content.fitted pre {\n",
       "  /* unfitted */\n",
       "  background-color: var(--sklearn-color-fitted-level-0);\n",
       "}\n",
       "\n",
       "#sk-container-id-17 input.sk-toggleable__control:checked~div.sk-toggleable__content {\n",
       "  /* Expand drop-down */\n",
       "  max-height: 200px;\n",
       "  max-width: 100%;\n",
       "  overflow: auto;\n",
       "}\n",
       "\n",
       "#sk-container-id-17 input.sk-toggleable__control:checked~label.sk-toggleable__label-arrow:before {\n",
       "  content: \"▾\";\n",
       "}\n",
       "\n",
       "/* Pipeline/ColumnTransformer-specific style */\n",
       "\n",
       "#sk-container-id-17 div.sk-label input.sk-toggleable__control:checked~label.sk-toggleable__label {\n",
       "  color: var(--sklearn-color-text);\n",
       "  background-color: var(--sklearn-color-unfitted-level-2);\n",
       "}\n",
       "\n",
       "#sk-container-id-17 div.sk-label.fitted input.sk-toggleable__control:checked~label.sk-toggleable__label {\n",
       "  background-color: var(--sklearn-color-fitted-level-2);\n",
       "}\n",
       "\n",
       "/* Estimator-specific style */\n",
       "\n",
       "/* Colorize estimator box */\n",
       "#sk-container-id-17 div.sk-estimator input.sk-toggleable__control:checked~label.sk-toggleable__label {\n",
       "  /* unfitted */\n",
       "  background-color: var(--sklearn-color-unfitted-level-2);\n",
       "}\n",
       "\n",
       "#sk-container-id-17 div.sk-estimator.fitted input.sk-toggleable__control:checked~label.sk-toggleable__label {\n",
       "  /* fitted */\n",
       "  background-color: var(--sklearn-color-fitted-level-2);\n",
       "}\n",
       "\n",
       "#sk-container-id-17 div.sk-label label.sk-toggleable__label,\n",
       "#sk-container-id-17 div.sk-label label {\n",
       "  /* The background is the default theme color */\n",
       "  color: var(--sklearn-color-text-on-default-background);\n",
       "}\n",
       "\n",
       "/* On hover, darken the color of the background */\n",
       "#sk-container-id-17 div.sk-label:hover label.sk-toggleable__label {\n",
       "  color: var(--sklearn-color-text);\n",
       "  background-color: var(--sklearn-color-unfitted-level-2);\n",
       "}\n",
       "\n",
       "/* Label box, darken color on hover, fitted */\n",
       "#sk-container-id-17 div.sk-label.fitted:hover label.sk-toggleable__label.fitted {\n",
       "  color: var(--sklearn-color-text);\n",
       "  background-color: var(--sklearn-color-fitted-level-2);\n",
       "}\n",
       "\n",
       "/* Estimator label */\n",
       "\n",
       "#sk-container-id-17 div.sk-label label {\n",
       "  font-family: monospace;\n",
       "  font-weight: bold;\n",
       "  display: inline-block;\n",
       "  line-height: 1.2em;\n",
       "}\n",
       "\n",
       "#sk-container-id-17 div.sk-label-container {\n",
       "  text-align: center;\n",
       "}\n",
       "\n",
       "/* Estimator-specific */\n",
       "#sk-container-id-17 div.sk-estimator {\n",
       "  font-family: monospace;\n",
       "  border: 1px dotted var(--sklearn-color-border-box);\n",
       "  border-radius: 0.25em;\n",
       "  box-sizing: border-box;\n",
       "  margin-bottom: 0.5em;\n",
       "  /* unfitted */\n",
       "  background-color: var(--sklearn-color-unfitted-level-0);\n",
       "}\n",
       "\n",
       "#sk-container-id-17 div.sk-estimator.fitted {\n",
       "  /* fitted */\n",
       "  background-color: var(--sklearn-color-fitted-level-0);\n",
       "}\n",
       "\n",
       "/* on hover */\n",
       "#sk-container-id-17 div.sk-estimator:hover {\n",
       "  /* unfitted */\n",
       "  background-color: var(--sklearn-color-unfitted-level-2);\n",
       "}\n",
       "\n",
       "#sk-container-id-17 div.sk-estimator.fitted:hover {\n",
       "  /* fitted */\n",
       "  background-color: var(--sklearn-color-fitted-level-2);\n",
       "}\n",
       "\n",
       "/* Specification for estimator info (e.g. \"i\" and \"?\") */\n",
       "\n",
       "/* Common style for \"i\" and \"?\" */\n",
       "\n",
       ".sk-estimator-doc-link,\n",
       "a:link.sk-estimator-doc-link,\n",
       "a:visited.sk-estimator-doc-link {\n",
       "  float: right;\n",
       "  font-size: smaller;\n",
       "  line-height: 1em;\n",
       "  font-family: monospace;\n",
       "  background-color: var(--sklearn-color-background);\n",
       "  border-radius: 1em;\n",
       "  height: 1em;\n",
       "  width: 1em;\n",
       "  text-decoration: none !important;\n",
       "  margin-left: 1ex;\n",
       "  /* unfitted */\n",
       "  border: var(--sklearn-color-unfitted-level-1) 1pt solid;\n",
       "  color: var(--sklearn-color-unfitted-level-1);\n",
       "}\n",
       "\n",
       ".sk-estimator-doc-link.fitted,\n",
       "a:link.sk-estimator-doc-link.fitted,\n",
       "a:visited.sk-estimator-doc-link.fitted {\n",
       "  /* fitted */\n",
       "  border: var(--sklearn-color-fitted-level-1) 1pt solid;\n",
       "  color: var(--sklearn-color-fitted-level-1);\n",
       "}\n",
       "\n",
       "/* On hover */\n",
       "div.sk-estimator:hover .sk-estimator-doc-link:hover,\n",
       ".sk-estimator-doc-link:hover,\n",
       "div.sk-label-container:hover .sk-estimator-doc-link:hover,\n",
       ".sk-estimator-doc-link:hover {\n",
       "  /* unfitted */\n",
       "  background-color: var(--sklearn-color-unfitted-level-3);\n",
       "  color: var(--sklearn-color-background);\n",
       "  text-decoration: none;\n",
       "}\n",
       "\n",
       "div.sk-estimator.fitted:hover .sk-estimator-doc-link.fitted:hover,\n",
       ".sk-estimator-doc-link.fitted:hover,\n",
       "div.sk-label-container:hover .sk-estimator-doc-link.fitted:hover,\n",
       ".sk-estimator-doc-link.fitted:hover {\n",
       "  /* fitted */\n",
       "  background-color: var(--sklearn-color-fitted-level-3);\n",
       "  color: var(--sklearn-color-background);\n",
       "  text-decoration: none;\n",
       "}\n",
       "\n",
       "/* Span, style for the box shown on hovering the info icon */\n",
       ".sk-estimator-doc-link span {\n",
       "  display: none;\n",
       "  z-index: 9999;\n",
       "  position: relative;\n",
       "  font-weight: normal;\n",
       "  right: .2ex;\n",
       "  padding: .5ex;\n",
       "  margin: .5ex;\n",
       "  width: min-content;\n",
       "  min-width: 20ex;\n",
       "  max-width: 50ex;\n",
       "  color: var(--sklearn-color-text);\n",
       "  box-shadow: 2pt 2pt 4pt #999;\n",
       "  /* unfitted */\n",
       "  background: var(--sklearn-color-unfitted-level-0);\n",
       "  border: .5pt solid var(--sklearn-color-unfitted-level-3);\n",
       "}\n",
       "\n",
       ".sk-estimator-doc-link.fitted span {\n",
       "  /* fitted */\n",
       "  background: var(--sklearn-color-fitted-level-0);\n",
       "  border: var(--sklearn-color-fitted-level-3);\n",
       "}\n",
       "\n",
       ".sk-estimator-doc-link:hover span {\n",
       "  display: block;\n",
       "}\n",
       "\n",
       "/* \"?\"-specific style due to the `<a>` HTML tag */\n",
       "\n",
       "#sk-container-id-17 a.estimator_doc_link {\n",
       "  float: right;\n",
       "  font-size: 1rem;\n",
       "  line-height: 1em;\n",
       "  font-family: monospace;\n",
       "  background-color: var(--sklearn-color-background);\n",
       "  border-radius: 1rem;\n",
       "  height: 1rem;\n",
       "  width: 1rem;\n",
       "  text-decoration: none;\n",
       "  /* unfitted */\n",
       "  color: var(--sklearn-color-unfitted-level-1);\n",
       "  border: var(--sklearn-color-unfitted-level-1) 1pt solid;\n",
       "}\n",
       "\n",
       "#sk-container-id-17 a.estimator_doc_link.fitted {\n",
       "  /* fitted */\n",
       "  border: var(--sklearn-color-fitted-level-1) 1pt solid;\n",
       "  color: var(--sklearn-color-fitted-level-1);\n",
       "}\n",
       "\n",
       "/* On hover */\n",
       "#sk-container-id-17 a.estimator_doc_link:hover {\n",
       "  /* unfitted */\n",
       "  background-color: var(--sklearn-color-unfitted-level-3);\n",
       "  color: var(--sklearn-color-background);\n",
       "  text-decoration: none;\n",
       "}\n",
       "\n",
       "#sk-container-id-17 a.estimator_doc_link.fitted:hover {\n",
       "  /* fitted */\n",
       "  background-color: var(--sklearn-color-fitted-level-3);\n",
       "}\n",
       "</style><div id=\"sk-container-id-17\" class=\"sk-top-container\"><div class=\"sk-text-repr-fallback\"><pre>RandomForestClassifier(criterion=&#x27;entropy&#x27;, n_estimators=500, n_jobs=-1,\n",
       "                       random_state=0)</pre><b>In a Jupyter environment, please rerun this cell to show the HTML representation or trust the notebook. <br />On GitHub, the HTML representation is unable to render, please try loading this page with nbviewer.org.</b></div><div class=\"sk-container\" hidden><div class=\"sk-item\"><div class=\"sk-estimator fitted sk-toggleable\"><input class=\"sk-toggleable__control sk-hidden--visually\" id=\"sk-estimator-id-37\" type=\"checkbox\" checked><label for=\"sk-estimator-id-37\" class=\"sk-toggleable__label fitted sk-toggleable__label-arrow fitted\">&nbsp;&nbsp;RandomForestClassifier<a class=\"sk-estimator-doc-link fitted\" rel=\"noreferrer\" target=\"_blank\" href=\"https://scikit-learn.org/1.5/modules/generated/sklearn.ensemble.RandomForestClassifier.html\">?<span>Documentation for RandomForestClassifier</span></a><span class=\"sk-estimator-doc-link fitted\">i<span>Fitted</span></span></label><div class=\"sk-toggleable__content fitted\"><pre>RandomForestClassifier(criterion=&#x27;entropy&#x27;, n_estimators=500, n_jobs=-1,\n",
       "                       random_state=0)</pre></div> </div></div></div></div>"
      ],
      "text/plain": [
       "RandomForestClassifier(criterion='entropy', n_estimators=500, n_jobs=-1,\n",
       "                       random_state=0)"
      ]
     },
     "execution_count": 114,
     "metadata": {},
     "output_type": "execute_result"
    }
   ],
   "source": [
    "clf_forest = RandomForestClassifier(n_estimators=500, criterion=\"entropy\", random_state=0, n_jobs=-1)\n",
    "clf_forest.fit(X_train_res, y_train_res)"
   ]
  },
  {
   "cell_type": "code",
   "execution_count": 116,
   "metadata": {},
   "outputs": [
    {
     "data": {
      "image/png": "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",
      "text/plain": [
       "<Figure size 640x480 with 1 Axes>"
      ]
     },
     "metadata": {},
     "output_type": "display_data"
    }
   ],
   "source": [
    "features_forest = np.argsort(clf_forest.feature_importances_)[-5:]\n",
    "\n",
    "plt.barh(np.array(feature_names)[features_forest], clf_forest.feature_importances_[features_forest])\n",
    "plt.xlabel(\"Feature importance\")\n",
    "plt.title(\"Random forest\")\n",
    "plt.show()"
   ]
  },
  {
   "cell_type": "code",
   "execution_count": 120,
   "metadata": {},
   "outputs": [
    {
     "data": {
      "text/html": [
       "<style>#sk-container-id-21 {\n",
       "  /* Definition of color scheme common for light and dark mode */\n",
       "  --sklearn-color-text: black;\n",
       "  --sklearn-color-line: gray;\n",
       "  /* Definition of color scheme for unfitted estimators */\n",
       "  --sklearn-color-unfitted-level-0: #fff5e6;\n",
       "  --sklearn-color-unfitted-level-1: #f6e4d2;\n",
       "  --sklearn-color-unfitted-level-2: #ffe0b3;\n",
       "  --sklearn-color-unfitted-level-3: chocolate;\n",
       "  /* Definition of color scheme for fitted estimators */\n",
       "  --sklearn-color-fitted-level-0: #f0f8ff;\n",
       "  --sklearn-color-fitted-level-1: #d4ebff;\n",
       "  --sklearn-color-fitted-level-2: #b3dbfd;\n",
       "  --sklearn-color-fitted-level-3: cornflowerblue;\n",
       "\n",
       "  /* Specific color for light theme */\n",
       "  --sklearn-color-text-on-default-background: var(--sg-text-color, var(--theme-code-foreground, var(--jp-content-font-color1, black)));\n",
       "  --sklearn-color-background: var(--sg-background-color, var(--theme-background, var(--jp-layout-color0, white)));\n",
       "  --sklearn-color-border-box: var(--sg-text-color, var(--theme-code-foreground, var(--jp-content-font-color1, black)));\n",
       "  --sklearn-color-icon: #696969;\n",
       "\n",
       "  @media (prefers-color-scheme: dark) {\n",
       "    /* Redefinition of color scheme for dark theme */\n",
       "    --sklearn-color-text-on-default-background: var(--sg-text-color, var(--theme-code-foreground, var(--jp-content-font-color1, white)));\n",
       "    --sklearn-color-background: var(--sg-background-color, var(--theme-background, var(--jp-layout-color0, #111)));\n",
       "    --sklearn-color-border-box: var(--sg-text-color, var(--theme-code-foreground, var(--jp-content-font-color1, white)));\n",
       "    --sklearn-color-icon: #878787;\n",
       "  }\n",
       "}\n",
       "\n",
       "#sk-container-id-21 {\n",
       "  color: var(--sklearn-color-text);\n",
       "}\n",
       "\n",
       "#sk-container-id-21 pre {\n",
       "  padding: 0;\n",
       "}\n",
       "\n",
       "#sk-container-id-21 input.sk-hidden--visually {\n",
       "  border: 0;\n",
       "  clip: rect(1px 1px 1px 1px);\n",
       "  clip: rect(1px, 1px, 1px, 1px);\n",
       "  height: 1px;\n",
       "  margin: -1px;\n",
       "  overflow: hidden;\n",
       "  padding: 0;\n",
       "  position: absolute;\n",
       "  width: 1px;\n",
       "}\n",
       "\n",
       "#sk-container-id-21 div.sk-dashed-wrapped {\n",
       "  border: 1px dashed var(--sklearn-color-line);\n",
       "  margin: 0 0.4em 0.5em 0.4em;\n",
       "  box-sizing: border-box;\n",
       "  padding-bottom: 0.4em;\n",
       "  background-color: var(--sklearn-color-background);\n",
       "}\n",
       "\n",
       "#sk-container-id-21 div.sk-container {\n",
       "  /* jupyter's `normalize.less` sets `[hidden] { display: none; }`\n",
       "     but bootstrap.min.css set `[hidden] { display: none !important; }`\n",
       "     so we also need the `!important` here to be able to override the\n",
       "     default hidden behavior on the sphinx rendered scikit-learn.org.\n",
       "     See: https://github.com/scikit-learn/scikit-learn/issues/21755 */\n",
       "  display: inline-block !important;\n",
       "  position: relative;\n",
       "}\n",
       "\n",
       "#sk-container-id-21 div.sk-text-repr-fallback {\n",
       "  display: none;\n",
       "}\n",
       "\n",
       "div.sk-parallel-item,\n",
       "div.sk-serial,\n",
       "div.sk-item {\n",
       "  /* draw centered vertical line to link estimators */\n",
       "  background-image: linear-gradient(var(--sklearn-color-text-on-default-background), var(--sklearn-color-text-on-default-background));\n",
       "  background-size: 2px 100%;\n",
       "  background-repeat: no-repeat;\n",
       "  background-position: center center;\n",
       "}\n",
       "\n",
       "/* Parallel-specific style estimator block */\n",
       "\n",
       "#sk-container-id-21 div.sk-parallel-item::after {\n",
       "  content: \"\";\n",
       "  width: 100%;\n",
       "  border-bottom: 2px solid var(--sklearn-color-text-on-default-background);\n",
       "  flex-grow: 1;\n",
       "}\n",
       "\n",
       "#sk-container-id-21 div.sk-parallel {\n",
       "  display: flex;\n",
       "  align-items: stretch;\n",
       "  justify-content: center;\n",
       "  background-color: var(--sklearn-color-background);\n",
       "  position: relative;\n",
       "}\n",
       "\n",
       "#sk-container-id-21 div.sk-parallel-item {\n",
       "  display: flex;\n",
       "  flex-direction: column;\n",
       "}\n",
       "\n",
       "#sk-container-id-21 div.sk-parallel-item:first-child::after {\n",
       "  align-self: flex-end;\n",
       "  width: 50%;\n",
       "}\n",
       "\n",
       "#sk-container-id-21 div.sk-parallel-item:last-child::after {\n",
       "  align-self: flex-start;\n",
       "  width: 50%;\n",
       "}\n",
       "\n",
       "#sk-container-id-21 div.sk-parallel-item:only-child::after {\n",
       "  width: 0;\n",
       "}\n",
       "\n",
       "/* Serial-specific style estimator block */\n",
       "\n",
       "#sk-container-id-21 div.sk-serial {\n",
       "  display: flex;\n",
       "  flex-direction: column;\n",
       "  align-items: center;\n",
       "  background-color: var(--sklearn-color-background);\n",
       "  padding-right: 1em;\n",
       "  padding-left: 1em;\n",
       "}\n",
       "\n",
       "\n",
       "/* Toggleable style: style used for estimator/Pipeline/ColumnTransformer box that is\n",
       "clickable and can be expanded/collapsed.\n",
       "- Pipeline and ColumnTransformer use this feature and define the default style\n",
       "- Estimators will overwrite some part of the style using the `sk-estimator` class\n",
       "*/\n",
       "\n",
       "/* Pipeline and ColumnTransformer style (default) */\n",
       "\n",
       "#sk-container-id-21 div.sk-toggleable {\n",
       "  /* Default theme specific background. It is overwritten whether we have a\n",
       "  specific estimator or a Pipeline/ColumnTransformer */\n",
       "  background-color: var(--sklearn-color-background);\n",
       "}\n",
       "\n",
       "/* Toggleable label */\n",
       "#sk-container-id-21 label.sk-toggleable__label {\n",
       "  cursor: pointer;\n",
       "  display: block;\n",
       "  width: 100%;\n",
       "  margin-bottom: 0;\n",
       "  padding: 0.5em;\n",
       "  box-sizing: border-box;\n",
       "  text-align: center;\n",
       "}\n",
       "\n",
       "#sk-container-id-21 label.sk-toggleable__label-arrow:before {\n",
       "  /* Arrow on the left of the label */\n",
       "  content: \"▸\";\n",
       "  float: left;\n",
       "  margin-right: 0.25em;\n",
       "  color: var(--sklearn-color-icon);\n",
       "}\n",
       "\n",
       "#sk-container-id-21 label.sk-toggleable__label-arrow:hover:before {\n",
       "  color: var(--sklearn-color-text);\n",
       "}\n",
       "\n",
       "/* Toggleable content - dropdown */\n",
       "\n",
       "#sk-container-id-21 div.sk-toggleable__content {\n",
       "  max-height: 0;\n",
       "  max-width: 0;\n",
       "  overflow: hidden;\n",
       "  text-align: left;\n",
       "  /* unfitted */\n",
       "  background-color: var(--sklearn-color-unfitted-level-0);\n",
       "}\n",
       "\n",
       "#sk-container-id-21 div.sk-toggleable__content.fitted {\n",
       "  /* fitted */\n",
       "  background-color: var(--sklearn-color-fitted-level-0);\n",
       "}\n",
       "\n",
       "#sk-container-id-21 div.sk-toggleable__content pre {\n",
       "  margin: 0.2em;\n",
       "  border-radius: 0.25em;\n",
       "  color: var(--sklearn-color-text);\n",
       "  /* unfitted */\n",
       "  background-color: var(--sklearn-color-unfitted-level-0);\n",
       "}\n",
       "\n",
       "#sk-container-id-21 div.sk-toggleable__content.fitted pre {\n",
       "  /* unfitted */\n",
       "  background-color: var(--sklearn-color-fitted-level-0);\n",
       "}\n",
       "\n",
       "#sk-container-id-21 input.sk-toggleable__control:checked~div.sk-toggleable__content {\n",
       "  /* Expand drop-down */\n",
       "  max-height: 200px;\n",
       "  max-width: 100%;\n",
       "  overflow: auto;\n",
       "}\n",
       "\n",
       "#sk-container-id-21 input.sk-toggleable__control:checked~label.sk-toggleable__label-arrow:before {\n",
       "  content: \"▾\";\n",
       "}\n",
       "\n",
       "/* Pipeline/ColumnTransformer-specific style */\n",
       "\n",
       "#sk-container-id-21 div.sk-label input.sk-toggleable__control:checked~label.sk-toggleable__label {\n",
       "  color: var(--sklearn-color-text);\n",
       "  background-color: var(--sklearn-color-unfitted-level-2);\n",
       "}\n",
       "\n",
       "#sk-container-id-21 div.sk-label.fitted input.sk-toggleable__control:checked~label.sk-toggleable__label {\n",
       "  background-color: var(--sklearn-color-fitted-level-2);\n",
       "}\n",
       "\n",
       "/* Estimator-specific style */\n",
       "\n",
       "/* Colorize estimator box */\n",
       "#sk-container-id-21 div.sk-estimator input.sk-toggleable__control:checked~label.sk-toggleable__label {\n",
       "  /* unfitted */\n",
       "  background-color: var(--sklearn-color-unfitted-level-2);\n",
       "}\n",
       "\n",
       "#sk-container-id-21 div.sk-estimator.fitted input.sk-toggleable__control:checked~label.sk-toggleable__label {\n",
       "  /* fitted */\n",
       "  background-color: var(--sklearn-color-fitted-level-2);\n",
       "}\n",
       "\n",
       "#sk-container-id-21 div.sk-label label.sk-toggleable__label,\n",
       "#sk-container-id-21 div.sk-label label {\n",
       "  /* The background is the default theme color */\n",
       "  color: var(--sklearn-color-text-on-default-background);\n",
       "}\n",
       "\n",
       "/* On hover, darken the color of the background */\n",
       "#sk-container-id-21 div.sk-label:hover label.sk-toggleable__label {\n",
       "  color: var(--sklearn-color-text);\n",
       "  background-color: var(--sklearn-color-unfitted-level-2);\n",
       "}\n",
       "\n",
       "/* Label box, darken color on hover, fitted */\n",
       "#sk-container-id-21 div.sk-label.fitted:hover label.sk-toggleable__label.fitted {\n",
       "  color: var(--sklearn-color-text);\n",
       "  background-color: var(--sklearn-color-fitted-level-2);\n",
       "}\n",
       "\n",
       "/* Estimator label */\n",
       "\n",
       "#sk-container-id-21 div.sk-label label {\n",
       "  font-family: monospace;\n",
       "  font-weight: bold;\n",
       "  display: inline-block;\n",
       "  line-height: 1.2em;\n",
       "}\n",
       "\n",
       "#sk-container-id-21 div.sk-label-container {\n",
       "  text-align: center;\n",
       "}\n",
       "\n",
       "/* Estimator-specific */\n",
       "#sk-container-id-21 div.sk-estimator {\n",
       "  font-family: monospace;\n",
       "  border: 1px dotted var(--sklearn-color-border-box);\n",
       "  border-radius: 0.25em;\n",
       "  box-sizing: border-box;\n",
       "  margin-bottom: 0.5em;\n",
       "  /* unfitted */\n",
       "  background-color: var(--sklearn-color-unfitted-level-0);\n",
       "}\n",
       "\n",
       "#sk-container-id-21 div.sk-estimator.fitted {\n",
       "  /* fitted */\n",
       "  background-color: var(--sklearn-color-fitted-level-0);\n",
       "}\n",
       "\n",
       "/* on hover */\n",
       "#sk-container-id-21 div.sk-estimator:hover {\n",
       "  /* unfitted */\n",
       "  background-color: var(--sklearn-color-unfitted-level-2);\n",
       "}\n",
       "\n",
       "#sk-container-id-21 div.sk-estimator.fitted:hover {\n",
       "  /* fitted */\n",
       "  background-color: var(--sklearn-color-fitted-level-2);\n",
       "}\n",
       "\n",
       "/* Specification for estimator info (e.g. \"i\" and \"?\") */\n",
       "\n",
       "/* Common style for \"i\" and \"?\" */\n",
       "\n",
       ".sk-estimator-doc-link,\n",
       "a:link.sk-estimator-doc-link,\n",
       "a:visited.sk-estimator-doc-link {\n",
       "  float: right;\n",
       "  font-size: smaller;\n",
       "  line-height: 1em;\n",
       "  font-family: monospace;\n",
       "  background-color: var(--sklearn-color-background);\n",
       "  border-radius: 1em;\n",
       "  height: 1em;\n",
       "  width: 1em;\n",
       "  text-decoration: none !important;\n",
       "  margin-left: 1ex;\n",
       "  /* unfitted */\n",
       "  border: var(--sklearn-color-unfitted-level-1) 1pt solid;\n",
       "  color: var(--sklearn-color-unfitted-level-1);\n",
       "}\n",
       "\n",
       ".sk-estimator-doc-link.fitted,\n",
       "a:link.sk-estimator-doc-link.fitted,\n",
       "a:visited.sk-estimator-doc-link.fitted {\n",
       "  /* fitted */\n",
       "  border: var(--sklearn-color-fitted-level-1) 1pt solid;\n",
       "  color: var(--sklearn-color-fitted-level-1);\n",
       "}\n",
       "\n",
       "/* On hover */\n",
       "div.sk-estimator:hover .sk-estimator-doc-link:hover,\n",
       ".sk-estimator-doc-link:hover,\n",
       "div.sk-label-container:hover .sk-estimator-doc-link:hover,\n",
       ".sk-estimator-doc-link:hover {\n",
       "  /* unfitted */\n",
       "  background-color: var(--sklearn-color-unfitted-level-3);\n",
       "  color: var(--sklearn-color-background);\n",
       "  text-decoration: none;\n",
       "}\n",
       "\n",
       "div.sk-estimator.fitted:hover .sk-estimator-doc-link.fitted:hover,\n",
       ".sk-estimator-doc-link.fitted:hover,\n",
       "div.sk-label-container:hover .sk-estimator-doc-link.fitted:hover,\n",
       ".sk-estimator-doc-link.fitted:hover {\n",
       "  /* fitted */\n",
       "  background-color: var(--sklearn-color-fitted-level-3);\n",
       "  color: var(--sklearn-color-background);\n",
       "  text-decoration: none;\n",
       "}\n",
       "\n",
       "/* Span, style for the box shown on hovering the info icon */\n",
       ".sk-estimator-doc-link span {\n",
       "  display: none;\n",
       "  z-index: 9999;\n",
       "  position: relative;\n",
       "  font-weight: normal;\n",
       "  right: .2ex;\n",
       "  padding: .5ex;\n",
       "  margin: .5ex;\n",
       "  width: min-content;\n",
       "  min-width: 20ex;\n",
       "  max-width: 50ex;\n",
       "  color: var(--sklearn-color-text);\n",
       "  box-shadow: 2pt 2pt 4pt #999;\n",
       "  /* unfitted */\n",
       "  background: var(--sklearn-color-unfitted-level-0);\n",
       "  border: .5pt solid var(--sklearn-color-unfitted-level-3);\n",
       "}\n",
       "\n",
       ".sk-estimator-doc-link.fitted span {\n",
       "  /* fitted */\n",
       "  background: var(--sklearn-color-fitted-level-0);\n",
       "  border: var(--sklearn-color-fitted-level-3);\n",
       "}\n",
       "\n",
       ".sk-estimator-doc-link:hover span {\n",
       "  display: block;\n",
       "}\n",
       "\n",
       "/* \"?\"-specific style due to the `<a>` HTML tag */\n",
       "\n",
       "#sk-container-id-21 a.estimator_doc_link {\n",
       "  float: right;\n",
       "  font-size: 1rem;\n",
       "  line-height: 1em;\n",
       "  font-family: monospace;\n",
       "  background-color: var(--sklearn-color-background);\n",
       "  border-radius: 1rem;\n",
       "  height: 1rem;\n",
       "  width: 1rem;\n",
       "  text-decoration: none;\n",
       "  /* unfitted */\n",
       "  color: var(--sklearn-color-unfitted-level-1);\n",
       "  border: var(--sklearn-color-unfitted-level-1) 1pt solid;\n",
       "}\n",
       "\n",
       "#sk-container-id-21 a.estimator_doc_link.fitted {\n",
       "  /* fitted */\n",
       "  border: var(--sklearn-color-fitted-level-1) 1pt solid;\n",
       "  color: var(--sklearn-color-fitted-level-1);\n",
       "}\n",
       "\n",
       "/* On hover */\n",
       "#sk-container-id-21 a.estimator_doc_link:hover {\n",
       "  /* unfitted */\n",
       "  background-color: var(--sklearn-color-unfitted-level-3);\n",
       "  color: var(--sklearn-color-background);\n",
       "  text-decoration: none;\n",
       "}\n",
       "\n",
       "#sk-container-id-21 a.estimator_doc_link.fitted:hover {\n",
       "  /* fitted */\n",
       "  background-color: var(--sklearn-color-fitted-level-3);\n",
       "}\n",
       "</style><div id=\"sk-container-id-21\" class=\"sk-top-container\"><div class=\"sk-text-repr-fallback\"><pre>LGBMClassifier(importance_type=&#x27;gain&#x27;, learning_rate=0.2, n_estimators=500,\n",
       "               n_jobs=-1, random_state=0, subsample=0.9, verbose=-1)</pre><b>In a Jupyter environment, please rerun this cell to show the HTML representation or trust the notebook. <br />On GitHub, the HTML representation is unable to render, please try loading this page with nbviewer.org.</b></div><div class=\"sk-container\" hidden><div class=\"sk-item\"><div class=\"sk-estimator fitted sk-toggleable\"><input class=\"sk-toggleable__control sk-hidden--visually\" id=\"sk-estimator-id-41\" type=\"checkbox\" checked><label for=\"sk-estimator-id-41\" class=\"sk-toggleable__label fitted sk-toggleable__label-arrow fitted\">&nbsp;LGBMClassifier<span class=\"sk-estimator-doc-link fitted\">i<span>Fitted</span></span></label><div class=\"sk-toggleable__content fitted\"><pre>LGBMClassifier(importance_type=&#x27;gain&#x27;, learning_rate=0.2, n_estimators=500,\n",
       "               n_jobs=-1, random_state=0, subsample=0.9, verbose=-1)</pre></div> </div></div></div></div>"
      ],
      "text/plain": [
       "LGBMClassifier(importance_type='gain', learning_rate=0.2, n_estimators=500,\n",
       "               n_jobs=-1, random_state=0, subsample=0.9, verbose=-1)"
      ]
     },
     "execution_count": 120,
     "metadata": {},
     "output_type": "execute_result"
    }
   ],
   "source": [
    "clf_boosting = LGBMClassifier(\n",
    "    n_estimators=500,\n",
    "    learning_rate=0.2,\n",
    "    colsample_bytree=1.0,\n",
    "    num_leaves=31,\n",
    "    subsample=0.9,\n",
    "    importance_type=\"gain\",\n",
    "    random_state=0,\n",
    "    n_jobs=-1,\n",
    "    verbose=-1\n",
    ")\n",
    "clf_boosting.fit(X_train_res, y_train_res)\n"
   ]
  },
  {
   "cell_type": "code",
   "execution_count": 125,
   "metadata": {},
   "outputs": [
    {
     "data": {
      "image/png": "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",
      "text/plain": [
       "<Figure size 640x480 with 1 Axes>"
      ]
     },
     "metadata": {},
     "output_type": "display_data"
    }
   ],
   "source": [
    "features_boosting = np.argsort(clf_boosting.feature_importances_)[-5:]\n",
    "\n",
    "importances_val = clf_boosting.feature_importances_[features_boosting] / np.sum(clf_boosting.feature_importances_)\n",
    "plt.barh(np.array(feature_names)[features_boosting], importances_val)\n",
    "plt.xlabel(\"Feature importance\")\n",
    "plt.title(\"LightGBM\")\n",
    "plt.show()"
   ]
  },
  {
   "cell_type": "markdown",
   "metadata": {
    "editable": true,
    "slideshow": {
     "slide_type": ""
    },
    "tags": [
     "ex"
    ]
   },
   "source": [
    "// skomentuj tutaj<br>\n",
    "wyznaczone cechy wydają się mieć sens jako ważne cechy przedsiębiorstwa w początkowej fazie rozwoju"
   ]
  },
  {
   "cell_type": "markdown",
   "metadata": {},
   "source": [
    "### Dla zainteresowanych\n",
    "\n",
    "Najpopularniejszym podejściem do interpretowalności lokalnych jest **SHAP (SHapley Additive exPlanations)**, metoda oparta o kooperatywną teorię gier. Traktuje się cechy modelu jak zbiór graczy, podzielonych na dwie drużyny (koalicje): jedna chce zaklasyfikować próbkę jako negatywną, a druga jako pozytywną. O ostatecznej decyzji decyduje model, który wykorzystuje te wartości cech. Powstaje pytanie - w jakim stopniu wartości cech przyczyniły się do wyniku swojej drużyny? Można to obliczyć jako wartości Shapleya (Shapley values), które dla modeli ML oblicza algorytm SHAP. Ma on bardzo znaczące, udowodnione matematycznie zalety, a dodatkowo posiada wyjątkowo efektywną implementację dla modeli drzewiastych oraz dobre wizualizacje.\n",
    "\n",
    "Bardzo intuicyjnie, na prostym przykładzie, SHAPa wyjaśnia [pierwsza część tego artykułu](https://iancovert.com/blog/understanding-shap-sage/). Dobrze i dość szczegółówo SHAPa wyjaśnia jego autor [w tym filmie](https://www.youtube.com/watch?v=-taOhqkiuIo)."
   ]
  },
  {
   "cell_type": "markdown",
   "metadata": {
    "pycharm": {
     "name": "#%% md\n"
    }
   },
   "source": [
    "**Wyjaśnialna AI - podsumowanie**\n",
    "\n",
    "1. Problem zrozumienia, jak wnioskuje model i czemu podejmuje określone decyzje.\n",
    "2. Ważne zarówno z perspektywy data badaczy danych, jak i użytkowników systemu.\n",
    "3. Można wyjaśniać model lokalnie (konkretne predykcje) lub globalnie (wpływ poszczególnych cech)."
   ]
  },
  {
   "cell_type": "markdown",
   "metadata": {
    "editable": true,
    "slideshow": {
     "slide_type": ""
    },
    "tags": [
     "ex"
    ]
   },
   "source": [
    "## Zadanie 10 dla chętnych (3 punkty)"
   ]
  },
  {
   "cell_type": "markdown",
   "metadata": {
    "editable": true,
    "pycharm": {
     "name": "#%% md\n"
    },
    "slideshow": {
     "slide_type": ""
    },
    "tags": [
     "ex"
    ]
   },
   "source": [
    "Dokonaj selekcji cech, usuwając 20% najsłabszych cech. Może się tu przydać klasa `SelectPercentile`. Czy Random Forest i LightGBM (bez dostrajania hiperparametrów, dla uproszczenia) wytrenowane bez najsłabszych cech dają lepszy wynik (AUROC lub innej metryki)?\n",
    "\n",
    "Wykorzystaj po 1 algorytmie z 3 grup algorytmów selekcji cech:\n",
    "1. Filter methods - mierzymy ważność każdej cechy niezależnie, za pomocą pewnej miary (typowo ze statystyki lub teorii informacji), a potem odrzucamy (filtrujemy) te o najniższej ważności. Są to np. `chi2` i `mutual_info_classif` z pakietu `sklearn.feature_selection`.\n",
    "2. Embedded methods - klasyfikator sam zwraca ważność cech, jest jego wbudowaną cechą (stąd nazwa). Jest to w szczególności właściwość wszystkich zespołowych klasyfikatorów drzewiastych. Mają po wytrenowaniu atrybut `feature_importances_`.\n",
    "2. Wrapper methods - algorytmy wykorzystujące w środku używany model (stąd nazwa), mierzące ważność cech za pomocą ich wpływu na jakość klasyfikatora. Jest to np. recursive feature elimination (klasa `RFE`). W tym algorytmie trenujemy klasyfikator na wszystkich cechach, wyrzucamy najsłabszą, trenujemy znowu i tak dalej.\n",
    "\n",
    "Typowo metody filter są najszybsze, ale dają najsłabszy wynik, natomiast metody wrapper są najwolniejsze i dają najlepszy wynik. Metody embedded są gdzieś pośrodku.\n",
    "\n",
    "Dla zainteresowanych, inne znane i bardzo dobre algorytmy:\n",
    "- Relief (filter method) oraz warianty, szczególnie ReliefF, SURF i MultiSURF (biblioteka `ReBATE`): [Wikipedia](https://en.wikipedia.org/wiki/Relief_(feature_selection)), [artykuł \"Benchmarking Relief-Based Feature Selection Methods\"](https://www.researchgate.net/publication/321307194_Benchmarking_Relief-Based_Feature_Selection_Methods)\n",
    "- Boruta (wrapper method), stworzony na Uniwersytecie Warszawskim, łączący Random Forest oraz testy statystyczne (biblioteka `boruta_py`): [link 1](https://towardsdatascience.com/boruta-explained-the-way-i-wish-someone-explained-it-to-me-4489d70e154a), [link 2](https://danielhomola.com/feature%20selection/phd/borutapy-an-all-relevant-feature-selection-method/)"
   ]
  },
  {
   "cell_type": "code",
   "execution_count": null,
   "metadata": {
    "editable": true,
    "pycharm": {
     "name": "#%%\n"
    },
    "slideshow": {
     "slide_type": ""
    },
    "tags": [
     "ex"
    ]
   },
   "outputs": [],
   "source": []
  }
 ],
 "metadata": {
  "jupytext": {
   "formats": "ipynb,py:percent"
  },
  "kernelspec": {
   "display_name": "Python 3",
   "language": "python",
   "name": "python3"
  },
  "language_info": {
   "codemirror_mode": {
    "name": "ipython",
    "version": 3
   },
   "file_extension": ".py",
   "mimetype": "text/x-python",
   "name": "python",
   "nbconvert_exporter": "python",
   "pygments_lexer": "ipython3",
   "version": "3.12.4"
  }
 },
 "nbformat": 4,
 "nbformat_minor": 4
}
